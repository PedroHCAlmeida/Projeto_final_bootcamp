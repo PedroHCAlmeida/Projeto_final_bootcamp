{
 "cells": [
  {
   "cell_type": "code",
   "execution_count": 7,
   "id": "4a0ce9aa-f326-45c5-98a9-691ece250e09",
   "metadata": {},
   "outputs": [],
   "source": [
    "from joblib import load"
   ]
  }
 ],
 "metadata": {
  "kernelspec": {
   "display_name": "Python (bootcampfinal)",
   "language": "python",
   "name": "bootcampfinal"
  },
  "language_info": {
   "codemirror_mode": {
    "name": "ipython",
    "version": 3
   },
   "file_extension": ".py",
   "mimetype": "text/x-python",
   "name": "python",
   "nbconvert_exporter": "python",
   "pygments_lexer": "ipython3",
   "version": "3.9.6"
  }
 },
 "nbformat": 4,
 "nbformat_minor": 5
}
