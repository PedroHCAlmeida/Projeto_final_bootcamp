{
 "cells": [
  {
   "cell_type": "code",
   "execution_count": 1,
   "id": "4a0ce9aa-f326-45c5-98a9-691ece250e09",
   "metadata": {},
   "outputs": [
    {
     "name": "stdout",
     "output_type": "stream",
     "text": [
      "RandomizedSearchCV(cv=RepeatedStratifiedKFold(n_repeats=10, n_splits=5, random_state=64541),\n",
      "                   estimator=Pipeline(steps=[('feature_selection',\n",
      "                                              PipelineHelper(available_models={'rf': SelectFromModel(estimator=RandomForestClassifier())})),\n",
      "                                             ('classifier',\n",
      "                                              PipelineHelper(available_models={'et': ExtraTreesClassifier(),\n",
      "                                                                               'rf': RandomForestClassifier()}))]),\n",
      "                   n_iter=400...\n",
      "                                                                       ('rf',\n",
      "                                                                        {'bootstrap': True,\n",
      "                                                                         'max_depth': None,\n",
      "                                                                         'max_features': 4,\n",
      "                                                                         'min_samples_leaf': 3,\n",
      "                                                                         'min_samples_split': 3,\n",
      "                                                                         'n_estimators': 200,\n",
      "                                                                         'random_state': 64541}), ...],\n",
      "                                        'feature_selection__selected_model': [('rf',\n",
      "                                                                               {'threshold': 0}),\n",
      "                                                                              ('rf',\n",
      "                                                                               {'threshold': 'median'}),\n",
      "                                                                              ('rf',\n",
      "                                                                               {'threshold': 'mean'}),\n",
      "                                                                              ('rf',\n",
      "                                                                               {'threshold': '1.25*mean'})]},\n",
      "                   random_state=64541, refit='AUC', scoring='f1', verbose=1)\n"
     ]
    }
   ],
   "source": [
    "import pickle\n",
    " \n",
    "# Step 2\n",
    "with open('grid', 'rb') as grid_file:\n",
    " \n",
    "    # Step 3\n",
    "    grid = pickle.load(grid_file)\n",
    " \n",
    "    # After config_dictionary is read from file\n",
    "    print(grid)"
   ]
  },
  {
   "cell_type": "code",
   "execution_count": 4,
   "id": "d5129180-219b-4724-ae49-a487f2d83a4e",
   "metadata": {},
   "outputs": [
    {
     "data": {
      "text/plain": [
       "0.885648702636773"
      ]
     },
     "execution_count": 4,
     "metadata": {},
     "output_type": "execute_result"
    }
   ],
   "source": [
    "grid.best_score_"
   ]
  }
 ],
 "metadata": {
  "kernelspec": {
   "display_name": "Python (bootcampfinal)",
   "language": "python",
   "name": "bootcampfinal"
  },
  "language_info": {
   "codemirror_mode": {
    "name": "ipython",
    "version": 3
   },
   "file_extension": ".py",
   "mimetype": "text/x-python",
   "name": "python",
   "nbconvert_exporter": "python",
   "pygments_lexer": "ipython3",
   "version": "3.9.6"
  }
 },
 "nbformat": 4,
 "nbformat_minor": 5
}
