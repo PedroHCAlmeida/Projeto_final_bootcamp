{
 "cells": [
  {
   "cell_type": "code",
   "execution_count": 6,
   "id": "198c1560-c9c3-42a1-94b4-554511479b8c",
   "metadata": {},
   "outputs": [
    {
     "name": "stdout",
     "output_type": "stream",
     "text": [
      "<my_classifier.Classifier object at 0x000001C8F039A0A0>\n"
     ]
    }
   ],
   "source": [
    "import os\n",
    "os.chdir(\"../funcoes\")\n",
    "from my_classifier import Classifier\n",
    "os.chdir(\"../notebooks\")\n",
    "# Step 1\n",
    "import pickle\n",
    " \n",
    "# Step 2\n",
    "with open('lr', 'rb') as config_dictionary_file:\n",
    " \n",
    "    # Step 3\n",
    "    lr = pickle.load(config_dictionary_file)\n",
    " \n",
    "    # After config_dictionary is read from file\n",
    "    print(lr)"
   ]
  },
  {
   "cell_type": "code",
   "execution_count": null,
   "id": "2bbd7499-e0f6-40fe-89cc-dea38ba43b46",
   "metadata": {},
   "outputs": [],
   "source": []
  }
 ],
 "metadata": {
  "kernelspec": {
   "display_name": "Python (bootcampfinal)",
   "language": "python",
   "name": "bootcampfinal"
  },
  "language_info": {
   "codemirror_mode": {
    "name": "ipython",
    "version": 3
   },
   "file_extension": ".py",
   "mimetype": "text/x-python",
   "name": "python",
   "nbconvert_exporter": "python",
   "pygments_lexer": "ipython3",
   "version": "3.9.6"
  }
 },
 "nbformat": 4,
 "nbformat_minor": 5
}
