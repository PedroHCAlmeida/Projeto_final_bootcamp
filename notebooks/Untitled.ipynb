{
 "cells": [
  {
   "cell_type": "code",
   "execution_count": 144,
   "id": "44551f4f-fbba-44db-9058-de2188703b62",
   "metadata": {},
   "outputs": [],
   "source": [
    "from sklearn.base import BaseEstimator, TransformerMixin\n",
    "import pandas as pd\n",
    "import numpy as np\n",
    "\n",
    "class target_encoder(BaseEstimator, TransformerMixin):\n",
    "    '''\n",
    "    Classe que transforma dados categóricos em dados numéricos através das proporções encontradas nos dados de treino e pode ser passada em um pipeline do sklearn\n",
    "    OBS: Usada para problemas de classificação onde a variável dependente é 0 ou 1\n",
    "    \n",
    "    Parâmetros do construtor:\n",
    "    -------------------------\n",
    "    target_variable : nome da variável dependente a ser prevista no modelo, padrão:'AGE_PERCENTIL'\n",
    "    encoder_variable : nome da variável categórica a ser transformada, padrão:'ICU'\n",
    "    \n",
    "    Atributos do construtor:\n",
    "    ------------------------\n",
    "    target_variable : nome da variável dependente a ser prevista no modelo\n",
    "    encoder_variable : nome da variável categórica a ser transformada\n",
    "    \n",
    "    Funções:\n",
    "    --------\n",
    "    \n",
    "        fit():\n",
    "        ------\n",
    "        Cria um dicionário associando cada categoria a proporção da mesma achada na variável dependente\n",
    "        \n",
    "            Parâmetros:\n",
    "            ----------\n",
    "            X : dados com as variáveis independentes\n",
    "            y : dados com a variável dependente\n",
    "            \n",
    "            Atributos:\n",
    "            ----------\n",
    "            map_dict : dicionário associando cada valor categórico ao numérico\n",
    "            \n",
    "        transform():\n",
    "        ------------\n",
    "        Transforma a variável categória mapeando a pelo dicionário estabelecido na função fit()\n",
    "            \n",
    "            Parâmetros:\n",
    "            ----------\n",
    "            X : dados com as variáveis independentes\n",
    "            y : dados com a variável dependente, padrão : None\n",
    "            \n",
    "            Retorno:\n",
    "            --------\n",
    "            Retorna o conjunto de dados das variáveis dependentes(X) com a variável categórica transformada       \n",
    "    '''\n",
    "    def __init__(self, encoder_variable='AGE_PERCENTIL', target_variable='ICU'):\n",
    "        self.target_variable = target_variable\n",
    "        self.encoder_variable = encoder_variable\n",
    "        \n",
    "    def fit(self, X, y):\n",
    "        data = pd.concat([X,y], axis=1)\n",
    "        self.map_dict = {}\n",
    "        for value in data[self.encoder_variable].unique():\n",
    "            self.map_dict[value] = data[data[self.encoder_variable] <= value][self.target_variable].mean()\n",
    "        return self\n",
    "    \n",
    "    def transform(self, X, y=None):\n",
    "        X[self.encoder_variable] = X[self.encoder_variable].map(self.map_dict)\n",
    "        return X"
   ]
  },
  {
   "cell_type": "code",
   "execution_count": 143,
   "id": "a316af42-a569-4100-a084-6cd6770fbb3a",
   "metadata": {},
   "outputs": [],
   "source": [
    "data = pd.read_csv('../data/preprocessed_data/Kaggle_Sirio_Libanes_ICU_Prediction.csv')"
   ]
  },
  {
   "cell_type": "code",
   "execution_count": 140,
   "id": "ea9a5d84-3f87-475c-b244-4d8f37a52b52",
   "metadata": {},
   "outputs": [
    {
     "data": {
      "text/plain": [
       "0            60th\n",
       "1            10th\n",
       "2            40th\n",
       "3            10th\n",
       "4            10th\n",
       "          ...    \n",
       "289          40th\n",
       "290    Above 90th\n",
       "291          50th\n",
       "292          40th\n",
       "293          50th\n",
       "Name: AGE_PERCENTIL, Length: 294, dtype: object"
      ]
     },
     "execution_count": 140,
     "metadata": {},
     "output_type": "execute_result"
    }
   ],
   "source": [
    "data['AGE_PERCENTIL']"
   ]
  },
  {
   "cell_type": "code",
   "execution_count": 141,
   "id": "ccf421fc-7761-4501-95fc-f1cd5abd3fe6",
   "metadata": {},
   "outputs": [
    {
     "data": {
      "text/plain": [
       "0      0.392857\n",
       "1      0.166667\n",
       "2      0.242424\n",
       "3      0.166667\n",
       "4      0.166667\n",
       "         ...   \n",
       "289    0.242424\n",
       "290    0.555556\n",
       "291    0.419355\n",
       "292    0.242424\n",
       "293    0.419355\n",
       "Name: AGE_PERCENTIL, Length: 294, dtype: float64"
      ]
     },
     "execution_count": 141,
     "metadata": {},
     "output_type": "execute_result"
    }
   ],
   "source": [
    "te = target_encoder()\n",
    "te.fit(data,None)\n",
    "data = data.drop(['WINDOW', 'PATIENT_VISIT_IDENTIFIER'],axis=1)\n",
    "te.transform(data)['AGE_PERCENTIL']"
   ]
  },
  {
   "cell_type": "code",
   "execution_count": 145,
   "id": "f04f27f4-b718-46f8-9b53-a081cca9fc83",
   "metadata": {},
   "outputs": [
    {
     "data": {
      "text/plain": [
       "0      0.280000\n",
       "1      0.166667\n",
       "2      0.226950\n",
       "3      0.166667\n",
       "4      0.166667\n",
       "         ...   \n",
       "289    0.226950\n",
       "290    0.357143\n",
       "291    0.261628\n",
       "292    0.226950\n",
       "293    0.261628\n",
       "Name: AGE_PERCENTIL, Length: 294, dtype: float64"
      ]
     },
     "execution_count": 145,
     "metadata": {},
     "output_type": "execute_result"
    }
   ],
   "source": [
    "te = target_encoder()\n",
    "te.fit(data,None)\n",
    "data = data.drop(['WINDOW', 'PATIENT_VISIT_IDENTIFIER'],axis=1)\n",
    "te.transform(data)['AGE_PERCENTIL']"
   ]
  },
  {
   "cell_type": "code",
   "execution_count": null,
   "id": "40a6c5aa-de6a-446e-b7b6-cf227fbb9435",
   "metadata": {},
   "outputs": [],
   "source": []
  }
 ],
 "metadata": {
  "kernelspec": {
   "display_name": "Python 3",
   "language": "python",
   "name": "python3"
  },
  "language_info": {
   "codemirror_mode": {
    "name": "ipython",
    "version": 3
   },
   "file_extension": ".py",
   "mimetype": "text/x-python",
   "name": "python",
   "nbconvert_exporter": "python",
   "pygments_lexer": "ipython3",
   "version": "3.7.6"
  }
 },
 "nbformat": 4,
 "nbformat_minor": 5
}
