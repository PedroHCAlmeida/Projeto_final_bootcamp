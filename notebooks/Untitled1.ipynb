{
 "cells": [
  {
   "cell_type": "code",
   "execution_count": 1,
   "id": "e548fc1a-403b-4220-9759-a81da8b567b8",
   "metadata": {},
   "outputs": [],
   "source": [
    "import pickle"
   ]
  },
  {
   "cell_type": "code",
   "execution_count": 2,
   "id": "2211edef-eaf4-4582-82d1-00b445b25872",
   "metadata": {},
   "outputs": [],
   "source": [
    "with open('../arquivos_modelo/SearchCV_salvo/random_searchcv', 'rb') as random_search_file:\n",
    "    random_search = pickle.load(random_search_file)"
   ]
  },
  {
   "cell_type": "code",
   "execution_count": 3,
   "id": "61e5da38-e517-49d7-80e7-4b65ffff0ed0",
   "metadata": {},
   "outputs": [
    {
     "data": {
      "text/plain": [
       "Pipeline(steps=[('feature_selection',\n",
       "                 PipelineHelper(available_models={'rf': SelectFromModel(estimator=RandomForestClassifier(random_state=64541),\n",
       "                                                                        threshold='1.25*mean')},\n",
       "                                selected_model=SelectFromModel(estimator=RandomForestClassifier(random_state=64541),\n",
       "                                                               threshold='1.25*mean'))),\n",
       "                ('classifier',\n",
       "                 PipelineHelper(available_models={'et': ExtraTreesClassifier(max_depth=20,\n",
       "                                                                             max_features=4,\n",
       "                                                                             min_samples_split=3,\n",
       "                                                                             n_estimators=400,\n",
       "                                                                             random_state=64541),\n",
       "                                                  'rf': RandomForestClassifier()},\n",
       "                                selected_model=ExtraTreesClassifier(max_depth=20,\n",
       "                                                                    max_features=4,\n",
       "                                                                    min_samples_split=3,\n",
       "                                                                    n_estimators=400,\n",
       "                                                                    random_state=64541)))])"
      ]
     },
     "execution_count": 3,
     "metadata": {},
     "output_type": "execute_result"
    }
   ],
   "source": [
    "random_search.best_estimator_"
   ]
  }
 ],
 "metadata": {
  "kernelspec": {
   "display_name": "Python (bootcampfinal)",
   "language": "python",
   "name": "bootcampfinal"
  },
  "language_info": {
   "codemirror_mode": {
    "name": "ipython",
    "version": 3
   },
   "file_extension": ".py",
   "mimetype": "text/x-python",
   "name": "python",
   "nbconvert_exporter": "python",
   "pygments_lexer": "ipython3",
   "version": "3.9.6"
  }
 },
 "nbformat": 4,
 "nbformat_minor": 5
}
