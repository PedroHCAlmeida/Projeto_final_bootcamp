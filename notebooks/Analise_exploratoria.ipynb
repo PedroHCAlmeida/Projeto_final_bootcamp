{
 "cells": [
  {
   "cell_type": "markdown",
   "id": "0bad536b-7d20-4ec5-ac14-fb4003d3ffa7",
   "metadata": {},
   "source": [
    "# Análise Exploratória dos dados\n",
    "\n",
    "## Resumo\n",
    "Este notebook foi destinado para análise exploratória do dataset disponibilizado pelo Hospital Sírio-Libanês no [kaggle](https://www.kaggle.com/S%C3%ADrio-Libanes/covid19). A análise teve como objetivo, primeiramente, entender o dataset, pré-processar os dados de forma que seja possível usá-los como valores entrada a um algoritmo de Machine Learning, e após isso estudar proporções, correlações e variâncias com o objetivo de encontrar os possíveis caminhos ao se selecionar apenas os dados mais úteis para o problema. Por fim, os dados pré-processados foram salvos na pasta [dados_preprocessados](), a fim de serem utilizados no notebook de [Predicoes]()."
   ]
  },
  {
   "cell_type": "markdown",
   "id": "865c1eaf-0678-4bef-b9c3-16793d6929d3",
   "metadata": {},
   "source": [
    "## Pré-Processamento \n",
    "O pré-processamento dos dados em machine learning é um dos passos fundamentais em um projeto que se propõe a realizar predições de Machine Learning, a famosa frase \"garbage in, garbage out\" atribuída ao técnico da IBM George Fuechsel que significa, \"entra lixo, sai lixo\", demonstra muito bem o porque essa fase é tão importante, se não prepararmos os nossos dados da maneira correta os resultados podem ser mentirosos, ou não ter utilidade alguma no final, e, muitas vezes podem passar despercebidos, por esta razão essas é uma das fases mais importantes na hora de manipular dados.<br>\n",
    "\n",
    "Uma boa parte desse processo já foi realizado pela equipe do Hospital Sírio-Libanês, de acordo com o hospital esse conjunto de dados contém dados anonimizados coletados no Hospital Sírio-Libanês, localizados em São Paulo e em Brasília. Toda a anonimização desses dados seguiu as melhores práticas e recomendações internacionais, e os dados passaram por um processo de limpeza e normalização por coluna de acordo com os valores máximos e mínimos de forma que todos os valores estivessem no intervalo entre -1 e 1.<br>\n",
    "## Estrutura dos dados\n",
    "### Chave primária<br>\n",
    "A coluna 'PATIENT_VISIT_IDENTIFIER' é composta por números inteiros e é responsável por identificar cada paciente diferente.<br>\n",
    "### Variável a ser prevista<br>\n",
    "A variável a ser prevista é a coluna 'ICU', que, no conjunto de dados original, indica se o paciente correspondente estava ou não na UTI naquele momento.<br>\n",
    "### Janela de tempo<br>\n",
    "De acordo com o Hospital a variável 'WINDOW' diz respeito à janela de tempo onde as medições foram realizadas, ela está organizada da seguinte maneira:<br>\n",
    "\n",
    "|Janela | Descrição|\n",
    "|:-------------|:----------:|\n",
    "|0-2 | Entre 0 até 2 horas a partir da admissão do paciente \n",
    "|2-4 | Entre 2 até 4 horas a partir da admissão do paciente \n",
    "|4-6 | Entre 4 até 6 horas a partir da admissão do paciente \n",
    "|6-12| Entre 6 até 12 horas a partir da admissão do paciente \n",
    "|Above-12| Mais de 12 horas horas a partir da admissão do paciente \n",
    "\n",
    "### Demais variáveis\n",
    "As demais colunas do conjunto conjunto de dados trazem informações sobre:\n",
    "* Informações demográficas do paciente (03)\n",
    "* Grupos de doenças previamente identificadas pelos pacientes (09)\n",
    "* Resultados de exames de sangue (36)\n",
    "* Sinais vitais (06)<br>\n",
    "\n",
    "No total são 54 variáveis, correspondente às médias, medianas, máximos, minímos, diferenças e diferenças relativas dos dados do paciente.<br>\n",
    "\n",
    "### Dados faltantes<br>\n",
    "\n",
    "Um dos maiores desafios ao se analisar dados médicos é a variação entre diferentes tipos de medições, por exemplo, os sinais vitais são coletados com mais frequência (geralmente de hora em hora) do que os laboratórios de sangue (geralmente diariamente).Fato esse acaba causando diversos dados faltantes uma vez que estamos analisando todos esses dados juntos em um mesmo conjunto.<br>\n",
    "\n",
    "De acordo com o Hospital, para solucionar o problema dos dados faltantes, é razoável supor que um paciente que não tem uma medição registrada em uma janela de tempo esteja clinicamente estável, podendo apresentar sinais vitais e exames de sangue semelhantes às janelas vizinhas. Portanto, pode-se preencher os valores ausentes usando a entrada seguinte ou anterior.<br>  \n",
    "### Problema a ser resolvido<br>\n",
    "A identificação precoce dos pacientes que desenvolverão um curso adverso da doença (e precisam de cuidados intensivos) é a chave para um tratamento adequado (salvar vidas) e para gerenciar leitos e recursos. Um bom modelo usando apenas o primeiro (0-2) provavelmente será mais clinicamente relevante, por esta razão os dados serão agrupados de forma reorganizados a fim de agrupar os dados médicos por paciente e apenas as informações da primeira janela serão utilizadas para identificar se um paciente precisou de internação em qualquer uma das janelas."
   ]
  },
  {
   "cell_type": "markdown",
   "id": "e7aba9b1-8743-496b-b6ab-486baadce387",
   "metadata": {},
   "source": [
    "### Escopo do projeto\n",
    "- Importação dos pacotes :<br> \n",
    "- Importação das funções locais :\n",
    "- Leitura dos dados brutos\n",
    "- Pré-processamento\n",
    "- Análise das variáveis demográficas\n",
    "- Análise das demais variáveis categóricas\n",
    "- Análise das variáveis numéricas"
   ]
  },
  {
   "cell_type": "code",
   "execution_count": 10,
   "id": "d2fbfba8-39f4-4ace-993d-e3346ee5d1e9",
   "metadata": {},
   "outputs": [],
   "source": [
    "# Definindo a semente de números aleatórios\n",
    "SEED = 64541"
   ]
  },
  {
   "cell_type": "markdown",
   "id": "53e897e4-7fb6-44e1-833a-a6bd2148cfd6",
   "metadata": {},
   "source": [
    "## Importação dos pacotes"
   ]
  },
  {
   "cell_type": "code",
   "execution_count": 1,
   "id": "b150e4fa-0d05-4d0d-8164-5d5b3c1ef94e",
   "metadata": {},
   "outputs": [],
   "source": [
    "import pandas as pd\n",
    "import numpy as np\n",
    "\n",
    "import matplotlib.pyplot as plt\n",
    "import seaborn as sns\n",
    "\n",
    "import re\n",
    "import warnings"
   ]
  },
  {
   "cell_type": "code",
   "execution_count": 2,
   "id": "b5dc9457-6b0b-4f4a-b47c-2f8894e69f73",
   "metadata": {},
   "outputs": [],
   "source": [
    "warnings.filterwarnings('ignore')\n",
    "sns.set_style('darkgrid')"
   ]
  },
  {
   "cell_type": "markdown",
   "id": "38633ef0-956b-480f-835e-4334682b722a",
   "metadata": {},
   "source": [
    "## Importação das funções locais"
   ]
  },
  {
   "cell_type": "code",
   "execution_count": 3,
   "id": "e2b9a4b6-2312-41a8-ad6e-3279a2b2b00f",
   "metadata": {},
   "outputs": [],
   "source": [
    "import os\n",
    "os.chdir(\"../funcoes\")\n",
    "from feature import compute_chi2, compute_high_corr, binary_features\n",
    "from my_plot import labs, annot_bar\n",
    "from preprocessing import fill_table, select_window\n",
    "os.chdir(\"../notebooks\")"
   ]
  },
  {
   "cell_type": "code",
   "execution_count": null,
   "id": "b698196a-f55a-4a45-b1cb-9d2c558e26c7",
   "metadata": {},
   "outputs": [],
   "source": [
    "!pip uninstall fit"
   ]
  },
  {
   "cell_type": "code",
   "execution_count": 35,
   "id": "7f293d8a-6131-4805-bca9-5e47779701b4",
   "metadata": {},
   "outputs": [
    {
     "data": {
      "text/plain": [
       "\u001b[1;31mSignature:\u001b[0m \u001b[0mbinary_features\u001b[0m\u001b[1;33m(\u001b[0m\u001b[0mdata\u001b[0m\u001b[1;33m:\u001b[0m \u001b[0mpandas\u001b[0m\u001b[1;33m.\u001b[0m\u001b[0mcore\u001b[0m\u001b[1;33m.\u001b[0m\u001b[0mframe\u001b[0m\u001b[1;33m.\u001b[0m\u001b[0mDataFrame\u001b[0m\u001b[1;33m)\u001b[0m\u001b[1;33m\u001b[0m\u001b[1;33m\u001b[0m\u001b[0m\n",
       "\u001b[1;31mSource:\u001b[0m   \n",
       "\u001b[1;32mdef\u001b[0m \u001b[0mbinary_features\u001b[0m\u001b[1;33m(\u001b[0m\u001b[0mdata\u001b[0m\u001b[1;33m:\u001b[0m\u001b[0mpd\u001b[0m\u001b[1;33m.\u001b[0m\u001b[0mDataFrame\u001b[0m\u001b[1;33m)\u001b[0m\u001b[1;33m:\u001b[0m\u001b[1;33m\n",
       "\u001b[0m    \u001b[1;34m'''\n",
       "    Função que recebe um DataFrame do pandas e verifica quais as colunas binárias.Realiza essa verificação consultando quantos valores únicos a coluna possui\n",
       "    e tenta transformar-la em números inteiros\n",
       "    \n",
       "    Parâmetros:\n",
       "    -----------\n",
       "    data : DataFrame do pandas que será \n",
       "    \n",
       "    Retorno:\n",
       "    --------\n",
       "    features : colunas binárias do dataframe\n",
       "    '''\u001b[0m\u001b[1;33m\n",
       "\u001b[0m    \u001b[1;31m#Criando a lista vazia para armazenar as colunas binarias\u001b[0m\u001b[1;33m\n",
       "\u001b[0m    \u001b[0mfeatures\u001b[0m \u001b[1;33m=\u001b[0m \u001b[1;33m[\u001b[0m\u001b[1;33m]\u001b[0m\u001b[1;33m\n",
       "\u001b[0m    \u001b[1;33m\n",
       "\u001b[0m    \u001b[1;31m#Percorrendo as colunas do dataframe\u001b[0m\u001b[1;33m\n",
       "\u001b[0m    \u001b[1;32mfor\u001b[0m \u001b[0mfeature\u001b[0m \u001b[1;32min\u001b[0m \u001b[0mdata\u001b[0m\u001b[1;33m.\u001b[0m\u001b[0mcolumns\u001b[0m\u001b[1;33m:\u001b[0m\u001b[1;33m\n",
       "\u001b[0m        \u001b[1;33m\n",
       "\u001b[0m        \u001b[1;31m#Verificando se a coluna possui apenas 2 valores únicos\u001b[0m\u001b[1;33m\n",
       "\u001b[0m        \u001b[1;32mif\u001b[0m \u001b[0mlen\u001b[0m\u001b[1;33m(\u001b[0m\u001b[0mdata\u001b[0m\u001b[1;33m[\u001b[0m\u001b[0mfeature\u001b[0m\u001b[1;33m]\u001b[0m\u001b[1;33m.\u001b[0m\u001b[0munique\u001b[0m\u001b[1;33m(\u001b[0m\u001b[1;33m)\u001b[0m\u001b[1;33m)\u001b[0m \u001b[1;33m==\u001b[0m \u001b[1;36m2\u001b[0m\u001b[1;33m:\u001b[0m\u001b[1;33m\n",
       "\u001b[0m            \u001b[1;33m\n",
       "\u001b[0m            \u001b[1;32mif\u001b[0m \u001b[0mmax\u001b[0m\u001b[1;33m(\u001b[0m\u001b[0mdata\u001b[0m\u001b[1;33m[\u001b[0m\u001b[0mfeature\u001b[0m\u001b[1;33m]\u001b[0m\u001b[1;33m)\u001b[0m\u001b[1;33m==\u001b[0m\u001b[1;36m1\u001b[0m \u001b[1;32mand\u001b[0m \u001b[0mmin\u001b[0m\u001b[1;33m(\u001b[0m\u001b[0mdata\u001b[0m\u001b[1;33m[\u001b[0m\u001b[0mfeature\u001b[0m\u001b[1;33m]\u001b[0m\u001b[1;33m)\u001b[0m\u001b[1;33m==\u001b[0m\u001b[1;36m0\u001b[0m\u001b[1;33m:\u001b[0m\u001b[1;33m\n",
       "\u001b[0m                \u001b[1;31m#Salvando o nome da coluna na lista\u001b[0m\u001b[1;33m\n",
       "\u001b[0m                \u001b[0mfeatures\u001b[0m\u001b[1;33m.\u001b[0m\u001b[0mappend\u001b[0m\u001b[1;33m(\u001b[0m\u001b[0mfeature\u001b[0m\u001b[1;33m)\u001b[0m\u001b[1;33m\n",
       "\u001b[0m                \u001b[1;33m\n",
       "\u001b[0m    \u001b[1;32mreturn\u001b[0m \u001b[0mfeatures\u001b[0m\u001b[1;33m\u001b[0m\u001b[1;33m\u001b[0m\u001b[0m\n",
       "\u001b[1;31mFile:\u001b[0m      c:\\users\\pedro\\documents\\alura\\projeto_final_bootcamp\\funcoes\\feature.py\n",
       "\u001b[1;31mType:\u001b[0m      function\n"
      ]
     },
     "metadata": {},
     "output_type": "display_data"
    }
   ],
   "source": [
    "binary_features??"
   ]
  },
  {
   "cell_type": "code",
   "execution_count": 14,
   "id": "c9439ab4-9cf8-47fd-a24a-7b670d7bbf02",
   "metadata": {},
   "outputs": [
    {
     "data": {
      "text/plain": [
       "\u001b[1;31mSignature:\u001b[0m \u001b[0mcompute_chi2\u001b[0m\u001b[1;33m(\u001b[0m\u001b[0mX\u001b[0m\u001b[1;33m:\u001b[0m \u001b[0mpandas\u001b[0m\u001b[1;33m.\u001b[0m\u001b[0mcore\u001b[0m\u001b[1;33m.\u001b[0m\u001b[0mframe\u001b[0m\u001b[1;33m.\u001b[0m\u001b[0mDataFrame\u001b[0m\u001b[1;33m,\u001b[0m \u001b[0my\u001b[0m\u001b[1;33m:\u001b[0m \u001b[0mpandas\u001b[0m\u001b[1;33m.\u001b[0m\u001b[0mcore\u001b[0m\u001b[1;33m.\u001b[0m\u001b[0mseries\u001b[0m\u001b[1;33m.\u001b[0m\u001b[0mSeries\u001b[0m\u001b[1;33m)\u001b[0m\u001b[1;33m\u001b[0m\u001b[1;33m\u001b[0m\u001b[0m\n",
       "\u001b[1;31mSource:\u001b[0m   \n",
       "\u001b[1;32mdef\u001b[0m \u001b[0mcompute_chi2\u001b[0m\u001b[1;33m(\u001b[0m\u001b[0mX\u001b[0m\u001b[1;33m:\u001b[0m\u001b[0mpd\u001b[0m\u001b[1;33m.\u001b[0m\u001b[0mDataFrame\u001b[0m\u001b[1;33m,\u001b[0m \u001b[0my\u001b[0m\u001b[1;33m:\u001b[0m\u001b[0mpd\u001b[0m\u001b[1;33m.\u001b[0m\u001b[0mSeries\u001b[0m\u001b[1;33m)\u001b[0m\u001b[1;33m:\u001b[0m\u001b[1;33m\n",
       "\u001b[0m    \u001b[1;34m'''\n",
       "    Recebe um dataframe do pandas com as colunas variáveis preditoras e uma series do pandas da variável de reposta e calcula através da função sklearn.model_selection.chi2 \n",
       "    os p valores para cada coluna da hipótese nula de que as variáveis preditoras são independentes da variável de reposta\n",
       "    \n",
       "    Parâmetros:\n",
       "    -----------\n",
       "    X : dataframe com as variáveis preditoras, tipo : pd.DataFrame, OBS: pode conter apenas uma coluna mas precisa ser do tipo pd.DataFrame\n",
       "    y : series do pandas da variável de resposta, tipo : pd.Series\n",
       "    \n",
       "    Retorno:\n",
       "    -------\n",
       "    p_values : dicionário contendo os p valores de cada coluna analisada\n",
       "    '''\u001b[0m\u001b[1;33m\n",
       "\u001b[0m    \u001b[1;31m#Criando o dicionário vazio para armazenar os p valores\u001b[0m\u001b[1;33m\n",
       "\u001b[0m    \u001b[0mp_values\u001b[0m \u001b[1;33m=\u001b[0m \u001b[1;33m{\u001b[0m\u001b[1;33m}\u001b[0m\u001b[1;33m\n",
       "\u001b[0m        \u001b[1;33m\n",
       "\u001b[0m    \u001b[1;31m#Calulando as estatísticas de teste e p valores através da função sklearn.chi2\u001b[0m\u001b[1;33m\n",
       "\u001b[0m    \u001b[0mchi2\u001b[0m \u001b[1;33m=\u001b[0m \u001b[0mchi2\u001b[0m\u001b[1;33m(\u001b[0m\u001b[0mX\u001b[0m\u001b[1;33m,\u001b[0m \u001b[0my\u001b[0m\u001b[1;33m)\u001b[0m\u001b[1;33m\n",
       "\u001b[0m    \u001b[1;33m\n",
       "\u001b[0m    \u001b[1;31m#Criando o dicionário com os p_valores\u001b[0m\u001b[1;33m\n",
       "\u001b[0m    \u001b[1;32mfor\u001b[0m \u001b[0mi\u001b[0m\u001b[1;33m,\u001b[0m\u001b[0mcol\u001b[0m \u001b[1;32min\u001b[0m \u001b[0menumerate\u001b[0m\u001b[1;33m(\u001b[0m\u001b[0mX\u001b[0m\u001b[1;33m)\u001b[0m\u001b[1;33m:\u001b[0m\u001b[1;33m\n",
       "\u001b[0m        \u001b[0mp_values\u001b[0m\u001b[1;33m[\u001b[0m\u001b[0mcol\u001b[0m\u001b[1;33m]\u001b[0m \u001b[1;33m=\u001b[0m \u001b[0mchi2\u001b[0m\u001b[1;33m[\u001b[0m\u001b[1;36m1\u001b[0m\u001b[1;33m]\u001b[0m\u001b[1;33m[\u001b[0m\u001b[0mi\u001b[0m\u001b[1;33m]\u001b[0m\u001b[1;33m\n",
       "\u001b[0m        \u001b[1;33m\n",
       "\u001b[0m    \u001b[1;32mreturn\u001b[0m \u001b[0mp_values\u001b[0m\u001b[1;33m\u001b[0m\u001b[1;33m\u001b[0m\u001b[0m\n",
       "\u001b[1;31mFile:\u001b[0m      c:\\users\\pedro\\documents\\alura\\projeto_final_bootcamp\\funcoes\\feature.py\n",
       "\u001b[1;31mType:\u001b[0m      function\n"
      ]
     },
     "metadata": {},
     "output_type": "display_data"
    }
   ],
   "source": [
    "compute_chi2??"
   ]
  },
  {
   "cell_type": "code",
   "execution_count": 15,
   "id": "0bd37046-6335-4a21-ae2e-5bc95dabf01b",
   "metadata": {},
   "outputs": [
    {
     "data": {
      "text/plain": [
       "\u001b[1;31mSignature:\u001b[0m\n",
       "\u001b[0mcompute_high_corr\u001b[0m\u001b[1;33m(\u001b[0m\u001b[1;33m\n",
       "\u001b[0m    \u001b[0mdata\u001b[0m\u001b[1;33m:\u001b[0m \u001b[0mpandas\u001b[0m\u001b[1;33m.\u001b[0m\u001b[0mcore\u001b[0m\u001b[1;33m.\u001b[0m\u001b[0mframe\u001b[0m\u001b[1;33m.\u001b[0m\u001b[0mDataFrame\u001b[0m\u001b[1;33m,\u001b[0m\u001b[1;33m\n",
       "\u001b[0m    \u001b[0mthreshold\u001b[0m\u001b[1;33m:\u001b[0m \u001b[0mfloat\u001b[0m \u001b[1;33m=\u001b[0m \u001b[1;36m0.95\u001b[0m\u001b[1;33m,\u001b[0m\u001b[1;33m\n",
       "\u001b[0m\u001b[1;33m)\u001b[0m\u001b[1;33m\u001b[0m\u001b[1;33m\u001b[0m\u001b[0m\n",
       "\u001b[1;31mSource:\u001b[0m   \n",
       "\u001b[1;32mdef\u001b[0m \u001b[0mcompute_high_corr\u001b[0m\u001b[1;33m(\u001b[0m\u001b[0mdata\u001b[0m\u001b[1;33m:\u001b[0m\u001b[0mpd\u001b[0m\u001b[1;33m.\u001b[0m\u001b[0mDataFrame\u001b[0m\u001b[1;33m,\u001b[0m \u001b[0mthreshold\u001b[0m\u001b[1;33m:\u001b[0m\u001b[0mfloat\u001b[0m\u001b[1;33m=\u001b[0m\u001b[1;36m0.95\u001b[0m\u001b[1;33m)\u001b[0m\u001b[1;33m:\u001b[0m\u001b[1;33m\n",
       "\u001b[0m    \u001b[1;34m'''\n",
       "    Função que recebe um dataframe do pandas, calcula a matriz de correlação, seleciona o triângulo superior da matriz e percorre as colunas verificando quais colunas apresentam\n",
       "    uma correlação maior que o valor limite passado, em relação às linhas, que nesse caso representam as colunas anteriores. \n",
       "    \n",
       "    Parâmetros:\n",
       "    -----------\n",
       "    data : DataFrame do pandas com as variáveis a serem analisadas\n",
       "    threshold : valor limite da correlação entre duas variáveis, ou seja, se duas colunas que possuem uma correlação absoluta maior que esse valor uma das duas será eliminada,\n",
       "                    tipo : str, padrão : 0.95\n",
       "    \n",
       "    '''\u001b[0m\u001b[1;33m\n",
       "\u001b[0m    \u001b[1;31m#Calculando a matriz de correlação absoluta\u001b[0m\u001b[1;33m\n",
       "\u001b[0m    \u001b[0mmatrix_corr\u001b[0m \u001b[1;33m=\u001b[0m \u001b[0mdata\u001b[0m\u001b[1;33m.\u001b[0m\u001b[0mcorr\u001b[0m\u001b[1;33m(\u001b[0m\u001b[1;33m)\u001b[0m\u001b[1;33m.\u001b[0m\u001b[0mabs\u001b[0m\u001b[1;33m(\u001b[0m\u001b[1;33m)\u001b[0m\u001b[1;33m\n",
       "\u001b[0m    \u001b[1;33m\n",
       "\u001b[0m    \u001b[1;31m#Filtrando apenas a matriz superior\u001b[0m\u001b[1;33m\n",
       "\u001b[0m    \u001b[0mmatrix_corr_upper\u001b[0m \u001b[1;33m=\u001b[0m \u001b[0mmatrix_corr\u001b[0m\u001b[1;33m.\u001b[0m\u001b[0mwhere\u001b[0m\u001b[1;33m(\u001b[0m\u001b[0mnp\u001b[0m\u001b[1;33m.\u001b[0m\u001b[0mtriu\u001b[0m\u001b[1;33m(\u001b[0m\u001b[0mnp\u001b[0m\u001b[1;33m.\u001b[0m\u001b[0mones\u001b[0m\u001b[1;33m(\u001b[0m\u001b[0mmatrix_corr\u001b[0m\u001b[1;33m.\u001b[0m\u001b[0mshape\u001b[0m\u001b[1;33m)\u001b[0m\u001b[1;33m,\u001b[0m \u001b[0mk\u001b[0m\u001b[1;33m=\u001b[0m\u001b[1;36m1\u001b[0m\u001b[1;33m)\u001b[0m\u001b[1;33m.\u001b[0m\u001b[0mastype\u001b[0m\u001b[1;33m(\u001b[0m\u001b[0mnp\u001b[0m\u001b[1;33m.\u001b[0m\u001b[0mbool\u001b[0m\u001b[1;33m)\u001b[0m\u001b[1;33m)\u001b[0m\u001b[1;33m\n",
       "\u001b[0m  \u001b[1;33m\n",
       "\u001b[0m    \u001b[1;31m#Selecionando as colunas que estão apresentam uma correlação maior que o valor de corte\u001b[0m\u001b[1;33m\n",
       "\u001b[0m    \u001b[0mcols_drop\u001b[0m \u001b[1;33m=\u001b[0m \u001b[1;33m[\u001b[0m\u001b[0mcol\u001b[0m \u001b[1;32mfor\u001b[0m \u001b[0mcol\u001b[0m \u001b[1;32min\u001b[0m \u001b[0mmatrix_corr_upper\u001b[0m\u001b[1;33m.\u001b[0m\u001b[0mcolumns\u001b[0m \u001b[1;32mif\u001b[0m \u001b[0many\u001b[0m\u001b[1;33m(\u001b[0m\u001b[0mmatrix_corr_upper\u001b[0m\u001b[1;33m[\u001b[0m\u001b[0mcol\u001b[0m\u001b[1;33m]\u001b[0m \u001b[1;33m>=\u001b[0m \u001b[0mthreshold\u001b[0m\u001b[1;33m)\u001b[0m\u001b[1;33m]\u001b[0m\u001b[1;33m\n",
       "\u001b[0m    \u001b[1;33m\n",
       "\u001b[0m    \u001b[1;32mreturn\u001b[0m \u001b[0mcols_drop\u001b[0m\u001b[1;33m\u001b[0m\u001b[1;33m\u001b[0m\u001b[0m\n",
       "\u001b[1;31mFile:\u001b[0m      c:\\users\\pedro\\documents\\alura\\projeto_final_bootcamp\\funcoes\\feature.py\n",
       "\u001b[1;31mType:\u001b[0m      function\n"
      ]
     },
     "metadata": {},
     "output_type": "display_data"
    }
   ],
   "source": [
    "compute_high_corr??"
   ]
  },
  {
   "cell_type": "code",
   "execution_count": 16,
   "id": "12272373-2f6d-49ba-bea3-c6aa58f10b2c",
   "metadata": {},
   "outputs": [
    {
     "data": {
      "text/plain": [
       "\u001b[1;31mSignature:\u001b[0m\n",
       "\u001b[0mlabs\u001b[0m\u001b[1;33m(\u001b[0m\u001b[1;33m\n",
       "\u001b[0m    \u001b[0max\u001b[0m\u001b[1;33m,\u001b[0m\u001b[1;33m\n",
       "\u001b[0m    \u001b[0mtitle\u001b[0m\u001b[1;33m:\u001b[0m \u001b[0mstr\u001b[0m \u001b[1;33m=\u001b[0m \u001b[1;34m''\u001b[0m\u001b[1;33m,\u001b[0m\u001b[1;33m\n",
       "\u001b[0m    \u001b[0msubtitle\u001b[0m\u001b[1;33m:\u001b[0m \u001b[0mstr\u001b[0m \u001b[1;33m=\u001b[0m \u001b[1;34m''\u001b[0m\u001b[1;33m,\u001b[0m\u001b[1;33m\n",
       "\u001b[0m    \u001b[0mxlabel\u001b[0m\u001b[1;33m:\u001b[0m \u001b[0mstr\u001b[0m \u001b[1;33m=\u001b[0m \u001b[1;34m''\u001b[0m\u001b[1;33m,\u001b[0m\u001b[1;33m\n",
       "\u001b[0m    \u001b[0mylabel\u001b[0m\u001b[1;33m:\u001b[0m \u001b[0mstr\u001b[0m \u001b[1;33m=\u001b[0m \u001b[1;34m''\u001b[0m\u001b[1;33m,\u001b[0m\u001b[1;33m\n",
       "\u001b[0m\u001b[1;33m)\u001b[0m\u001b[1;33m\u001b[0m\u001b[1;33m\u001b[0m\u001b[0m\n",
       "\u001b[1;31mSource:\u001b[0m   \n",
       "\u001b[1;32mdef\u001b[0m \u001b[0mlabs\u001b[0m\u001b[1;33m(\u001b[0m\u001b[0max\u001b[0m\u001b[1;33m,\u001b[0m \u001b[0mtitle\u001b[0m\u001b[1;33m:\u001b[0m\u001b[0mstr\u001b[0m\u001b[1;33m=\u001b[0m\u001b[1;34m''\u001b[0m\u001b[1;33m,\u001b[0m \u001b[0msubtitle\u001b[0m\u001b[1;33m:\u001b[0m\u001b[0mstr\u001b[0m\u001b[1;33m=\u001b[0m\u001b[1;34m''\u001b[0m\u001b[1;33m,\u001b[0m \u001b[0mxlabel\u001b[0m\u001b[1;33m:\u001b[0m\u001b[0mstr\u001b[0m\u001b[1;33m=\u001b[0m\u001b[1;34m''\u001b[0m\u001b[1;33m,\u001b[0m \u001b[0mylabel\u001b[0m\u001b[1;33m:\u001b[0m\u001b[0mstr\u001b[0m\u001b[1;33m=\u001b[0m\u001b[1;34m''\u001b[0m\u001b[1;33m)\u001b[0m\u001b[1;33m:\u001b[0m\u001b[1;33m\n",
       "\u001b[0m    \u001b[1;34m'''\n",
       "    Função que plota as informações adicionais dos gráficos, título, subtítulo, rótulos, labels, fontes\n",
       "    \n",
       "    Parâmetros:\n",
       "    ----------\n",
       "    ax : eixo a ser plotado o gráfico, se nenhum for passado será criado automaticamnete, tipo : matplotlib.axes\n",
       "    title : título do gráfico, tipo : str, padrão : ''\n",
       "    subtitle : subtítulo do gráfico, tipo : str, padrão : ''\n",
       "    xlabel : rótulo do eixo x, tipo : str, padrão : ''\n",
       "    ylabel : rótulo do eixo y, tipo : str, padrão : ''\n",
       "    '''\u001b[0m\u001b[1;33m\n",
       "\u001b[0m    \u001b[1;31m#Seta o eixo passado\u001b[0m\u001b[1;33m\n",
       "\u001b[0m    \u001b[0mplt\u001b[0m\u001b[1;33m.\u001b[0m\u001b[0msca\u001b[0m\u001b[1;33m(\u001b[0m\u001b[0max\u001b[0m\u001b[1;33m)\u001b[0m\u001b[1;33m\n",
       "\u001b[0m    \u001b[1;31m#Se o subtítulo for passado adiciona uma nova linha\u001b[0m\u001b[1;33m\n",
       "\u001b[0m    \u001b[1;32mif\u001b[0m \u001b[0msubtitle\u001b[0m \u001b[1;33m!=\u001b[0m \u001b[1;34m''\u001b[0m\u001b[1;33m:\u001b[0m\u001b[1;33m\n",
       "\u001b[0m        \u001b[0mtitle\u001b[0m \u001b[1;33m=\u001b[0m \u001b[0mtitle\u001b[0m \u001b[1;33m+\u001b[0m \u001b[1;34m'\\n'\u001b[0m \u001b[1;33m\n",
       "\u001b[0m    \u001b[1;31m#Plota o título\u001b[0m\u001b[1;33m\n",
       "\u001b[0m    \u001b[0mplt\u001b[0m\u001b[1;33m.\u001b[0m\u001b[0mtitle\u001b[0m\u001b[1;33m(\u001b[0m\u001b[0mtitle\u001b[0m\u001b[1;33m,\u001b[0m \u001b[0mfontsize\u001b[0m\u001b[1;33m=\u001b[0m\u001b[1;36m25\u001b[0m\u001b[1;33m,\u001b[0m \u001b[0mloc\u001b[0m\u001b[1;33m=\u001b[0m\u001b[1;34m'left'\u001b[0m\u001b[1;33m)\u001b[0m\u001b[1;33m\n",
       "\u001b[0m    \u001b[1;31m#Plota o subtítulo\u001b[0m\u001b[1;33m\n",
       "\u001b[0m    \u001b[0mplt\u001b[0m\u001b[1;33m.\u001b[0m\u001b[0mtext\u001b[0m\u001b[1;33m(\u001b[0m\u001b[1;36m0\u001b[0m\u001b[1;33m,\u001b[0m\u001b[1;36m1.02\u001b[0m\u001b[1;33m,\u001b[0m \u001b[0msubtitle\u001b[0m\u001b[1;33m,\u001b[0m \u001b[0mcolor\u001b[0m\u001b[1;33m=\u001b[0m\u001b[1;34m'gray'\u001b[0m\u001b[1;33m,\u001b[0m \u001b[0mtransform\u001b[0m\u001b[1;33m=\u001b[0m\u001b[0max\u001b[0m\u001b[1;33m.\u001b[0m\u001b[0mtransAxes\u001b[0m\u001b[1;33m,\u001b[0m \u001b[0mfontsize\u001b[0m\u001b[1;33m=\u001b[0m\u001b[1;36m15\u001b[0m\u001b[1;33m)\u001b[0m\u001b[1;33m\n",
       "\u001b[0m    \u001b[1;31m#Plota os rótulos dos eixos\u001b[0m\u001b[1;33m\n",
       "\u001b[0m    \u001b[0mplt\u001b[0m\u001b[1;33m.\u001b[0m\u001b[0mxlabel\u001b[0m\u001b[1;33m(\u001b[0m\u001b[0mxlabel\u001b[0m\u001b[1;33m,\u001b[0m \u001b[0mcolor\u001b[0m\u001b[1;33m=\u001b[0m\u001b[1;34m'#333333'\u001b[0m\u001b[1;33m,\u001b[0m \u001b[0mfontsize\u001b[0m\u001b[1;33m=\u001b[0m\u001b[1;36m15\u001b[0m\u001b[1;33m)\u001b[0m\u001b[1;33m\n",
       "\u001b[0m    \u001b[0mplt\u001b[0m\u001b[1;33m.\u001b[0m\u001b[0mylabel\u001b[0m\u001b[1;33m(\u001b[0m\u001b[0mylabel\u001b[0m\u001b[1;33m,\u001b[0m \u001b[0mcolor\u001b[0m\u001b[1;33m=\u001b[0m\u001b[1;34m'#333333'\u001b[0m\u001b[1;33m,\u001b[0m \u001b[0mfontsize\u001b[0m\u001b[1;33m=\u001b[0m\u001b[1;36m15\u001b[0m\u001b[1;33m)\u001b[0m\u001b[1;33m\n",
       "\u001b[0m    \u001b[1;31m#Muda a fonte e cor dos eixos\u001b[0m\u001b[1;33m\n",
       "\u001b[0m    \u001b[0mplt\u001b[0m\u001b[1;33m.\u001b[0m\u001b[0myticks\u001b[0m\u001b[1;33m(\u001b[0m\u001b[0mfontsize\u001b[0m\u001b[1;33m=\u001b[0m\u001b[1;36m15\u001b[0m\u001b[1;33m,\u001b[0m \u001b[0mcolor\u001b[0m\u001b[1;33m=\u001b[0m\u001b[1;34m'#333333'\u001b[0m\u001b[1;33m)\u001b[0m\u001b[1;33m\n",
       "\u001b[0m    \u001b[0mplt\u001b[0m\u001b[1;33m.\u001b[0m\u001b[0mxticks\u001b[0m\u001b[1;33m(\u001b[0m\u001b[0mfontsize\u001b[0m\u001b[1;33m=\u001b[0m\u001b[1;36m15\u001b[0m\u001b[1;33m,\u001b[0m \u001b[0mcolor\u001b[0m\u001b[1;33m=\u001b[0m\u001b[1;34m'#333333'\u001b[0m\u001b[1;33m)\u001b[0m\u001b[1;33m\u001b[0m\u001b[1;33m\u001b[0m\u001b[0m\n",
       "\u001b[1;31mFile:\u001b[0m      c:\\users\\pedro\\documents\\alura\\projeto_final_bootcamp\\funcoes\\my_plot.py\n",
       "\u001b[1;31mType:\u001b[0m      function\n"
      ]
     },
     "metadata": {},
     "output_type": "display_data"
    }
   ],
   "source": [
    "labs??"
   ]
  },
  {
   "cell_type": "code",
   "execution_count": 26,
   "id": "be72decf-ec59-4a0f-a287-93afecacd099",
   "metadata": {},
   "outputs": [
    {
     "data": {
      "text/plain": [
       "\u001b[1;31mSignature:\u001b[0m \u001b[0mannot_bar\u001b[0m\u001b[1;33m(\u001b[0m\u001b[0max\u001b[0m\u001b[1;33m,\u001b[0m \u001b[0mprop\u001b[0m\u001b[1;33m=\u001b[0m\u001b[1;32mTrue\u001b[0m\u001b[1;33m)\u001b[0m\u001b[1;33m\u001b[0m\u001b[1;33m\u001b[0m\u001b[0m\n",
       "\u001b[1;31mSource:\u001b[0m   \n",
       "\u001b[1;32mdef\u001b[0m \u001b[0mannot_bar\u001b[0m\u001b[1;33m(\u001b[0m\u001b[0max\u001b[0m\u001b[1;33m,\u001b[0m \u001b[0mprop\u001b[0m\u001b[1;33m=\u001b[0m\u001b[1;32mTrue\u001b[0m\u001b[1;33m)\u001b[0m\u001b[1;33m:\u001b[0m\u001b[1;33m\n",
       "\u001b[0m    \u001b[1;34m'''\n",
       "    Realiza anotações em cima das barras em um gráfico de barras \n",
       "    \n",
       "    Parâmetros:\n",
       "    -----------\n",
       "    ax : ax : eixo do matplotlib onde será plotada as linhas, tipo : matplotlib.axes\n",
       "    prop : indicando se os valores serão representados como porcentagens ou não, tipo : bool, padrão : True\n",
       "    \n",
       "    OBS : precisa ser chamada após o gráfico de barras\n",
       "    '''\u001b[0m\u001b[1;33m\n",
       "\u001b[0m    \u001b[1;31m#Salva as informações das barras que estão no gráfico\u001b[0m\u001b[1;33m\n",
       "\u001b[0m    \u001b[0mrects\u001b[0m \u001b[1;33m=\u001b[0m \u001b[0max\u001b[0m\u001b[1;33m.\u001b[0m\u001b[0mpatches\u001b[0m\u001b[1;33m\n",
       "\u001b[0m    \u001b[1;33m\n",
       "\u001b[0m    \u001b[1;31m#Verifica se é do tipo porcentagem\u001b[0m\u001b[1;33m\n",
       "\u001b[0m    \u001b[1;32mif\u001b[0m \u001b[0mprop\u001b[0m\u001b[1;33m:\u001b[0m\u001b[1;33m\n",
       "\u001b[0m        \u001b[0mstr_symbol\u001b[0m \u001b[1;33m=\u001b[0m \u001b[1;34m'%'\u001b[0m\u001b[1;33m\n",
       "\u001b[0m        \u001b[0mmult_value\u001b[0m \u001b[1;33m=\u001b[0m \u001b[1;36m100\u001b[0m\u001b[1;33m\n",
       "\u001b[0m    \u001b[1;32melse\u001b[0m\u001b[1;33m:\u001b[0m\u001b[1;33m\n",
       "\u001b[0m        \u001b[0mstr_symbol\u001b[0m \u001b[1;33m=\u001b[0m \u001b[1;34m''\u001b[0m\u001b[1;33m\n",
       "\u001b[0m        \u001b[0mmult_value\u001b[0m \u001b[1;33m=\u001b[0m \u001b[1;36m1\u001b[0m\u001b[1;33m\n",
       "\u001b[0m    \u001b[1;33m\n",
       "\u001b[0m    \u001b[1;31m#Anota no gráfico em cima de cada barra os valores \u001b[0m\u001b[1;33m\n",
       "\u001b[0m    \u001b[1;32mfor\u001b[0m \u001b[0mrect\u001b[0m \u001b[1;32min\u001b[0m \u001b[0mrects\u001b[0m\u001b[1;33m:\u001b[0m\u001b[1;33m\n",
       "\u001b[0m        \u001b[0mheight\u001b[0m \u001b[1;33m=\u001b[0m \u001b[0mrect\u001b[0m\u001b[1;33m.\u001b[0m\u001b[0mget_height\u001b[0m\u001b[1;33m(\u001b[0m\u001b[1;33m)\u001b[0m\u001b[1;33m\n",
       "\u001b[0m        \u001b[0max\u001b[0m\u001b[1;33m.\u001b[0m\u001b[0mtext\u001b[0m\u001b[1;33m(\u001b[0m\u001b[0mrect\u001b[0m\u001b[1;33m.\u001b[0m\u001b[0mget_x\u001b[0m\u001b[1;33m(\u001b[0m\u001b[1;33m)\u001b[0m \u001b[1;33m+\u001b[0m \u001b[0mrect\u001b[0m\u001b[1;33m.\u001b[0m\u001b[0mget_width\u001b[0m\u001b[1;33m(\u001b[0m\u001b[1;33m)\u001b[0m \u001b[1;33m/\u001b[0m \u001b[1;36m2\u001b[0m\u001b[1;33m,\u001b[0m \u001b[0mheight\u001b[0m\u001b[1;33m,\u001b[0m \u001b[0mstr\u001b[0m\u001b[1;33m(\u001b[0m\u001b[0mround\u001b[0m\u001b[1;33m(\u001b[0m\u001b[0mheight\u001b[0m \u001b[1;33m*\u001b[0m \u001b[0mmult_value\u001b[0m\u001b[1;33m,\u001b[0m\u001b[1;36m2\u001b[0m\u001b[1;33m)\u001b[0m\u001b[1;33m)\u001b[0m \u001b[1;33m+\u001b[0m \u001b[0mstr_symbol\u001b[0m\u001b[1;33m,\u001b[0m \u001b[0mcolor\u001b[0m\u001b[1;33m=\u001b[0m\u001b[1;34m'black'\u001b[0m\u001b[1;33m,\u001b[0m \u001b[0mha\u001b[0m\u001b[1;33m=\u001b[0m\u001b[1;34m'center'\u001b[0m\u001b[1;33m,\u001b[0m \u001b[0mva\u001b[0m\u001b[1;33m=\u001b[0m\u001b[1;34m'bottom'\u001b[0m\u001b[1;33m,\u001b[0m \u001b[0mfontsize\u001b[0m\u001b[1;33m=\u001b[0m\u001b[1;36m15\u001b[0m\u001b[1;33m)\u001b[0m\u001b[1;33m\u001b[0m\u001b[1;33m\u001b[0m\u001b[0m\n",
       "\u001b[1;31mFile:\u001b[0m      c:\\users\\pedro\\documents\\alura\\projeto_final_bootcamp\\funcoes\\my_plot.py\n",
       "\u001b[1;31mType:\u001b[0m      function\n"
      ]
     },
     "metadata": {},
     "output_type": "display_data"
    }
   ],
   "source": [
    "annot_bar??"
   ]
  },
  {
   "cell_type": "code",
   "execution_count": 25,
   "id": "515d6015-770b-499f-8913-44f0a77d2ac3",
   "metadata": {},
   "outputs": [
    {
     "data": {
      "text/plain": [
       "\u001b[1;31mSignature:\u001b[0m \u001b[0mfill_table\u001b[0m\u001b[1;33m(\u001b[0m\u001b[0mrows\u001b[0m\u001b[1;33m)\u001b[0m\u001b[1;33m\u001b[0m\u001b[1;33m\u001b[0m\u001b[0m\n",
       "\u001b[1;31mSource:\u001b[0m   \n",
       "\u001b[1;32mdef\u001b[0m \u001b[0mfill_table\u001b[0m\u001b[1;33m(\u001b[0m\u001b[0mrows\u001b[0m\u001b[1;33m)\u001b[0m\u001b[1;33m:\u001b[0m\u001b[1;33m\n",
       "\u001b[0m    \u001b[1;34m'''\n",
       "    Função que recebe as linhas correspondentes a apenas um paciente e preenche os valores nulos das colunas contínuas com dados de outras janelas\n",
       "    \n",
       "    Parâmetros:\n",
       "    -----------\n",
       "    rows : as linhas correspondentes ao mesmo paciente\n",
       "    \n",
       "    Retorno:\n",
       "    --------\n",
       "    Retorna as linhas preenchidas\n",
       "    '''\u001b[0m\u001b[1;33m\n",
       "\u001b[0m    \u001b[1;31m#Aplicando os métodos de 'bfill' e 'ffill' nas colunas contínuas \u001b[0m\u001b[1;33m\n",
       "\u001b[0m    \u001b[0mrows\u001b[0m\u001b[1;33m[\u001b[0m\u001b[0mrows\u001b[0m\u001b[1;33m.\u001b[0m\u001b[0mselect_dtypes\u001b[0m\u001b[1;33m(\u001b[0m\u001b[1;34m'float64'\u001b[0m\u001b[1;33m)\u001b[0m\u001b[1;33m.\u001b[0m\u001b[0mcolumns\u001b[0m\u001b[1;33m]\u001b[0m \u001b[1;33m=\u001b[0m \u001b[0mrows\u001b[0m\u001b[1;33m[\u001b[0m\u001b[0mrows\u001b[0m\u001b[1;33m.\u001b[0m\u001b[0mselect_dtypes\u001b[0m\u001b[1;33m(\u001b[0m\u001b[1;34m'float64'\u001b[0m\u001b[1;33m)\u001b[0m\u001b[1;33m.\u001b[0m\u001b[0mcolumns\u001b[0m\u001b[1;33m]\u001b[0m\u001b[1;33m.\u001b[0m\u001b[0mfillna\u001b[0m\u001b[1;33m(\u001b[0m\u001b[0mmethod\u001b[0m\u001b[1;33m=\u001b[0m\u001b[1;34m'bfill'\u001b[0m\u001b[1;33m)\u001b[0m\u001b[1;33m.\u001b[0m\u001b[0mfillna\u001b[0m\u001b[1;33m(\u001b[0m\u001b[0mmethod\u001b[0m\u001b[1;33m=\u001b[0m\u001b[1;34m'ffill'\u001b[0m\u001b[1;33m)\u001b[0m\u001b[1;33m\n",
       "\u001b[0m    \u001b[1;32mreturn\u001b[0m \u001b[0mrows\u001b[0m\u001b[1;33m\u001b[0m\u001b[1;33m\u001b[0m\u001b[0m\n",
       "\u001b[1;31mFile:\u001b[0m      c:\\users\\pedro\\documents\\alura\\projeto_final_bootcamp\\funcoes\\preprocessing.py\n",
       "\u001b[1;31mType:\u001b[0m      function\n"
      ]
     },
     "metadata": {},
     "output_type": "display_data"
    }
   ],
   "source": [
    "fill_table??"
   ]
  },
  {
   "cell_type": "code",
   "execution_count": 24,
   "id": "8e4999c5-501d-453a-9ed3-a310a3e7fcfe",
   "metadata": {},
   "outputs": [
    {
     "data": {
      "text/plain": [
       "\u001b[1;31mSignature:\u001b[0m \u001b[0mselect_window\u001b[0m\u001b[1;33m(\u001b[0m\u001b[0mrows\u001b[0m\u001b[1;33m,\u001b[0m \u001b[0mwindow\u001b[0m\u001b[1;33m=\u001b[0m\u001b[1;34m'0-2'\u001b[0m\u001b[1;33m,\u001b[0m \u001b[0mtarget_variable\u001b[0m\u001b[1;33m=\u001b[0m\u001b[1;34m'ICU'\u001b[0m\u001b[1;33m)\u001b[0m\u001b[1;33m\u001b[0m\u001b[1;33m\u001b[0m\u001b[0m\n",
       "\u001b[1;31mSource:\u001b[0m   \n",
       "\u001b[1;32mdef\u001b[0m \u001b[0mselect_window\u001b[0m\u001b[1;33m(\u001b[0m\u001b[0mrows\u001b[0m\u001b[1;33m,\u001b[0m \u001b[0mwindow\u001b[0m\u001b[1;33m=\u001b[0m\u001b[1;34m'0-2'\u001b[0m\u001b[1;33m,\u001b[0m \u001b[0mtarget_variable\u001b[0m\u001b[1;33m=\u001b[0m\u001b[1;34m'ICU'\u001b[0m\u001b[1;33m)\u001b[0m\u001b[1;33m:\u001b[0m\u001b[1;33m\n",
       "\u001b[0m    \u001b[1;34m'''\n",
       "    Função que seleciona a janela correspondente e verifica se em algum momento o paciente foi para UTI, com isso modifica a coluna dependente para se em qualquer janela de tempo esse \n",
       "    paciente foi para UTI\n",
       "    \n",
       "    Parâmetros:\n",
       "    -----------\n",
       "    rows : as linhas correspondentes ao mesmo paciente\n",
       "    window : coluna correspondente à janela que será mantida, padrão : '0-2'\n",
       "    target_variable : nome da variável dependente, padrão : 'ICU'\n",
       "    \n",
       "    Retono:\n",
       "    -------\n",
       "    Retorna o conjunto de dados preenchido\n",
       "    '''\u001b[0m\u001b[1;33m\n",
       "\u001b[0m    \u001b[1;31m#Verificando se o paciente foi para UTI em qualquer momento\u001b[0m\u001b[1;33m\n",
       "\u001b[0m    \u001b[1;32mif\u001b[0m\u001b[1;33m(\u001b[0m\u001b[0mnumpy_any\u001b[0m\u001b[1;33m(\u001b[0m\u001b[0mrows\u001b[0m\u001b[1;33m[\u001b[0m\u001b[0mtarget_variable\u001b[0m\u001b[1;33m]\u001b[0m\u001b[1;33m)\u001b[0m\u001b[1;33m)\u001b[0m\u001b[1;33m:\u001b[0m\u001b[1;33m\n",
       "\u001b[0m        \u001b[0mrows\u001b[0m\u001b[1;33m.\u001b[0m\u001b[0mloc\u001b[0m\u001b[1;33m[\u001b[0m\u001b[0mrows\u001b[0m\u001b[1;33m[\u001b[0m\u001b[1;34m\"WINDOW\"\u001b[0m\u001b[1;33m]\u001b[0m\u001b[1;33m==\u001b[0m\u001b[0mwindow\u001b[0m\u001b[1;33m,\u001b[0m \u001b[0mtarget_variable\u001b[0m\u001b[1;33m]\u001b[0m \u001b[1;33m=\u001b[0m \u001b[1;36m1\u001b[0m\u001b[1;33m\n",
       "\u001b[0m    \u001b[1;31m#Retornando apenas os dados da janela especificada\u001b[0m\u001b[1;33m\n",
       "\u001b[0m    \u001b[1;32mreturn\u001b[0m \u001b[0mrows\u001b[0m\u001b[1;33m.\u001b[0m\u001b[0mloc\u001b[0m\u001b[1;33m[\u001b[0m\u001b[0mrows\u001b[0m\u001b[1;33m[\u001b[0m\u001b[1;34m\"WINDOW\"\u001b[0m\u001b[1;33m]\u001b[0m \u001b[1;33m==\u001b[0m \u001b[0mwindow\u001b[0m\u001b[1;33m]\u001b[0m\u001b[1;33m\u001b[0m\u001b[1;33m\u001b[0m\u001b[0m\n",
       "\u001b[1;31mFile:\u001b[0m      c:\\users\\pedro\\documents\\alura\\projeto_final_bootcamp\\funcoes\\preprocessing.py\n",
       "\u001b[1;31mType:\u001b[0m      function\n"
      ]
     },
     "metadata": {},
     "output_type": "display_data"
    }
   ],
   "source": [
    "select_window??"
   ]
  },
  {
   "cell_type": "markdown",
   "id": "c77dc3d8-128b-40ac-8fe0-6da227b6f748",
   "metadata": {},
   "source": [
    "## Leitura dos dados brutos"
   ]
  },
  {
   "cell_type": "code",
   "execution_count": 15,
   "id": "ca427da2-69dd-4bc3-98de-4cf63b920a4e",
   "metadata": {},
   "outputs": [],
   "source": [
    "# Lendo os dados brutos \n",
    "df = pd.read_excel('../dados/dados_brutos/Kaggle_Sirio_Libanes_ICU_Prediction.xlsx')"
   ]
  },
  {
   "cell_type": "markdown",
   "id": "96508544-dbfe-4bf7-807f-30212a2d5839",
   "metadata": {},
   "source": [
    "## Pré-Processamento"
   ]
  },
  {
   "cell_type": "markdown",
   "id": "f60915ef-779c-4385-9ff4-bc2a195baf34",
   "metadata": {},
   "source": [
    "Para entender melhor o dataset vou ollhar as primeiras linhas."
   ]
  },
  {
   "cell_type": "code",
   "execution_count": 16,
   "id": "1576d19c-1f0f-42db-b37f-a55dc5246b86",
   "metadata": {},
   "outputs": [
    {
     "data": {
      "text/html": [
       "<div>\n",
       "<style scoped>\n",
       "    .dataframe tbody tr th:only-of-type {\n",
       "        vertical-align: middle;\n",
       "    }\n",
       "\n",
       "    .dataframe tbody tr th {\n",
       "        vertical-align: top;\n",
       "    }\n",
       "\n",
       "    .dataframe thead th {\n",
       "        text-align: right;\n",
       "    }\n",
       "</style>\n",
       "<table border=\"1\" class=\"dataframe\">\n",
       "  <thead>\n",
       "    <tr style=\"text-align: right;\">\n",
       "      <th></th>\n",
       "      <th>PATIENT_VISIT_IDENTIFIER</th>\n",
       "      <th>AGE_ABOVE65</th>\n",
       "      <th>AGE_PERCENTIL</th>\n",
       "      <th>GENDER</th>\n",
       "      <th>DISEASE GROUPING 1</th>\n",
       "      <th>DISEASE GROUPING 2</th>\n",
       "      <th>DISEASE GROUPING 3</th>\n",
       "      <th>DISEASE GROUPING 4</th>\n",
       "      <th>DISEASE GROUPING 5</th>\n",
       "      <th>DISEASE GROUPING 6</th>\n",
       "      <th>...</th>\n",
       "      <th>TEMPERATURE_DIFF</th>\n",
       "      <th>OXYGEN_SATURATION_DIFF</th>\n",
       "      <th>BLOODPRESSURE_DIASTOLIC_DIFF_REL</th>\n",
       "      <th>BLOODPRESSURE_SISTOLIC_DIFF_REL</th>\n",
       "      <th>HEART_RATE_DIFF_REL</th>\n",
       "      <th>RESPIRATORY_RATE_DIFF_REL</th>\n",
       "      <th>TEMPERATURE_DIFF_REL</th>\n",
       "      <th>OXYGEN_SATURATION_DIFF_REL</th>\n",
       "      <th>WINDOW</th>\n",
       "      <th>ICU</th>\n",
       "    </tr>\n",
       "  </thead>\n",
       "  <tbody>\n",
       "    <tr>\n",
       "      <th>0</th>\n",
       "      <td>0</td>\n",
       "      <td>1</td>\n",
       "      <td>60th</td>\n",
       "      <td>0</td>\n",
       "      <td>0.0</td>\n",
       "      <td>0.0</td>\n",
       "      <td>0.0</td>\n",
       "      <td>0.0</td>\n",
       "      <td>1.0</td>\n",
       "      <td>1.0</td>\n",
       "      <td>...</td>\n",
       "      <td>-1.000000</td>\n",
       "      <td>-1.000000</td>\n",
       "      <td>-1.000000</td>\n",
       "      <td>-1.000000</td>\n",
       "      <td>-1.000000</td>\n",
       "      <td>-1.000000</td>\n",
       "      <td>-1.000000</td>\n",
       "      <td>-1.000000</td>\n",
       "      <td>0-2</td>\n",
       "      <td>0</td>\n",
       "    </tr>\n",
       "    <tr>\n",
       "      <th>1</th>\n",
       "      <td>0</td>\n",
       "      <td>1</td>\n",
       "      <td>60th</td>\n",
       "      <td>0</td>\n",
       "      <td>0.0</td>\n",
       "      <td>0.0</td>\n",
       "      <td>0.0</td>\n",
       "      <td>0.0</td>\n",
       "      <td>1.0</td>\n",
       "      <td>1.0</td>\n",
       "      <td>...</td>\n",
       "      <td>-1.000000</td>\n",
       "      <td>-1.000000</td>\n",
       "      <td>-1.000000</td>\n",
       "      <td>-1.000000</td>\n",
       "      <td>-1.000000</td>\n",
       "      <td>-1.000000</td>\n",
       "      <td>-1.000000</td>\n",
       "      <td>-1.000000</td>\n",
       "      <td>2-4</td>\n",
       "      <td>0</td>\n",
       "    </tr>\n",
       "    <tr>\n",
       "      <th>2</th>\n",
       "      <td>0</td>\n",
       "      <td>1</td>\n",
       "      <td>60th</td>\n",
       "      <td>0</td>\n",
       "      <td>0.0</td>\n",
       "      <td>0.0</td>\n",
       "      <td>0.0</td>\n",
       "      <td>0.0</td>\n",
       "      <td>1.0</td>\n",
       "      <td>1.0</td>\n",
       "      <td>...</td>\n",
       "      <td>NaN</td>\n",
       "      <td>NaN</td>\n",
       "      <td>NaN</td>\n",
       "      <td>NaN</td>\n",
       "      <td>NaN</td>\n",
       "      <td>NaN</td>\n",
       "      <td>NaN</td>\n",
       "      <td>NaN</td>\n",
       "      <td>4-6</td>\n",
       "      <td>0</td>\n",
       "    </tr>\n",
       "    <tr>\n",
       "      <th>3</th>\n",
       "      <td>0</td>\n",
       "      <td>1</td>\n",
       "      <td>60th</td>\n",
       "      <td>0</td>\n",
       "      <td>0.0</td>\n",
       "      <td>0.0</td>\n",
       "      <td>0.0</td>\n",
       "      <td>0.0</td>\n",
       "      <td>1.0</td>\n",
       "      <td>1.0</td>\n",
       "      <td>...</td>\n",
       "      <td>-1.000000</td>\n",
       "      <td>-1.000000</td>\n",
       "      <td>NaN</td>\n",
       "      <td>NaN</td>\n",
       "      <td>NaN</td>\n",
       "      <td>NaN</td>\n",
       "      <td>-1.000000</td>\n",
       "      <td>-1.000000</td>\n",
       "      <td>6-12</td>\n",
       "      <td>0</td>\n",
       "    </tr>\n",
       "    <tr>\n",
       "      <th>4</th>\n",
       "      <td>0</td>\n",
       "      <td>1</td>\n",
       "      <td>60th</td>\n",
       "      <td>0</td>\n",
       "      <td>0.0</td>\n",
       "      <td>0.0</td>\n",
       "      <td>0.0</td>\n",
       "      <td>0.0</td>\n",
       "      <td>1.0</td>\n",
       "      <td>1.0</td>\n",
       "      <td>...</td>\n",
       "      <td>-0.238095</td>\n",
       "      <td>-0.818182</td>\n",
       "      <td>-0.389967</td>\n",
       "      <td>0.407558</td>\n",
       "      <td>-0.230462</td>\n",
       "      <td>0.096774</td>\n",
       "      <td>-0.242282</td>\n",
       "      <td>-0.814433</td>\n",
       "      <td>ABOVE_12</td>\n",
       "      <td>1</td>\n",
       "    </tr>\n",
       "  </tbody>\n",
       "</table>\n",
       "<p>5 rows × 231 columns</p>\n",
       "</div>"
      ],
      "text/plain": [
       "   PATIENT_VISIT_IDENTIFIER  AGE_ABOVE65 AGE_PERCENTIL  GENDER  \\\n",
       "0                         0            1          60th       0   \n",
       "1                         0            1          60th       0   \n",
       "2                         0            1          60th       0   \n",
       "3                         0            1          60th       0   \n",
       "4                         0            1          60th       0   \n",
       "\n",
       "   DISEASE GROUPING 1  DISEASE GROUPING 2  DISEASE GROUPING 3  \\\n",
       "0                 0.0                 0.0                 0.0   \n",
       "1                 0.0                 0.0                 0.0   \n",
       "2                 0.0                 0.0                 0.0   \n",
       "3                 0.0                 0.0                 0.0   \n",
       "4                 0.0                 0.0                 0.0   \n",
       "\n",
       "   DISEASE GROUPING 4  DISEASE GROUPING 5  DISEASE GROUPING 6  ...  \\\n",
       "0                 0.0                 1.0                 1.0  ...   \n",
       "1                 0.0                 1.0                 1.0  ...   \n",
       "2                 0.0                 1.0                 1.0  ...   \n",
       "3                 0.0                 1.0                 1.0  ...   \n",
       "4                 0.0                 1.0                 1.0  ...   \n",
       "\n",
       "   TEMPERATURE_DIFF  OXYGEN_SATURATION_DIFF  BLOODPRESSURE_DIASTOLIC_DIFF_REL  \\\n",
       "0         -1.000000               -1.000000                         -1.000000   \n",
       "1         -1.000000               -1.000000                         -1.000000   \n",
       "2               NaN                     NaN                               NaN   \n",
       "3         -1.000000               -1.000000                               NaN   \n",
       "4         -0.238095               -0.818182                         -0.389967   \n",
       "\n",
       "   BLOODPRESSURE_SISTOLIC_DIFF_REL  HEART_RATE_DIFF_REL  \\\n",
       "0                        -1.000000            -1.000000   \n",
       "1                        -1.000000            -1.000000   \n",
       "2                              NaN                  NaN   \n",
       "3                              NaN                  NaN   \n",
       "4                         0.407558            -0.230462   \n",
       "\n",
       "   RESPIRATORY_RATE_DIFF_REL  TEMPERATURE_DIFF_REL  \\\n",
       "0                  -1.000000             -1.000000   \n",
       "1                  -1.000000             -1.000000   \n",
       "2                        NaN                   NaN   \n",
       "3                        NaN             -1.000000   \n",
       "4                   0.096774             -0.242282   \n",
       "\n",
       "   OXYGEN_SATURATION_DIFF_REL    WINDOW  ICU  \n",
       "0                   -1.000000       0-2    0  \n",
       "1                   -1.000000       2-4    0  \n",
       "2                         NaN       4-6    0  \n",
       "3                   -1.000000      6-12    0  \n",
       "4                   -0.814433  ABOVE_12    1  \n",
       "\n",
       "[5 rows x 231 columns]"
      ]
     },
     "execution_count": 16,
     "metadata": {},
     "output_type": "execute_result"
    }
   ],
   "source": [
    "df.head()"
   ]
  },
  {
   "cell_type": "markdown",
   "id": "54aec18b-6b62-43c5-ab2c-3606dfeebd82",
   "metadata": {},
   "source": [
    "Olhando apenas as primeiras linhas já percebe-se algumas informações nulas(NaN), para resolver o problema vou utilizar a função fill_table() definida no arquivo [preprocessing](), e dessa maneira realizar o preenchimento das tabelas utilizando valores de janelas anteriores e posteriores, como foi sugerido pelo Hospital Sirío-Libanês.<br><br>\n",
    "No entanto esse preenchimento deve ser realizado apenas **com valores do mesmo paciente** e sabemos que a coluna identificadora de cada paciente é a \"PATIENT_VISIT_IDENTIFIER\", por esta razão vou agrupar os dados através dessa variável e aplicar a função apenas nas linhas que correspondentes ao mesmo paciente.<br><br>\n",
    "Além disso, temos o problema de que, uma vez que o objetivo é prever se um paciente irá precisar de cuidados intensivos com base nos valores da primeira janela de tempo, **não devemos utilizar dados de quando o paciente já estava na UTI para preencher dados anteriores**. Para resolver esse problema vou agrupar os dados por duas variáveis, a variável identificadora(\"PATIENT_VISIT_IDENTIFIER\") e a variável que indica se o paciente estava na UTI(\"ICU\"), dessa forma apenas os dados que possuem o **mesmo valor de \"PATIENT_VISIT_IDENTIFIER\" e de \"ICU\"** serão utilizados para realizar o preenchimento de dados nulos."
   ]
  },
  {
   "cell_type": "code",
   "execution_count": 17,
   "id": "d757bf18-cc11-4d52-8efe-84da62e35165",
   "metadata": {},
   "outputs": [
    {
     "data": {
      "text/plain": [
       "223863"
      ]
     },
     "execution_count": 17,
     "metadata": {},
     "output_type": "execute_result"
    }
   ],
   "source": [
    "# Verificando o total de valores nulos\n",
    "df.isna().sum().sum()"
   ]
  },
  {
   "cell_type": "markdown",
   "id": "f30e5fac-14a2-4d3b-b13d-b1c67f7877bf",
   "metadata": {},
   "source": [
    "Somando os valores nulos temos **223863** dados nulos antes do preenchimento."
   ]
  },
  {
   "cell_type": "code",
   "execution_count": 18,
   "id": "086f0151-1e38-4247-8a29-a8b1bf82848f",
   "metadata": {},
   "outputs": [],
   "source": [
    "# Agrupando os dados por \"PATIENT_VISIT_IDENTIFIER\" e \"ICU\" e aplicando a função fill_table\n",
    "df = df.groupby(['PATIENT_VISIT_IDENTIFIER', 'ICU']).apply(fill_table)"
   ]
  },
  {
   "cell_type": "code",
   "execution_count": 19,
   "id": "6c9bb90f-577f-400f-a87d-1e9274923b6d",
   "metadata": {},
   "outputs": [
    {
     "data": {
      "text/plain": [
       "8781"
      ]
     },
     "execution_count": 19,
     "metadata": {},
     "output_type": "execute_result"
    }
   ],
   "source": [
    "df.isna().sum().sum()"
   ]
  },
  {
   "cell_type": "markdown",
   "id": "4c788de1-00dc-4130-b016-3e677907ae16",
   "metadata": {},
   "source": [
    "Após aplicar o preenchimento temos **8781** dados nulos. Esses dados nulos agora são informações faltantes que não podemos aplicar o preenchimento, por esta razão vou remover todas as linhas que possuem esses dados nulos."
   ]
  },
  {
   "cell_type": "code",
   "execution_count": 20,
   "id": "38b05f31-f0b3-4e21-8855-b9f0925d8426",
   "metadata": {},
   "outputs": [],
   "source": [
    "# Eliminando dados nulos\n",
    "df = df.dropna()"
   ]
  },
  {
   "cell_type": "code",
   "execution_count": 21,
   "id": "c5a24739-8027-46ea-8770-bdeb65566f05",
   "metadata": {},
   "outputs": [
    {
     "data": {
      "text/html": [
       "<div>\n",
       "<style scoped>\n",
       "    .dataframe tbody tr th:only-of-type {\n",
       "        vertical-align: middle;\n",
       "    }\n",
       "\n",
       "    .dataframe tbody tr th {\n",
       "        vertical-align: top;\n",
       "    }\n",
       "\n",
       "    .dataframe thead th {\n",
       "        text-align: right;\n",
       "    }\n",
       "</style>\n",
       "<table border=\"1\" class=\"dataframe\">\n",
       "  <thead>\n",
       "    <tr style=\"text-align: right;\">\n",
       "      <th></th>\n",
       "      <th>PATIENT_VISIT_IDENTIFIER</th>\n",
       "      <th>AGE_ABOVE65</th>\n",
       "      <th>AGE_PERCENTIL</th>\n",
       "      <th>GENDER</th>\n",
       "      <th>DISEASE GROUPING 1</th>\n",
       "      <th>DISEASE GROUPING 2</th>\n",
       "      <th>DISEASE GROUPING 3</th>\n",
       "      <th>DISEASE GROUPING 4</th>\n",
       "      <th>DISEASE GROUPING 5</th>\n",
       "      <th>DISEASE GROUPING 6</th>\n",
       "      <th>...</th>\n",
       "      <th>TEMPERATURE_DIFF</th>\n",
       "      <th>OXYGEN_SATURATION_DIFF</th>\n",
       "      <th>BLOODPRESSURE_DIASTOLIC_DIFF_REL</th>\n",
       "      <th>BLOODPRESSURE_SISTOLIC_DIFF_REL</th>\n",
       "      <th>HEART_RATE_DIFF_REL</th>\n",
       "      <th>RESPIRATORY_RATE_DIFF_REL</th>\n",
       "      <th>TEMPERATURE_DIFF_REL</th>\n",
       "      <th>OXYGEN_SATURATION_DIFF_REL</th>\n",
       "      <th>WINDOW</th>\n",
       "      <th>ICU</th>\n",
       "    </tr>\n",
       "  </thead>\n",
       "  <tbody>\n",
       "    <tr>\n",
       "      <th>0</th>\n",
       "      <td>0</td>\n",
       "      <td>1</td>\n",
       "      <td>60th</td>\n",
       "      <td>0</td>\n",
       "      <td>0.0</td>\n",
       "      <td>0.0</td>\n",
       "      <td>0.0</td>\n",
       "      <td>0.0</td>\n",
       "      <td>1.0</td>\n",
       "      <td>1.0</td>\n",
       "      <td>...</td>\n",
       "      <td>-1.000000</td>\n",
       "      <td>-1.000000</td>\n",
       "      <td>-1.000000</td>\n",
       "      <td>-1.000000</td>\n",
       "      <td>-1.000000</td>\n",
       "      <td>-1.000000</td>\n",
       "      <td>-1.000000</td>\n",
       "      <td>-1.000000</td>\n",
       "      <td>0-2</td>\n",
       "      <td>0</td>\n",
       "    </tr>\n",
       "    <tr>\n",
       "      <th>1</th>\n",
       "      <td>0</td>\n",
       "      <td>1</td>\n",
       "      <td>60th</td>\n",
       "      <td>0</td>\n",
       "      <td>0.0</td>\n",
       "      <td>0.0</td>\n",
       "      <td>0.0</td>\n",
       "      <td>0.0</td>\n",
       "      <td>1.0</td>\n",
       "      <td>1.0</td>\n",
       "      <td>...</td>\n",
       "      <td>-1.000000</td>\n",
       "      <td>-1.000000</td>\n",
       "      <td>-1.000000</td>\n",
       "      <td>-1.000000</td>\n",
       "      <td>-1.000000</td>\n",
       "      <td>-1.000000</td>\n",
       "      <td>-1.000000</td>\n",
       "      <td>-1.000000</td>\n",
       "      <td>2-4</td>\n",
       "      <td>0</td>\n",
       "    </tr>\n",
       "    <tr>\n",
       "      <th>2</th>\n",
       "      <td>0</td>\n",
       "      <td>1</td>\n",
       "      <td>60th</td>\n",
       "      <td>0</td>\n",
       "      <td>0.0</td>\n",
       "      <td>0.0</td>\n",
       "      <td>0.0</td>\n",
       "      <td>0.0</td>\n",
       "      <td>1.0</td>\n",
       "      <td>1.0</td>\n",
       "      <td>...</td>\n",
       "      <td>-1.000000</td>\n",
       "      <td>-1.000000</td>\n",
       "      <td>-1.000000</td>\n",
       "      <td>-1.000000</td>\n",
       "      <td>-1.000000</td>\n",
       "      <td>-1.000000</td>\n",
       "      <td>-1.000000</td>\n",
       "      <td>-1.000000</td>\n",
       "      <td>4-6</td>\n",
       "      <td>0</td>\n",
       "    </tr>\n",
       "    <tr>\n",
       "      <th>3</th>\n",
       "      <td>0</td>\n",
       "      <td>1</td>\n",
       "      <td>60th</td>\n",
       "      <td>0</td>\n",
       "      <td>0.0</td>\n",
       "      <td>0.0</td>\n",
       "      <td>0.0</td>\n",
       "      <td>0.0</td>\n",
       "      <td>1.0</td>\n",
       "      <td>1.0</td>\n",
       "      <td>...</td>\n",
       "      <td>-1.000000</td>\n",
       "      <td>-1.000000</td>\n",
       "      <td>-1.000000</td>\n",
       "      <td>-1.000000</td>\n",
       "      <td>-1.000000</td>\n",
       "      <td>-1.000000</td>\n",
       "      <td>-1.000000</td>\n",
       "      <td>-1.000000</td>\n",
       "      <td>6-12</td>\n",
       "      <td>0</td>\n",
       "    </tr>\n",
       "    <tr>\n",
       "      <th>4</th>\n",
       "      <td>0</td>\n",
       "      <td>1</td>\n",
       "      <td>60th</td>\n",
       "      <td>0</td>\n",
       "      <td>0.0</td>\n",
       "      <td>0.0</td>\n",
       "      <td>0.0</td>\n",
       "      <td>0.0</td>\n",
       "      <td>1.0</td>\n",
       "      <td>1.0</td>\n",
       "      <td>...</td>\n",
       "      <td>-0.238095</td>\n",
       "      <td>-0.818182</td>\n",
       "      <td>-0.389967</td>\n",
       "      <td>0.407558</td>\n",
       "      <td>-0.230462</td>\n",
       "      <td>0.096774</td>\n",
       "      <td>-0.242282</td>\n",
       "      <td>-0.814433</td>\n",
       "      <td>ABOVE_12</td>\n",
       "      <td>1</td>\n",
       "    </tr>\n",
       "  </tbody>\n",
       "</table>\n",
       "<p>5 rows × 231 columns</p>\n",
       "</div>"
      ],
      "text/plain": [
       "   PATIENT_VISIT_IDENTIFIER  AGE_ABOVE65 AGE_PERCENTIL  GENDER  \\\n",
       "0                         0            1          60th       0   \n",
       "1                         0            1          60th       0   \n",
       "2                         0            1          60th       0   \n",
       "3                         0            1          60th       0   \n",
       "4                         0            1          60th       0   \n",
       "\n",
       "   DISEASE GROUPING 1  DISEASE GROUPING 2  DISEASE GROUPING 3  \\\n",
       "0                 0.0                 0.0                 0.0   \n",
       "1                 0.0                 0.0                 0.0   \n",
       "2                 0.0                 0.0                 0.0   \n",
       "3                 0.0                 0.0                 0.0   \n",
       "4                 0.0                 0.0                 0.0   \n",
       "\n",
       "   DISEASE GROUPING 4  DISEASE GROUPING 5  DISEASE GROUPING 6  ...  \\\n",
       "0                 0.0                 1.0                 1.0  ...   \n",
       "1                 0.0                 1.0                 1.0  ...   \n",
       "2                 0.0                 1.0                 1.0  ...   \n",
       "3                 0.0                 1.0                 1.0  ...   \n",
       "4                 0.0                 1.0                 1.0  ...   \n",
       "\n",
       "   TEMPERATURE_DIFF  OXYGEN_SATURATION_DIFF  BLOODPRESSURE_DIASTOLIC_DIFF_REL  \\\n",
       "0         -1.000000               -1.000000                         -1.000000   \n",
       "1         -1.000000               -1.000000                         -1.000000   \n",
       "2         -1.000000               -1.000000                         -1.000000   \n",
       "3         -1.000000               -1.000000                         -1.000000   \n",
       "4         -0.238095               -0.818182                         -0.389967   \n",
       "\n",
       "   BLOODPRESSURE_SISTOLIC_DIFF_REL  HEART_RATE_DIFF_REL  \\\n",
       "0                        -1.000000            -1.000000   \n",
       "1                        -1.000000            -1.000000   \n",
       "2                        -1.000000            -1.000000   \n",
       "3                        -1.000000            -1.000000   \n",
       "4                         0.407558            -0.230462   \n",
       "\n",
       "   RESPIRATORY_RATE_DIFF_REL  TEMPERATURE_DIFF_REL  \\\n",
       "0                  -1.000000             -1.000000   \n",
       "1                  -1.000000             -1.000000   \n",
       "2                  -1.000000             -1.000000   \n",
       "3                  -1.000000             -1.000000   \n",
       "4                   0.096774             -0.242282   \n",
       "\n",
       "   OXYGEN_SATURATION_DIFF_REL    WINDOW  ICU  \n",
       "0                   -1.000000       0-2    0  \n",
       "1                   -1.000000       2-4    0  \n",
       "2                   -1.000000       4-6    0  \n",
       "3                   -1.000000      6-12    0  \n",
       "4                   -0.814433  ABOVE_12    1  \n",
       "\n",
       "[5 rows x 231 columns]"
      ]
     },
     "execution_count": 21,
     "metadata": {},
     "output_type": "execute_result"
    }
   ],
   "source": [
    "df.head()"
   ]
  },
  {
   "cell_type": "code",
   "execution_count": 22,
   "id": "8edd44ac-4959-4549-b2bf-2882752eef57",
   "metadata": {},
   "outputs": [
    {
     "data": {
      "text/html": [
       "<div>\n",
       "<style scoped>\n",
       "    .dataframe tbody tr th:only-of-type {\n",
       "        vertical-align: middle;\n",
       "    }\n",
       "\n",
       "    .dataframe tbody tr th {\n",
       "        vertical-align: top;\n",
       "    }\n",
       "\n",
       "    .dataframe thead th {\n",
       "        text-align: right;\n",
       "    }\n",
       "</style>\n",
       "<table border=\"1\" class=\"dataframe\">\n",
       "  <thead>\n",
       "    <tr style=\"text-align: right;\">\n",
       "      <th></th>\n",
       "      <th>PATIENT_VISIT_IDENTIFIER</th>\n",
       "      <th>AGE_ABOVE65</th>\n",
       "      <th>GENDER</th>\n",
       "      <th>DISEASE GROUPING 1</th>\n",
       "      <th>DISEASE GROUPING 2</th>\n",
       "      <th>DISEASE GROUPING 3</th>\n",
       "      <th>DISEASE GROUPING 4</th>\n",
       "      <th>DISEASE GROUPING 5</th>\n",
       "      <th>DISEASE GROUPING 6</th>\n",
       "      <th>HTN</th>\n",
       "      <th>...</th>\n",
       "      <th>RESPIRATORY_RATE_DIFF</th>\n",
       "      <th>TEMPERATURE_DIFF</th>\n",
       "      <th>OXYGEN_SATURATION_DIFF</th>\n",
       "      <th>BLOODPRESSURE_DIASTOLIC_DIFF_REL</th>\n",
       "      <th>BLOODPRESSURE_SISTOLIC_DIFF_REL</th>\n",
       "      <th>HEART_RATE_DIFF_REL</th>\n",
       "      <th>RESPIRATORY_RATE_DIFF_REL</th>\n",
       "      <th>TEMPERATURE_DIFF_REL</th>\n",
       "      <th>OXYGEN_SATURATION_DIFF_REL</th>\n",
       "      <th>ICU</th>\n",
       "    </tr>\n",
       "  </thead>\n",
       "  <tbody>\n",
       "    <tr>\n",
       "      <th>count</th>\n",
       "      <td>1805.000000</td>\n",
       "      <td>1805.000000</td>\n",
       "      <td>1805.000000</td>\n",
       "      <td>1805.000000</td>\n",
       "      <td>1805.000000</td>\n",
       "      <td>1805.000000</td>\n",
       "      <td>1805.000000</td>\n",
       "      <td>1805.000000</td>\n",
       "      <td>1805.000000</td>\n",
       "      <td>1805.000000</td>\n",
       "      <td>...</td>\n",
       "      <td>1805.000000</td>\n",
       "      <td>1805.000000</td>\n",
       "      <td>1805.000000</td>\n",
       "      <td>1805.000000</td>\n",
       "      <td>1805.000000</td>\n",
       "      <td>1805.000000</td>\n",
       "      <td>1805.000000</td>\n",
       "      <td>1805.000000</td>\n",
       "      <td>1805.000000</td>\n",
       "      <td>1805.000000</td>\n",
       "    </tr>\n",
       "    <tr>\n",
       "      <th>mean</th>\n",
       "      <td>192.605540</td>\n",
       "      <td>0.457618</td>\n",
       "      <td>0.370083</td>\n",
       "      <td>0.106371</td>\n",
       "      <td>0.029363</td>\n",
       "      <td>0.096953</td>\n",
       "      <td>0.019945</td>\n",
       "      <td>0.125762</td>\n",
       "      <td>0.048753</td>\n",
       "      <td>0.208864</td>\n",
       "      <td>...</td>\n",
       "      <td>-0.768128</td>\n",
       "      <td>-0.809920</td>\n",
       "      <td>-0.908578</td>\n",
       "      <td>-0.821953</td>\n",
       "      <td>-0.764743</td>\n",
       "      <td>-0.848934</td>\n",
       "      <td>-0.779950</td>\n",
       "      <td>-0.810774</td>\n",
       "      <td>-0.908433</td>\n",
       "      <td>0.284765</td>\n",
       "    </tr>\n",
       "    <tr>\n",
       "      <th>std</th>\n",
       "      <td>111.375255</td>\n",
       "      <td>0.498339</td>\n",
       "      <td>0.482960</td>\n",
       "      <td>0.308398</td>\n",
       "      <td>0.168868</td>\n",
       "      <td>0.295976</td>\n",
       "      <td>0.139849</td>\n",
       "      <td>0.331673</td>\n",
       "      <td>0.215412</td>\n",
       "      <td>0.406610</td>\n",
       "      <td>...</td>\n",
       "      <td>0.426264</td>\n",
       "      <td>0.298692</td>\n",
       "      <td>0.258800</td>\n",
       "      <td>0.295384</td>\n",
       "      <td>0.383403</td>\n",
       "      <td>0.246851</td>\n",
       "      <td>0.393891</td>\n",
       "      <td>0.297536</td>\n",
       "      <td>0.259402</td>\n",
       "      <td>0.451427</td>\n",
       "    </tr>\n",
       "    <tr>\n",
       "      <th>min</th>\n",
       "      <td>0.000000</td>\n",
       "      <td>0.000000</td>\n",
       "      <td>0.000000</td>\n",
       "      <td>0.000000</td>\n",
       "      <td>0.000000</td>\n",
       "      <td>0.000000</td>\n",
       "      <td>0.000000</td>\n",
       "      <td>0.000000</td>\n",
       "      <td>0.000000</td>\n",
       "      <td>0.000000</td>\n",
       "      <td>...</td>\n",
       "      <td>-1.000000</td>\n",
       "      <td>-1.000000</td>\n",
       "      <td>-1.000000</td>\n",
       "      <td>-1.000000</td>\n",
       "      <td>-1.000000</td>\n",
       "      <td>-1.000000</td>\n",
       "      <td>-1.000000</td>\n",
       "      <td>-1.000000</td>\n",
       "      <td>-1.000000</td>\n",
       "      <td>0.000000</td>\n",
       "    </tr>\n",
       "    <tr>\n",
       "      <th>25%</th>\n",
       "      <td>97.000000</td>\n",
       "      <td>0.000000</td>\n",
       "      <td>0.000000</td>\n",
       "      <td>0.000000</td>\n",
       "      <td>0.000000</td>\n",
       "      <td>0.000000</td>\n",
       "      <td>0.000000</td>\n",
       "      <td>0.000000</td>\n",
       "      <td>0.000000</td>\n",
       "      <td>0.000000</td>\n",
       "      <td>...</td>\n",
       "      <td>-1.000000</td>\n",
       "      <td>-1.000000</td>\n",
       "      <td>-1.000000</td>\n",
       "      <td>-1.000000</td>\n",
       "      <td>-1.000000</td>\n",
       "      <td>-1.000000</td>\n",
       "      <td>-1.000000</td>\n",
       "      <td>-1.000000</td>\n",
       "      <td>-1.000000</td>\n",
       "      <td>0.000000</td>\n",
       "    </tr>\n",
       "    <tr>\n",
       "      <th>50%</th>\n",
       "      <td>193.000000</td>\n",
       "      <td>0.000000</td>\n",
       "      <td>0.000000</td>\n",
       "      <td>0.000000</td>\n",
       "      <td>0.000000</td>\n",
       "      <td>0.000000</td>\n",
       "      <td>0.000000</td>\n",
       "      <td>0.000000</td>\n",
       "      <td>0.000000</td>\n",
       "      <td>0.000000</td>\n",
       "      <td>...</td>\n",
       "      <td>-1.000000</td>\n",
       "      <td>-1.000000</td>\n",
       "      <td>-1.000000</td>\n",
       "      <td>-1.000000</td>\n",
       "      <td>-1.000000</td>\n",
       "      <td>-1.000000</td>\n",
       "      <td>-1.000000</td>\n",
       "      <td>-1.000000</td>\n",
       "      <td>-1.000000</td>\n",
       "      <td>0.000000</td>\n",
       "    </tr>\n",
       "    <tr>\n",
       "      <th>75%</th>\n",
       "      <td>289.000000</td>\n",
       "      <td>1.000000</td>\n",
       "      <td>1.000000</td>\n",
       "      <td>0.000000</td>\n",
       "      <td>0.000000</td>\n",
       "      <td>0.000000</td>\n",
       "      <td>0.000000</td>\n",
       "      <td>0.000000</td>\n",
       "      <td>0.000000</td>\n",
       "      <td>0.000000</td>\n",
       "      <td>...</td>\n",
       "      <td>-0.705882</td>\n",
       "      <td>-0.690476</td>\n",
       "      <td>-0.919192</td>\n",
       "      <td>-0.718427</td>\n",
       "      <td>-0.626692</td>\n",
       "      <td>-0.762106</td>\n",
       "      <td>-0.741935</td>\n",
       "      <td>-0.688324</td>\n",
       "      <td>-0.917526</td>\n",
       "      <td>1.000000</td>\n",
       "    </tr>\n",
       "    <tr>\n",
       "      <th>max</th>\n",
       "      <td>384.000000</td>\n",
       "      <td>1.000000</td>\n",
       "      <td>1.000000</td>\n",
       "      <td>1.000000</td>\n",
       "      <td>1.000000</td>\n",
       "      <td>1.000000</td>\n",
       "      <td>1.000000</td>\n",
       "      <td>1.000000</td>\n",
       "      <td>1.000000</td>\n",
       "      <td>1.000000</td>\n",
       "      <td>...</td>\n",
       "      <td>1.000000</td>\n",
       "      <td>1.000000</td>\n",
       "      <td>1.000000</td>\n",
       "      <td>1.000000</td>\n",
       "      <td>1.000000</td>\n",
       "      <td>1.000000</td>\n",
       "      <td>1.000000</td>\n",
       "      <td>1.000000</td>\n",
       "      <td>1.000000</td>\n",
       "      <td>1.000000</td>\n",
       "    </tr>\n",
       "  </tbody>\n",
       "</table>\n",
       "<p>8 rows × 229 columns</p>\n",
       "</div>"
      ],
      "text/plain": [
       "       PATIENT_VISIT_IDENTIFIER  AGE_ABOVE65       GENDER  DISEASE GROUPING 1  \\\n",
       "count               1805.000000  1805.000000  1805.000000         1805.000000   \n",
       "mean                 192.605540     0.457618     0.370083            0.106371   \n",
       "std                  111.375255     0.498339     0.482960            0.308398   \n",
       "min                    0.000000     0.000000     0.000000            0.000000   \n",
       "25%                   97.000000     0.000000     0.000000            0.000000   \n",
       "50%                  193.000000     0.000000     0.000000            0.000000   \n",
       "75%                  289.000000     1.000000     1.000000            0.000000   \n",
       "max                  384.000000     1.000000     1.000000            1.000000   \n",
       "\n",
       "       DISEASE GROUPING 2  DISEASE GROUPING 3  DISEASE GROUPING 4  \\\n",
       "count         1805.000000         1805.000000         1805.000000   \n",
       "mean             0.029363            0.096953            0.019945   \n",
       "std              0.168868            0.295976            0.139849   \n",
       "min              0.000000            0.000000            0.000000   \n",
       "25%              0.000000            0.000000            0.000000   \n",
       "50%              0.000000            0.000000            0.000000   \n",
       "75%              0.000000            0.000000            0.000000   \n",
       "max              1.000000            1.000000            1.000000   \n",
       "\n",
       "       DISEASE GROUPING 5  DISEASE GROUPING 6          HTN  ...  \\\n",
       "count         1805.000000         1805.000000  1805.000000  ...   \n",
       "mean             0.125762            0.048753     0.208864  ...   \n",
       "std              0.331673            0.215412     0.406610  ...   \n",
       "min              0.000000            0.000000     0.000000  ...   \n",
       "25%              0.000000            0.000000     0.000000  ...   \n",
       "50%              0.000000            0.000000     0.000000  ...   \n",
       "75%              0.000000            0.000000     0.000000  ...   \n",
       "max              1.000000            1.000000     1.000000  ...   \n",
       "\n",
       "       RESPIRATORY_RATE_DIFF  TEMPERATURE_DIFF  OXYGEN_SATURATION_DIFF  \\\n",
       "count            1805.000000       1805.000000             1805.000000   \n",
       "mean               -0.768128         -0.809920               -0.908578   \n",
       "std                 0.426264          0.298692                0.258800   \n",
       "min                -1.000000         -1.000000               -1.000000   \n",
       "25%                -1.000000         -1.000000               -1.000000   \n",
       "50%                -1.000000         -1.000000               -1.000000   \n",
       "75%                -0.705882         -0.690476               -0.919192   \n",
       "max                 1.000000          1.000000                1.000000   \n",
       "\n",
       "       BLOODPRESSURE_DIASTOLIC_DIFF_REL  BLOODPRESSURE_SISTOLIC_DIFF_REL  \\\n",
       "count                       1805.000000                      1805.000000   \n",
       "mean                          -0.821953                        -0.764743   \n",
       "std                            0.295384                         0.383403   \n",
       "min                           -1.000000                        -1.000000   \n",
       "25%                           -1.000000                        -1.000000   \n",
       "50%                           -1.000000                        -1.000000   \n",
       "75%                           -0.718427                        -0.626692   \n",
       "max                            1.000000                         1.000000   \n",
       "\n",
       "       HEART_RATE_DIFF_REL  RESPIRATORY_RATE_DIFF_REL  TEMPERATURE_DIFF_REL  \\\n",
       "count          1805.000000                1805.000000           1805.000000   \n",
       "mean             -0.848934                  -0.779950             -0.810774   \n",
       "std               0.246851                   0.393891              0.297536   \n",
       "min              -1.000000                  -1.000000             -1.000000   \n",
       "25%              -1.000000                  -1.000000             -1.000000   \n",
       "50%              -1.000000                  -1.000000             -1.000000   \n",
       "75%              -0.762106                  -0.741935             -0.688324   \n",
       "max               1.000000                   1.000000              1.000000   \n",
       "\n",
       "       OXYGEN_SATURATION_DIFF_REL          ICU  \n",
       "count                 1805.000000  1805.000000  \n",
       "mean                    -0.908433     0.284765  \n",
       "std                      0.259402     0.451427  \n",
       "min                     -1.000000     0.000000  \n",
       "25%                     -1.000000     0.000000  \n",
       "50%                     -1.000000     0.000000  \n",
       "75%                     -0.917526     1.000000  \n",
       "max                      1.000000     1.000000  \n",
       "\n",
       "[8 rows x 229 columns]"
      ]
     },
     "execution_count": 22,
     "metadata": {},
     "output_type": "execute_result"
    }
   ],
   "source": [
    "df.describe()"
   ]
  },
  {
   "cell_type": "code",
   "execution_count": 23,
   "id": "c1b9bf6a-05e6-4be8-a781-011a1afe5895",
   "metadata": {},
   "outputs": [
    {
     "name": "stdout",
     "output_type": "stream",
     "text": [
      "<class 'pandas.core.frame.DataFrame'>\n",
      "Int64Index: 1805 entries, 0 to 1924\n",
      "Columns: 231 entries, PATIENT_VISIT_IDENTIFIER to ICU\n",
      "dtypes: float64(225), int64(4), object(2)\n",
      "memory usage: 3.2+ MB\n"
     ]
    }
   ],
   "source": [
    "df.info()"
   ]
  },
  {
   "cell_type": "markdown",
   "id": "46f15198-f674-4062-ab8e-c3d70b0e991c",
   "metadata": {},
   "source": [
    "Através da função info() percebe-se que temos 225 colunas do tipo numérico(float64), 4 colunas do tipo inteiro(int64) e 2 colunas de caracteres(object). No entanto através da função head(), nota-se que parecem haver diversas colunas binárias que deviam ser classificadas como do tipo inteiro, porém só quatro foram identificadas como inteiros.<br>\n",
    "Para resolver esse problema vou usar a função binary_features definida no arquivo [feature]() para selecionar as variáveis binárias e classifica-las como do tipo inteiro. "
   ]
  },
  {
   "cell_type": "code",
   "execution_count": 24,
   "id": "2e19249f-8f1e-4bfb-a67b-77995efd252a",
   "metadata": {},
   "outputs": [
    {
     "data": {
      "text/plain": [
       "['AGE_ABOVE65',\n",
       " 'GENDER',\n",
       " 'DISEASE GROUPING 1',\n",
       " 'DISEASE GROUPING 2',\n",
       " 'DISEASE GROUPING 3',\n",
       " 'DISEASE GROUPING 4',\n",
       " 'DISEASE GROUPING 5',\n",
       " 'DISEASE GROUPING 6',\n",
       " 'HTN',\n",
       " 'IMMUNOCOMPROMISED',\n",
       " 'OTHER',\n",
       " 'ICU']"
      ]
     },
     "execution_count": 24,
     "metadata": {},
     "output_type": "execute_result"
    }
   ],
   "source": [
    "binary = binary_features(df)\n",
    "binary"
   ]
  },
  {
   "cell_type": "markdown",
   "id": "f6f2ff2f-d662-4ca6-a920-4923b386df8f",
   "metadata": {},
   "source": [
    "É possível perceber que realmente existem mais que 4 colunas binárias que deviam ser classificadas do tipo inteiro, por testa razão vou convertê-las para o tipo correto. "
   ]
  },
  {
   "cell_type": "code",
   "execution_count": 25,
   "id": "163e8b15-e8da-45f0-ab58-8e3ed4254cfa",
   "metadata": {},
   "outputs": [
    {
     "name": "stdout",
     "output_type": "stream",
     "text": [
      "<class 'pandas.core.frame.DataFrame'>\n",
      "Int64Index: 1805 entries, 0 to 1924\n",
      "Columns: 231 entries, PATIENT_VISIT_IDENTIFIER to ICU\n",
      "dtypes: float64(216), int64(13), object(2)\n",
      "memory usage: 3.2+ MB\n"
     ]
    }
   ],
   "source": [
    "df[binary] = df[binary].astype('int64')\n",
    "df.info()"
   ]
  },
  {
   "cell_type": "markdown",
   "id": "6d8821e2-e5cf-43d3-8641-bcade6e6b723",
   "metadata": {},
   "source": [
    "Agora percebemos que temos 13 variáveis do tipo inteiro, 216 do tipo numérico e 2 do tipo caractere."
   ]
  },
  {
   "cell_type": "markdown",
   "id": "501e2b82-7917-43bc-a17d-0c0c6ecf976b",
   "metadata": {},
   "source": [
    "Agora temos outro problema a resolver, precisamos selecionar as linhas apenas correspondentes às duas primeiras horas a partir do momento que o paciente chegou ao Hospital, ou seja, a coluna \"WINDOW\" precisa ser igual a \"0-2\", no entanto precisamos checar se esse paciente foi para a UTI em qualquer janela de tempo, uma vez que é isso que queremos prever. Além disso, **não devemos considerar aqueles que foram para UTI nas duas primeiras horas**, uma vez que queremos prever antes dele ir para UTI não podemos usar informações depois do paciente já ter precisado desses cuidados intensivos.<br>\n",
    "Para resolver esse problema vou eliminar os dados onde a janela de tempo é igual a \"0-2\" e a variável \"ICU\" é igual a 1."
   ]
  },
  {
   "cell_type": "code",
   "execution_count": 26,
   "id": "31831e1d-564d-45bd-b3cb-5a13eca780f0",
   "metadata": {},
   "outputs": [],
   "source": [
    "#Selecionando as linhas\n",
    "rows_to_drop = df[(df['WINDOW'] == '0-2') & (df['ICU'] == 1)].index\n",
    "\n",
    "#Eliminando as linhas do dataframe original\n",
    "df.drop(index=rows_to_drop, inplace=True)"
   ]
  },
  {
   "cell_type": "markdown",
   "id": "8c98f5f5-5e10-4ee2-92d8-64ed82e44e4b",
   "metadata": {},
   "source": [
    "Agora para selecionar apenas a primeira janela e mudar a variável \"ICU\" para indicar se o paciente foi para UTI em qualquer janela, vou agrupar por paciente aplicando a função select_window(), esta vai selecionar apenas os valores da primeira janela de tempo e mudar o valor da coluna \"ICU\" para 1 se o paciente correspondente foi para UTI em qualquer das janelas."
   ]
  },
  {
   "cell_type": "code",
   "execution_count": 27,
   "id": "61f4de26-cc77-43ed-abbe-3a36d9d6819b",
   "metadata": {},
   "outputs": [],
   "source": [
    "# Agrupando por paciente e aplicando a função select_window\n",
    "df = df.groupby('PATIENT_VISIT_IDENTIFIER').apply(select_window)"
   ]
  },
  {
   "cell_type": "markdown",
   "id": "2cc75979-a8cc-46c7-a38f-97a176aae7ef",
   "metadata": {},
   "source": [
    "Agora que os problemas foram resolvidos e cada linha representa um paciente diferente, vou eliminar as colunas \"PATIENT_VISIT_IDENTIFIER\", pois não será mais útil por ser apenas um identificador, e a coluna \"WINDOW\", que agora apresenta apenas o valor \"0-2\"."
   ]
  },
  {
   "cell_type": "code",
   "execution_count": 28,
   "id": "a2599a76-e6df-4f49-89fc-7534baedfb23",
   "metadata": {},
   "outputs": [],
   "source": [
    "df.drop(['WINDOW', 'PATIENT_VISIT_IDENTIFIER'], axis=1, inplace=True)"
   ]
  },
  {
   "cell_type": "markdown",
   "id": "164f0623-c8f4-4cd8-ade4-d3bacaae07aa",
   "metadata": {},
   "source": [
    "Para analisar quantos são os pacientes restantes e consequentemente, o tamanho da nossa base de dados, vamos usar a função describe()."
   ]
  },
  {
   "cell_type": "code",
   "execution_count": 29,
   "id": "d26d6024-61df-45b1-8127-3b7a6d31dcae",
   "metadata": {},
   "outputs": [
    {
     "data": {
      "text/html": [
       "<div>\n",
       "<style scoped>\n",
       "    .dataframe tbody tr th:only-of-type {\n",
       "        vertical-align: middle;\n",
       "    }\n",
       "\n",
       "    .dataframe tbody tr th {\n",
       "        vertical-align: top;\n",
       "    }\n",
       "\n",
       "    .dataframe thead th {\n",
       "        text-align: right;\n",
       "    }\n",
       "</style>\n",
       "<table border=\"1\" class=\"dataframe\">\n",
       "  <thead>\n",
       "    <tr style=\"text-align: right;\">\n",
       "      <th></th>\n",
       "      <th>AGE_ABOVE65</th>\n",
       "      <th>GENDER</th>\n",
       "      <th>DISEASE GROUPING 1</th>\n",
       "      <th>DISEASE GROUPING 2</th>\n",
       "      <th>DISEASE GROUPING 3</th>\n",
       "      <th>DISEASE GROUPING 4</th>\n",
       "      <th>DISEASE GROUPING 5</th>\n",
       "      <th>DISEASE GROUPING 6</th>\n",
       "      <th>HTN</th>\n",
       "      <th>IMMUNOCOMPROMISED</th>\n",
       "      <th>...</th>\n",
       "      <th>RESPIRATORY_RATE_DIFF</th>\n",
       "      <th>TEMPERATURE_DIFF</th>\n",
       "      <th>OXYGEN_SATURATION_DIFF</th>\n",
       "      <th>BLOODPRESSURE_DIASTOLIC_DIFF_REL</th>\n",
       "      <th>BLOODPRESSURE_SISTOLIC_DIFF_REL</th>\n",
       "      <th>HEART_RATE_DIFF_REL</th>\n",
       "      <th>RESPIRATORY_RATE_DIFF_REL</th>\n",
       "      <th>TEMPERATURE_DIFF_REL</th>\n",
       "      <th>OXYGEN_SATURATION_DIFF_REL</th>\n",
       "      <th>ICU</th>\n",
       "    </tr>\n",
       "  </thead>\n",
       "  <tbody>\n",
       "    <tr>\n",
       "      <th>count</th>\n",
       "      <td>294.000000</td>\n",
       "      <td>294.000000</td>\n",
       "      <td>294.000000</td>\n",
       "      <td>294.000000</td>\n",
       "      <td>294.000000</td>\n",
       "      <td>294.000000</td>\n",
       "      <td>294.000000</td>\n",
       "      <td>294.000000</td>\n",
       "      <td>294.000000</td>\n",
       "      <td>294.000000</td>\n",
       "      <td>...</td>\n",
       "      <td>294.000000</td>\n",
       "      <td>294.000000</td>\n",
       "      <td>294.000000</td>\n",
       "      <td>294.000000</td>\n",
       "      <td>294.000000</td>\n",
       "      <td>294.000000</td>\n",
       "      <td>294.000000</td>\n",
       "      <td>294.000000</td>\n",
       "      <td>294.000000</td>\n",
       "      <td>294.000000</td>\n",
       "    </tr>\n",
       "    <tr>\n",
       "      <th>mean</th>\n",
       "      <td>0.411565</td>\n",
       "      <td>0.384354</td>\n",
       "      <td>0.095238</td>\n",
       "      <td>0.023810</td>\n",
       "      <td>0.085034</td>\n",
       "      <td>0.020408</td>\n",
       "      <td>0.115646</td>\n",
       "      <td>0.047619</td>\n",
       "      <td>0.170068</td>\n",
       "      <td>0.163265</td>\n",
       "      <td>...</td>\n",
       "      <td>-0.970588</td>\n",
       "      <td>-0.968902</td>\n",
       "      <td>-0.985226</td>\n",
       "      <td>-0.968574</td>\n",
       "      <td>-0.967168</td>\n",
       "      <td>-0.979110</td>\n",
       "      <td>-0.971495</td>\n",
       "      <td>-0.969322</td>\n",
       "      <td>-0.985233</td>\n",
       "      <td>0.357143</td>\n",
       "    </tr>\n",
       "    <tr>\n",
       "      <th>std</th>\n",
       "      <td>0.492956</td>\n",
       "      <td>0.487272</td>\n",
       "      <td>0.294044</td>\n",
       "      <td>0.152715</td>\n",
       "      <td>0.279408</td>\n",
       "      <td>0.141633</td>\n",
       "      <td>0.320346</td>\n",
       "      <td>0.213322</td>\n",
       "      <td>0.376333</td>\n",
       "      <td>0.370238</td>\n",
       "      <td>...</td>\n",
       "      <td>0.090889</td>\n",
       "      <td>0.085524</td>\n",
       "      <td>0.033585</td>\n",
       "      <td>0.086117</td>\n",
       "      <td>0.087508</td>\n",
       "      <td>0.056166</td>\n",
       "      <td>0.079718</td>\n",
       "      <td>0.083745</td>\n",
       "      <td>0.034103</td>\n",
       "      <td>0.479974</td>\n",
       "    </tr>\n",
       "    <tr>\n",
       "      <th>min</th>\n",
       "      <td>0.000000</td>\n",
       "      <td>0.000000</td>\n",
       "      <td>0.000000</td>\n",
       "      <td>0.000000</td>\n",
       "      <td>0.000000</td>\n",
       "      <td>0.000000</td>\n",
       "      <td>0.000000</td>\n",
       "      <td>0.000000</td>\n",
       "      <td>0.000000</td>\n",
       "      <td>0.000000</td>\n",
       "      <td>...</td>\n",
       "      <td>-1.000000</td>\n",
       "      <td>-1.000000</td>\n",
       "      <td>-1.000000</td>\n",
       "      <td>-1.000000</td>\n",
       "      <td>-1.000000</td>\n",
       "      <td>-1.000000</td>\n",
       "      <td>-1.000000</td>\n",
       "      <td>-1.000000</td>\n",
       "      <td>-1.000000</td>\n",
       "      <td>0.000000</td>\n",
       "    </tr>\n",
       "    <tr>\n",
       "      <th>25%</th>\n",
       "      <td>0.000000</td>\n",
       "      <td>0.000000</td>\n",
       "      <td>0.000000</td>\n",
       "      <td>0.000000</td>\n",
       "      <td>0.000000</td>\n",
       "      <td>0.000000</td>\n",
       "      <td>0.000000</td>\n",
       "      <td>0.000000</td>\n",
       "      <td>0.000000</td>\n",
       "      <td>0.000000</td>\n",
       "      <td>...</td>\n",
       "      <td>-1.000000</td>\n",
       "      <td>-1.000000</td>\n",
       "      <td>-1.000000</td>\n",
       "      <td>-1.000000</td>\n",
       "      <td>-1.000000</td>\n",
       "      <td>-1.000000</td>\n",
       "      <td>-1.000000</td>\n",
       "      <td>-1.000000</td>\n",
       "      <td>-1.000000</td>\n",
       "      <td>0.000000</td>\n",
       "    </tr>\n",
       "    <tr>\n",
       "      <th>50%</th>\n",
       "      <td>0.000000</td>\n",
       "      <td>0.000000</td>\n",
       "      <td>0.000000</td>\n",
       "      <td>0.000000</td>\n",
       "      <td>0.000000</td>\n",
       "      <td>0.000000</td>\n",
       "      <td>0.000000</td>\n",
       "      <td>0.000000</td>\n",
       "      <td>0.000000</td>\n",
       "      <td>0.000000</td>\n",
       "      <td>...</td>\n",
       "      <td>-1.000000</td>\n",
       "      <td>-1.000000</td>\n",
       "      <td>-1.000000</td>\n",
       "      <td>-1.000000</td>\n",
       "      <td>-1.000000</td>\n",
       "      <td>-1.000000</td>\n",
       "      <td>-1.000000</td>\n",
       "      <td>-1.000000</td>\n",
       "      <td>-1.000000</td>\n",
       "      <td>0.000000</td>\n",
       "    </tr>\n",
       "    <tr>\n",
       "      <th>75%</th>\n",
       "      <td>1.000000</td>\n",
       "      <td>1.000000</td>\n",
       "      <td>0.000000</td>\n",
       "      <td>0.000000</td>\n",
       "      <td>0.000000</td>\n",
       "      <td>0.000000</td>\n",
       "      <td>0.000000</td>\n",
       "      <td>0.000000</td>\n",
       "      <td>0.000000</td>\n",
       "      <td>0.000000</td>\n",
       "      <td>...</td>\n",
       "      <td>-1.000000</td>\n",
       "      <td>-1.000000</td>\n",
       "      <td>-1.000000</td>\n",
       "      <td>-1.000000</td>\n",
       "      <td>-1.000000</td>\n",
       "      <td>-1.000000</td>\n",
       "      <td>-1.000000</td>\n",
       "      <td>-1.000000</td>\n",
       "      <td>-1.000000</td>\n",
       "      <td>1.000000</td>\n",
       "    </tr>\n",
       "    <tr>\n",
       "      <th>max</th>\n",
       "      <td>1.000000</td>\n",
       "      <td>1.000000</td>\n",
       "      <td>1.000000</td>\n",
       "      <td>1.000000</td>\n",
       "      <td>1.000000</td>\n",
       "      <td>1.000000</td>\n",
       "      <td>1.000000</td>\n",
       "      <td>1.000000</td>\n",
       "      <td>1.000000</td>\n",
       "      <td>1.000000</td>\n",
       "      <td>...</td>\n",
       "      <td>-0.058824</td>\n",
       "      <td>-0.238095</td>\n",
       "      <td>-0.757576</td>\n",
       "      <td>-0.217391</td>\n",
       "      <td>-0.351328</td>\n",
       "      <td>-0.535878</td>\n",
       "      <td>-0.451613</td>\n",
       "      <td>-0.285468</td>\n",
       "      <td>-0.732438</td>\n",
       "      <td>1.000000</td>\n",
       "    </tr>\n",
       "  </tbody>\n",
       "</table>\n",
       "<p>8 rows × 228 columns</p>\n",
       "</div>"
      ],
      "text/plain": [
       "       AGE_ABOVE65      GENDER  DISEASE GROUPING 1  DISEASE GROUPING 2  \\\n",
       "count   294.000000  294.000000          294.000000          294.000000   \n",
       "mean      0.411565    0.384354            0.095238            0.023810   \n",
       "std       0.492956    0.487272            0.294044            0.152715   \n",
       "min       0.000000    0.000000            0.000000            0.000000   \n",
       "25%       0.000000    0.000000            0.000000            0.000000   \n",
       "50%       0.000000    0.000000            0.000000            0.000000   \n",
       "75%       1.000000    1.000000            0.000000            0.000000   \n",
       "max       1.000000    1.000000            1.000000            1.000000   \n",
       "\n",
       "       DISEASE GROUPING 3  DISEASE GROUPING 4  DISEASE GROUPING 5  \\\n",
       "count          294.000000          294.000000          294.000000   \n",
       "mean             0.085034            0.020408            0.115646   \n",
       "std              0.279408            0.141633            0.320346   \n",
       "min              0.000000            0.000000            0.000000   \n",
       "25%              0.000000            0.000000            0.000000   \n",
       "50%              0.000000            0.000000            0.000000   \n",
       "75%              0.000000            0.000000            0.000000   \n",
       "max              1.000000            1.000000            1.000000   \n",
       "\n",
       "       DISEASE GROUPING 6         HTN  IMMUNOCOMPROMISED  ...  \\\n",
       "count          294.000000  294.000000         294.000000  ...   \n",
       "mean             0.047619    0.170068           0.163265  ...   \n",
       "std              0.213322    0.376333           0.370238  ...   \n",
       "min              0.000000    0.000000           0.000000  ...   \n",
       "25%              0.000000    0.000000           0.000000  ...   \n",
       "50%              0.000000    0.000000           0.000000  ...   \n",
       "75%              0.000000    0.000000           0.000000  ...   \n",
       "max              1.000000    1.000000           1.000000  ...   \n",
       "\n",
       "       RESPIRATORY_RATE_DIFF  TEMPERATURE_DIFF  OXYGEN_SATURATION_DIFF  \\\n",
       "count             294.000000        294.000000              294.000000   \n",
       "mean               -0.970588         -0.968902               -0.985226   \n",
       "std                 0.090889          0.085524                0.033585   \n",
       "min                -1.000000         -1.000000               -1.000000   \n",
       "25%                -1.000000         -1.000000               -1.000000   \n",
       "50%                -1.000000         -1.000000               -1.000000   \n",
       "75%                -1.000000         -1.000000               -1.000000   \n",
       "max                -0.058824         -0.238095               -0.757576   \n",
       "\n",
       "       BLOODPRESSURE_DIASTOLIC_DIFF_REL  BLOODPRESSURE_SISTOLIC_DIFF_REL  \\\n",
       "count                        294.000000                       294.000000   \n",
       "mean                          -0.968574                        -0.967168   \n",
       "std                            0.086117                         0.087508   \n",
       "min                           -1.000000                        -1.000000   \n",
       "25%                           -1.000000                        -1.000000   \n",
       "50%                           -1.000000                        -1.000000   \n",
       "75%                           -1.000000                        -1.000000   \n",
       "max                           -0.217391                        -0.351328   \n",
       "\n",
       "       HEART_RATE_DIFF_REL  RESPIRATORY_RATE_DIFF_REL  TEMPERATURE_DIFF_REL  \\\n",
       "count           294.000000                 294.000000            294.000000   \n",
       "mean             -0.979110                  -0.971495             -0.969322   \n",
       "std               0.056166                   0.079718              0.083745   \n",
       "min              -1.000000                  -1.000000             -1.000000   \n",
       "25%              -1.000000                  -1.000000             -1.000000   \n",
       "50%              -1.000000                  -1.000000             -1.000000   \n",
       "75%              -1.000000                  -1.000000             -1.000000   \n",
       "max              -0.535878                  -0.451613             -0.285468   \n",
       "\n",
       "       OXYGEN_SATURATION_DIFF_REL         ICU  \n",
       "count                  294.000000  294.000000  \n",
       "mean                    -0.985233    0.357143  \n",
       "std                      0.034103    0.479974  \n",
       "min                     -1.000000    0.000000  \n",
       "25%                     -1.000000    0.000000  \n",
       "50%                     -1.000000    0.000000  \n",
       "75%                     -1.000000    1.000000  \n",
       "max                     -0.732438    1.000000  \n",
       "\n",
       "[8 rows x 228 columns]"
      ]
     },
     "execution_count": 29,
     "metadata": {},
     "output_type": "execute_result"
    }
   ],
   "source": [
    "df.describe()"
   ]
  },
  {
   "cell_type": "markdown",
   "id": "9fa7b0fe-64f6-42a4-b226-d676df0d49e4",
   "metadata": {},
   "source": [
    "Podemos ver que restaram **294** resgistros, considerando que nenhum valor onde o paciente já tinha ido para UTI foi utilizado para preencher valores faltantes. Esse valor é um valor pequeno se estivermos pensando em machine learning, por esta razão precisamos ter isso em mente na hora de aplicar as técnicas para mensurar a performance de nossos modelos, além disso vamos verificar como está a proporção de pessoas que foram para UTI e as que não foram para verificar se pode ser válida alguma técnica de reamostragem."
   ]
  },
  {
   "cell_type": "code",
   "execution_count": 30,
   "id": "3e81b320-9383-4850-a30e-d36e511dd78e",
   "metadata": {},
   "outputs": [
    {
     "data": {
      "image/png": "[encoded data removed]",
      "text/plain": [
       "<Figure size 1440x720 with 1 Axes>"
      ]
     },
     "metadata": {},
     "output_type": "display_data"
    }
   ],
   "source": [
    "fig, ax = plt.subplots(figsize=(20,10)) \n",
    "sns.countplot(df['ICU'], ax=ax, palette=['#3366ff', '#993300'])\n",
    "labs(title='Quantidades de pacientes que necessitaram de cuidados intensivos',\n",
    "     xlabel='', ylabel='Pacientes',ax=ax)\n",
    "annot_bar(prop=False, ax=ax)\n",
    "handles, labels = ax.get_legend_handles_labels()\n",
    "plt.legend(handles[0:2], ['Não foi para UTI', 'Foi para UTI'], bbox_to_anchor=(1.05, 1), loc=2, borderaxespad=0., fontsize=15)\n",
    "plt.show()"
   ]
  },
  {
   "cell_type": "markdown",
   "id": "9e1696c6-1243-4e39-89d4-843d8c0c929d",
   "metadata": {},
   "source": [
    "Observando a proporção da variável \"ICU\" fica claro que a maioria dos pacienetes presentes no dataset não precisaram de cuidados intensivos, fato este que apoia a realização de uma reamostragem, porém essa reamostragem será realizada e testada apenas quando formos comparar os modelos de machine learning no notebook [Predicoes]()."
   ]
  },
  {
   "cell_type": "code",
   "execution_count": 31,
   "id": "e894b1b7-0164-4b59-96aa-49448a344870",
   "metadata": {},
   "outputs": [],
   "source": [
    "from numpy import any as numpy_any"
   ]
  },
  {
   "cell_type": "code",
   "execution_count": 32,
   "id": "ddbb2e9f-ddbb-44c6-aa63-3e2389951ce1",
   "metadata": {},
   "outputs": [
    {
     "data": {
      "text/plain": [
       "<function numpy.any(a, axis=None, out=None, keepdims=<no value>)>"
      ]
     },
     "execution_count": 32,
     "metadata": {},
     "output_type": "execute_result"
    }
   ],
   "source": [
    "numpy_any"
   ]
  },
  {
   "cell_type": "code",
   "execution_count": 33,
   "id": "673df26d-885a-476e-a7fc-eab4127b48ed",
   "metadata": {},
   "outputs": [
    {
     "ename": "NameError",
     "evalue": "name 'central_trend' is not defined",
     "output_type": "error",
     "traceback": [
      "\u001b[1;31m---------------------------------------------------------------------------\u001b[0m",
      "\u001b[1;31mNameError\u001b[0m                                 Traceback (most recent call last)",
      "\u001b[1;32m<ipython-input-33-8b74318cb19e>\u001b[0m in \u001b[0;36m<module>\u001b[1;34m\u001b[0m\n\u001b[0;32m      1\u001b[0m \u001b[0mfig\u001b[0m\u001b[1;33m,\u001b[0m \u001b[0max\u001b[0m\u001b[1;33m=\u001b[0m \u001b[0mplt\u001b[0m\u001b[1;33m.\u001b[0m\u001b[0msubplots\u001b[0m\u001b[1;33m(\u001b[0m\u001b[1;33m)\u001b[0m\u001b[1;33m\u001b[0m\u001b[1;33m\u001b[0m\u001b[0m\n\u001b[1;32m----> 2\u001b[1;33m \u001b[0mcentral_trend\u001b[0m\u001b[1;33m(\u001b[0m\u001b[0mdf\u001b[0m\u001b[1;33m[\u001b[0m\u001b[1;34m'RESPIRATORY_RATE_DIFF'\u001b[0m\u001b[1;33m]\u001b[0m\u001b[1;33m,\u001b[0m \u001b[0max\u001b[0m\u001b[1;33m=\u001b[0m\u001b[0max\u001b[0m\u001b[1;33m,\u001b[0m \u001b[0maxis\u001b[0m\u001b[1;33m=\u001b[0m\u001b[1;34m'y'\u001b[0m\u001b[1;33m)\u001b[0m\u001b[1;33m\u001b[0m\u001b[1;33m\u001b[0m\u001b[0m\n\u001b[0m",
      "\u001b[1;31mNameError\u001b[0m: name 'central_trend' is not defined"
     ]
    },
    {
     "data": {
      "image/png": "[encoded data removed]",
      "text/plain": [
       "<Figure size 432x288 with 1 Axes>"
      ]
     },
     "metadata": {},
     "output_type": "display_data"
    }
   ],
   "source": [
    "fig, ax= plt.subplots()\n",
    "central_trend(df['RESPIRATORY_RATE_DIFF'], ax=ax, axis='y')"
   ]
  },
  {
   "cell_type": "markdown",
   "id": "250f3574-8c38-486b-afa7-349d8b856e9b",
   "metadata": {},
   "source": [
    "## Análise informações demográficas"
   ]
  },
  {
   "cell_type": "markdown",
   "id": "ed2d3143-f736-41f2-a16a-1a87da8f8516",
   "metadata": {},
   "source": [
    "De acordo com o Sirío-Libanês o dataset possui 3 variáveis demográficas, para identificá-las vamos observar novamente as primeiras linhas."
   ]
  },
  {
   "cell_type": "code",
   "execution_count": null,
   "id": "5ad0d08c-6464-470b-81f0-426084149522",
   "metadata": {},
   "outputs": [],
   "source": [
    "df.head()"
   ]
  },
  {
   "cell_type": "markdown",
   "id": "a6d33ea9-1be8-4446-a5ae-f47c74a931e2",
   "metadata": {},
   "source": [
    "Fica claro que essas informações são representadas pelas colunas \"AGE_ABOVE65\", \"AGE_PERCENTIL\" e \"GENDER\", e dizem respeito a idade e genêro dos pacientes."
   ]
  },
  {
   "cell_type": "markdown",
   "id": "1fd1a1fc-4a38-4591-90ab-10020da3b3cc",
   "metadata": {},
   "source": []
  },
  {
   "cell_type": "markdown",
   "id": "531c4c79-c0ca-4cd5-b8bd-4f7794ac2c23",
   "metadata": {},
   "source": [
    "### Coluna \"AGE_PERCENTIL\""
   ]
  },
  {
   "cell_type": "markdown",
   "id": "2f4424e2-5a5d-414a-86c6-9ae6a06d4834",
   "metadata": {},
   "source": [
    "A primeira coluna analisada será a coluna \"AGE_PERCENTIL\", que traz informações sobre a idade dos pacientes. No entanto temos um problema nessa variável, como ela representa o percentil da idade, ela foi representada através de caracteres. E pensando em modelos de machine learning precisamos transformá-la em uma variável inteira ou numérica, para decidir como realizar essa transformação vou analisar como a variável alvo \"ICU\" se comporta em relação a cada percentil de idade, para isso vou calcular qual a porcentagem de pacientes que foram para UTI para cada valor dessa coluna."
   ]
  },
  {
   "cell_type": "code",
   "execution_count": null,
   "id": "b88397e7-62dc-44c4-9a09-274ce8f5503c",
   "metadata": {},
   "outputs": [],
   "source": [
    "# Agrupando o dataframe pela variável \"AGE_PERCENTIL\" e calculando a proporção de pessoas que foram para UTI \n",
    "percentil_prop = df.groupby('AGE_PERCENTIL')['ICU'].value_counts(normalize=True).reset_index(name='Prop')\n",
    "percentil_prop"
   ]
  },
  {
   "cell_type": "markdown",
   "id": "e834dc7a-8725-421e-a6cc-acabbb9060f1",
   "metadata": {},
   "source": [
    "Com a tabela pronta podemos visualizar em um gráfico esse comportamento."
   ]
  },
  {
   "cell_type": "code",
   "execution_count": null,
   "id": "ec85008a-efbf-45a4-9316-f79600efd784",
   "metadata": {},
   "outputs": [],
   "source": [
    "fig, ax = plt.subplots(figsize=(20,10)) \n",
    "\n",
    "sns.barplot(data=percentil_prop, y='Prop', x='AGE_PERCENTIL', hue='ICU', ax=ax, palette=['#3366ff', '#993300'])\n",
    "labs(title='Proporção de pacientes que foram para UTI por idade', subtitle='IDADE REPRESENTADA PELO PERCENTIL DA IDADE DO PACIENTE',\n",
    "     xlabel='Percentil da idade', ylabel='Proporção',ax=ax)\n",
    "handles, labels = ax.get_legend_handles_labels()\n",
    "plt.legend(handles[0:2], ['Não foi para UTI', 'Foi para UTI'], bbox_to_anchor=(1.05, 1), loc=2, borderaxespad=0., fontsize=15)\n",
    "plt.ylim([0,1])\n",
    "plt.show()"
   ]
  },
  {
   "cell_type": "markdown",
   "id": "5ad0e118-406d-4671-b370-5b6c10ba0298",
   "metadata": {},
   "source": [
    "Observando o gráfico fica claro que dependendo da idade há uma proporção de pacientes diferentes que precisaram de cuidados intensivos. Além disso parece haver faixas etárias onde essa proporção sofre um aumento, por esta razão vou utilizar essa informação a fim de criar colunas categóricas binárias com base na faixa etária, com base no gráfico decidi criar as seguintes colunas:"
   ]
  },
  {
   "cell_type": "markdown",
   "id": "90632953-81d1-46ad-930f-698cb2070137",
   "metadata": {},
   "source": [
    "|Coluna | Descrição|\n",
    "|:-------------|:----------:|\n",
    "|\"AGE_UNDER_30th\" | Pacientes com idade abaixo dos 30 anos\n",
    "|\"AGE_UNDER_50th\" | Pacientes com idade abaixo dos 50 anos\n",
    "|\"AGE_ABOVE_50th\"| Pacientes com idade acima dos 50 anos\n",
    "|\"AGE_ABOVE_80th\"| Pacientes com idade acima dos 80 anos"
   ]
  },
  {
   "cell_type": "code",
   "execution_count": null,
   "id": "f0f2764c-b5b8-4ff8-8f8e-f04cab61c554",
   "metadata": {},
   "outputs": [],
   "source": [
    "#Criando as colunas com base no percentil da idade\n",
    "df['AGE_UNDER_30th'] = [1 if row['AGE_PERCENTIL'] in ['10th', '20th'] else 0 for _,row in df.iterrows()] \n",
    "df['AGE_UNDER_50th'] = [1 if row['AGE_PERCENTIL'] in ['10th', '20th','30th', '40th'] else 0 for _,row in df.iterrows()] \n",
    "df['AGE_ABOVE_50th'] = [1 if row['AGE_PERCENTIL'] in ['50th','60th', '70th','80th', '90th', 'Above 90th'] else 0 for _,row in df.iterrows()] \n",
    "df['AGE_ABOVE_80th'] = [1 if row['AGE_PERCENTIL'] in ['80th', '90th', 'Above 90th'] else 0 for _,row in df.iterrows()] \n",
    "# Eliminando a coluna \"AGE_PERCENTIL\" original\n",
    "df.drop('AGE_PERCENTIL', axis=1, inplace=True)\n",
    "df.head()"
   ]
  },
  {
   "cell_type": "markdown",
   "id": "639b775f-26d9-4882-b7e0-59428ed754b7",
   "metadata": {},
   "source": [
    "Agora com o problema da coluna Percentil resolvido temos 6 colunas demográficas, todas elas do tipo inteiro e categóricas."
   ]
  },
  {
   "cell_type": "markdown",
   "id": "aa3abd46-002e-44e0-92db-35241e62fbc5",
   "metadata": {},
   "source": [
    "### Teste de Chi Quadrado"
   ]
  },
  {
   "cell_type": "markdown",
   "id": "f621f55a-ff20-42ad-99e0-c22e0cea71e8",
   "metadata": {},
   "source": [
    "Considerando que essas informações demográficas não possuem uma influência das demais variáveis, vou analisar cada uma individualmente analisando se elas possuem alguma relação de dependência com a variável alvo, ou seja, a variável \"ICU\". Para isso vou realizar um teste de Chi Quadrado de Pearson com significância de 5% para decidir se alguma dessas variáveis deve ser retirada.<br>\n",
    "Este teste vai testar a seguinte hipótese:"
   ]
  },
  {
   "cell_type": "markdown",
   "id": "4089f823-521c-47a8-b0f2-d700209701c3",
   "metadata": {},
   "source": [
    "### $H_0$ : Colunas demográficas são independentes em relação a variável alvo('ICU')\n",
    "### $H_a$ : Colunas demográficas são dependentes em relação a variável alvo('ICU') "
   ]
  },
  {
   "cell_type": "markdown",
   "id": "182513db-9c02-4146-ae3c-8635a539e34a",
   "metadata": {},
   "source": [
    "![Região de Aceitação](https://caelum-online-public.s3.amazonaws.com/1229-estatistica-parte3/01/img017.png)"
   ]
  },
  {
   "cell_type": "markdown",
   "id": "25561547-6365-4296-ab4f-81a8cb80e07d",
   "metadata": {},
   "source": [
    "### Variáveis de idade"
   ]
  },
  {
   "cell_type": "code",
   "execution_count": null,
   "id": "ef014fbb-1367-4150-b6cb-42b9e41e37ad",
   "metadata": {},
   "outputs": [],
   "source": [
    "ages = ['AGE_UNDER_30th','AGE_UNDER_50th','AGE_ABOVE_50th','AGE_ABOVE_80th','AGE_ABOVE65', 'ICU']\n",
    "ages_melt = pd.melt(df[ages], id_vars='ICU')\n",
    "ages_prop = ages_melt.groupby(['variable','value'])['ICU'].mean().reset_index(name='Prop')"
   ]
  },
  {
   "cell_type": "code",
   "execution_count": null,
   "id": "8ecb286f-cc39-4531-a00d-4a37722a1622",
   "metadata": {},
   "outputs": [],
   "source": [
    "fig, ax = plt.subplots(figsize=(20,10)) \n",
    "\n",
    "sns.barplot(data=ages_prop, y='Prop', x='variable', hue='value', ax=ax, palette='muted')\n",
    "labs(title='Proporção de pacientes que foram para UTI dentre os grupos de doenças', \n",
    "     subtitle='PROPORÇÃO CALCULADA DE PACIENTES QUE FORAM PARA UTI DADO QUE APRESENTOU DETERMINADO GRUPO DE DOENÇA',\n",
    "     xlabel='Variável', ylabel='Proporção',ax=ax)\n",
    "handles, labels = ax.get_legend_handles_labels()\n",
    "plt.legend(handles[0:2], ['0','1'], bbox_to_anchor=(1.05, 1), loc=2, borderaxespad=0., fontsize=15)\n",
    "plt.xticks(range(5),labels=ages_prop['variable'].str.split(r'_| ').str.join('\\n').unique())\n",
    "annot_bar(ages_prop, ax)\n",
    "plt.ylim([0,1])\n",
    "plt.show()"
   ]
  },
  {
   "cell_type": "code",
   "execution_count": null,
   "id": "274f27d3-20eb-43e5-b9d2-b8470b3a15db",
   "metadata": {},
   "outputs": [],
   "source": [
    "p_values = compute_chi2(df[ages].drop('ICU', axis=1), df['ICU'])\n",
    "for col, p_value in p_values.items():\n",
    "    print(f'Considerando a hipótese nula de que a coluna {col} é independente da variável alvo \"ICU\" obteve-se um p valor igual a {p_value}')"
   ]
  },
  {
   "cell_type": "markdown",
   "id": "593bc1ac-9903-4e2e-8090-1885f8faf8c4",
   "metadata": {},
   "source": [
    "Analisando o p valor das colunas relacionadas as idades dos pacientes no teste de Chi-Quadrado da hipótese nula das variáveis serem independentes do paciente ir para UTI temos evidências para **rejeitar a hipótese nula** e por esta razão estas variávies serão mantidas no dataframe."
   ]
  },
  {
   "cell_type": "markdown",
   "id": "591a9911-3c84-43cd-97d8-d5ad5dd5e986",
   "metadata": {},
   "source": [
    "### Variável de genêro"
   ]
  },
  {
   "cell_type": "code",
   "execution_count": null,
   "id": "8eeb88fd-490e-4a34-b3ba-cf4d25ce6159",
   "metadata": {},
   "outputs": [],
   "source": [
    "gender_melt  = pd.melt(df[['GENDER', 'ICU']], id_vars='ICU')\n",
    "gender_prop = gender_melt.groupby(['variable','value'])['ICU'].mean().reset_index(name='Prop')"
   ]
  },
  {
   "cell_type": "code",
   "execution_count": null,
   "id": "6f029c86-a9e2-44a4-8b3f-a66820f2f8e8",
   "metadata": {},
   "outputs": [],
   "source": [
    "fig, ax = plt.subplots(figsize=(12,8)) \n",
    "\n",
    "sns.barplot(data=gender_prop, y='Prop', x='variable', hue='value', ax=ax, palette=['#ffcc00','#0066ff'])\n",
    "labs(title='Proporção de pacientes que foram para UTI dentre os gêneros', \n",
    "     subtitle='PROPORÇÃO CALCULADA DE PACIENTES QUE FORAM PARA UTI DADO O GENÊRO',\n",
    "     xlabel='Variável', ylabel='Proporção',ax=ax)\n",
    "handles, labels = ax.get_legend_handles_labels()\n",
    "plt.legend(handles[0:2], ['0','1'], bbox_to_anchor=(1.05, 1), loc=2, borderaxespad=0., fontsize=15)\n",
    "annot_bar(gender_prop, ax)\n",
    "plt.ylim([0,1])\n",
    "plt.show()"
   ]
  },
  {
   "cell_type": "code",
   "execution_count": null,
   "id": "b82b94d6-81ac-40aa-8734-e25b9dcbfec6",
   "metadata": {},
   "outputs": [],
   "source": [
    "p_values = compute_chi2(df[['GENDER']], df['ICU'])\n",
    "for col, p_value in p_values.items():\n",
    "    print(f'Considerando a hipótese nula de que a coluna {col} é independente da variável alvo \"ICU\" obteve-se um p valor igual a {p_value}')"
   ]
  },
  {
   "cell_type": "markdown",
   "id": "b922c19e-c753-43d9-9dd0-e6e1c12dff8a",
   "metadata": {},
   "source": [
    "Analisando o p valor da coluna de genêro no teste de chi2 da hipótese nula da variável ser independente do paciente ir para UTI **não temos evidências para rejeitar a hipótese nula** e por esta razão vou eliminar a coluna \"GENDER\" do dataframe."
   ]
  },
  {
   "cell_type": "code",
   "execution_count": null,
   "id": "2b974a53-1fe2-4b77-89ea-ada28b291dc1",
   "metadata": {},
   "outputs": [],
   "source": [
    "#Eliminando a coluna \"GENDER\"\n",
    "df = df.drop('GENDER', axis=1)"
   ]
  },
  {
   "cell_type": "markdown",
   "id": "deb7c200-e61f-4030-98c5-e856c32d1214",
   "metadata": {},
   "source": [
    "### Colunas relacionadas as doenças dos pacientes"
   ]
  },
  {
   "cell_type": "markdown",
   "id": "b9834382-3a15-47ad-963d-0eba93479bd8",
   "metadata": {},
   "source": [
    "Além das "
   ]
  },
  {
   "cell_type": "code",
   "execution_count": null,
   "id": "6827028e-777b-4d12-a44a-7818cbc15c8e",
   "metadata": {},
   "outputs": [],
   "source": [
    "diseases = ['DISEASE GROUPING 1','DISEASE GROUPING 2','DISEASE GROUPING 3','DISEASE GROUPING 4',\\\n",
    "            'DISEASE GROUPING 5','DISEASE GROUPING 6','HTN','IMMUNOCOMPROMISED','OTHER', 'ICU']"
   ]
  },
  {
   "cell_type": "code",
   "execution_count": null,
   "id": "3f5f46b4-78ea-4488-9a6c-fc4f3c22c6bd",
   "metadata": {},
   "outputs": [],
   "source": [
    "diseases_melt  = pd.melt(df[diseases], id_vars='ICU')\n",
    "diseases_prop = diseases_melt.groupby(['variable','value'])['ICU'].mean().reset_index(name='Prop')"
   ]
  },
  {
   "cell_type": "code",
   "execution_count": null,
   "id": "9356354b-2e64-4497-b445-54959b7ba567",
   "metadata": {},
   "outputs": [],
   "source": [
    "fig, ax = plt.subplots(figsize=(20,10)) \n",
    "\n",
    "sns.barplot(data=diseases_prop, y='Prop', x='variable', hue='value', ax=ax, palette='muted')\n",
    "labs(title='Proporção de pacientes que foram para UTI dentre os grupos de doenças', \n",
    "     subtitle='PROPORÇÃO CALCULADA DE PACIENTES QUE FORAM PARA UTI DADO QUE APRESENTOU DETERMINADO GRUPO DE DOENÇA',\n",
    "     xlabel='Variável', ylabel='Proporção',ax=ax)\n",
    "handles, labels = ax.get_legend_handles_labels()\n",
    "plt.legend(handles[0:2], ['0','1'], bbox_to_anchor=(1.05, 1), loc=2, borderaxespad=0., fontsize=15)\n",
    "plt.xticks(range(9),labels=diseases_prop['variable'].str.split(r'_| ').str.join('\\n').unique())\n",
    "annot_bar(diseases_prop, ax)\n",
    "plt.ylim([0,1])\n",
    "plt.show()"
   ]
  },
  {
   "cell_type": "code",
   "execution_count": null,
   "id": "6a5a928d-8158-42b3-acaf-ddd652bd5f8f",
   "metadata": {},
   "outputs": [],
   "source": []
  },
  {
   "cell_type": "markdown",
   "id": "4227bf9c-a91e-4a1c-bb64-7b234bd1c929",
   "metadata": {},
   "source": [
    "# Análise Variáveis Numéricas"
   ]
  },
  {
   "cell_type": "markdown",
   "id": "178a74da-f9cc-44da-a99f-abe327201065",
   "metadata": {},
   "source": [
    "## Análise de correção entre as variáveis"
   ]
  },
  {
   "cell_type": "code",
   "execution_count": null,
   "id": "766b6aef-df49-4655-96ae-75409b0ae3f9",
   "metadata": {},
   "outputs": [],
   "source": [
    "fig,ax = plt.subplots(figsize=(35, 30))\n",
    "cor = df.corr().abs()\n",
    "mask = np.triu(np.ones_like(cor, dtype=bool))\n",
    "sns.heatmap(cor,\n",
    "            cmap='Reds',\n",
    "            mask=mask,\n",
    "            ax=ax)\n",
    "labs(title='Correlação entre variáveis contínuas do conjunto de dados', ax=ax)\n",
    "plt.show()"
   ]
  },
  {
   "cell_type": "markdown",
   "id": "093bc568-5468-4f96-abbd-bc260bb3b36d",
   "metadata": {},
   "source": [
    "### Teste de correlação"
   ]
  },
  {
   "cell_type": "code",
   "execution_count": null,
   "id": "c8c0877b-8396-4d04-b786-ae1d1090c0b6",
   "metadata": {},
   "outputs": [],
   "source": [
    "cols_drop_high_corr = compute_high_corr(df)\n",
    "print(cols_drop_high_corr)"
   ]
  },
  {
   "cell_type": "code",
   "execution_count": null,
   "id": "118803dc-cb18-44d8-9e2d-c5bc19c3c45a",
   "metadata": {},
   "outputs": [],
   "source": [
    "df = df.drop(cols_drop_high_corr, axis=1)"
   ]
  },
  {
   "cell_type": "markdown",
   "id": "b5f669db-826b-470c-85a8-19627562a5e8",
   "metadata": {},
   "source": [
    "## Análise da Variância das features"
   ]
  },
  {
   "cell_type": "code",
   "execution_count": null,
   "id": "81445aba-3291-44fa-befd-04ce49547022",
   "metadata": {},
   "outputs": [],
   "source": [
    "np.random.seed(SEED)\n",
    "cont = df.select_dtypes('float64')\n",
    "sample = cont[np.random.choice(cont.columns, size=15, replace=False)]\n",
    "sample_cont = pd.concat([sample, df['ICU']],axis=1) \n",
    "cont_melt = pd.melt(sample_cont, id_vars='ICU')"
   ]
  },
  {
   "cell_type": "code",
   "execution_count": null,
   "id": "9dbc6840-72c3-4613-87c6-f6f6bacd360a",
   "metadata": {},
   "outputs": [],
   "source": [
    "fig, ax = plt.subplots(figsize=(20,10))\n",
    "\n",
    "sns.boxplot(x='variable', y='value', hue='ICU',\n",
    "            data=cont_melt, palette=['#3366ff', '#993300'], \n",
    "            ax=ax, showfliers=False)\n",
    "sns.stripplot(x='variable', y='value', hue='ICU',\n",
    "              data=cont_melt, palette=['#3366ff', '#993300'],\n",
    "              ax=ax, dodge=True)\n",
    "labs(title='Boxplots de 15 colunas contínuas aleatórias', \n",
    "     xlabel='Coluna', \n",
    "     ylabel='Valor', \n",
    "     subtitle='COLUNAS REFERENTES AOS DADOS MÉDICOS DE EXAMES E SINAIS VITAIS', ax=ax)\n",
    "plt.xticks(range(15),labels=cont_melt['variable'].str.split('_').str.join('\\n').unique(), rotation=35)\n",
    "handles, labels = ax.get_legend_handles_labels()\n",
    "plt.legend(handles[0:2], ['Não foi para UTI', 'Foi para UTI'], bbox_to_anchor=(1.05, 1), loc=2, borderaxespad=0., fontsize=15)\n",
    "plt.show()"
   ]
  },
  {
   "cell_type": "code",
   "execution_count": null,
   "id": "5a85d785-b3fe-41ca-adc8-9698fadffce0",
   "metadata": {},
   "outputs": [],
   "source": [
    "var = df.select_dtypes('float64').var()\n",
    "var.sort_values().head()"
   ]
  },
  {
   "cell_type": "code",
   "execution_count": null,
   "id": "add69704-0461-476c-9406-21f510c2c244",
   "metadata": {},
   "outputs": [],
   "source": [
    "cols_0_var = [col for col in var.index if var[col] == 0]\n",
    "print(cols_0_var)"
   ]
  },
  {
   "cell_type": "code",
   "execution_count": null,
   "id": "403679c3-f335-4f1e-adf5-a22082bf88b9",
   "metadata": {},
   "outputs": [],
   "source": [
    "df = df.drop(cols_0_var,axis=1)"
   ]
  },
  {
   "cell_type": "code",
   "execution_count": null,
   "id": "b24226a2-7f06-4418-9d9c-2ff3ffab9a1a",
   "metadata": {},
   "outputs": [],
   "source": [
    "df"
   ]
  },
  {
   "cell_type": "markdown",
   "id": "df824b9b-0596-4114-8e11-04978760fb82",
   "metadata": {},
   "source": [
    "### Teste de variância e médias iguais"
   ]
  },
  {
   "cell_type": "code",
   "execution_count": null,
   "id": "93d31055-6de2-42db-842e-f17dc4dfca47",
   "metadata": {},
   "outputs": [],
   "source": [
    "df.to_csv('../dados/dados_preprocessados/Kaggle_Sirio_Libanes_ICU_Prediction.csv', index=False)"
   ]
  },
  {
   "cell_type": "code",
   "execution_count": null,
   "id": "c5a30188-5e5c-4c98-bc89-3bb365ad6869",
   "metadata": {},
   "outputs": [],
   "source": []
  },
  {
   "cell_type": "code",
   "execution_count": null,
   "id": "124f03d1-a7c3-4faf-b562-f86394684fac",
   "metadata": {},
   "outputs": [],
   "source": []
  }
 ],
 "metadata": {
  "kernelspec": {
   "display_name": "Python (bootcampfinal)",
   "language": "python",
   "name": "bootcampfinal"
  },
  "language_info": {
   "codemirror_mode": {
    "name": "ipython",
    "version": 3
   },
   "file_extension": ".py",
   "mimetype": "text/x-python",
   "name": "python",
   "nbconvert_exporter": "python",
   "pygments_lexer": "ipython3",
   "version": "3.9.6"
  }
 },
 "nbformat": 4,
 "nbformat_minor": 5
}
