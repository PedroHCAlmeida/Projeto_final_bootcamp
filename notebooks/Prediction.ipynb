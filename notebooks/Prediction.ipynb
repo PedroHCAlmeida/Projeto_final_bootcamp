{
 "cells": [
  {
   "cell_type": "code",
   "execution_count": 1,
   "id": "1a520ee7-2bf6-4364-9b7a-795deafccbac",
   "metadata": {},
   "outputs": [],
   "source": [
    "import numpy as np\n",
    "import pandas as pd\n",
    "import matplotlib.pyplot as plt\n",
    "import seaborn as sns\n",
    "from sklearn.preprocessing import LabelEncoder\n",
    "from sklearn.linear_model import LogisticRegression\n",
    "from sklearn.tree import DecisionTreeClassifier\n",
    "from sklearn.ensemble import RandomForestClassifier, GradientBoostingClassifier, AdaBoostClassifier, StackingClassifier\n",
    "from sklearn.dummy import DummyClassifier\n",
    "from sklearn.naive_bayes import GaussianNB\n",
    "from sklearn.feature_selection import RFECV, SelectKBest, SelectFromModel\n",
    "from sklearn.model_selection import RepeatedStratifiedKFold\n",
    "import warnings\n",
    "import os"
   ]
  },
  {
   "cell_type": "code",
   "execution_count": 2,
   "id": "18a41238-16e1-458a-af93-896c4b4bc2ff",
   "metadata": {},
   "outputs": [],
   "source": [
    "warnings.filterwarnings('ignore')"
   ]
  },
  {
   "cell_type": "code",
   "execution_count": 4,
   "id": "b697249f-de73-480f-bd4f-cf29edf5b5cb",
   "metadata": {},
   "outputs": [],
   "source": [
    "os.chdir(\"../functions\")\n",
    "from preprocessing import target_encoder\n",
    "from feature import Drop_features_files\n",
    "from my_classifier import Classifier\n",
    "from my_plot import labs\n",
    "os.chdir(\"../notebooks\")"
   ]
  },
  {
   "cell_type": "code",
   "execution_count": 5,
   "id": "14bb0673-7364-4a96-97e5-0863330ffa52",
   "metadata": {},
   "outputs": [],
   "source": [
    "sns.set_style('darkgrid')"
   ]
  },
  {
   "cell_type": "code",
   "execution_count": 6,
   "id": "3e527f91-35c4-46d2-982e-7104484ee6d5",
   "metadata": {},
   "outputs": [],
   "source": [
    "data = pd.read_csv('../data/preprocessed_data/Kaggle_Sirio_Libanes_ICU_Prediction.csv')"
   ]
  },
  {
   "cell_type": "code",
   "execution_count": 7,
   "id": "653e97d9-6cbe-4e06-8423-51b824d70721",
   "metadata": {},
   "outputs": [],
   "source": [
    "le = LabelEncoder()\n",
    "data.AGE_PERCENTIL = le.fit_transform(data.AGE_PERCENTIL)"
   ]
  },
  {
   "cell_type": "code",
   "execution_count": 8,
   "id": "475e7081-3621-406d-8ca7-a64e9f74b6d7",
   "metadata": {},
   "outputs": [],
   "source": [
    "chi2_5 = 'chi2_alpha_0.05.txt'\n",
    "chi2_2_5 = 'chi2_alpha_0.025.txt'\n",
    "high_corr_95 = 'high_corr_thd_0.95.txt'\n",
    "high_corr_90 = 'high_corr_thd_0.9.txt'\n",
    "eq_mean_5 = 'equal_mean_alpha_0.05.txt'\n",
    "eq_mean_2_5 = 'equal_mean_alpha_0.025.txt'"
   ]
  },
  {
   "cell_type": "code",
   "execution_count": 9,
   "id": "5c1bbf7b-cff4-4eea-8997-90ed53ce76b1",
   "metadata": {},
   "outputs": [],
   "source": [
    "X = data.drop('ICU', axis=1)\n",
    "y = data['ICU']"
   ]
  },
  {
   "cell_type": "markdown",
   "id": "f9c9433c-38d5-4f06-af05-ce471c49a7ee",
   "metadata": {},
   "source": [
    "## DummyClassifier"
   ]
  },
  {
   "cell_type": "markdown",
   "id": "ff431213-dd09-4041-b0a6-947b8bb293aa",
   "metadata": {},
   "source": [
    "## LogisticRegression"
   ]
  },
  {
   "cell_type": "code",
   "execution_count": 11,
   "id": "29fb40d5-b588-4471-8649-7f96b214e7ea",
   "metadata": {},
   "outputs": [
    {
     "data": {
      "application/vnd.jupyter.widget-view+json": {
       "model_id": "154cea3ec31748c3a583622f4481d417",
       "version_major": 2,
       "version_minor": 0
      },
      "text/plain": [
       "  0%|          | 0/50 [00:00<?, ?it/s]"
      ]
     },
     "metadata": {},
     "output_type": "display_data"
    },
    {
     "name": "stdout",
     "output_type": "stream",
     "text": [
      "10 repetições de Validação Cruzada com 5 divisões no dataset\n",
      "----------------------------------------------------------------------------------\n",
      "CLASSIFICADOR                           : LogisticRegression(max_iter=1000)\n",
      "DEMAIS TAREFAS EXECUTADAS PELO PIPELINE : [None]\n",
      "------------------------------------------|---------------------------------------\n",
      "Métricas no dataset de teste:             | Métricas no dataset de treino: \n",
      "------------------------------------------|---------------------------------------\n",
      "ROC AUC MÉDIA         : 0.696             |ROC AUC MÉDIA         : 0.704\n",
      "ROC AUC DESVIO PADRÃO : 0.069             |ROC AUC DESVIO PADRÃO : 0.017\n",
      "ROC AUC ITERVALO      : 0.696 ± 0.019     |ROC AUC ITERVALO      : 0.704 ± 0.005\n",
      "DE CONFIÂNCIA DE 95%                      |DE CONFIÂNCIA DE 95%\n",
      "  \n",
      "DEMAIS MÉTRICAS                           |DEMAIS MÉTRICAS\n",
      "------------------------------------------|---------------------------------------\n",
      "ACCURACY  MÉDIA       : 0.660             |ACCURACY  MÉDIA       : 0.669\n",
      "PRECISÃO  MÉDIA       : 0.623             |ACCURACY  MÉDIA       : 0.630\n",
      "RECALL MÉDIO          : 0.583             |RECALL MÉDIO          : 0.593\n",
      "F1-SCORE  MÉDIO       : 0.576             |F1-SCORE  MÉDIO       : 0.590\n",
      "\n",
      "TEMPO MÉDIO DE TREINAMENTO:0.02\n"
     ]
    }
   ],
   "source": [
    "lr = Classifier(LogisticRegression, data[['AGE_PERCENTIL', 'LACTATE_MEDIAN', 'ICU']], max_iter=1000)\n",
    "lr.cross_val()"
   ]
  },
  {
   "cell_type": "markdown",
   "id": "def09fea-a46e-4500-accd-56884e66c450",
   "metadata": {},
   "source": [
    "# RandomForestClassifier"
   ]
  },
  {
   "cell_type": "code",
   "execution_count": 11,
   "id": "c4932c3d-24b6-41b1-80de-ad8ed492e1ff",
   "metadata": {},
   "outputs": [
    {
     "data": {
      "application/vnd.jupyter.widget-view+json": {
       "model_id": "de908f205663485b8ba99fbee7df7105",
       "version_major": 2,
       "version_minor": 0
      },
      "text/plain": [
       "  0%|          | 0/50 [00:00<?, ?it/s]"
      ]
     },
     "metadata": {},
     "output_type": "display_data"
    },
    {
     "name": "stdout",
     "output_type": "stream",
     "text": [
      "10 repetições de Validação Cruzada com 5 divisões no dataset\n",
      "----------------------------------------------------------------------------------\n",
      "CLASSIFICADOR                           : RandomForestClassifier()\n",
      "DEMAIS TAREFAS EXECUTADAS PELO PIPELINE : [None]\n",
      "------------------------------------------|---------------------------------------\n",
      "Métricas no dataset de teste:             | Métricas no dataset de treino: \n",
      "------------------------------------------|---------------------------------------\n",
      "ROC AUC MÉDIA         : 0.757             |ROC AUC MÉDIA         : 1.000\n",
      "ROC AUC DESVIO PADRÃO : 0.052             |ROC AUC DESVIO PADRÃO : 0.000\n",
      "ROC AUC ITERVALO      : 0.757 ± 0.015     |ROC AUC ITERVALO      : 1.000 ± 0.000\n",
      "DE CONFIÂNCIA DE 95%                      |DE CONFIÂNCIA DE 95%\n",
      "  \n",
      "DEMAIS MÉTRICAS                           |DEMAIS MÉTRICAS\n",
      "------------------------------------------|---------------------------------------\n",
      "ACCURACY  MÉDIA       : 0.721             |ACCURACY  MÉDIA       : 1.000\n",
      "PRECISÃO  MÉDIA       : 0.706             |ACCURACY  MÉDIA       : 1.000\n",
      "RECALL MÉDIO          : 0.668             |RECALL MÉDIO          : 1.000\n",
      "F1-SCORE  MÉDIO       : 0.673             |F1-SCORE  MÉDIO       : 1.000\n",
      "\n",
      "TEMPO MÉDIO DE TREINAMENTO:0.578\n"
     ]
    }
   ],
   "source": [
    "rf = Classifier(RandomForestClassifier, data)\n",
    "rf.cross_val()"
   ]
  },
  {
   "cell_type": "code",
   "execution_count": 56,
   "id": "361108e2-286e-4a6b-b40f-d0b467a8e956",
   "metadata": {},
   "outputs": [
    {
     "ename": "NameError",
     "evalue": "name 'ceil' is not defined",
     "output_type": "error",
     "traceback": [
      "\u001b[1;31m---------------------------------------------------------------------------\u001b[0m",
      "\u001b[1;31mNameError\u001b[0m                                 Traceback (most recent call last)",
      "\u001b[1;32m<ipython-input-56-f0a18e6a2748>\u001b[0m in \u001b[0;36m<module>\u001b[1;34m\u001b[0m\n\u001b[1;32m----> 1\u001b[1;33m \u001b[0mrf\u001b[0m\u001b[1;33m.\u001b[0m\u001b[0mhist_metrics\u001b[0m\u001b[1;33m(\u001b[0m\u001b[1;33m)\u001b[0m\u001b[1;33m\u001b[0m\u001b[1;33m\u001b[0m\u001b[0m\n\u001b[0m",
      "\u001b[1;32m~\\Documents\\Alura\\Projeto_final_bootcamp\\functions\\classifier.py\u001b[0m in \u001b[0;36mhist_metrics\u001b[1;34m(self, ax, show, central, **kwargs_histplot)\u001b[0m\n",
      "\u001b[1;31mNameError\u001b[0m: name 'ceil' is not defined"
     ]
    }
   ],
   "source": [
    "rf.hist_metrics()"
   ]
  },
  {
   "cell_type": "code",
   "execution_count": null,
   "id": "24dbdd9d-83da-46bc-9887-dc0bbf63a758",
   "metadata": {},
   "outputs": [],
   "source": []
  }
 ],
 "metadata": {
  "kernelspec": {
   "display_name": "Python 3",
   "language": "python",
   "name": "python3"
  },
  "language_info": {
   "codemirror_mode": {
    "name": "ipython",
    "version": 3
   },
   "file_extension": ".py",
   "mimetype": "text/x-python",
   "name": "python",
   "nbconvert_exporter": "python",
   "pygments_lexer": "ipython3",
   "version": "3.7.6"
  }
 },
 "nbformat": 4,
 "nbformat_minor": 5
}
