{
 "cells": [
  {
   "cell_type": "markdown",
   "id": "7de2b2d1-66e1-45d1-8a41-aeb40a8c4770",
   "metadata": {},
   "source": [
    "# Aulas Módulo 5"
   ]
  },
  {
   "cell_type": "markdown",
   "id": "ea620030-e828-4680-8f07-d4afcb306437",
   "metadata": {},
   "source": [
    "# Aula 1"
   ]
  },
  {
   "cell_type": "code",
   "execution_count": 1,
   "id": "02a3bac5-d27f-45f1-bb35-caf354558073",
   "metadata": {},
   "outputs": [],
   "source": [
    "import pandas as pd\n",
    "from sklearn.preprocessing import LabelEncoder\n",
    "import numpy as np\n",
    "import warnings\n",
    "import re\n",
    "from sklearn.metrics import plot_confusion_matrix, accuracy_score,classification_report, roc_curve, roc_auc_score\n",
    "from sklearn.tree import DecisionTreeClassifier, plot_tree, export_graphviz\n",
    "from sklearn.model_selection import train_test_split\n",
    "from sklearn.linear_model import LogisticRegression\n",
    "import matplotlib.pyplot as plt\n",
    "import seaborn as sns\n",
    "import graphviz\n",
    "from sklearn.svm import SVC\n",
    "from sklearn.model_selection import RepeatedStratifiedKFold , ShuffleSplit, GroupKFold\n",
    "from sklearn.model_selection import cross_validate\n",
    "from sklearn.metrics import plot_roc_curve\n",
    "from sklearn.pipeline import Pipeline\n",
    "from sklearn.ensemble import RandomForestClassifier\n",
    "from sklearn.preprocessing import LabelEncoder"
   ]
  },
  {
   "cell_type": "code",
   "execution_count": 2,
   "id": "93356ac1-a266-4ad0-be2d-569a347d1181",
   "metadata": {},
   "outputs": [],
   "source": [
    "import os\n",
    "os.chdir(\"../functions\")\n",
    "from feature import drop_correlation, out_of_interval, drop_equal_mean\n",
    "from model import Model\n",
    "os.chdir(\"../notebooks\")"
   ]
  },
  {
   "cell_type": "code",
   "execution_count": 3,
   "id": "0012952c-9b7a-4497-a6cb-9dd4453ec9b4",
   "metadata": {},
   "outputs": [],
   "source": [
    "warnings.filterwarnings('ignore')"
   ]
  },
  {
   "cell_type": "markdown",
   "id": "b03ab1b3-c0c3-4a3d-87e3-6c88d688cd7c",
   "metadata": {},
   "source": [
    "## Desafio 01: Transformar a coluna AGE_PERCENTIL em dados categóricos, mas utilizando outro método."
   ]
  },
  {
   "cell_type": "code",
   "execution_count": 4,
   "id": "34b480bd-1fca-476a-9e9c-5d788859e532",
   "metadata": {},
   "outputs": [],
   "source": [
    "dados = pd.read_csv('https://raw.githubusercontent.com/PedroHCAlmeida/Bootcamp_alura/main/Modulo_5/dados/dados.csv') \n",
    "dados = dados.drop('WINDOW', axis=1)\n",
    "le = LabelEncoder()\n",
    "dados.AGE_PERCENTIL = le.fit_transform(dados.AGE_PERCENTIL)"
   ]
  },
  {
   "cell_type": "code",
   "execution_count": 5,
   "id": "5a5ad9dd-52f4-4239-8585-174a96b94df2",
   "metadata": {},
   "outputs": [],
   "source": [
    "intervals = pd.read_csv('intervals.csv')"
   ]
  },
  {
   "cell_type": "code",
   "execution_count": 6,
   "id": "73310393-04d0-43db-a5b2-06795bd77adc",
   "metadata": {},
   "outputs": [],
   "source": [
    "pipe = Pipeline([('model',  RandomForestClassifier(max_depth=3))])"
   ]
  },
  {
   "cell_type": "code",
   "execution_count": 7,
   "id": "82819557-3049-493c-953e-d4cb16917b43",
   "metadata": {},
   "outputs": [
    {
     "name": "stdout",
     "output_type": "stream",
     "text": [
      "AUC Médio 0.7693300896590369 - 0.9321842526883952\n"
     ]
    }
   ],
   "source": [
    "rf = Model(pipe, dados)\n",
    "rf.cross_val()"
   ]
  },
  {
   "cell_type": "code",
   "execution_count": 8,
   "id": "19a19def-b933-485b-b576-44a03493ce41",
   "metadata": {},
   "outputs": [],
   "source": [
    "pipe = Pipeline([('drop_corr', drop_correlation()),\n",
    "                 ('model',  RandomForestClassifier(max_depth=3))])"
   ]
  },
  {
   "cell_type": "code",
   "execution_count": 9,
   "id": "338bc840-7eef-40a3-be52-5e4936da7342",
   "metadata": {},
   "outputs": [
    {
     "name": "stdout",
     "output_type": "stream",
     "text": [
      "AUC Médio 0.7854553402086297 - 0.9275204995203552\n"
     ]
    }
   ],
   "source": [
    "rf = Model(pipe, dados)\n",
    "rf.cross_val()"
   ]
  },
  {
   "cell_type": "code",
   "execution_count": 10,
   "id": "e4937697-9863-4b12-b58f-82a475af1e01",
   "metadata": {},
   "outputs": [],
   "source": [
    "pipe = Pipeline([('drop_mean', drop_equal_mean()),\n",
    "                 ('model',  RandomForestClassifier(max_depth=3))])"
   ]
  },
  {
   "cell_type": "code",
   "execution_count": 11,
   "id": "265f8c67-8ae5-495c-8f66-805360095dd1",
   "metadata": {},
   "outputs": [
    {
     "name": "stdout",
     "output_type": "stream",
     "text": [
      "AUC Médio 0.7742109034872193 - 0.9197387632941029\n"
     ]
    }
   ],
   "source": [
    "rf = Model(pipe, dados)\n",
    "rf.cross_val()"
   ]
  },
  {
   "cell_type": "code",
   "execution_count": 12,
   "id": "bec1d534-ae52-4965-aec7-710056380e43",
   "metadata": {},
   "outputs": [],
   "source": [
    "pipe = Pipeline([('out_of_interval', out_of_interval(intervals)),\n",
    "                 ('model',  RandomForestClassifier(max_depth=3))])"
   ]
  },
  {
   "cell_type": "code",
   "execution_count": 13,
   "id": "3d2f5da1-0f9a-4398-8433-5324b76b3e14",
   "metadata": {},
   "outputs": [
    {
     "name": "stdout",
     "output_type": "stream",
     "text": [
      "AUC Médio 0.7685789796974007 - 0.9332867582211449\n"
     ]
    }
   ],
   "source": [
    "rf = Model(pipe, dados)\n",
    "rf.cross_val()"
   ]
  },
  {
   "cell_type": "code",
   "execution_count": 18,
   "id": "16d02b78-3fa8-4126-9528-5888abee375a",
   "metadata": {},
   "outputs": [],
   "source": [
    "pipe = Pipeline([('drop_mean', drop_equal_mean()),\n",
    "                 ('drop_corr', drop_correlation()),\n",
    "                 ('model',  RandomForestClassifier(max_depth=3))])"
   ]
  },
  {
   "cell_type": "code",
   "execution_count": 19,
   "id": "829525d5-8406-4c77-b970-8e5331eaf223",
   "metadata": {},
   "outputs": [
    {
     "name": "stdout",
     "output_type": "stream",
     "text": [
      "AUC Médio 0.7873898120608647 - 0.9150915015881391\n"
     ]
    }
   ],
   "source": [
    "rf = Model(pipe, dados)\n",
    "rf.cross_val()"
   ]
  }
 ],
 "metadata": {
  "kernelspec": {
   "display_name": "Python 3",
   "language": "python",
   "name": "python3"
  },
  "language_info": {
   "codemirror_mode": {
    "name": "ipython",
    "version": 3
   },
   "file_extension": ".py",
   "mimetype": "text/x-python",
   "name": "python",
   "nbconvert_exporter": "python",
   "pygments_lexer": "ipython3",
   "version": "3.7.6"
  }
 },
 "nbformat": 4,
 "nbformat_minor": 5
}
