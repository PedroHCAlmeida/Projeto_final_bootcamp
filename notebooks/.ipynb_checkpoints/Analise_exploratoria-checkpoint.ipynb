{
 "cells": [
  {
   "cell_type": "markdown",
   "id": "0bad536b-7d20-4ec5-ac14-fb4003d3ffa7",
   "metadata": {},
   "source": [
    "# Análise Exploratória dos dados\n",
    "![](https://raw.githubusercontent.com/PedroHCAlmeida/Projeto_final_bootcamp/main/img/charts1.png)\n",
    "## Resumo\n",
    "Este notebook foi destinado para análise exploratória do dataset disponibilizado pelo Hospital Sírio-Libanês no [kaggle](https://www.kaggle.com/S%C3%ADrio-Libanes/covid19). A análise teve como objetivo, primeiramente, entender o dataset, pré-processar os dados de forma que seja possível usá-los como valores entrada a um algoritmo de Machine Learning, e após isso estudar proporções, correlações e variâncias com o objetivo de encontrar os possíveis caminhos ao se selecionar apenas os dados mais úteis para o problema. Por fim, os dados pré-processados foram salvos na pasta [dados/dados_preprocessados](https://github.com/PedroHCAlmeida/Projeto_final_bootcamp/tree/main/dados/dados_preprocessados), a fim de serem utilizados no notebook de [notebooks/Previsoes](https://github.com/PedroHCAlmeida/Projeto_final_bootcamp/blob/main/notebooks/Previsoes.ipynb)."
   ]
  },
  {
   "cell_type": "markdown",
   "id": "865c1eaf-0678-4bef-b9c3-16793d6929d3",
   "metadata": {},
   "source": [
    "## Importância do pré-processamento \n",
    "O pré-processamento dos dados em Machine Learning é um dos passos fundamentais em um projeto que se propõe a realizar previsões, a famosa frase **\"garbage in, garbage out\"** atribuída ao técnico da IBM George Fuechsel que significa, **\"entra lixo, sai lixo\"**, demonstra muito bem o porque essa fase é tão importante, se não prepararmos os nossos dados da maneira correta os resultados podem ser mentirosos, ou não ter utilidade alguma no final, e, muitas vezes podem passar despercebidos, por esta razão essas é uma das fases mais importantes na hora de manipular dados.<br>\n",
    "\n",
    "Uma boa parte desse processo já foi realizado pela equipe do Hospital Sírio-Libanês, de acordo com o hospital esse conjunto de dados contém dados anonimizados coletados em São Paulo e em Brasília. Toda a anonimização desses dados seguiu as melhores práticas e recomendações internacionais, e os dados passaram por um processo de limpeza e normalização por coluna de acordo com os valores máximos e mínimos de forma que todos os valores estivessem no intervalo entre -1 e 1.<br>\n",
    "\n",
    "## Estrutura dos dados\n",
    "\n",
    "### Chave identificadora<br>\n",
    "A coluna \"PATIENT_VISIT_IDENTIFIER\" é composta por números inteiros e é responsável por identificar cada paciente diferente.<br>\n",
    "### Variável a ser prevista<br>\n",
    "A variável a ser prevista é a coluna \"ICU\", que, no conjunto de dados original, indica se o paciente correspondente estava ou não na UTI naquela janela de tempo correspondente.<br>\n",
    "### Janela de tempo<br>\n",
    "De acordo com o Hospital a variável \"WINDOW\" diz respeito à janela de tempo onde as medições foram realizadas, ela está organizada da seguinte maneira:<br>\n",
    "\n",
    "|Janela | Descrição|\n",
    "|:-------------|:----------:|\n",
    "|0-2 | Entre 0 até 2 horas a partir da admissão do paciente \n",
    "|2-4 | Entre 2 até 4 horas a partir da admissão do paciente \n",
    "|4-6 | Entre 4 até 6 horas a partir da admissão do paciente \n",
    "|6-12| Entre 6 até 12 horas a partir da admissão do paciente \n",
    "|Above-12| Mais de 12 horas horas a partir da admissão do paciente \n",
    "\n",
    "### Demais variáveis\n",
    "As demais colunas do conjunto conjunto de dados trazem informações sobre:\n",
    "* Informações demográficas do paciente (03)\n",
    "* Grupos de doenças previamente identificadas pelos pacientes (09)\n",
    "* Resultados de exames de sangue (36)\n",
    "* Sinais vitais (06)<br>\n",
    "\n",
    "No total são 54 variáveis, correspondente às médias, medianas, máximos, mínimos, diferenças e diferenças relativas dos dados do paciente.<br>\n",
    "\n",
    "### Dados faltantes\n",
    "\n",
    "Um dos maiores desafios ao se analisar dados médicos é a variação entre diferentes tipos de medições, por exemplo, os sinais vitais são coletados com mais frequência (geralmente de hora em hora) do que os laboratórios de sangue (geralmente diariamente).Fato esse acaba causando diversos dados faltantes uma vez que estamos analisando todos esses dados juntos em um mesmo conjunto.<br>\n",
    "\n",
    "De acordo com o Hospital, para solucionar o problema dos dados faltantes, é razoável supor que um paciente que não tem uma medição registrada em uma janela de tempo esteja clinicamente estável, podendo apresentar sinais vitais e exames de sangue semelhantes às janelas vizinhas. Portanto, pode-se preencher os valores ausentes usando a entrada seguinte ou anterior.<br>  \n",
    "\n",
    "# Problema a ser resolvido\n",
    "A identificação precoce dos pacientes que desenvolverão um curso adverso da doença (e precisam de cuidados intensivos) é a chave para um tratamento adequado (salvar vidas) e para gerenciar leitos e recursos. Um bom modelo usando apenas a **primeira janela (0-2)** provavelmente será mais **clinicamente relevante**, por esta razão os dados serão reorganizados a fim de agrupar os dados médicos por paciente e apenas as informações da primeira janela serão utilizadas para identificar se um paciente precisou de internação em **qualquer uma das janelas**."
   ]
  },
  {
   "cell_type": "markdown",
   "id": "e7aba9b1-8743-496b-b6ab-486baadce387",
   "metadata": {},
   "source": [
    "# Escopo do notebook\n",
    "- Importação dos pacotes \n",
    "- Importação das funções locais \n",
    "- Leitura dos dados brutos\n",
    "- Pré-processamento\n",
    "- Análise da variável alvo\n",
    "- Análise das informações demográficas\n",
    "- Análise das demais variáveis categóricas\n",
    "- Análise das variáveis numéricas\n",
    "- Salvamento dos dados pré-processados"
   ]
  },
  {
   "cell_type": "markdown",
   "id": "53e897e4-7fb6-44e1-833a-a6bd2148cfd6",
   "metadata": {},
   "source": [
    "# Importação dos pacotes"
   ]
  },
  {
   "cell_type": "code",
   "execution_count": 2,
   "id": "b150e4fa-0d05-4d0d-8164-5d5b3c1ef94e",
   "metadata": {},
   "outputs": [],
   "source": [
    "import pandas as pd\n",
    "import numpy as np\n",
    "\n",
    "import matplotlib.pyplot as plt\n",
    "import seaborn as sns\n",
    "\n",
    "import warnings"
   ]
  },
  {
   "cell_type": "code",
   "execution_count": 3,
   "id": "b5dc9457-6b0b-4f4a-b47c-2f8894e69f73",
   "metadata": {},
   "outputs": [],
   "source": [
    "#Configurando o estilo dos gráficos\n",
    "sns.set_style('darkgrid')\n",
    "\n",
    "#Filtrando os avisos\n",
    "warnings.filterwarnings('ignore')\n",
    "\n",
    "#Definindo a semente de números aleatórios\n",
    "SEED = 64541"
   ]
  },
  {
   "cell_type": "markdown",
   "id": "38633ef0-956b-480f-835e-4334682b722a",
   "metadata": {},
   "source": [
    "# Importação das funções locais"
   ]
  },
  {
   "cell_type": "code",
   "execution_count": 4,
   "id": "e2b9a4b6-2312-41a8-ad6e-3279a2b2b00f",
   "metadata": {},
   "outputs": [],
   "source": [
    "import os\n",
    "os.chdir(\"../funcoes\")\n",
    "from feature import compute_chi2, compute_high_corr, binary_features\n",
    "from my_plot import labs, annot_bar\n",
    "from preprocessing import fill_table, select_window\n",
    "os.chdir(\"../notebooks\")"
   ]
  },
  {
   "cell_type": "code",
   "execution_count": 5,
   "id": "7f293d8a-6131-4805-bca9-5e47779701b4",
   "metadata": {},
   "outputs": [
    {
     "name": "stdout",
     "output_type": "stream",
     "text": [
      "Help on function binary_features in module feature:\n",
      "\n",
      "binary_features(data: pandas.core.frame.DataFrame)\n",
      "    Função que recebe um DataFrame do pandas e verifica quais as colunas binárias.\n",
      "    Realiza essa verificação consultando quantos valores únicos a coluna possui,\n",
      "    qual o valor máximo e mínimo.\n",
      "    OBS : os valores únicos precisam ser 1 e 0.\n",
      "    \n",
      "    Parâmetros:\n",
      "    -----------\n",
      "    data : DataFrame do pandas que será conferida quais as colunas binárias, tipo : pd.DataFrame\n",
      "    \n",
      "    Retorno:\n",
      "    --------\n",
      "    features : colunas binárias do dataframe, tipo : list\n",
      "\n"
     ]
    }
   ],
   "source": [
    "help(binary_features)"
   ]
  },
  {
   "cell_type": "code",
   "execution_count": 6,
   "id": "c9439ab4-9cf8-47fd-a24a-7b670d7bbf02",
   "metadata": {},
   "outputs": [
    {
     "name": "stdout",
     "output_type": "stream",
     "text": [
      "Help on function compute_chi2 in module feature:\n",
      "\n",
      "compute_chi2(X: pandas.core.frame.DataFrame, y: pandas.core.series.Series)\n",
      "    Recebe um dataframe do pandas com as colunas variáveis preditoras e uma Series do pandas da variável de reposta,\n",
      "    calcula, através da função sklearn.model_selection.chi2, os p valores para cada coluna da hipótese nula \n",
      "    de que as variáveis preditoras são independentes da variável de reposta\n",
      "    \n",
      "    Parâmetros:\n",
      "    -----------\n",
      "    X : dataframe com as variáveis preditoras,tipo : pd.DataFrame,\n",
      "        OBS: pode conter apenas uma coluna mas precisa ser do tipo pd.DataFrame\n",
      "    y : Series do pandas da variável de resposta, tipo : pd.Series\n",
      "    \n",
      "    Retorno:\n",
      "    -------\n",
      "    p_values : dicionário contendo os p valores de cada coluna analisada, tipo : dict\n",
      "\n"
     ]
    }
   ],
   "source": [
    "help(compute_chi2)"
   ]
  },
  {
   "cell_type": "code",
   "execution_count": 7,
   "id": "0bd37046-6335-4a21-ae2e-5bc95dabf01b",
   "metadata": {},
   "outputs": [
    {
     "name": "stdout",
     "output_type": "stream",
     "text": [
      "Help on function compute_high_corr in module feature:\n",
      "\n",
      "compute_high_corr(data: pandas.core.frame.DataFrame, threshold: float = 0.95)\n",
      "    Função que recebe um dataframe do pandas, calcula a matriz de correlação, seleciona o triângulo superior da matriz, \n",
      "    percorre as colunas verificando quais colunas apresentam uma correlação maior que o valor limite passado, em relação às linhas, \n",
      "    que nesse caso representam as colunas anteriores. \n",
      "    \n",
      "    Parâmetros:\n",
      "    -----------\n",
      "    data : DataFrame do pandas com as variáveis a serem analisadas\n",
      "    threshold : valor limite da correlação entre duas variáveis, ou seja, \n",
      "                se duas colunas que possuem uma correlação absoluta maior que esse valor uma das duas será eliminada,\n",
      "                tipo : str, padrão : 0.95\n",
      "    Retorno:\n",
      "    --------\n",
      "    cols_drop : colunas a serem eliminadas com base nas correlações, tipo : list\n",
      "\n"
     ]
    }
   ],
   "source": [
    "help(compute_high_corr)"
   ]
  },
  {
   "cell_type": "code",
   "execution_count": 8,
   "id": "12272373-2f6d-49ba-bea3-c6aa58f10b2c",
   "metadata": {},
   "outputs": [
    {
     "name": "stdout",
     "output_type": "stream",
     "text": [
      "Help on function labs in module my_plot:\n",
      "\n",
      "labs(ax, title: str = '', subtitle: str = '', xlabel: str = '', ylabel: str = '')\n",
      "    Função que plota as informações adicionais dos gráficos, título, subtítulo, rótulos\n",
      "    \n",
      "    Parâmetros:\n",
      "    ----------\n",
      "    ax : eixo a ser plotado o gráfico, se nenhum for passado será criado automaticamnete, tipo : matplotlib.axes\n",
      "    title : título do gráfico, tipo : str, padrão : ''\n",
      "    subtitle : subtítulo do gráfico, tipo : str, padrão : ''\n",
      "    xlabel : rótulo do eixo x, tipo : str, padrão : ''\n",
      "    ylabel : rótulo do eixo y, tipo : str, padrão : ''\n",
      "\n"
     ]
    }
   ],
   "source": [
    "help(labs)"
   ]
  },
  {
   "cell_type": "code",
   "execution_count": 9,
   "id": "be72decf-ec59-4a0f-a287-93afecacd099",
   "metadata": {},
   "outputs": [
    {
     "name": "stdout",
     "output_type": "stream",
     "text": [
      "Help on function annot_bar in module my_plot:\n",
      "\n",
      "annot_bar(ax, prop=True, fontsize=15)\n",
      "    Realiza anotações em cima das barras em um gráfico de barras \n",
      "    \n",
      "    Parâmetros:\n",
      "    -----------\n",
      "    ax : eixo do matplotlib onde estão as barras, tipo : matplotlib.axes\n",
      "    prop : indica se os valores serão representados como porcentagens ou não, tipo : bool, padrão : True\n",
      "    fontsize : tamanho da fonte do texto, tipo : int, padrão : 15\n",
      "    \n",
      "    OBS : precisa ser chamada após o gráfico de barras\n",
      "\n"
     ]
    }
   ],
   "source": [
    "help(annot_bar)"
   ]
  },
  {
   "cell_type": "code",
   "execution_count": 10,
   "id": "515d6015-770b-499f-8913-44f0a77d2ac3",
   "metadata": {},
   "outputs": [
    {
     "name": "stdout",
     "output_type": "stream",
     "text": [
      "Help on function fill_table in module preprocessing:\n",
      "\n",
      "fill_table(rows)\n",
      "    Função que recebe as linhas correspondentes a apenas um paciente e preenche os \n",
      "    valores nulos das colunas contínuas com dados de outras janelas.\n",
      "    Utiliza os métodos \"ffill\" e \"bfill\"\n",
      "    \n",
      "    Parâmetros:\n",
      "    -----------\n",
      "    rows : as linhas correspondentes ao mesmo paciente\n",
      "    \n",
      "    Retorno:\n",
      "    --------\n",
      "    Retorna as linhas preenchidas\n",
      "\n"
     ]
    }
   ],
   "source": [
    "help(fill_table)"
   ]
  },
  {
   "cell_type": "code",
   "execution_count": 11,
   "id": "8e4999c5-501d-453a-9ed3-a310a3e7fcfe",
   "metadata": {},
   "outputs": [
    {
     "name": "stdout",
     "output_type": "stream",
     "text": [
      "Help on function select_window in module preprocessing:\n",
      "\n",
      "select_window(rows, window='0-2', target_variable='ICU')\n",
      "    Função que seleciona a janela correspondente e verifica se em algum momento o paciente foi para UTI, \n",
      "    com isso modifica a coluna dependente para se em qualquer janela de tempo esse paciente foi para UTI\n",
      "    \n",
      "    Parâmetros:\n",
      "    -----------\n",
      "    rows : as linhas correspondentes ao mesmo paciente\n",
      "    window : coluna correspondente à janela que será mantida, padrão : '0-2'\n",
      "    target_variable : nome da variável dependente, padrão : 'ICU'\n",
      "    \n",
      "    Retono:\n",
      "    -------\n",
      "    Retorna o conjunto de dados preenchido\n",
      "\n"
     ]
    }
   ],
   "source": [
    "help(select_window)"
   ]
  },
  {
   "cell_type": "markdown",
   "id": "c77dc3d8-128b-40ac-8fe0-6da227b6f748",
   "metadata": {},
   "source": [
    "# Leitura dos dados brutos"
   ]
  },
  {
   "cell_type": "markdown",
   "id": "34ba920e-a9ae-417d-b188-87fe01a8fe8a",
   "metadata": {},
   "source": [
    "Primeiramente, vou usar a função read_excel( ) para ler o arquivo .xlsx disponibilizado pelo Hospital Sírio-Libanês no [kaggle](https://www.kaggle.com/S%C3%ADrio-Libanes/covid19), armazenando esses dados em um dataframe do pandas."
   ]
  },
  {
   "cell_type": "code",
   "execution_count": 60,
   "id": "ca427da2-69dd-4bc3-98de-4cf63b920a4e",
   "metadata": {},
   "outputs": [],
   "source": [
    "# Lendo os dados brutos \n",
    "df = pd.read_excel('../dados/dados_brutos/Kaggle_Sirio_Libanes_ICU_Prediction.xlsx')"
   ]
  },
  {
   "cell_type": "markdown",
   "id": "96508544-dbfe-4bf7-807f-30212a2d5839",
   "metadata": {},
   "source": [
    "# Pré-Processamento"
   ]
  },
  {
   "cell_type": "markdown",
   "id": "3a7a4d98-5120-47fb-a9f5-5fb831e4fed7",
   "metadata": {},
   "source": [
    "A fim de tratar os dados e usá-los da melhor forma para resolver o problema, temos que entender as variáveis e como está organizado o dataset, para isso vamos dar uma olhada nas primeiras linhas do mesmo."
   ]
  },
  {
   "cell_type": "code",
   "execution_count": 61,
   "id": "1576d19c-1f0f-42db-b37f-a55dc5246b86",
   "metadata": {},
   "outputs": [
    {
     "data": {
      "text/html": [
       "<div>\n",
       "<style scoped>\n",
       "    .dataframe tbody tr th:only-of-type {\n",
       "        vertical-align: middle;\n",
       "    }\n",
       "\n",
       "    .dataframe tbody tr th {\n",
       "        vertical-align: top;\n",
       "    }\n",
       "\n",
       "    .dataframe thead th {\n",
       "        text-align: right;\n",
       "    }\n",
       "</style>\n",
       "<table border=\"1\" class=\"dataframe\">\n",
       "  <thead>\n",
       "    <tr style=\"text-align: right;\">\n",
       "      <th></th>\n",
       "      <th>PATIENT_VISIT_IDENTIFIER</th>\n",
       "      <th>AGE_ABOVE65</th>\n",
       "      <th>AGE_PERCENTIL</th>\n",
       "      <th>GENDER</th>\n",
       "      <th>DISEASE GROUPING 1</th>\n",
       "      <th>DISEASE GROUPING 2</th>\n",
       "      <th>DISEASE GROUPING 3</th>\n",
       "      <th>DISEASE GROUPING 4</th>\n",
       "      <th>DISEASE GROUPING 5</th>\n",
       "      <th>DISEASE GROUPING 6</th>\n",
       "      <th>...</th>\n",
       "      <th>TEMPERATURE_DIFF</th>\n",
       "      <th>OXYGEN_SATURATION_DIFF</th>\n",
       "      <th>BLOODPRESSURE_DIASTOLIC_DIFF_REL</th>\n",
       "      <th>BLOODPRESSURE_SISTOLIC_DIFF_REL</th>\n",
       "      <th>HEART_RATE_DIFF_REL</th>\n",
       "      <th>RESPIRATORY_RATE_DIFF_REL</th>\n",
       "      <th>TEMPERATURE_DIFF_REL</th>\n",
       "      <th>OXYGEN_SATURATION_DIFF_REL</th>\n",
       "      <th>WINDOW</th>\n",
       "      <th>ICU</th>\n",
       "    </tr>\n",
       "  </thead>\n",
       "  <tbody>\n",
       "    <tr>\n",
       "      <th>0</th>\n",
       "      <td>0</td>\n",
       "      <td>1</td>\n",
       "      <td>60th</td>\n",
       "      <td>0</td>\n",
       "      <td>0.0</td>\n",
       "      <td>0.0</td>\n",
       "      <td>0.0</td>\n",
       "      <td>0.0</td>\n",
       "      <td>1.0</td>\n",
       "      <td>1.0</td>\n",
       "      <td>...</td>\n",
       "      <td>-1.000000</td>\n",
       "      <td>-1.000000</td>\n",
       "      <td>-1.000000</td>\n",
       "      <td>-1.000000</td>\n",
       "      <td>-1.000000</td>\n",
       "      <td>-1.000000</td>\n",
       "      <td>-1.000000</td>\n",
       "      <td>-1.000000</td>\n",
       "      <td>0-2</td>\n",
       "      <td>0</td>\n",
       "    </tr>\n",
       "    <tr>\n",
       "      <th>1</th>\n",
       "      <td>0</td>\n",
       "      <td>1</td>\n",
       "      <td>60th</td>\n",
       "      <td>0</td>\n",
       "      <td>0.0</td>\n",
       "      <td>0.0</td>\n",
       "      <td>0.0</td>\n",
       "      <td>0.0</td>\n",
       "      <td>1.0</td>\n",
       "      <td>1.0</td>\n",
       "      <td>...</td>\n",
       "      <td>-1.000000</td>\n",
       "      <td>-1.000000</td>\n",
       "      <td>-1.000000</td>\n",
       "      <td>-1.000000</td>\n",
       "      <td>-1.000000</td>\n",
       "      <td>-1.000000</td>\n",
       "      <td>-1.000000</td>\n",
       "      <td>-1.000000</td>\n",
       "      <td>2-4</td>\n",
       "      <td>0</td>\n",
       "    </tr>\n",
       "    <tr>\n",
       "      <th>2</th>\n",
       "      <td>0</td>\n",
       "      <td>1</td>\n",
       "      <td>60th</td>\n",
       "      <td>0</td>\n",
       "      <td>0.0</td>\n",
       "      <td>0.0</td>\n",
       "      <td>0.0</td>\n",
       "      <td>0.0</td>\n",
       "      <td>1.0</td>\n",
       "      <td>1.0</td>\n",
       "      <td>...</td>\n",
       "      <td>NaN</td>\n",
       "      <td>NaN</td>\n",
       "      <td>NaN</td>\n",
       "      <td>NaN</td>\n",
       "      <td>NaN</td>\n",
       "      <td>NaN</td>\n",
       "      <td>NaN</td>\n",
       "      <td>NaN</td>\n",
       "      <td>4-6</td>\n",
       "      <td>0</td>\n",
       "    </tr>\n",
       "    <tr>\n",
       "      <th>3</th>\n",
       "      <td>0</td>\n",
       "      <td>1</td>\n",
       "      <td>60th</td>\n",
       "      <td>0</td>\n",
       "      <td>0.0</td>\n",
       "      <td>0.0</td>\n",
       "      <td>0.0</td>\n",
       "      <td>0.0</td>\n",
       "      <td>1.0</td>\n",
       "      <td>1.0</td>\n",
       "      <td>...</td>\n",
       "      <td>-1.000000</td>\n",
       "      <td>-1.000000</td>\n",
       "      <td>NaN</td>\n",
       "      <td>NaN</td>\n",
       "      <td>NaN</td>\n",
       "      <td>NaN</td>\n",
       "      <td>-1.000000</td>\n",
       "      <td>-1.000000</td>\n",
       "      <td>6-12</td>\n",
       "      <td>0</td>\n",
       "    </tr>\n",
       "    <tr>\n",
       "      <th>4</th>\n",
       "      <td>0</td>\n",
       "      <td>1</td>\n",
       "      <td>60th</td>\n",
       "      <td>0</td>\n",
       "      <td>0.0</td>\n",
       "      <td>0.0</td>\n",
       "      <td>0.0</td>\n",
       "      <td>0.0</td>\n",
       "      <td>1.0</td>\n",
       "      <td>1.0</td>\n",
       "      <td>...</td>\n",
       "      <td>-0.238095</td>\n",
       "      <td>-0.818182</td>\n",
       "      <td>-0.389967</td>\n",
       "      <td>0.407558</td>\n",
       "      <td>-0.230462</td>\n",
       "      <td>0.096774</td>\n",
       "      <td>-0.242282</td>\n",
       "      <td>-0.814433</td>\n",
       "      <td>ABOVE_12</td>\n",
       "      <td>1</td>\n",
       "    </tr>\n",
       "    <tr>\n",
       "      <th>5</th>\n",
       "      <td>1</td>\n",
       "      <td>1</td>\n",
       "      <td>90th</td>\n",
       "      <td>1</td>\n",
       "      <td>0.0</td>\n",
       "      <td>0.0</td>\n",
       "      <td>0.0</td>\n",
       "      <td>0.0</td>\n",
       "      <td>0.0</td>\n",
       "      <td>0.0</td>\n",
       "      <td>...</td>\n",
       "      <td>-1.000000</td>\n",
       "      <td>-1.000000</td>\n",
       "      <td>-1.000000</td>\n",
       "      <td>-1.000000</td>\n",
       "      <td>-1.000000</td>\n",
       "      <td>-1.000000</td>\n",
       "      <td>-1.000000</td>\n",
       "      <td>-1.000000</td>\n",
       "      <td>0-2</td>\n",
       "      <td>1</td>\n",
       "    </tr>\n",
       "    <tr>\n",
       "      <th>6</th>\n",
       "      <td>1</td>\n",
       "      <td>1</td>\n",
       "      <td>90th</td>\n",
       "      <td>1</td>\n",
       "      <td>0.0</td>\n",
       "      <td>0.0</td>\n",
       "      <td>0.0</td>\n",
       "      <td>0.0</td>\n",
       "      <td>0.0</td>\n",
       "      <td>0.0</td>\n",
       "      <td>...</td>\n",
       "      <td>-1.000000</td>\n",
       "      <td>-1.000000</td>\n",
       "      <td>-1.000000</td>\n",
       "      <td>-1.000000</td>\n",
       "      <td>-1.000000</td>\n",
       "      <td>-1.000000</td>\n",
       "      <td>-1.000000</td>\n",
       "      <td>-1.000000</td>\n",
       "      <td>2-4</td>\n",
       "      <td>1</td>\n",
       "    </tr>\n",
       "    <tr>\n",
       "      <th>7</th>\n",
       "      <td>1</td>\n",
       "      <td>1</td>\n",
       "      <td>90th</td>\n",
       "      <td>1</td>\n",
       "      <td>0.0</td>\n",
       "      <td>0.0</td>\n",
       "      <td>0.0</td>\n",
       "      <td>0.0</td>\n",
       "      <td>0.0</td>\n",
       "      <td>0.0</td>\n",
       "      <td>...</td>\n",
       "      <td>-1.000000</td>\n",
       "      <td>-1.000000</td>\n",
       "      <td>-1.000000</td>\n",
       "      <td>-1.000000</td>\n",
       "      <td>-1.000000</td>\n",
       "      <td>-1.000000</td>\n",
       "      <td>-1.000000</td>\n",
       "      <td>-1.000000</td>\n",
       "      <td>4-6</td>\n",
       "      <td>1</td>\n",
       "    </tr>\n",
       "    <tr>\n",
       "      <th>8</th>\n",
       "      <td>1</td>\n",
       "      <td>1</td>\n",
       "      <td>90th</td>\n",
       "      <td>1</td>\n",
       "      <td>0.0</td>\n",
       "      <td>0.0</td>\n",
       "      <td>0.0</td>\n",
       "      <td>0.0</td>\n",
       "      <td>0.0</td>\n",
       "      <td>0.0</td>\n",
       "      <td>...</td>\n",
       "      <td>-0.880952</td>\n",
       "      <td>-1.000000</td>\n",
       "      <td>-0.906832</td>\n",
       "      <td>-0.831132</td>\n",
       "      <td>-0.940967</td>\n",
       "      <td>-0.817204</td>\n",
       "      <td>-0.882574</td>\n",
       "      <td>-1.000000</td>\n",
       "      <td>6-12</td>\n",
       "      <td>1</td>\n",
       "    </tr>\n",
       "    <tr>\n",
       "      <th>9</th>\n",
       "      <td>1</td>\n",
       "      <td>1</td>\n",
       "      <td>90th</td>\n",
       "      <td>1</td>\n",
       "      <td>0.0</td>\n",
       "      <td>0.0</td>\n",
       "      <td>0.0</td>\n",
       "      <td>0.0</td>\n",
       "      <td>1.0</td>\n",
       "      <td>0.0</td>\n",
       "      <td>...</td>\n",
       "      <td>0.142857</td>\n",
       "      <td>-0.797980</td>\n",
       "      <td>0.315690</td>\n",
       "      <td>0.200359</td>\n",
       "      <td>-0.239515</td>\n",
       "      <td>0.645161</td>\n",
       "      <td>0.139709</td>\n",
       "      <td>-0.802317</td>\n",
       "      <td>ABOVE_12</td>\n",
       "      <td>1</td>\n",
       "    </tr>\n",
       "  </tbody>\n",
       "</table>\n",
       "<p>10 rows × 231 columns</p>\n",
       "</div>"
      ],
      "text/plain": [
       "   PATIENT_VISIT_IDENTIFIER  AGE_ABOVE65 AGE_PERCENTIL  GENDER  \\\n",
       "0                         0            1          60th       0   \n",
       "1                         0            1          60th       0   \n",
       "2                         0            1          60th       0   \n",
       "3                         0            1          60th       0   \n",
       "4                         0            1          60th       0   \n",
       "5                         1            1          90th       1   \n",
       "6                         1            1          90th       1   \n",
       "7                         1            1          90th       1   \n",
       "8                         1            1          90th       1   \n",
       "9                         1            1          90th       1   \n",
       "\n",
       "   DISEASE GROUPING 1  DISEASE GROUPING 2  DISEASE GROUPING 3  \\\n",
       "0                 0.0                 0.0                 0.0   \n",
       "1                 0.0                 0.0                 0.0   \n",
       "2                 0.0                 0.0                 0.0   \n",
       "3                 0.0                 0.0                 0.0   \n",
       "4                 0.0                 0.0                 0.0   \n",
       "5                 0.0                 0.0                 0.0   \n",
       "6                 0.0                 0.0                 0.0   \n",
       "7                 0.0                 0.0                 0.0   \n",
       "8                 0.0                 0.0                 0.0   \n",
       "9                 0.0                 0.0                 0.0   \n",
       "\n",
       "   DISEASE GROUPING 4  DISEASE GROUPING 5  DISEASE GROUPING 6  ...  \\\n",
       "0                 0.0                 1.0                 1.0  ...   \n",
       "1                 0.0                 1.0                 1.0  ...   \n",
       "2                 0.0                 1.0                 1.0  ...   \n",
       "3                 0.0                 1.0                 1.0  ...   \n",
       "4                 0.0                 1.0                 1.0  ...   \n",
       "5                 0.0                 0.0                 0.0  ...   \n",
       "6                 0.0                 0.0                 0.0  ...   \n",
       "7                 0.0                 0.0                 0.0  ...   \n",
       "8                 0.0                 0.0                 0.0  ...   \n",
       "9                 0.0                 1.0                 0.0  ...   \n",
       "\n",
       "   TEMPERATURE_DIFF  OXYGEN_SATURATION_DIFF  BLOODPRESSURE_DIASTOLIC_DIFF_REL  \\\n",
       "0         -1.000000               -1.000000                         -1.000000   \n",
       "1         -1.000000               -1.000000                         -1.000000   \n",
       "2               NaN                     NaN                               NaN   \n",
       "3         -1.000000               -1.000000                               NaN   \n",
       "4         -0.238095               -0.818182                         -0.389967   \n",
       "5         -1.000000               -1.000000                         -1.000000   \n",
       "6         -1.000000               -1.000000                         -1.000000   \n",
       "7         -1.000000               -1.000000                         -1.000000   \n",
       "8         -0.880952               -1.000000                         -0.906832   \n",
       "9          0.142857               -0.797980                          0.315690   \n",
       "\n",
       "   BLOODPRESSURE_SISTOLIC_DIFF_REL  HEART_RATE_DIFF_REL  \\\n",
       "0                        -1.000000            -1.000000   \n",
       "1                        -1.000000            -1.000000   \n",
       "2                              NaN                  NaN   \n",
       "3                              NaN                  NaN   \n",
       "4                         0.407558            -0.230462   \n",
       "5                        -1.000000            -1.000000   \n",
       "6                        -1.000000            -1.000000   \n",
       "7                        -1.000000            -1.000000   \n",
       "8                        -0.831132            -0.940967   \n",
       "9                         0.200359            -0.239515   \n",
       "\n",
       "   RESPIRATORY_RATE_DIFF_REL  TEMPERATURE_DIFF_REL  \\\n",
       "0                  -1.000000             -1.000000   \n",
       "1                  -1.000000             -1.000000   \n",
       "2                        NaN                   NaN   \n",
       "3                        NaN             -1.000000   \n",
       "4                   0.096774             -0.242282   \n",
       "5                  -1.000000             -1.000000   \n",
       "6                  -1.000000             -1.000000   \n",
       "7                  -1.000000             -1.000000   \n",
       "8                  -0.817204             -0.882574   \n",
       "9                   0.645161              0.139709   \n",
       "\n",
       "   OXYGEN_SATURATION_DIFF_REL    WINDOW  ICU  \n",
       "0                   -1.000000       0-2    0  \n",
       "1                   -1.000000       2-4    0  \n",
       "2                         NaN       4-6    0  \n",
       "3                   -1.000000      6-12    0  \n",
       "4                   -0.814433  ABOVE_12    1  \n",
       "5                   -1.000000       0-2    1  \n",
       "6                   -1.000000       2-4    1  \n",
       "7                   -1.000000       4-6    1  \n",
       "8                   -1.000000      6-12    1  \n",
       "9                   -0.802317  ABOVE_12    1  \n",
       "\n",
       "[10 rows x 231 columns]"
      ]
     },
     "execution_count": 61,
     "metadata": {},
     "output_type": "execute_result"
    }
   ],
   "source": [
    "df.head(10)"
   ]
  },
  {
   "cell_type": "markdown",
   "id": "4532419b-daa1-44cd-a8bf-1bf4196c0154",
   "metadata": {},
   "source": [
    "Olhando para as primeiras linhas conseguimos perceber que a coluna \"PATIENT_VISIT_IDENTIFIER\", como o próprio nome sugere, é a coluna identificadora do paciente, portanto tal coluna deve ser usada de uma maneira que conseguimos agrupá-las por cada paciente e registrar se o paciente correspondente **foi para UTI em qualquer uma das janelas de tempo**."
   ]
  },
  {
   "cell_type": "code",
   "execution_count": 62,
   "id": "f61aba2e-9ea1-4b11-bb47-077a4259b193",
   "metadata": {},
   "outputs": [
    {
     "data": {
      "text/plain": [
       "(1925, 231)"
      ]
     },
     "execution_count": 62,
     "metadata": {},
     "output_type": "execute_result"
    }
   ],
   "source": [
    "df.shape"
   ]
  },
  {
   "cell_type": "markdown",
   "id": "4ffa92fa-c879-4b5a-a27a-67eb11e281a0",
   "metadata": {},
   "source": [
    "Observando o tamanho no dataset temos **1925** linhas, e **231** colunas, no entanto para o nosso problema precisamos que cada linha represente um paciente, porém antes de resolvermos esse problema, vamos olhar se existem dados faltantes no dataset."
   ]
  },
  {
   "cell_type": "code",
   "execution_count": 63,
   "id": "80851747-8de0-4c09-a025-198287aaec96",
   "metadata": {},
   "outputs": [
    {
     "data": {
      "text/plain": [
       "223863"
      ]
     },
     "execution_count": 63,
     "metadata": {},
     "output_type": "execute_result"
    }
   ],
   "source": [
    "df.isna().sum().sum()"
   ]
  },
  {
   "cell_type": "markdown",
   "id": "54aec18b-6b62-43c5-ab2c-3606dfeebd82",
   "metadata": {},
   "source": [
    "Somando os dados nulos de todas as colunas temos **223863** valores faltantes. Como foi divulgado pelo Hospital Sirío-Libanês, a fonte dos dados, podemos resolver esse problema preenchendo valores de janelas anteriores e posteriores, assumindo que esses valores não sofrem mudanças bruscas, e desde que usemos apenas **dados do mesmo paciente**. \n",
    "\n",
    "<br>Para isso vou agrupar os dados pela variável identificadora \"PATIENT_VISIT_IDENTIFIER\" e aplicar a função fill_table(), definida no arquivo [funcoes/preprocessing](https://github.com/PedroHCAlmeida/Projeto_final_bootcamp/blob/main/funcoes/preprocessing.py), essa função selecionará as colunas contínuas e realizará o preenchimento de dados nulos utilizando as técnicas de \"bfill\"(utilizando valores posteriores), e \"ffil\" utilizando valores anteriores. <br><br>\n",
    "\n",
    "Além disso, temos o problema de que, uma vez que o objetivo é prever se um paciente irá precisar de cuidados intensivos com base nos valores da primeira janela de tempo, **não devemos utilizar dados de quando o paciente já estava na UTI para preencher dados anteriores(\"bfill\")**. Para resolver esse problema vou agrupar os dados por duas variáveis, a variável identificadora(\"PATIENT_VISIT_IDENTIFIER\") e a variável que indica se o paciente estava na UTI(\"ICU\"), dessa forma apenas os dados que possuem o **mesmo valor de \"PATIENT_VISIT_IDENTIFIER\" e de \"ICU\"** serão utilizados para realizar o preenchimento de dados nulos."
   ]
  },
  {
   "cell_type": "code",
   "execution_count": 64,
   "id": "086f0151-1e38-4247-8a29-a8b1bf82848f",
   "metadata": {},
   "outputs": [],
   "source": [
    "# Agrupando os dados por \"PATIENT_VISIT_IDENTIFIER\" e \"ICU\" e aplicando a função fill_table\n",
    "df = df.groupby(['PATIENT_VISIT_IDENTIFIER', 'ICU']).apply(fill_table)"
   ]
  },
  {
   "cell_type": "code",
   "execution_count": 65,
   "id": "6c9bb90f-577f-400f-a87d-1e9274923b6d",
   "metadata": {},
   "outputs": [
    {
     "data": {
      "text/plain": [
       "8781"
      ]
     },
     "execution_count": 65,
     "metadata": {},
     "output_type": "execute_result"
    }
   ],
   "source": [
    "df.isna().sum().sum()"
   ]
  },
  {
   "cell_type": "markdown",
   "id": "4c788de1-00dc-4130-b016-3e677907ae16",
   "metadata": {},
   "source": [
    "Após aplicar o preenchimento temos **8781** dados nulos. Esses dados nulos agora são informações faltantes que não podemos aplicar o preenchimento, por esta razão vou remover todas as linhas que possuem esses dados nulos."
   ]
  },
  {
   "cell_type": "code",
   "execution_count": 66,
   "id": "38b05f31-f0b3-4e21-8855-b9f0925d8426",
   "metadata": {},
   "outputs": [],
   "source": [
    "# Eliminando dados nulos\n",
    "df = df.dropna()"
   ]
  },
  {
   "cell_type": "code",
   "execution_count": 67,
   "id": "653dd240-a463-421d-867b-28e5fa565d1f",
   "metadata": {},
   "outputs": [
    {
     "data": {
      "text/plain": [
       "0"
      ]
     },
     "execution_count": 67,
     "metadata": {},
     "output_type": "execute_result"
    }
   ],
   "source": [
    "df.isna().sum().sum()"
   ]
  },
  {
   "cell_type": "markdown",
   "id": "feeb7ad0-e73d-4423-b30c-9154143b54ed",
   "metadata": {},
   "source": [
    "Resolvido o problema dos dados nulos, agora vamos resolver o problema das janelas de tempo. Para isso vou realizar os seguintes passos:\n",
    "* Casos de pacientes que foram para **UTI nas duas primeiras horas** serão **desconsiderados** e eliminados do dataset.\n",
    "* O dataframe será agrupado pela variável identificadora de cada paciente.\n",
    "* Através da função select_window(), apenas a **linha referente a primeira janela de tempo(0-2)** de cada paciente continuará no dataset, e a variável \"ICU\" não vai mais depender da janela de tempo e indicará **se o paciente foi para UTI em qualquer momento**.\n",
    "* A variável \"WINDOW\" será eliminada pois todos os dados se referem a primeira janela, e tal informação não possui mais relação com a variável alvo \"ICU\".\n",
    "* A variável \"PATIENT_VISIT_IDENTIFIER\" será eliminada pois os dados foram agrupados e cada paciente será representado por apenas uma linha\n",
    "* O index do dataframe será resetado por conta do agrupamento da variável \"PATIENT_VISIT_IDENTIFIER\"."
   ]
  },
  {
   "cell_type": "code",
   "execution_count": 68,
   "id": "9a6f4efe-4c0a-4ddf-9a1e-12cf620ac02d",
   "metadata": {},
   "outputs": [],
   "source": [
    "#Selecionando as linhas onde o paciente chegou na UTI\n",
    "rows_to_drop = df[(df['WINDOW'] == '0-2') & (df['ICU'] == 1)].index\n",
    "\n",
    "#Eliminando as linhas do dataframe original\n",
    "df.drop(index=rows_to_drop, inplace=True)\n",
    "\n",
    "# Agrupando por paciente e aplicando a função select_window\n",
    "df = df.groupby('PATIENT_VISIT_IDENTIFIER').apply(select_window)\n",
    "\n",
    "#Não são mais úteis as variáveis da janela de tempo e do identificador\n",
    "df.drop(['WINDOW', 'PATIENT_VISIT_IDENTIFIER'], axis=1, inplace=True)\n",
    "\n",
    "#Resetando o index e eliminando essa informação \n",
    "df.reset_index(drop=True, inplace=True)"
   ]
  },
  {
   "cell_type": "code",
   "execution_count": 69,
   "id": "5a2b262e-7e98-4ab0-abea-efe976f319c7",
   "metadata": {},
   "outputs": [
    {
     "data": {
      "text/plain": [
       "(294, 229)"
      ]
     },
     "execution_count": 69,
     "metadata": {},
     "output_type": "execute_result"
    }
   ],
   "source": [
    "df.shape"
   ]
  },
  {
   "cell_type": "markdown",
   "id": "df042422-591f-43a9-a0ad-c677833490ed",
   "metadata": {},
   "source": [
    "Por fim podemos ver que agora o dataset possui 294 linhas, que representam **294 pacientes**, e 229 colunas pois duas colunas foram eliminadas(\"WINDOW\", \"PATIENT_VISIT_IDENTIFIER\")."
   ]
  },
  {
   "cell_type": "markdown",
   "id": "4676b035-16ec-462e-a6e3-06368345db44",
   "metadata": {},
   "source": [
    "Agora vamos investigar se os tipos dos dados estão corretos, para isso utilizarei a função info( ) que retorna informações técnicas do dataframe."
   ]
  },
  {
   "cell_type": "code",
   "execution_count": 70,
   "id": "c1b9bf6a-05e6-4be8-a781-011a1afe5895",
   "metadata": {},
   "outputs": [
    {
     "name": "stdout",
     "output_type": "stream",
     "text": [
      "<class 'pandas.core.frame.DataFrame'>\n",
      "RangeIndex: 294 entries, 0 to 293\n",
      "Columns: 229 entries, AGE_ABOVE65 to ICU\n",
      "dtypes: float64(225), int64(3), object(1)\n",
      "memory usage: 526.1+ KB\n"
     ]
    }
   ],
   "source": [
    "df.info()"
   ]
  },
  {
   "cell_type": "markdown",
   "id": "46f15198-f674-4062-ab8e-c3d70b0e991c",
   "metadata": {},
   "source": [
    "Percebe-se que temos 225 colunas do tipo numérico(float64), 3 colunas do tipo inteiro(int64) e 1 colunas de caracteres(object). Vamos investigar se era para ser dessa maneira mesmo."
   ]
  },
  {
   "cell_type": "code",
   "execution_count": 71,
   "id": "d4e26002-ac23-4106-8f2c-f754d8baf2b8",
   "metadata": {},
   "outputs": [
    {
     "data": {
      "text/html": [
       "<div>\n",
       "<style scoped>\n",
       "    .dataframe tbody tr th:only-of-type {\n",
       "        vertical-align: middle;\n",
       "    }\n",
       "\n",
       "    .dataframe tbody tr th {\n",
       "        vertical-align: top;\n",
       "    }\n",
       "\n",
       "    .dataframe thead th {\n",
       "        text-align: right;\n",
       "    }\n",
       "</style>\n",
       "<table border=\"1\" class=\"dataframe\">\n",
       "  <thead>\n",
       "    <tr style=\"text-align: right;\">\n",
       "      <th></th>\n",
       "      <th>AGE_ABOVE65</th>\n",
       "      <th>AGE_PERCENTIL</th>\n",
       "      <th>GENDER</th>\n",
       "      <th>DISEASE GROUPING 1</th>\n",
       "      <th>DISEASE GROUPING 2</th>\n",
       "      <th>DISEASE GROUPING 3</th>\n",
       "      <th>DISEASE GROUPING 4</th>\n",
       "      <th>DISEASE GROUPING 5</th>\n",
       "      <th>DISEASE GROUPING 6</th>\n",
       "      <th>HTN</th>\n",
       "      <th>...</th>\n",
       "      <th>RESPIRATORY_RATE_DIFF</th>\n",
       "      <th>TEMPERATURE_DIFF</th>\n",
       "      <th>OXYGEN_SATURATION_DIFF</th>\n",
       "      <th>BLOODPRESSURE_DIASTOLIC_DIFF_REL</th>\n",
       "      <th>BLOODPRESSURE_SISTOLIC_DIFF_REL</th>\n",
       "      <th>HEART_RATE_DIFF_REL</th>\n",
       "      <th>RESPIRATORY_RATE_DIFF_REL</th>\n",
       "      <th>TEMPERATURE_DIFF_REL</th>\n",
       "      <th>OXYGEN_SATURATION_DIFF_REL</th>\n",
       "      <th>ICU</th>\n",
       "    </tr>\n",
       "  </thead>\n",
       "  <tbody>\n",
       "    <tr>\n",
       "      <th>0</th>\n",
       "      <td>1</td>\n",
       "      <td>60th</td>\n",
       "      <td>0</td>\n",
       "      <td>0.0</td>\n",
       "      <td>0.0</td>\n",
       "      <td>0.0</td>\n",
       "      <td>0.0</td>\n",
       "      <td>1.0</td>\n",
       "      <td>1.0</td>\n",
       "      <td>0.0</td>\n",
       "      <td>...</td>\n",
       "      <td>-1.000000</td>\n",
       "      <td>-1.000000</td>\n",
       "      <td>-1.000000</td>\n",
       "      <td>-1.000000</td>\n",
       "      <td>-1.000000</td>\n",
       "      <td>-1.000000</td>\n",
       "      <td>-1.000000</td>\n",
       "      <td>-1.000000</td>\n",
       "      <td>-1.000000</td>\n",
       "      <td>1</td>\n",
       "    </tr>\n",
       "    <tr>\n",
       "      <th>1</th>\n",
       "      <td>0</td>\n",
       "      <td>10th</td>\n",
       "      <td>0</td>\n",
       "      <td>0.0</td>\n",
       "      <td>0.0</td>\n",
       "      <td>0.0</td>\n",
       "      <td>0.0</td>\n",
       "      <td>0.0</td>\n",
       "      <td>0.0</td>\n",
       "      <td>0.0</td>\n",
       "      <td>...</td>\n",
       "      <td>-0.764706</td>\n",
       "      <td>-1.000000</td>\n",
       "      <td>-0.959596</td>\n",
       "      <td>-0.515528</td>\n",
       "      <td>-0.351328</td>\n",
       "      <td>-0.747001</td>\n",
       "      <td>-0.756272</td>\n",
       "      <td>-1.000000</td>\n",
       "      <td>-0.961262</td>\n",
       "      <td>1</td>\n",
       "    </tr>\n",
       "    <tr>\n",
       "      <th>2</th>\n",
       "      <td>0</td>\n",
       "      <td>40th</td>\n",
       "      <td>1</td>\n",
       "      <td>0.0</td>\n",
       "      <td>0.0</td>\n",
       "      <td>0.0</td>\n",
       "      <td>0.0</td>\n",
       "      <td>0.0</td>\n",
       "      <td>0.0</td>\n",
       "      <td>0.0</td>\n",
       "      <td>...</td>\n",
       "      <td>-1.000000</td>\n",
       "      <td>-1.000000</td>\n",
       "      <td>-1.000000</td>\n",
       "      <td>-1.000000</td>\n",
       "      <td>-1.000000</td>\n",
       "      <td>-1.000000</td>\n",
       "      <td>-1.000000</td>\n",
       "      <td>-1.000000</td>\n",
       "      <td>-1.000000</td>\n",
       "      <td>0</td>\n",
       "    </tr>\n",
       "    <tr>\n",
       "      <th>3</th>\n",
       "      <td>0</td>\n",
       "      <td>10th</td>\n",
       "      <td>0</td>\n",
       "      <td>0.0</td>\n",
       "      <td>0.0</td>\n",
       "      <td>0.0</td>\n",
       "      <td>0.0</td>\n",
       "      <td>0.0</td>\n",
       "      <td>0.0</td>\n",
       "      <td>0.0</td>\n",
       "      <td>...</td>\n",
       "      <td>-0.882353</td>\n",
       "      <td>-0.952381</td>\n",
       "      <td>-0.979798</td>\n",
       "      <td>-1.000000</td>\n",
       "      <td>-0.883669</td>\n",
       "      <td>-0.956805</td>\n",
       "      <td>-0.870968</td>\n",
       "      <td>-0.953536</td>\n",
       "      <td>-0.980333</td>\n",
       "      <td>0</td>\n",
       "    </tr>\n",
       "    <tr>\n",
       "      <th>4</th>\n",
       "      <td>0</td>\n",
       "      <td>10th</td>\n",
       "      <td>0</td>\n",
       "      <td>0.0</td>\n",
       "      <td>0.0</td>\n",
       "      <td>0.0</td>\n",
       "      <td>0.0</td>\n",
       "      <td>0.0</td>\n",
       "      <td>0.0</td>\n",
       "      <td>0.0</td>\n",
       "      <td>...</td>\n",
       "      <td>-1.000000</td>\n",
       "      <td>-0.976190</td>\n",
       "      <td>-0.979798</td>\n",
       "      <td>-0.860870</td>\n",
       "      <td>-0.714460</td>\n",
       "      <td>-0.986481</td>\n",
       "      <td>-1.000000</td>\n",
       "      <td>-0.975891</td>\n",
       "      <td>-0.980129</td>\n",
       "      <td>0</td>\n",
       "    </tr>\n",
       "  </tbody>\n",
       "</table>\n",
       "<p>5 rows × 229 columns</p>\n",
       "</div>"
      ],
      "text/plain": [
       "   AGE_ABOVE65 AGE_PERCENTIL  GENDER  DISEASE GROUPING 1  DISEASE GROUPING 2  \\\n",
       "0            1          60th       0                 0.0                 0.0   \n",
       "1            0          10th       0                 0.0                 0.0   \n",
       "2            0          40th       1                 0.0                 0.0   \n",
       "3            0          10th       0                 0.0                 0.0   \n",
       "4            0          10th       0                 0.0                 0.0   \n",
       "\n",
       "   DISEASE GROUPING 3  DISEASE GROUPING 4  DISEASE GROUPING 5  \\\n",
       "0                 0.0                 0.0                 1.0   \n",
       "1                 0.0                 0.0                 0.0   \n",
       "2                 0.0                 0.0                 0.0   \n",
       "3                 0.0                 0.0                 0.0   \n",
       "4                 0.0                 0.0                 0.0   \n",
       "\n",
       "   DISEASE GROUPING 6  HTN  ...  RESPIRATORY_RATE_DIFF  TEMPERATURE_DIFF  \\\n",
       "0                 1.0  0.0  ...              -1.000000         -1.000000   \n",
       "1                 0.0  0.0  ...              -0.764706         -1.000000   \n",
       "2                 0.0  0.0  ...              -1.000000         -1.000000   \n",
       "3                 0.0  0.0  ...              -0.882353         -0.952381   \n",
       "4                 0.0  0.0  ...              -1.000000         -0.976190   \n",
       "\n",
       "   OXYGEN_SATURATION_DIFF  BLOODPRESSURE_DIASTOLIC_DIFF_REL  \\\n",
       "0               -1.000000                         -1.000000   \n",
       "1               -0.959596                         -0.515528   \n",
       "2               -1.000000                         -1.000000   \n",
       "3               -0.979798                         -1.000000   \n",
       "4               -0.979798                         -0.860870   \n",
       "\n",
       "   BLOODPRESSURE_SISTOLIC_DIFF_REL  HEART_RATE_DIFF_REL  \\\n",
       "0                        -1.000000            -1.000000   \n",
       "1                        -0.351328            -0.747001   \n",
       "2                        -1.000000            -1.000000   \n",
       "3                        -0.883669            -0.956805   \n",
       "4                        -0.714460            -0.986481   \n",
       "\n",
       "   RESPIRATORY_RATE_DIFF_REL  TEMPERATURE_DIFF_REL  \\\n",
       "0                  -1.000000             -1.000000   \n",
       "1                  -0.756272             -1.000000   \n",
       "2                  -1.000000             -1.000000   \n",
       "3                  -0.870968             -0.953536   \n",
       "4                  -1.000000             -0.975891   \n",
       "\n",
       "   OXYGEN_SATURATION_DIFF_REL  ICU  \n",
       "0                   -1.000000    1  \n",
       "1                   -0.961262    1  \n",
       "2                   -1.000000    0  \n",
       "3                   -0.980333    0  \n",
       "4                   -0.980129    0  \n",
       "\n",
       "[5 rows x 229 columns]"
      ]
     },
     "execution_count": 71,
     "metadata": {},
     "output_type": "execute_result"
    }
   ],
   "source": [
    "df.head()"
   ]
  },
  {
   "cell_type": "markdown",
   "id": "6f464755-8771-4a93-aa1d-c8e1ac176d4a",
   "metadata": {},
   "source": [
    "Olhando o dataset parece haver diversas colunas que apresentam apenas valores 0 ou 1, variáveis categóricas binárias, como todas as variáveis indicando se o paciente pertence alguma doença dentro de algum grupo pré-definido, e portanto, devem ser classificadas como números inteiros.<br><br>\n",
    "No entanto, foram identificadas apenas 3 variáveis inteiras, para resolver esse problema vou utilizar a função binary_features( ), definida no arquivo [funcoes/feature](https://github.com/PedroHCAlmeida/Projeto_final_bootcamp/blob/main/funcoes/feature.py), para definir quais as colunas binárias no dataframe e transformá-las em números inteiros."
   ]
  },
  {
   "cell_type": "code",
   "execution_count": 72,
   "id": "2e19249f-8f1e-4bfb-a67b-77995efd252a",
   "metadata": {},
   "outputs": [
    {
     "data": {
      "text/plain": [
       "['AGE_ABOVE65',\n",
       " 'GENDER',\n",
       " 'DISEASE GROUPING 1',\n",
       " 'DISEASE GROUPING 2',\n",
       " 'DISEASE GROUPING 3',\n",
       " 'DISEASE GROUPING 4',\n",
       " 'DISEASE GROUPING 5',\n",
       " 'DISEASE GROUPING 6',\n",
       " 'HTN',\n",
       " 'IMMUNOCOMPROMISED',\n",
       " 'OTHER',\n",
       " 'ICU']"
      ]
     },
     "execution_count": 72,
     "metadata": {},
     "output_type": "execute_result"
    }
   ],
   "source": [
    "binary = binary_features(df)\n",
    "binary"
   ]
  },
  {
   "cell_type": "markdown",
   "id": "f6f2ff2f-d662-4ca6-a920-4923b386df8f",
   "metadata": {},
   "source": [
    "É possível perceber que realmente existem mais que 3 colunas binárias que deviam ser classificadas como tipo inteiro, por esta razão vou convertê-las para o tipo correto. "
   ]
  },
  {
   "cell_type": "code",
   "execution_count": 73,
   "id": "163e8b15-e8da-45f0-ab58-8e3ed4254cfa",
   "metadata": {},
   "outputs": [
    {
     "name": "stdout",
     "output_type": "stream",
     "text": [
      "<class 'pandas.core.frame.DataFrame'>\n",
      "RangeIndex: 294 entries, 0 to 293\n",
      "Columns: 229 entries, AGE_ABOVE65 to ICU\n",
      "dtypes: float64(216), int64(12), object(1)\n",
      "memory usage: 526.1+ KB\n"
     ]
    }
   ],
   "source": [
    "df[binary] = df[binary].astype('int64')\n",
    "df.info()"
   ]
  },
  {
   "cell_type": "markdown",
   "id": "6d8821e2-e5cf-43d3-8641-bcade6e6b723",
   "metadata": {},
   "source": [
    "Agora percebemos que temos 13 variáveis do tipo inteiro, 216 do tipo numérico e 1 do tipo caractere. Por fim vamos checar qual a coluna ele está identificando como caractere, uma vez que para um modelo de Machine Learning precisamos fornecer valores numéricos como entrada."
   ]
  },
  {
   "cell_type": "code",
   "execution_count": 74,
   "id": "8925c47f-e989-40c9-87c0-f992617216ef",
   "metadata": {},
   "outputs": [
    {
     "data": {
      "text/html": [
       "<div>\n",
       "<style scoped>\n",
       "    .dataframe tbody tr th:only-of-type {\n",
       "        vertical-align: middle;\n",
       "    }\n",
       "\n",
       "    .dataframe tbody tr th {\n",
       "        vertical-align: top;\n",
       "    }\n",
       "\n",
       "    .dataframe thead th {\n",
       "        text-align: right;\n",
       "    }\n",
       "</style>\n",
       "<table border=\"1\" class=\"dataframe\">\n",
       "  <thead>\n",
       "    <tr style=\"text-align: right;\">\n",
       "      <th></th>\n",
       "      <th>AGE_PERCENTIL</th>\n",
       "    </tr>\n",
       "  </thead>\n",
       "  <tbody>\n",
       "    <tr>\n",
       "      <th>0</th>\n",
       "      <td>60th</td>\n",
       "    </tr>\n",
       "    <tr>\n",
       "      <th>1</th>\n",
       "      <td>10th</td>\n",
       "    </tr>\n",
       "    <tr>\n",
       "      <th>2</th>\n",
       "      <td>40th</td>\n",
       "    </tr>\n",
       "    <tr>\n",
       "      <th>3</th>\n",
       "      <td>10th</td>\n",
       "    </tr>\n",
       "    <tr>\n",
       "      <th>4</th>\n",
       "      <td>10th</td>\n",
       "    </tr>\n",
       "  </tbody>\n",
       "</table>\n",
       "</div>"
      ],
      "text/plain": [
       "  AGE_PERCENTIL\n",
       "0          60th\n",
       "1          10th\n",
       "2          40th\n",
       "3          10th\n",
       "4          10th"
      ]
     },
     "execution_count": 74,
     "metadata": {},
     "output_type": "execute_result"
    }
   ],
   "source": [
    "df.select_dtypes('object').head()"
   ]
  },
  {
   "cell_type": "markdown",
   "id": "3154e062-495d-4146-a815-8855a7006b33",
   "metadata": {},
   "source": [
    "Podemos ver que a variável do tipo caractere é a \"AGE_PERCENTIL\", e realmente está classificada corretamente, porém vamos transformar essa variável de forma que um modelo de Machine Learning consiga entender, no entanto vou realizar essa transformação quando analisar essa variável separadamente na parte de Análise de informações demográficas, para assim entender o melhor a se fazer. "
   ]
  },
  {
   "cell_type": "markdown",
   "id": "701242b1-f055-475f-8d2d-75a587eee991",
   "metadata": {},
   "source": [
    "# Análise da variável alvo"
   ]
  },
  {
   "cell_type": "markdown",
   "id": "d851b3b3-0b74-4859-9918-3ae4d07a7098",
   "metadata": {},
   "source": [
    "Um dos maiores problemas ao tentar resolver problemas com Machine Learning é o desbalanceamento em relação a variável alvo. Por exemplo, podemos ter muitos dados de pessoas que foram para UTI e poucos que não foram, ou vice-versa, e isso pode fazer o modelo criar um viés na hora de modelar as relações das variáveis. Por esta razão vou analisar a quantidade de pacientes que precisaram ir para UTI e pacientes que não precisaram ir para UTI."
   ]
  },
  {
   "cell_type": "code",
   "execution_count": 75,
   "id": "f2484edf-9366-4e3f-b8cf-c7accd6f4d38",
   "metadata": {},
   "outputs": [
    {
     "data": {
      "text/plain": [
       "0      1\n",
       "1      1\n",
       "2      0\n",
       "3      0\n",
       "4      0\n",
       "      ..\n",
       "289    1\n",
       "290    0\n",
       "291    1\n",
       "292    0\n",
       "293    0\n",
       "Name: ICU, Length: 294, dtype: int64"
      ]
     },
     "execution_count": 75,
     "metadata": {},
     "output_type": "execute_result"
    }
   ],
   "source": [
    "df['ICU']"
   ]
  },
  {
   "cell_type": "code",
   "execution_count": 79,
   "id": "3e81b320-9383-4850-a30e-d36e511dd78e",
   "metadata": {},
   "outputs": [
    {
     "data": {
      "image/png": "[encoded data removed]",
      "text/plain": [
       "<Figure size 1440x720 with 1 Axes>"
      ]
     },
     "metadata": {},
     "output_type": "display_data"
    }
   ],
   "source": [
    "#Criando a figura\n",
    "fig, ax = plt.subplots(figsize=(20,10)) \n",
    "\n",
    "#Criando o gráfico\n",
    "sns.countplot(df['ICU'], ax=ax, palette=['#3366ff', '#993300'])\n",
    "\n",
    "#Plotando rótulos e títulos\n",
    "labs(title='Quantidades de pacientes que necessitaram de cuidados intensivos',\n",
    "     subtitle='QUANTIDADE TOTAL SOMADA DE OBSERVAÇÕES EM RELAÇÃO A VARIÁVEL ALVO',\n",
    "     xlabel='ICU', ylabel='Pacientes',ax=ax)\n",
    "\n",
    "#Anotando em cima das barras\n",
    "annot_bar(prop=False, ax=ax, fontsize=25)\n",
    "\n",
    "#Definindo eixo y\n",
    "plt.ylim([0,220])\n",
    "\n",
    "#Configurando o eixo x\n",
    "plt.xticks(range(2),['Não foi para UTI', 'Foi para UTI'])\n",
    "\n",
    "#Adicionando uma referência para o gráfico\n",
    "plt.text(0,-0.1, 'GRÁFICO 1', color='black', transform=ax.transAxes, fontsize=15)\n",
    "plt.show()"
   ]
  },
  {
   "cell_type": "markdown",
   "id": "9e1696c6-1243-4e39-89d4-843d8c0c929d",
   "metadata": {},
   "source": [
    "Observando o gráfico 1 fica claro que a maioria dos pacientes presentes no dataset não precisaram de cuidados intensivos, fato este que apoia a realização de uma reamostragem a fim de balancear o dataframe em relação a variável \"ICU\", porém essa reamostragem será realizada e testada apenas quando formos comparar os modelos de Machine Learning no notebook [notebooks/Previsoes](https://github.com/PedroHCAlmeida/Projeto_final_bootcamp/blob/main/notebooks/Previsoes.ipynb)."
   ]
  },
  {
   "cell_type": "markdown",
   "id": "250f3574-8c38-486b-afa7-349d8b856e9b",
   "metadata": {},
   "source": [
    "# Análise das informações demográficas"
   ]
  },
  {
   "cell_type": "markdown",
   "id": "ed2d3143-f736-41f2-a16a-1a87da8f8516",
   "metadata": {},
   "source": [
    "De acordo com o Sirío-Libanês o dataset possui 3 variáveis demográficas, para identificá-las vamos observar novamente as primeiras linhas."
   ]
  },
  {
   "cell_type": "code",
   "execution_count": 77,
   "id": "5ad0d08c-6464-470b-81f0-426084149522",
   "metadata": {},
   "outputs": [
    {
     "data": {
      "text/html": [
       "<div>\n",
       "<style scoped>\n",
       "    .dataframe tbody tr th:only-of-type {\n",
       "        vertical-align: middle;\n",
       "    }\n",
       "\n",
       "    .dataframe tbody tr th {\n",
       "        vertical-align: top;\n",
       "    }\n",
       "\n",
       "    .dataframe thead th {\n",
       "        text-align: right;\n",
       "    }\n",
       "</style>\n",
       "<table border=\"1\" class=\"dataframe\">\n",
       "  <thead>\n",
       "    <tr style=\"text-align: right;\">\n",
       "      <th></th>\n",
       "      <th>AGE_ABOVE65</th>\n",
       "      <th>AGE_PERCENTIL</th>\n",
       "      <th>GENDER</th>\n",
       "      <th>DISEASE GROUPING 1</th>\n",
       "      <th>DISEASE GROUPING 2</th>\n",
       "      <th>DISEASE GROUPING 3</th>\n",
       "      <th>DISEASE GROUPING 4</th>\n",
       "      <th>DISEASE GROUPING 5</th>\n",
       "      <th>DISEASE GROUPING 6</th>\n",
       "      <th>HTN</th>\n",
       "      <th>...</th>\n",
       "      <th>RESPIRATORY_RATE_DIFF</th>\n",
       "      <th>TEMPERATURE_DIFF</th>\n",
       "      <th>OXYGEN_SATURATION_DIFF</th>\n",
       "      <th>BLOODPRESSURE_DIASTOLIC_DIFF_REL</th>\n",
       "      <th>BLOODPRESSURE_SISTOLIC_DIFF_REL</th>\n",
       "      <th>HEART_RATE_DIFF_REL</th>\n",
       "      <th>RESPIRATORY_RATE_DIFF_REL</th>\n",
       "      <th>TEMPERATURE_DIFF_REL</th>\n",
       "      <th>OXYGEN_SATURATION_DIFF_REL</th>\n",
       "      <th>ICU</th>\n",
       "    </tr>\n",
       "  </thead>\n",
       "  <tbody>\n",
       "    <tr>\n",
       "      <th>0</th>\n",
       "      <td>1</td>\n",
       "      <td>60th</td>\n",
       "      <td>0</td>\n",
       "      <td>0</td>\n",
       "      <td>0</td>\n",
       "      <td>0</td>\n",
       "      <td>0</td>\n",
       "      <td>1</td>\n",
       "      <td>1</td>\n",
       "      <td>0</td>\n",
       "      <td>...</td>\n",
       "      <td>-1.000000</td>\n",
       "      <td>-1.000000</td>\n",
       "      <td>-1.000000</td>\n",
       "      <td>-1.000000</td>\n",
       "      <td>-1.000000</td>\n",
       "      <td>-1.000000</td>\n",
       "      <td>-1.000000</td>\n",
       "      <td>-1.000000</td>\n",
       "      <td>-1.000000</td>\n",
       "      <td>1</td>\n",
       "    </tr>\n",
       "    <tr>\n",
       "      <th>1</th>\n",
       "      <td>0</td>\n",
       "      <td>10th</td>\n",
       "      <td>0</td>\n",
       "      <td>0</td>\n",
       "      <td>0</td>\n",
       "      <td>0</td>\n",
       "      <td>0</td>\n",
       "      <td>0</td>\n",
       "      <td>0</td>\n",
       "      <td>0</td>\n",
       "      <td>...</td>\n",
       "      <td>-0.764706</td>\n",
       "      <td>-1.000000</td>\n",
       "      <td>-0.959596</td>\n",
       "      <td>-0.515528</td>\n",
       "      <td>-0.351328</td>\n",
       "      <td>-0.747001</td>\n",
       "      <td>-0.756272</td>\n",
       "      <td>-1.000000</td>\n",
       "      <td>-0.961262</td>\n",
       "      <td>1</td>\n",
       "    </tr>\n",
       "    <tr>\n",
       "      <th>2</th>\n",
       "      <td>0</td>\n",
       "      <td>40th</td>\n",
       "      <td>1</td>\n",
       "      <td>0</td>\n",
       "      <td>0</td>\n",
       "      <td>0</td>\n",
       "      <td>0</td>\n",
       "      <td>0</td>\n",
       "      <td>0</td>\n",
       "      <td>0</td>\n",
       "      <td>...</td>\n",
       "      <td>-1.000000</td>\n",
       "      <td>-1.000000</td>\n",
       "      <td>-1.000000</td>\n",
       "      <td>-1.000000</td>\n",
       "      <td>-1.000000</td>\n",
       "      <td>-1.000000</td>\n",
       "      <td>-1.000000</td>\n",
       "      <td>-1.000000</td>\n",
       "      <td>-1.000000</td>\n",
       "      <td>0</td>\n",
       "    </tr>\n",
       "    <tr>\n",
       "      <th>3</th>\n",
       "      <td>0</td>\n",
       "      <td>10th</td>\n",
       "      <td>0</td>\n",
       "      <td>0</td>\n",
       "      <td>0</td>\n",
       "      <td>0</td>\n",
       "      <td>0</td>\n",
       "      <td>0</td>\n",
       "      <td>0</td>\n",
       "      <td>0</td>\n",
       "      <td>...</td>\n",
       "      <td>-0.882353</td>\n",
       "      <td>-0.952381</td>\n",
       "      <td>-0.979798</td>\n",
       "      <td>-1.000000</td>\n",
       "      <td>-0.883669</td>\n",
       "      <td>-0.956805</td>\n",
       "      <td>-0.870968</td>\n",
       "      <td>-0.953536</td>\n",
       "      <td>-0.980333</td>\n",
       "      <td>0</td>\n",
       "    </tr>\n",
       "    <tr>\n",
       "      <th>4</th>\n",
       "      <td>0</td>\n",
       "      <td>10th</td>\n",
       "      <td>0</td>\n",
       "      <td>0</td>\n",
       "      <td>0</td>\n",
       "      <td>0</td>\n",
       "      <td>0</td>\n",
       "      <td>0</td>\n",
       "      <td>0</td>\n",
       "      <td>0</td>\n",
       "      <td>...</td>\n",
       "      <td>-1.000000</td>\n",
       "      <td>-0.976190</td>\n",
       "      <td>-0.979798</td>\n",
       "      <td>-0.860870</td>\n",
       "      <td>-0.714460</td>\n",
       "      <td>-0.986481</td>\n",
       "      <td>-1.000000</td>\n",
       "      <td>-0.975891</td>\n",
       "      <td>-0.980129</td>\n",
       "      <td>0</td>\n",
       "    </tr>\n",
       "  </tbody>\n",
       "</table>\n",
       "<p>5 rows × 229 columns</p>\n",
       "</div>"
      ],
      "text/plain": [
       "   AGE_ABOVE65 AGE_PERCENTIL  GENDER  DISEASE GROUPING 1  DISEASE GROUPING 2  \\\n",
       "0            1          60th       0                   0                   0   \n",
       "1            0          10th       0                   0                   0   \n",
       "2            0          40th       1                   0                   0   \n",
       "3            0          10th       0                   0                   0   \n",
       "4            0          10th       0                   0                   0   \n",
       "\n",
       "   DISEASE GROUPING 3  DISEASE GROUPING 4  DISEASE GROUPING 5  \\\n",
       "0                   0                   0                   1   \n",
       "1                   0                   0                   0   \n",
       "2                   0                   0                   0   \n",
       "3                   0                   0                   0   \n",
       "4                   0                   0                   0   \n",
       "\n",
       "   DISEASE GROUPING 6  HTN  ...  RESPIRATORY_RATE_DIFF  TEMPERATURE_DIFF  \\\n",
       "0                   1    0  ...              -1.000000         -1.000000   \n",
       "1                   0    0  ...              -0.764706         -1.000000   \n",
       "2                   0    0  ...              -1.000000         -1.000000   \n",
       "3                   0    0  ...              -0.882353         -0.952381   \n",
       "4                   0    0  ...              -1.000000         -0.976190   \n",
       "\n",
       "   OXYGEN_SATURATION_DIFF  BLOODPRESSURE_DIASTOLIC_DIFF_REL  \\\n",
       "0               -1.000000                         -1.000000   \n",
       "1               -0.959596                         -0.515528   \n",
       "2               -1.000000                         -1.000000   \n",
       "3               -0.979798                         -1.000000   \n",
       "4               -0.979798                         -0.860870   \n",
       "\n",
       "   BLOODPRESSURE_SISTOLIC_DIFF_REL  HEART_RATE_DIFF_REL  \\\n",
       "0                        -1.000000            -1.000000   \n",
       "1                        -0.351328            -0.747001   \n",
       "2                        -1.000000            -1.000000   \n",
       "3                        -0.883669            -0.956805   \n",
       "4                        -0.714460            -0.986481   \n",
       "\n",
       "   RESPIRATORY_RATE_DIFF_REL  TEMPERATURE_DIFF_REL  \\\n",
       "0                  -1.000000             -1.000000   \n",
       "1                  -0.756272             -1.000000   \n",
       "2                  -1.000000             -1.000000   \n",
       "3                  -0.870968             -0.953536   \n",
       "4                  -1.000000             -0.975891   \n",
       "\n",
       "   OXYGEN_SATURATION_DIFF_REL  ICU  \n",
       "0                   -1.000000    1  \n",
       "1                   -0.961262    1  \n",
       "2                   -1.000000    0  \n",
       "3                   -0.980333    0  \n",
       "4                   -0.980129    0  \n",
       "\n",
       "[5 rows x 229 columns]"
      ]
     },
     "execution_count": 77,
     "metadata": {},
     "output_type": "execute_result"
    }
   ],
   "source": [
    "df.head()"
   ]
  },
  {
   "cell_type": "markdown",
   "id": "a6d33ea9-1be8-4446-a5ae-f47c74a931e2",
   "metadata": {},
   "source": [
    "Fica claro que essas informações são representadas pelas colunas \"AGE_ABOVE65\", \"AGE_PERCENTIL\" e \"GENDER\", e dizem respeito a idade e genêro dos pacientes."
   ]
  },
  {
   "cell_type": "markdown",
   "id": "531c4c79-c0ca-4cd5-b8bd-4f7794ac2c23",
   "metadata": {},
   "source": [
    "### Coluna \"AGE_PERCENTIL\""
   ]
  },
  {
   "cell_type": "markdown",
   "id": "2f4424e2-5a5d-414a-86c6-9ae6a06d4834",
   "metadata": {},
   "source": [
    "A primeira coluna analisada será a coluna \"AGE_PERCENTIL\", que traz informações sobre a idade dos pacientes. No entanto temos um problema nessa variável, como foi identificado anteriormente, ela foi representada através de caracteres representando o percentil da idade.\n",
    "<br><br>\n",
    "Pensando em modelos de Machine Learning precisamos transformá-la em uma variável inteira ou numérica, para decidir como realizar essa transformação vou analisar como a variável alvo \"ICU\" se comporta em relação a cada percentil de idade, para isso vou calcular qual a porcentagem de pacientes que foram para UTI para cada valor dessa coluna."
   ]
  },
  {
   "cell_type": "code",
   "execution_count": 78,
   "id": "b88397e7-62dc-44c4-9a09-274ce8f5503c",
   "metadata": {},
   "outputs": [
    {
     "data": {
      "text/html": [
       "<div>\n",
       "<style scoped>\n",
       "    .dataframe tbody tr th:only-of-type {\n",
       "        vertical-align: middle;\n",
       "    }\n",
       "\n",
       "    .dataframe tbody tr th {\n",
       "        vertical-align: top;\n",
       "    }\n",
       "\n",
       "    .dataframe thead th {\n",
       "        text-align: right;\n",
       "    }\n",
       "</style>\n",
       "<table border=\"1\" class=\"dataframe\">\n",
       "  <thead>\n",
       "    <tr style=\"text-align: right;\">\n",
       "      <th></th>\n",
       "      <th>AGE_PERCENTIL</th>\n",
       "      <th>ICU</th>\n",
       "      <th>Prop</th>\n",
       "    </tr>\n",
       "  </thead>\n",
       "  <tbody>\n",
       "    <tr>\n",
       "      <th>0</th>\n",
       "      <td>10th</td>\n",
       "      <td>0</td>\n",
       "      <td>0.833333</td>\n",
       "    </tr>\n",
       "    <tr>\n",
       "      <th>1</th>\n",
       "      <td>10th</td>\n",
       "      <td>1</td>\n",
       "      <td>0.166667</td>\n",
       "    </tr>\n",
       "    <tr>\n",
       "      <th>2</th>\n",
       "      <td>20th</td>\n",
       "      <td>0</td>\n",
       "      <td>0.815789</td>\n",
       "    </tr>\n",
       "    <tr>\n",
       "      <th>3</th>\n",
       "      <td>20th</td>\n",
       "      <td>1</td>\n",
       "      <td>0.184211</td>\n",
       "    </tr>\n",
       "    <tr>\n",
       "      <th>4</th>\n",
       "      <td>30th</td>\n",
       "      <td>0</td>\n",
       "      <td>0.676471</td>\n",
       "    </tr>\n",
       "    <tr>\n",
       "      <th>5</th>\n",
       "      <td>30th</td>\n",
       "      <td>1</td>\n",
       "      <td>0.323529</td>\n",
       "    </tr>\n",
       "    <tr>\n",
       "      <th>6</th>\n",
       "      <td>40th</td>\n",
       "      <td>0</td>\n",
       "      <td>0.757576</td>\n",
       "    </tr>\n",
       "    <tr>\n",
       "      <th>7</th>\n",
       "      <td>40th</td>\n",
       "      <td>1</td>\n",
       "      <td>0.242424</td>\n",
       "    </tr>\n",
       "    <tr>\n",
       "      <th>8</th>\n",
       "      <td>50th</td>\n",
       "      <td>0</td>\n",
       "      <td>0.580645</td>\n",
       "    </tr>\n",
       "    <tr>\n",
       "      <th>9</th>\n",
       "      <td>50th</td>\n",
       "      <td>1</td>\n",
       "      <td>0.419355</td>\n",
       "    </tr>\n",
       "    <tr>\n",
       "      <th>10</th>\n",
       "      <td>60th</td>\n",
       "      <td>0</td>\n",
       "      <td>0.607143</td>\n",
       "    </tr>\n",
       "    <tr>\n",
       "      <th>11</th>\n",
       "      <td>60th</td>\n",
       "      <td>1</td>\n",
       "      <td>0.392857</td>\n",
       "    </tr>\n",
       "    <tr>\n",
       "      <th>12</th>\n",
       "      <td>70th</td>\n",
       "      <td>0</td>\n",
       "      <td>0.566667</td>\n",
       "    </tr>\n",
       "    <tr>\n",
       "      <th>13</th>\n",
       "      <td>70th</td>\n",
       "      <td>1</td>\n",
       "      <td>0.433333</td>\n",
       "    </tr>\n",
       "    <tr>\n",
       "      <th>14</th>\n",
       "      <td>80th</td>\n",
       "      <td>1</td>\n",
       "      <td>0.538462</td>\n",
       "    </tr>\n",
       "    <tr>\n",
       "      <th>15</th>\n",
       "      <td>80th</td>\n",
       "      <td>0</td>\n",
       "      <td>0.461538</td>\n",
       "    </tr>\n",
       "    <tr>\n",
       "      <th>16</th>\n",
       "      <td>90th</td>\n",
       "      <td>1</td>\n",
       "      <td>0.600000</td>\n",
       "    </tr>\n",
       "    <tr>\n",
       "      <th>17</th>\n",
       "      <td>90th</td>\n",
       "      <td>0</td>\n",
       "      <td>0.400000</td>\n",
       "    </tr>\n",
       "    <tr>\n",
       "      <th>18</th>\n",
       "      <td>Above 90th</td>\n",
       "      <td>1</td>\n",
       "      <td>0.555556</td>\n",
       "    </tr>\n",
       "    <tr>\n",
       "      <th>19</th>\n",
       "      <td>Above 90th</td>\n",
       "      <td>0</td>\n",
       "      <td>0.444444</td>\n",
       "    </tr>\n",
       "  </tbody>\n",
       "</table>\n",
       "</div>"
      ],
      "text/plain": [
       "   AGE_PERCENTIL  ICU      Prop\n",
       "0           10th    0  0.833333\n",
       "1           10th    1  0.166667\n",
       "2           20th    0  0.815789\n",
       "3           20th    1  0.184211\n",
       "4           30th    0  0.676471\n",
       "5           30th    1  0.323529\n",
       "6           40th    0  0.757576\n",
       "7           40th    1  0.242424\n",
       "8           50th    0  0.580645\n",
       "9           50th    1  0.419355\n",
       "10          60th    0  0.607143\n",
       "11          60th    1  0.392857\n",
       "12          70th    0  0.566667\n",
       "13          70th    1  0.433333\n",
       "14          80th    1  0.538462\n",
       "15          80th    0  0.461538\n",
       "16          90th    1  0.600000\n",
       "17          90th    0  0.400000\n",
       "18    Above 90th    1  0.555556\n",
       "19    Above 90th    0  0.444444"
      ]
     },
     "execution_count": 78,
     "metadata": {},
     "output_type": "execute_result"
    }
   ],
   "source": [
    "# Agrupando o dataframe pela variável \"AGE_PERCENTIL\" e calculando a proporção de pessoas que foram para UTI \n",
    "percentil_prop = df.groupby('AGE_PERCENTIL')['ICU'].value_counts(normalize=True).reset_index(name='Prop')\n",
    "percentil_prop"
   ]
  },
  {
   "cell_type": "markdown",
   "id": "e834dc7a-8725-421e-a6cc-acabbb9060f1",
   "metadata": {},
   "source": [
    "Com a tabela pronta podemos visualizar em um gráfico esse comportamento."
   ]
  },
  {
   "cell_type": "code",
   "execution_count": 31,
   "id": "ec85008a-efbf-45a4-9316-f79600efd784",
   "metadata": {},
   "outputs": [
    {
     "data": {
      "image/png": "[encoded data removed]",
      "text/plain": [
       "<Figure size 1440x720 with 1 Axes>"
      ]
     },
     "metadata": {},
     "output_type": "display_data"
    }
   ],
   "source": [
    "#Criando a figura\n",
    "fig, ax = plt.subplots(figsize=(20,10)) \n",
    "\n",
    "#Criando o gráfico\n",
    "sns.barplot(data=percentil_prop, y='Prop', x='AGE_PERCENTIL', hue='ICU', ax=ax, palette=['#3366ff', '#993300'])\n",
    "\n",
    "#Plotando rótulos e títulos\n",
    "labs(title='Proporção de pacientes que foram para UTI por idade', subtitle='IDADE REPRESENTADA PELO PERCENTIL DA IDADE DO PACIENTE',\n",
    "     xlabel='Percentil da idade', ylabel='Proporção',ax=ax)\n",
    "#Configurando a legenda\n",
    "handles, labels = ax.get_legend_handles_labels()\n",
    "plt.legend(handles[0:2], ['Não foi para UTI', 'Foi para UTI'], bbox_to_anchor=(0.85, 1), loc=2, borderaxespad=0., fontsize=15)\n",
    "\n",
    "#Definindo o eixo y\n",
    "plt.ylim([0,1])\n",
    "\n",
    "#Adicionando uma referência para o gráfico\n",
    "plt.text(0,-0.1, 'GRÁFICO 2', color='black', transform=ax.transAxes, fontsize=15)\n",
    "plt.show()"
   ]
  },
  {
   "cell_type": "markdown",
   "id": "5ad0e118-406d-4671-b370-5b6c10ba0298",
   "metadata": {},
   "source": [
    "Observando o gráfico 2 fica claro que dependendo da idade há uma proporção de pacientes diferentes que precisaram de cuidados intensivos. Além disso parece haver faixas etárias onde essa proporção sofre um aumento, por esta razão vou utilizar essa informação a fim de criar colunas categóricas binárias com base na faixa etária, a partir do gráfico decidi transformá-la nas seguintes colunas:"
   ]
  },
  {
   "cell_type": "markdown",
   "id": "90632953-81d1-46ad-930f-698cb2070137",
   "metadata": {},
   "source": [
    "|Coluna | Descrição|\n",
    "|:-------------|:----------:|\n",
    "|\"AGE_UNDER_30th\" | Pacientes com idade abaixo dos 30 anos\n",
    "|\"AGE_UNDER_50th\" | Pacientes com idade abaixo dos 50 anos\n",
    "|\"AGE_ABOVE_50th\"| Pacientes com idade acima dos 50 anos\n",
    "|\"AGE_ABOVE_80th\"| Pacientes com idade acima dos 80 anos"
   ]
  },
  {
   "cell_type": "code",
   "execution_count": 32,
   "id": "f0f2764c-b5b8-4ff8-8f8e-f04cab61c554",
   "metadata": {},
   "outputs": [
    {
     "data": {
      "text/html": [
       "<div>\n",
       "<style scoped>\n",
       "    .dataframe tbody tr th:only-of-type {\n",
       "        vertical-align: middle;\n",
       "    }\n",
       "\n",
       "    .dataframe tbody tr th {\n",
       "        vertical-align: top;\n",
       "    }\n",
       "\n",
       "    .dataframe thead th {\n",
       "        text-align: right;\n",
       "    }\n",
       "</style>\n",
       "<table border=\"1\" class=\"dataframe\">\n",
       "  <thead>\n",
       "    <tr style=\"text-align: right;\">\n",
       "      <th></th>\n",
       "      <th>AGE_ABOVE65</th>\n",
       "      <th>GENDER</th>\n",
       "      <th>DISEASE GROUPING 1</th>\n",
       "      <th>DISEASE GROUPING 2</th>\n",
       "      <th>DISEASE GROUPING 3</th>\n",
       "      <th>DISEASE GROUPING 4</th>\n",
       "      <th>DISEASE GROUPING 5</th>\n",
       "      <th>DISEASE GROUPING 6</th>\n",
       "      <th>HTN</th>\n",
       "      <th>IMMUNOCOMPROMISED</th>\n",
       "      <th>...</th>\n",
       "      <th>BLOODPRESSURE_SISTOLIC_DIFF_REL</th>\n",
       "      <th>HEART_RATE_DIFF_REL</th>\n",
       "      <th>RESPIRATORY_RATE_DIFF_REL</th>\n",
       "      <th>TEMPERATURE_DIFF_REL</th>\n",
       "      <th>OXYGEN_SATURATION_DIFF_REL</th>\n",
       "      <th>ICU</th>\n",
       "      <th>AGE_UNDER_30th</th>\n",
       "      <th>AGE_UNDER_50th</th>\n",
       "      <th>AGE_ABOVE_50th</th>\n",
       "      <th>AGE_ABOVE_80th</th>\n",
       "    </tr>\n",
       "  </thead>\n",
       "  <tbody>\n",
       "    <tr>\n",
       "      <th>0</th>\n",
       "      <td>1</td>\n",
       "      <td>0</td>\n",
       "      <td>0</td>\n",
       "      <td>0</td>\n",
       "      <td>0</td>\n",
       "      <td>0</td>\n",
       "      <td>1</td>\n",
       "      <td>1</td>\n",
       "      <td>0</td>\n",
       "      <td>0</td>\n",
       "      <td>...</td>\n",
       "      <td>-1.000000</td>\n",
       "      <td>-1.000000</td>\n",
       "      <td>-1.000000</td>\n",
       "      <td>-1.000000</td>\n",
       "      <td>-1.000000</td>\n",
       "      <td>1</td>\n",
       "      <td>0</td>\n",
       "      <td>0</td>\n",
       "      <td>1</td>\n",
       "      <td>0</td>\n",
       "    </tr>\n",
       "    <tr>\n",
       "      <th>1</th>\n",
       "      <td>0</td>\n",
       "      <td>0</td>\n",
       "      <td>0</td>\n",
       "      <td>0</td>\n",
       "      <td>0</td>\n",
       "      <td>0</td>\n",
       "      <td>0</td>\n",
       "      <td>0</td>\n",
       "      <td>0</td>\n",
       "      <td>0</td>\n",
       "      <td>...</td>\n",
       "      <td>-0.351328</td>\n",
       "      <td>-0.747001</td>\n",
       "      <td>-0.756272</td>\n",
       "      <td>-1.000000</td>\n",
       "      <td>-0.961262</td>\n",
       "      <td>1</td>\n",
       "      <td>1</td>\n",
       "      <td>1</td>\n",
       "      <td>0</td>\n",
       "      <td>0</td>\n",
       "    </tr>\n",
       "    <tr>\n",
       "      <th>2</th>\n",
       "      <td>0</td>\n",
       "      <td>1</td>\n",
       "      <td>0</td>\n",
       "      <td>0</td>\n",
       "      <td>0</td>\n",
       "      <td>0</td>\n",
       "      <td>0</td>\n",
       "      <td>0</td>\n",
       "      <td>0</td>\n",
       "      <td>1</td>\n",
       "      <td>...</td>\n",
       "      <td>-1.000000</td>\n",
       "      <td>-1.000000</td>\n",
       "      <td>-1.000000</td>\n",
       "      <td>-1.000000</td>\n",
       "      <td>-1.000000</td>\n",
       "      <td>0</td>\n",
       "      <td>0</td>\n",
       "      <td>1</td>\n",
       "      <td>0</td>\n",
       "      <td>0</td>\n",
       "    </tr>\n",
       "    <tr>\n",
       "      <th>3</th>\n",
       "      <td>0</td>\n",
       "      <td>0</td>\n",
       "      <td>0</td>\n",
       "      <td>0</td>\n",
       "      <td>0</td>\n",
       "      <td>0</td>\n",
       "      <td>0</td>\n",
       "      <td>0</td>\n",
       "      <td>0</td>\n",
       "      <td>0</td>\n",
       "      <td>...</td>\n",
       "      <td>-0.883669</td>\n",
       "      <td>-0.956805</td>\n",
       "      <td>-0.870968</td>\n",
       "      <td>-0.953536</td>\n",
       "      <td>-0.980333</td>\n",
       "      <td>0</td>\n",
       "      <td>1</td>\n",
       "      <td>1</td>\n",
       "      <td>0</td>\n",
       "      <td>0</td>\n",
       "    </tr>\n",
       "    <tr>\n",
       "      <th>4</th>\n",
       "      <td>0</td>\n",
       "      <td>0</td>\n",
       "      <td>0</td>\n",
       "      <td>0</td>\n",
       "      <td>0</td>\n",
       "      <td>0</td>\n",
       "      <td>0</td>\n",
       "      <td>0</td>\n",
       "      <td>0</td>\n",
       "      <td>0</td>\n",
       "      <td>...</td>\n",
       "      <td>-0.714460</td>\n",
       "      <td>-0.986481</td>\n",
       "      <td>-1.000000</td>\n",
       "      <td>-0.975891</td>\n",
       "      <td>-0.980129</td>\n",
       "      <td>0</td>\n",
       "      <td>1</td>\n",
       "      <td>1</td>\n",
       "      <td>0</td>\n",
       "      <td>0</td>\n",
       "    </tr>\n",
       "  </tbody>\n",
       "</table>\n",
       "<p>5 rows × 232 columns</p>\n",
       "</div>"
      ],
      "text/plain": [
       "   AGE_ABOVE65  GENDER  DISEASE GROUPING 1  DISEASE GROUPING 2  \\\n",
       "0            1       0                   0                   0   \n",
       "1            0       0                   0                   0   \n",
       "2            0       1                   0                   0   \n",
       "3            0       0                   0                   0   \n",
       "4            0       0                   0                   0   \n",
       "\n",
       "   DISEASE GROUPING 3  DISEASE GROUPING 4  DISEASE GROUPING 5  \\\n",
       "0                   0                   0                   1   \n",
       "1                   0                   0                   0   \n",
       "2                   0                   0                   0   \n",
       "3                   0                   0                   0   \n",
       "4                   0                   0                   0   \n",
       "\n",
       "   DISEASE GROUPING 6  HTN  IMMUNOCOMPROMISED  ...  \\\n",
       "0                   1    0                  0  ...   \n",
       "1                   0    0                  0  ...   \n",
       "2                   0    0                  1  ...   \n",
       "3                   0    0                  0  ...   \n",
       "4                   0    0                  0  ...   \n",
       "\n",
       "   BLOODPRESSURE_SISTOLIC_DIFF_REL  HEART_RATE_DIFF_REL  \\\n",
       "0                        -1.000000            -1.000000   \n",
       "1                        -0.351328            -0.747001   \n",
       "2                        -1.000000            -1.000000   \n",
       "3                        -0.883669            -0.956805   \n",
       "4                        -0.714460            -0.986481   \n",
       "\n",
       "   RESPIRATORY_RATE_DIFF_REL  TEMPERATURE_DIFF_REL  \\\n",
       "0                  -1.000000             -1.000000   \n",
       "1                  -0.756272             -1.000000   \n",
       "2                  -1.000000             -1.000000   \n",
       "3                  -0.870968             -0.953536   \n",
       "4                  -1.000000             -0.975891   \n",
       "\n",
       "   OXYGEN_SATURATION_DIFF_REL  ICU  AGE_UNDER_30th  AGE_UNDER_50th  \\\n",
       "0                   -1.000000    1               0               0   \n",
       "1                   -0.961262    1               1               1   \n",
       "2                   -1.000000    0               0               1   \n",
       "3                   -0.980333    0               1               1   \n",
       "4                   -0.980129    0               1               1   \n",
       "\n",
       "   AGE_ABOVE_50th  AGE_ABOVE_80th  \n",
       "0               1               0  \n",
       "1               0               0  \n",
       "2               0               0  \n",
       "3               0               0  \n",
       "4               0               0  \n",
       "\n",
       "[5 rows x 232 columns]"
      ]
     },
     "execution_count": 32,
     "metadata": {},
     "output_type": "execute_result"
    }
   ],
   "source": [
    "#Criando as colunas com base no percentil da idade\n",
    "df['AGE_UNDER_30th']=[1 if row['AGE_PERCENTIL'] in ['10th', '20th'] \n",
    "                      else 0 for _,row in df.iterrows()] \n",
    "\n",
    "df['AGE_UNDER_50th']=[1 if row['AGE_PERCENTIL'] in ['10th', '20th','30th', '40th'] \n",
    "                      else 0 for _,row in df.iterrows()] \n",
    "\n",
    "df['AGE_ABOVE_50th']=[1 if row['AGE_PERCENTIL'] in ['50th','60th', '70th','80th', '90th', 'Above 90th'] \n",
    "                      else 0 for _,row in df.iterrows()]\n",
    "\n",
    "df['AGE_ABOVE_80th']=[1 if row['AGE_PERCENTIL'] in ['80th', '90th', 'Above 90th'] \n",
    "                      else 0 for _,row in df.iterrows()] \n",
    "\n",
    "# Eliminando a coluna \"AGE_PERCENTIL\" original\n",
    "df.drop('AGE_PERCENTIL', axis=1, inplace=True)\n",
    "df.head()"
   ]
  },
  {
   "cell_type": "markdown",
   "id": "639b775f-26d9-4882-b7e0-59428ed754b7",
   "metadata": {},
   "source": [
    "Agora com o problema da coluna Percentil resolvido temos 6 colunas demográficas, todas elas do tipo inteiro e categóricas."
   ]
  },
  {
   "cell_type": "markdown",
   "id": "aa3abd46-002e-44e0-92db-35241e62fbc5",
   "metadata": {},
   "source": [
    "### Teste de Chi Quadrado"
   ]
  },
  {
   "cell_type": "markdown",
   "id": "f621f55a-ff20-42ad-99e0-c22e0cea71e8",
   "metadata": {},
   "source": [
    "Considerando que essas informações demográficas não possuem uma influência das demais variáveis, vou analisar cada uma individualmente, verificando se elas possuem alguma relação de dependência com a variável alvo, ou seja, a variável \"ICU\". Para isso vou realizar um teste de Chi Quadrado de Pearson com significância de **5%** para decidir se alguma dessas variáveis deve ser retirada.<br>\n",
    "Este teste vai testar a seguinte hipótese:"
   ]
  },
  {
   "cell_type": "markdown",
   "id": "4089f823-521c-47a8-b0f2-d700209701c3",
   "metadata": {},
   "source": [
    "### $H_0$ : Colunas demográficas são independentes em relação a variável alvo('ICU')\n",
    "### $H_a$ : Colunas demográficas são dependentes em relação a variável alvo('ICU') "
   ]
  },
  {
   "cell_type": "markdown",
   "id": "182513db-9c02-4146-ae3c-8635a539e34a",
   "metadata": {},
   "source": [
    "![](https://raw.githubusercontent.com/PedroHCAlmeida/Projeto_final_bootcamp/main/img/img017.png)"
   ]
  },
  {
   "cell_type": "markdown",
   "id": "25561547-6365-4296-ab4f-81a8cb80e07d",
   "metadata": {},
   "source": [
    "### Variáveis de idade"
   ]
  },
  {
   "cell_type": "markdown",
   "id": "29f9d6b4-3eac-4c1f-b2db-c7ef16de3051",
   "metadata": {},
   "source": [
    "Para visualizar melhor as relações dessa variáveis com a variável \"ICU\" vou calcular a proporção de pessoas que foram para UTI para cada valor 0 ou 1 dessas variáveis, ou seja, dado que um paciente pertence a um grupo ele tem mais chance de ir para UTI do quem não pertence."
   ]
  },
  {
   "cell_type": "code",
   "execution_count": 33,
   "id": "ef014fbb-1367-4150-b6cb-42b9e41e37ad",
   "metadata": {},
   "outputs": [],
   "source": [
    "#Selecionando as variáveis\n",
    "ages = ['AGE_UNDER_30th','AGE_UNDER_50th','AGE_ABOVE_50th','AGE_ABOVE_80th','AGE_ABOVE65', 'ICU']\n",
    "\n",
    "#Transformando as colunas em uma coluna \"variable\" e os valores em uma coluna \"value\" e mantendo a variável \"ICU\" fixa\n",
    "ages_melt = pd.melt(df[ages], id_vars='ICU')\n",
    "\n",
    "#Calculando a proporção da variável \"ICU\" para cada combinação \"variable\"(coluna), \"value\"(valor)\n",
    "ages_prop = ages_melt.groupby(['variable','value'])['ICU'].mean().reset_index(name='Prop')"
   ]
  },
  {
   "cell_type": "code",
   "execution_count": 34,
   "id": "4c07c820-ec1a-40f3-b84e-a472e41063ad",
   "metadata": {},
   "outputs": [
    {
     "data": {
      "text/html": [
       "<div>\n",
       "<style scoped>\n",
       "    .dataframe tbody tr th:only-of-type {\n",
       "        vertical-align: middle;\n",
       "    }\n",
       "\n",
       "    .dataframe tbody tr th {\n",
       "        vertical-align: top;\n",
       "    }\n",
       "\n",
       "    .dataframe thead th {\n",
       "        text-align: right;\n",
       "    }\n",
       "</style>\n",
       "<table border=\"1\" class=\"dataframe\">\n",
       "  <thead>\n",
       "    <tr style=\"text-align: right;\">\n",
       "      <th></th>\n",
       "      <th>variable</th>\n",
       "      <th>value</th>\n",
       "      <th>Prop</th>\n",
       "    </tr>\n",
       "  </thead>\n",
       "  <tbody>\n",
       "    <tr>\n",
       "      <th>0</th>\n",
       "      <td>AGE_ABOVE65</td>\n",
       "      <td>0</td>\n",
       "      <td>0.260116</td>\n",
       "    </tr>\n",
       "    <tr>\n",
       "      <th>1</th>\n",
       "      <td>AGE_ABOVE65</td>\n",
       "      <td>1</td>\n",
       "      <td>0.495868</td>\n",
       "    </tr>\n",
       "    <tr>\n",
       "      <th>2</th>\n",
       "      <td>AGE_ABOVE_50th</td>\n",
       "      <td>0</td>\n",
       "      <td>0.226950</td>\n",
       "    </tr>\n",
       "    <tr>\n",
       "      <th>3</th>\n",
       "      <td>AGE_ABOVE_50th</td>\n",
       "      <td>1</td>\n",
       "      <td>0.477124</td>\n",
       "    </tr>\n",
       "    <tr>\n",
       "      <th>4</th>\n",
       "      <td>AGE_ABOVE_80th</td>\n",
       "      <td>0</td>\n",
       "      <td>0.300000</td>\n",
       "    </tr>\n",
       "    <tr>\n",
       "      <th>5</th>\n",
       "      <td>AGE_ABOVE_80th</td>\n",
       "      <td>1</td>\n",
       "      <td>0.562500</td>\n",
       "    </tr>\n",
       "    <tr>\n",
       "      <th>6</th>\n",
       "      <td>AGE_UNDER_30th</td>\n",
       "      <td>0</td>\n",
       "      <td>0.418182</td>\n",
       "    </tr>\n",
       "    <tr>\n",
       "      <th>7</th>\n",
       "      <td>AGE_UNDER_30th</td>\n",
       "      <td>1</td>\n",
       "      <td>0.175676</td>\n",
       "    </tr>\n",
       "    <tr>\n",
       "      <th>8</th>\n",
       "      <td>AGE_UNDER_50th</td>\n",
       "      <td>0</td>\n",
       "      <td>0.477124</td>\n",
       "    </tr>\n",
       "    <tr>\n",
       "      <th>9</th>\n",
       "      <td>AGE_UNDER_50th</td>\n",
       "      <td>1</td>\n",
       "      <td>0.226950</td>\n",
       "    </tr>\n",
       "  </tbody>\n",
       "</table>\n",
       "</div>"
      ],
      "text/plain": [
       "         variable  value      Prop\n",
       "0     AGE_ABOVE65      0  0.260116\n",
       "1     AGE_ABOVE65      1  0.495868\n",
       "2  AGE_ABOVE_50th      0  0.226950\n",
       "3  AGE_ABOVE_50th      1  0.477124\n",
       "4  AGE_ABOVE_80th      0  0.300000\n",
       "5  AGE_ABOVE_80th      1  0.562500\n",
       "6  AGE_UNDER_30th      0  0.418182\n",
       "7  AGE_UNDER_30th      1  0.175676\n",
       "8  AGE_UNDER_50th      0  0.477124\n",
       "9  AGE_UNDER_50th      1  0.226950"
      ]
     },
     "execution_count": 34,
     "metadata": {},
     "output_type": "execute_result"
    }
   ],
   "source": [
    "ages_prop"
   ]
  },
  {
   "cell_type": "markdown",
   "id": "47709974-7178-4a1a-9f1c-eefad5489d17",
   "metadata": {},
   "source": [
    "Com a tabela pronta indicando a proporção, para cada valor de cada variável de idade, podemos visualizar em um gráfico esse comportamento."
   ]
  },
  {
   "cell_type": "code",
   "execution_count": 35,
   "id": "8ecb286f-cc39-4531-a00d-4a37722a1622",
   "metadata": {},
   "outputs": [
    {
     "data": {
      "image/png": "[encoded data removed]",
      "text/plain": [
       "<Figure size 1440x720 with 1 Axes>"
      ]
     },
     "metadata": {},
     "output_type": "display_data"
    }
   ],
   "source": [
    "#Criando a figura\n",
    "fig, ax = plt.subplots(figsize=(20,10)) \n",
    "\n",
    "#Criando o gráfico\n",
    "sns.barplot(data=ages_prop, y='Prop', x='variable', hue='value', ax=ax, palette='muted')\n",
    "\n",
    "#Plotando rótulos e títulos\n",
    "labs(title='Proporção de pacientes que foram para UTI dado que pertence a uma faixa etária', \n",
    "     subtitle='PROPORÇÃO CALCULADA DE PACIENTES QUE FORAM PARA UTI DADO QUE PERTENCIA  A UM GRUPO DAS COLUNAS DE IDADE',\n",
    "     xlabel='Variável', ylabel='Proporção',ax=ax)\n",
    "\n",
    "#Configurando a legenda\n",
    "handles, labels = ax.get_legend_handles_labels()\n",
    "plt.legend(handles[0:2], ['0','1'], bbox_to_anchor=(0.94, 1), loc=2, borderaxespad=0., fontsize=15)\n",
    "\n",
    "#Configurando o eixo x\n",
    "plt.xticks(range(5),labels=ages_prop['variable'].str.split(r'_| ').str.join('\\n').unique())\n",
    "\n",
    "#Anotando em cima das barras\n",
    "annot_bar(ax)\n",
    "\n",
    "#Definindo o eixo y\n",
    "plt.ylim([0,1])\n",
    "\n",
    "#Adicionando uma referência para o gráfico\n",
    "plt.text(0,-0.1, 'GRÁFICO 3', color='black', transform=ax.transAxes, fontsize=15)\n",
    "plt.show()"
   ]
  },
  {
   "cell_type": "markdown",
   "id": "01bb53ab-c949-4d21-8a9d-ea69cb2d66ab",
   "metadata": {},
   "source": [
    "A partir do gráfico 3 parece que as variáveis de idade influenciam se o paciente vai ou não para UTI, para confirmar tal afirmação vou realizar um teste de Chi-Quadrado através da função compute_chi2( ), definida no arquivo [funcoes/feature](https://github.com/PedroHCAlmeida/Projeto_final_bootcamp/blob/main/funcoes/feature.py), essa função nos retorna os p valores para cada uma das variáveis, e se, algum deles for maior que **5%** não rejeitaremos a hipótese nula de que a variável é independente da variável alvo \"ICU\"."
   ]
  },
  {
   "cell_type": "code",
   "execution_count": 36,
   "id": "274f27d3-20eb-43e5-b9d2-b8470b3a15db",
   "metadata": {},
   "outputs": [
    {
     "name": "stdout",
     "output_type": "stream",
     "text": [
      "Considerando a hipótese nula de que a coluna AGE_UNDER_30th é independente da variável alvo \"ICU\"\n",
      "    obteve-se um p valor igual a 0.0011\n",
      "Considerando a hipótese nula de que a coluna AGE_UNDER_50th é independente da variável alvo \"ICU\"\n",
      "    obteve-se um p valor igual a 0.0013\n",
      "Considerando a hipótese nula de que a coluna AGE_ABOVE_50th é independente da variável alvo \"ICU\"\n",
      "    obteve-se um p valor igual a 0.002\n",
      "Considerando a hipótese nula de que a coluna AGE_ABOVE_80th é independente da variável alvo \"ICU\"\n",
      "    obteve-se um p valor igual a 0.0006\n",
      "Considerando a hipótese nula de que a coluna AGE_ABOVE65 é independente da variável alvo \"ICU\"\n",
      "    obteve-se um p valor igual a 0.0014\n"
     ]
    }
   ],
   "source": [
    "#Calculando os p valores para colunas de idade\n",
    "p_values = compute_chi2(df[ages].drop('ICU', axis=1), df['ICU'])\n",
    "for col, p_value in p_values.items():\n",
    "    print(f'Considerando a hipótese nula de que a coluna {col} é independente da variável alvo \"ICU\"\\n\\\n",
    "    obteve-se um p valor igual a {np.round(p_value,4)}')"
   ]
  },
  {
   "cell_type": "markdown",
   "id": "593bc1ac-9903-4e2e-8090-1885f8faf8c4",
   "metadata": {},
   "source": [
    "Analisando o p valor das colunas relacionadas às idades dos pacientes no teste de Chi-Quadrado da hipótese nula das variáveis serem independentes do paciente ir para UTI, todos os p valores foram **menores que 5%**, por esta razão temos evidências para **rejeitar a hipótese nula** e, por isso, essas variávies serão mantidas no dataframe."
   ]
  },
  {
   "cell_type": "markdown",
   "id": "591a9911-3c84-43cd-97d8-d5ad5dd5e986",
   "metadata": {},
   "source": [
    "### Variável de genêro"
   ]
  },
  {
   "cell_type": "markdown",
   "id": "890729bb-bbb7-48b5-be9e-ab2fa1e87b12",
   "metadata": {},
   "source": [
    "A outra variável demográfica é a variável de genêro, para identificar se o genêro influencia vamos repetir o mesmo processo."
   ]
  },
  {
   "cell_type": "code",
   "execution_count": 37,
   "id": "8eeb88fd-490e-4a34-b3ba-cf4d25ce6159",
   "metadata": {},
   "outputs": [],
   "source": [
    "#Construindo um dataframe com a coluna \"GENDER\" e \"ICU\", mantendo o \"ICU\" fixo e tranformando a coluna \"GENDER\" em duas uma para o nome \n",
    "#da variável(\"variable\") e outra para os valores correspondentes(\"value\")\n",
    "gender_melt  = pd.melt(df[['GENDER', 'ICU']], id_vars='ICU')\n",
    "\n",
    "#Calculando a proporção da variável \"ICU\" para cada combinação \"variable\"(coluna), \"value\"(valor)\n",
    "gender_prop = gender_melt.groupby(['variable','value'])['ICU'].mean().reset_index(name='Prop')"
   ]
  },
  {
   "cell_type": "code",
   "execution_count": 38,
   "id": "84b5747f-3316-45fe-a6c3-b57a8f650dd8",
   "metadata": {},
   "outputs": [
    {
     "data": {
      "text/html": [
       "<div>\n",
       "<style scoped>\n",
       "    .dataframe tbody tr th:only-of-type {\n",
       "        vertical-align: middle;\n",
       "    }\n",
       "\n",
       "    .dataframe tbody tr th {\n",
       "        vertical-align: top;\n",
       "    }\n",
       "\n",
       "    .dataframe thead th {\n",
       "        text-align: right;\n",
       "    }\n",
       "</style>\n",
       "<table border=\"1\" class=\"dataframe\">\n",
       "  <thead>\n",
       "    <tr style=\"text-align: right;\">\n",
       "      <th></th>\n",
       "      <th>variable</th>\n",
       "      <th>value</th>\n",
       "      <th>Prop</th>\n",
       "    </tr>\n",
       "  </thead>\n",
       "  <tbody>\n",
       "    <tr>\n",
       "      <th>0</th>\n",
       "      <td>GENDER</td>\n",
       "      <td>0</td>\n",
       "      <td>0.408840</td>\n",
       "    </tr>\n",
       "    <tr>\n",
       "      <th>1</th>\n",
       "      <td>GENDER</td>\n",
       "      <td>1</td>\n",
       "      <td>0.274336</td>\n",
       "    </tr>\n",
       "  </tbody>\n",
       "</table>\n",
       "</div>"
      ],
      "text/plain": [
       "  variable  value      Prop\n",
       "0   GENDER      0  0.408840\n",
       "1   GENDER      1  0.274336"
      ]
     },
     "execution_count": 38,
     "metadata": {},
     "output_type": "execute_result"
    }
   ],
   "source": [
    "gender_prop"
   ]
  },
  {
   "cell_type": "markdown",
   "id": "f1e6b0ef-68c3-4b7b-8fed-a2d51e2beb2f",
   "metadata": {},
   "source": [
    "Com a tabela pronta indicando a proporção de pacientes que foram para UTI dependendo do genêro podemos visualizar em um gráfico esse comportamento."
   ]
  },
  {
   "cell_type": "markdown",
   "id": "eccd20da-517a-498f-b668-34263c64a8a2",
   "metadata": {},
   "source": [
    "**OBS: POR CONTA DA ANONIMIZAÇÃO DOS DADOS NÃO FOI INFORMADO QUAL GENÊRO É REPRESENTADO POR QUAL NÚMERO, POR ISSO SERÁ REPRESENTADO COMO 0 e 1**"
   ]
  },
  {
   "cell_type": "code",
   "execution_count": 39,
   "id": "6f029c86-a9e2-44a4-8b3f-a66820f2f8e8",
   "metadata": {},
   "outputs": [
    {
     "data": {
      "image/png": "[encoded data removed]",
      "text/plain": [
       "<Figure size 864x576 with 1 Axes>"
      ]
     },
     "metadata": {},
     "output_type": "display_data"
    }
   ],
   "source": [
    "#Criando a figura\n",
    "fig, ax = plt.subplots(figsize=(12,8)) \n",
    "\n",
    "#Criando o gráfico\n",
    "sns.barplot(data=gender_prop, y='Prop', x='variable', hue='value', ax=ax, palette=['#ffcc00','#0066ff'])\n",
    "\n",
    "#Plotando rótulos e títulos\n",
    "labs(title='Proporção de pacientes que foram para UTI de acordo com o gênero', \n",
    "     subtitle='PROPORÇÃO CALCULADA DE PACIENTES QUE FORAM PARA UTI DADO O GENÊRO',\n",
    "     xlabel='Variável', ylabel='Proporção',ax=ax)\n",
    "\n",
    "#Configurando a legenda\n",
    "handles, labels = ax.get_legend_handles_labels()\n",
    "plt.legend(handles[0:2], ['0','1'], bbox_to_anchor=(0.94, 1), loc=2, borderaxespad=0., fontsize=15)\n",
    "\n",
    "#Anotando em cima das barras\n",
    "annot_bar(ax)\n",
    "\n",
    "#Definindo o eixo y\n",
    "plt.ylim([0,1])\n",
    "\n",
    "#Adicionando uma referência para o gráfico\n",
    "plt.text(0,-0.1, 'GRÁFICO 4', color='black', transform=ax.transAxes, fontsize=15)\n",
    "plt.show()"
   ]
  },
  {
   "cell_type": "markdown",
   "id": "aa4679fb-4804-41aa-9619-0e3d5587ea0e",
   "metadata": {},
   "source": [
    "A partir do gráfico 4 percebe-se que dependendo do genêro parece haver uma diferença na chance de ir para UTI, porém vamos realizar um teste de Chi-Quadrado para decidir se essa variável será mantida."
   ]
  },
  {
   "cell_type": "code",
   "execution_count": 40,
   "id": "b82b94d6-81ac-40aa-8734-e25b9dcbfec6",
   "metadata": {},
   "outputs": [
    {
     "name": "stdout",
     "output_type": "stream",
     "text": [
      "Considerando a hipótese nula de que a coluna GENDER é independente da variável alvo \"ICU\" obteve-se um p valor igual a       0.0662\n"
     ]
    }
   ],
   "source": [
    "p_value_gender = compute_chi2(df[['GENDER']], df['ICU'])\n",
    "print(f'Considerando a hipótese nula de que a coluna GENDER é independente da variável alvo \"ICU\" obteve-se um p valor igual a \\\n",
    "      {np.round(p_value_gender[\"GENDER\"],4)}')"
   ]
  },
  {
   "cell_type": "markdown",
   "id": "b922c19e-c753-43d9-9dd0-e6e1c12dff8a",
   "metadata": {},
   "source": [
    "Analisando o p valor da coluna de genêro no teste de Chi-Quadrado da hipótese nula da variável ser **independente** do paciente ir para **UTI**, foi maior que **5%**, portanto **não temos evidências para rejeitar a hipótese nula** e por esta razão vou eliminar a coluna \"GENDER\" do dataframe."
   ]
  },
  {
   "cell_type": "code",
   "execution_count": 41,
   "id": "2b974a53-1fe2-4b77-89ea-ada28b291dc1",
   "metadata": {},
   "outputs": [],
   "source": [
    "#Eliminando a coluna \"GENDER\"\n",
    "df.drop('GENDER', axis=1, inplace=True)"
   ]
  },
  {
   "cell_type": "markdown",
   "id": "deb7c200-e61f-4030-98c5-e856c32d1214",
   "metadata": {},
   "source": [
    "# Análise das demais variáveis categóricas"
   ]
  },
  {
   "cell_type": "markdown",
   "id": "b9834382-3a15-47ad-963d-0eba93479bd8",
   "metadata": {},
   "source": [
    "Além das colunas demográficas, as colunas que nos dizem se o paciente possui alguma doença ou alguma condição de saúde também são colunas categóricas binárias, portanto, podemos realizar o mesmo processo para visualizar as proporções e realizar um teste de Chi-Quadrado<br><br>\n",
    "No entanto, **não realizarei este teste**. Tomei esta decisão pois acredito que essas variáveis possuem uma relação direta com a saúde de um paciente e podem sofrer uma influência muito grande de outros fatores, como por exemplo, uma doença pode se agravar com a idade e, portanto, a proporção de pacientes que precisaram ir para UTI dado que esse paciente possui uma certa condição de saúde pode ser diferente dependendo da idade, o que não seria levado em conta em um teste realizado individualmente para cada variável."
   ]
  },
  {
   "cell_type": "code",
   "execution_count": 42,
   "id": "6827028e-777b-4d12-a44a-7818cbc15c8e",
   "metadata": {},
   "outputs": [],
   "source": [
    "#Selecionando as variáveis categóricas a respeito das doenças e condições médicas\n",
    "diseases = ['DISEASE GROUPING 1','DISEASE GROUPING 2','DISEASE GROUPING 3','DISEASE GROUPING 4',\\\n",
    "            'DISEASE GROUPING 5','DISEASE GROUPING 6','HTN','IMMUNOCOMPROMISED','OTHER', 'ICU']"
   ]
  },
  {
   "cell_type": "code",
   "execution_count": 43,
   "id": "3f5f46b4-78ea-4488-9a6c-fc4f3c22c6bd",
   "metadata": {},
   "outputs": [],
   "source": [
    "#Construindo um dataframe com as colunas relacionadas as doenças e \"ICU\", mantendo o \"ICU\" fixo e tranformando as demais colunas \n",
    "#em duas que representarão o nome da variável(\"variable\") e outra os valores correspondentes(\"value\")\n",
    "diseases_melt  = pd.melt(df[diseases], id_vars='ICU')\n",
    "\n",
    "#Calculando a proporção da variável \"ICU\" para cada combinação \"variable\"(coluna), \"value\"(valor)\n",
    "diseases_prop = diseases_melt.groupby(['variable','value'])['ICU'].mean().reset_index(name='Prop')"
   ]
  },
  {
   "cell_type": "code",
   "execution_count": 44,
   "id": "921be0cd-6952-4ea6-bc09-73a6eacf8aa0",
   "metadata": {},
   "outputs": [
    {
     "data": {
      "text/html": [
       "<div>\n",
       "<style scoped>\n",
       "    .dataframe tbody tr th:only-of-type {\n",
       "        vertical-align: middle;\n",
       "    }\n",
       "\n",
       "    .dataframe tbody tr th {\n",
       "        vertical-align: top;\n",
       "    }\n",
       "\n",
       "    .dataframe thead th {\n",
       "        text-align: right;\n",
       "    }\n",
       "</style>\n",
       "<table border=\"1\" class=\"dataframe\">\n",
       "  <thead>\n",
       "    <tr style=\"text-align: right;\">\n",
       "      <th></th>\n",
       "      <th>variable</th>\n",
       "      <th>value</th>\n",
       "      <th>Prop</th>\n",
       "    </tr>\n",
       "  </thead>\n",
       "  <tbody>\n",
       "    <tr>\n",
       "      <th>0</th>\n",
       "      <td>DISEASE GROUPING 1</td>\n",
       "      <td>0</td>\n",
       "      <td>0.349624</td>\n",
       "    </tr>\n",
       "    <tr>\n",
       "      <th>1</th>\n",
       "      <td>DISEASE GROUPING 1</td>\n",
       "      <td>1</td>\n",
       "      <td>0.428571</td>\n",
       "    </tr>\n",
       "    <tr>\n",
       "      <th>2</th>\n",
       "      <td>DISEASE GROUPING 2</td>\n",
       "      <td>0</td>\n",
       "      <td>0.348432</td>\n",
       "    </tr>\n",
       "    <tr>\n",
       "      <th>3</th>\n",
       "      <td>DISEASE GROUPING 2</td>\n",
       "      <td>1</td>\n",
       "      <td>0.714286</td>\n",
       "    </tr>\n",
       "    <tr>\n",
       "      <th>4</th>\n",
       "      <td>DISEASE GROUPING 3</td>\n",
       "      <td>0</td>\n",
       "      <td>0.338290</td>\n",
       "    </tr>\n",
       "    <tr>\n",
       "      <th>5</th>\n",
       "      <td>DISEASE GROUPING 3</td>\n",
       "      <td>1</td>\n",
       "      <td>0.560000</td>\n",
       "    </tr>\n",
       "    <tr>\n",
       "      <th>6</th>\n",
       "      <td>DISEASE GROUPING 4</td>\n",
       "      <td>0</td>\n",
       "      <td>0.347222</td>\n",
       "    </tr>\n",
       "    <tr>\n",
       "      <th>7</th>\n",
       "      <td>DISEASE GROUPING 4</td>\n",
       "      <td>1</td>\n",
       "      <td>0.833333</td>\n",
       "    </tr>\n",
       "    <tr>\n",
       "      <th>8</th>\n",
       "      <td>DISEASE GROUPING 5</td>\n",
       "      <td>0</td>\n",
       "      <td>0.338462</td>\n",
       "    </tr>\n",
       "    <tr>\n",
       "      <th>9</th>\n",
       "      <td>DISEASE GROUPING 5</td>\n",
       "      <td>1</td>\n",
       "      <td>0.500000</td>\n",
       "    </tr>\n",
       "    <tr>\n",
       "      <th>10</th>\n",
       "      <td>DISEASE GROUPING 6</td>\n",
       "      <td>0</td>\n",
       "      <td>0.357143</td>\n",
       "    </tr>\n",
       "    <tr>\n",
       "      <th>11</th>\n",
       "      <td>DISEASE GROUPING 6</td>\n",
       "      <td>1</td>\n",
       "      <td>0.357143</td>\n",
       "    </tr>\n",
       "    <tr>\n",
       "      <th>12</th>\n",
       "      <td>HTN</td>\n",
       "      <td>0</td>\n",
       "      <td>0.323770</td>\n",
       "    </tr>\n",
       "    <tr>\n",
       "      <th>13</th>\n",
       "      <td>HTN</td>\n",
       "      <td>1</td>\n",
       "      <td>0.520000</td>\n",
       "    </tr>\n",
       "    <tr>\n",
       "      <th>14</th>\n",
       "      <td>IMMUNOCOMPROMISED</td>\n",
       "      <td>0</td>\n",
       "      <td>0.337398</td>\n",
       "    </tr>\n",
       "    <tr>\n",
       "      <th>15</th>\n",
       "      <td>IMMUNOCOMPROMISED</td>\n",
       "      <td>1</td>\n",
       "      <td>0.458333</td>\n",
       "    </tr>\n",
       "    <tr>\n",
       "      <th>16</th>\n",
       "      <td>OTHER</td>\n",
       "      <td>0</td>\n",
       "      <td>0.375000</td>\n",
       "    </tr>\n",
       "    <tr>\n",
       "      <th>17</th>\n",
       "      <td>OTHER</td>\n",
       "      <td>1</td>\n",
       "      <td>0.352941</td>\n",
       "    </tr>\n",
       "  </tbody>\n",
       "</table>\n",
       "</div>"
      ],
      "text/plain": [
       "              variable  value      Prop\n",
       "0   DISEASE GROUPING 1      0  0.349624\n",
       "1   DISEASE GROUPING 1      1  0.428571\n",
       "2   DISEASE GROUPING 2      0  0.348432\n",
       "3   DISEASE GROUPING 2      1  0.714286\n",
       "4   DISEASE GROUPING 3      0  0.338290\n",
       "5   DISEASE GROUPING 3      1  0.560000\n",
       "6   DISEASE GROUPING 4      0  0.347222\n",
       "7   DISEASE GROUPING 4      1  0.833333\n",
       "8   DISEASE GROUPING 5      0  0.338462\n",
       "9   DISEASE GROUPING 5      1  0.500000\n",
       "10  DISEASE GROUPING 6      0  0.357143\n",
       "11  DISEASE GROUPING 6      1  0.357143\n",
       "12                 HTN      0  0.323770\n",
       "13                 HTN      1  0.520000\n",
       "14   IMMUNOCOMPROMISED      0  0.337398\n",
       "15   IMMUNOCOMPROMISED      1  0.458333\n",
       "16               OTHER      0  0.375000\n",
       "17               OTHER      1  0.352941"
      ]
     },
     "execution_count": 44,
     "metadata": {},
     "output_type": "execute_result"
    }
   ],
   "source": [
    "diseases_prop"
   ]
  },
  {
   "cell_type": "markdown",
   "id": "f1825cff-9c93-4ed5-af9c-6a87613af133",
   "metadata": {},
   "source": [
    "Com a tabela pronta indicando a proporção de pacientes que foram para UTI, dado que possuia alguma condição de saúde, podemos visualizar em um gráfico esse comportamento.<br>\n",
    "**OBS: POR CONTA DA ANONIMIZAÇÃO DOS DADOS NÃO FOI INFORMADO O QUE REPRESENTA CADA GRUPO DE DOENÇA**"
   ]
  },
  {
   "cell_type": "code",
   "execution_count": 45,
   "id": "9356354b-2e64-4497-b445-54959b7ba567",
   "metadata": {},
   "outputs": [
    {
     "data": {
      "image/png": "[encoded data removed]",
      "text/plain": [
       "<Figure size 1440x720 with 1 Axes>"
      ]
     },
     "metadata": {},
     "output_type": "display_data"
    }
   ],
   "source": [
    "#Criando a figura\n",
    "fig, ax = plt.subplots(figsize=(20,10)) \n",
    "\n",
    "#Criando o gráfico\n",
    "sns.barplot(data=diseases_prop, y='Prop', x='variable', hue='value', ax=ax, palette='muted')\n",
    "\n",
    "#Plotando rótulos e títulos\n",
    "labs(title='Proporção de pacientes que foram para UTI dentre os grupos de doenças', \n",
    "     subtitle='PROPORÇÃO CALCULADA DE PACIENTES QUE FORAM PARA UTI DADO QUE APRESENTOU DETERMINADO GRUPO DE DOENÇA',\n",
    "     xlabel='Variável', ylabel='Proporção',ax=ax)\n",
    "\n",
    "#Configurando a legenda\n",
    "handles, labels = ax.get_legend_handles_labels()\n",
    "plt.legend(handles[0:2], ['0','1'], bbox_to_anchor=(0.94, 1), loc=2, borderaxespad=0., fontsize=15)\n",
    "\n",
    "#Configurando o eixo x\n",
    "plt.xticks(range(9),labels=diseases_prop['variable'].str.split(r'_| ').str.join('\\n').unique())\n",
    "\n",
    "#Anotando em cima das barras\n",
    "annot_bar(ax)\n",
    "\n",
    "#Definindo o eixo y\n",
    "plt.ylim([0,1])\n",
    "\n",
    "#Adicionando uma referência para o gráfico\n",
    "plt.text(0,-0.12, 'GRÁFICO 5', color='black', transform=ax.transAxes, fontsize=15)\n",
    "plt.show()"
   ]
  },
  {
   "cell_type": "markdown",
   "id": "ee5ee995-1a34-499f-8ed3-6919bca8f3c7",
   "metadata": {},
   "source": [
    "A partir do gráfico 5 parece que algumas condições não apresentam uma chance maior de ir para UTI dado que o paciente possuia tal condição, por exemplo as variáveis \"DISEASE GROUPING 6\" e \"OTHER\", possuem proporções muito próximas, independente do valor. \n",
    "<br><br>\n",
    "No entanto, como foi mencionado anteriormente, não aplicarei nenhum teste para removê-las, e manterei no dataset por enquanto."
   ]
  },
  {
   "cell_type": "markdown",
   "id": "4227bf9c-a91e-4a1c-bb64-7b234bd1c929",
   "metadata": {},
   "source": [
    "# Análise das variáveis numéricas"
   ]
  },
  {
   "cell_type": "markdown",
   "id": "09de3df9-6b06-4d35-9954-7cea10466fb2",
   "metadata": {},
   "source": [
    "Como foi visto no início deste notebook, o dataset que estamos analisando possuem muitas colunas e, a maior parte delas eram numéricas. A fim de estudar se todas essas variáveis são importantes na hora de criar um modelo de Machine Learning existem algumas técnicas que podem ser aplicadas, como por exemplo:<br>\n",
    "\n",
    "* Análise de correlação : se tivermos em nosso dataset muitas variáveis que estão altamente correlacionadas elas podem ser representados com apenas uma dessas colunas, por exemplo, em vez de ter 5 colunas que trazem a mesma informação, de modo de que quando uma aumente a outra possua um comportamento semelhante, aumentando ou descrescendo na mesma intensidade, podemos eliminar 4 delas e manter apenas 1 dessas colunas.<br><br>\n",
    "* Análise de variância : colunas com uma variância igual a 0, ou seja, possuem o mesmo valor em todo o dataset não trazem nenhuma informação em relação a variável alvo e podem ser todas eliminadas."
   ]
  },
  {
   "cell_type": "markdown",
   "id": "178a74da-f9cc-44da-a99f-abe327201065",
   "metadata": {},
   "source": [
    "## Análise de correção entre as variáveis"
   ]
  },
  {
   "cell_type": "markdown",
   "id": "4606c11a-fdbc-4f2d-816a-6e11c90124c4",
   "metadata": {},
   "source": [
    "Para entender se existem colunas com uma correlação muito alta em nosso dataset, vamos observar um mapa de calor com as correlações calculadas para cada combinação de colunas."
   ]
  },
  {
   "cell_type": "markdown",
   "id": "ec0dea7a-252c-4525-975e-1aab050484c7",
   "metadata": {},
   "source": [
    "**OBS: A CORRELAÇÃO SERÁ CALCULADA EM FORMA DE MÓDULO, OU SEJA, MEDINDO A FORÇA DESSA CORRELAÇÃO INDEPENDENTE DO SINAL(positiva ou negativa)**"
   ]
  },
  {
   "cell_type": "code",
   "execution_count": null,
   "id": "766b6aef-df49-4655-96ae-75409b0ae3f9",
   "metadata": {},
   "outputs": [],
   "source": [
    "#Criando a figura\n",
    "fig,ax = plt.subplots(figsize=(35, 30))\n",
    "\n",
    "#Criando a matriz de correlação absoluta usando apenas colunas contínuas\n",
    "cor = df.select_dtypes('float64').corr().abs()\n",
    "\n",
    "#Criando uma máscara para ocultar a diagonal e a parte triangular superior da matriz\n",
    "mask = np.triu(np.ones_like(cor, dtype=bool))\n",
    "\n",
    "#Criando o gráfico\n",
    "sns.heatmap(cor,\n",
    "            cmap='Reds',\n",
    "            mask=mask,\n",
    "            ax=ax)\n",
    "\n",
    "#Plotando rótulos e títulos\n",
    "labs(title='Correlação entre variáveis contínuas do conjunto de dados', ax=ax)\n",
    "\n",
    "#Mudando o tamnho da fonte da barra de cor\n",
    "cbar = ax.collections[0].colorbar\n",
    "cbar.ax.tick_params(labelsize=20)\n",
    "\n",
    "#Adicionando uma referência para o gráfico\n",
    "plt.text(0,-0.15, 'GRÁFICO 6', color='black', transform=ax.transAxes, fontsize=15)\n",
    "plt.show()"
   ]
  },
  {
   "cell_type": "markdown",
   "id": "055bad35-963b-4549-bc17-466a207fbf75",
   "metadata": {},
   "source": [
    "A partir do gráfico 6 percebemos que muitas colunas possuem uma alta correlação absoluta, ou seja, temos uma motivação para eliminar colunas correlacionadas de forma que apenas uma delas continue no dataset.<br><br>\n",
    "Para isso, vou utilizar a função compute_high_corr( ), definida no arquivo [funcoes/feature](https://github.com/PedroHCAlmeida/Projeto_final_bootcamp/blob/main/funcoes/feature.py), que irá calcular a matriz de correlação das colunas e percorrer essa matriz de tal forma que se uma coluna tiver uma correlação mais alta que o valor de corte em relação a alguma coluna que já foi percorrida ela será armazenada em uma lista e essa lista será retornada ao final, ou seja, em um grupo onde existem diversas colunas correlacionas apenas uma delas será mantida."
   ]
  },
  {
   "cell_type": "code",
   "execution_count": null,
   "id": "c8c0877b-8396-4d04-b786-ae1d1090c0b6",
   "metadata": {},
   "outputs": [],
   "source": [
    "#Calculando as colunas para eliminar com um valor de corte de 0.95\n",
    "cols_drop_high_corr = compute_high_corr(df.select_dtypes('float64'), 0.95)\n",
    "#Mostrando na tela essas colunas\n",
    "print(cols_drop_high_corr)\n",
    "#Mostrando na tela a quantidade de colunas\n",
    "print(len(cols_drop_high_corr))"
   ]
  },
  {
   "cell_type": "markdown",
   "id": "3912fc43-db4f-42e5-85b0-f3b4ccd1bdb3",
   "metadata": {},
   "source": [
    "Podemos perceber que, de acordo com a função compute_high_corr( ), podemos eliminar essas 134 colunas pois existem outras colunas no dataset que possuem uma alta correlação com estas."
   ]
  },
  {
   "cell_type": "code",
   "execution_count": null,
   "id": "118803dc-cb18-44d8-9e2d-c5bc19c3c45a",
   "metadata": {},
   "outputs": [],
   "source": [
    "df.drop(cols_drop_high_corr, axis=1, inplace=True)"
   ]
  },
  {
   "cell_type": "markdown",
   "id": "b5f669db-826b-470c-85a8-19627562a5e8",
   "metadata": {},
   "source": [
    "## Análise da variância "
   ]
  },
  {
   "cell_type": "markdown",
   "id": "096edc57-0ad5-48ff-9389-5914dfdc11fe",
   "metadata": {},
   "source": [
    "Outro fator que podemos analisar de forma fácil e, já nos diz muito sobre determinada variável, é a variância. Esta é uma medida usada para mensurar a dispersão dos dados em um conjunto, ou seja, quanto menor essa variância mais agrupados estão os valores. <br>\n",
    "\n",
    "Uma vez que nós estamos trabalhando com dados normalizados, como foi informado pelo Sírio-Libanês, fica difícil ter uma referência de qual o valor mínimo de uma variância para uma variável ser considerada importante, no entanto, temos uma certeza, se alguma das variáveis possui uma **variância igual a zero**, é porque ela é **completamente desnecessária** ao se resolver o nosso problema.\n",
    "\n",
    "Para analisar este fato, primeiramente vou olhar para o boxplot de 15 colunas aleatórias a fim de encontrar algo que possamos analisar, ou, conseguimos ver se alguma dessas colunas possui variância zero."
   ]
  },
  {
   "cell_type": "code",
   "execution_count": null,
   "id": "81445aba-3291-44fa-befd-04ce49547022",
   "metadata": {},
   "outputs": [],
   "source": [
    "#Setando a semente aletória que foi definida no começo do notebook\n",
    "np.random.seed(SEED)\n",
    "\n",
    "#Selecionando o dataset com as colunas contínuas\n",
    "cont = df.select_dtypes('float64')\n",
    "\n",
    "#Escolhendo o dataset com 15 colunas aleatórias\n",
    "sample = cont[np.random.choice(cont.columns, size=15, replace=False)]\n",
    "\n",
    "#Juntando com a informação da variável alvo para analisar a diferença entre os grupos\n",
    "sample_cont = pd.concat([sample, df['ICU']],axis=1) \n",
    "\n",
    "#Transformando as colunas em uma coluna \"variable\" e os valores em uma coluna \"value\" e mantendo a variável \"ICU\" fixa \n",
    "cont_melt = pd.melt(sample_cont, id_vars='ICU')"
   ]
  },
  {
   "cell_type": "code",
   "execution_count": null,
   "id": "10437f5f-e038-4506-b1a5-4f14a40286e0",
   "metadata": {},
   "outputs": [],
   "source": [
    "cont_melt.head()"
   ]
  },
  {
   "cell_type": "code",
   "execution_count": null,
   "id": "9dbc6840-72c3-4613-87c6-f6f6bacd360a",
   "metadata": {},
   "outputs": [],
   "source": [
    "#Criando a figura\n",
    "fig, ax = plt.subplots(figsize=(20,10))\n",
    "\n",
    "#Criando os boxplots\n",
    "sns.boxplot(x='variable', y='value', hue='ICU',\n",
    "            data=cont_melt, palette=['#3366ff', '#993300'], \n",
    "            ax=ax, showfliers=False)\n",
    "\n",
    "#Criando os stripsplots\n",
    "sns.stripplot(x='variable', y='value', hue='ICU',\n",
    "              data=cont_melt, palette=['#3366ff', '#993300'],\n",
    "              ax=ax, dodge=True)\n",
    "\n",
    "#Plotando rótulos e títulos\n",
    "labs(title='Boxplots de 15 colunas contínuas aleatórias', \n",
    "     xlabel='Variável', \n",
    "     ylabel='Valor', \n",
    "     subtitle='COLUNAS REFERENTES AOS DADOS MÉDICOS DE EXAMES E SINAIS VITAIS', ax=ax)\n",
    "\n",
    "#Configurando o eixo x\n",
    "plt.xticks(range(15),labels=cont_melt['variable'].str.split('_').str.join('\\n').unique(), rotation=35)\n",
    "\n",
    "#Configurando a legenda\n",
    "handles, labels = ax.get_legend_handles_labels()\n",
    "plt.legend(handles[0:2], ['Não foi para UTI', 'Foi para UTI'], bbox_to_anchor=(0.85, 1), loc=2, borderaxespad=0., fontsize=15)\n",
    "\n",
    "#Adicionando uma referência para o gráfico\n",
    "plt.text(0,-0.15, 'GRÁFICO 7', color='black', transform=ax.transAxes, fontsize=15)\n",
    "plt.show()"
   ]
  },
  {
   "cell_type": "markdown",
   "id": "cec26435-26b2-4583-83f2-e2b5c20e6e55",
   "metadata": {},
   "source": [
    "A partir dos boxplots percebemos que algumas variáveis parecem realmente ter uma variância muito baixa, como a \"SODIUM DIFF\", \"CREATININ DIFF\", e as demais que representam diferenças. Por outro lado, percebe-se uma diferença muito grande dos valores de quem foi para UTI e de quem não foi na variável \"LACTATE MEDIAN, podendo indicar que essa variável seja importante na hora de modelar os dados.<br><br>\n",
    "Por esta razão vou eliminar todas aquelas variáveis com um valor de variância igual a 0."
   ]
  },
  {
   "cell_type": "code",
   "execution_count": null,
   "id": "5a85d785-b3fe-41ca-adc8-9698fadffce0",
   "metadata": {},
   "outputs": [],
   "source": [
    "#Criando uma série com as variâncias para cada coluna numérica\n",
    "var = df.select_dtypes('float64').var()\n",
    "#Ordenando em ordem crescente e mostrando os primeiros valores\n",
    "var.sort_values().head()"
   ]
  },
  {
   "cell_type": "markdown",
   "id": "85f30bb6-b30f-4fc7-bf94-3ddccf887e06",
   "metadata": {},
   "source": [
    "Observando os primeiros valores já percebe-se que temos algumas colunas com variância igual a 0."
   ]
  },
  {
   "cell_type": "code",
   "execution_count": null,
   "id": "add69704-0461-476c-9406-21f510c2c244",
   "metadata": {},
   "outputs": [],
   "source": [
    "#Selecionando as colunas com variância igual a 0\n",
    "cols_0_var = [col for col in var.index if var[col] == 0]\n",
    "#Imprimindo na tela as colunas com variância igual a 0\n",
    "print(cols_0_var)\n",
    "#Mostrando na tela a quantidade de colunas\n",
    "print(len(cols_0_var))"
   ]
  },
  {
   "cell_type": "markdown",
   "id": "ee372881-410b-4e4e-9b92-81fe57acb322",
   "metadata": {},
   "source": [
    "Podemos perceber que temos 36 colunas com variância igual a 0 no dataset, e, por esta razão irei eliminá-las."
   ]
  },
  {
   "cell_type": "code",
   "execution_count": null,
   "id": "403679c3-f335-4f1e-adf5-a22082bf88b9",
   "metadata": {},
   "outputs": [],
   "source": [
    "#Eliminando as colunas com variância igual a 0\n",
    "df.drop(cols_0_var,axis=1, inplace=True)"
   ]
  },
  {
   "cell_type": "code",
   "execution_count": null,
   "id": "b24226a2-7f06-4418-9d9c-2ff3ffab9a1a",
   "metadata": {},
   "outputs": [],
   "source": [
    "df.head()"
   ]
  },
  {
   "cell_type": "code",
   "execution_count": null,
   "id": "4d78ef63-c981-45f0-bed3-fa60581d118f",
   "metadata": {},
   "outputs": [],
   "source": [
    "df.shape"
   ]
  },
  {
   "cell_type": "markdown",
   "id": "19b955b6-eb2c-4a7c-a9e1-ce08ba1ad126",
   "metadata": {},
   "source": [
    "Podemos ver que saímos de 231 para 62 colunas e agora chegou o momento de testar os modelos de Machine Learning a fim de solucionar o problema. Para isso vou salvar esses dados pré-processados na pasta [dados/dados_preprocessados](https://github.com/PedroHCAlmeida/Projeto_final_bootcamp/tree/main/dados/dados_preprocessados). E continuar o trabalho no notebook, dedicado aos modelos, [notebooks/Previsoes](https://github.com/PedroHCAlmeida/Projeto_final_bootcamp/blob/main/notebooks/Previsoes.ipynb)."
   ]
  },
  {
   "cell_type": "markdown",
   "id": "d5efca52-d64a-49db-9fb8-47e82157fcb6",
   "metadata": {},
   "source": [
    "# Salvando dados pré-processados"
   ]
  },
  {
   "cell_type": "code",
   "execution_count": null,
   "id": "93d31055-6de2-42db-842e-f17dc4dfca47",
   "metadata": {},
   "outputs": [],
   "source": [
    "df.to_csv('../dados/dados_preprocessados/preprocessados.csv', index=False)"
   ]
  }
 ],
 "metadata": {
  "kernelspec": {
   "display_name": "Python (bootcampfinal)",
   "language": "python",
   "name": "bootcampfinal"
  },
  "language_info": {
   "codemirror_mode": {
    "name": "ipython",
    "version": 3
   },
   "file_extension": ".py",
   "mimetype": "text/x-python",
   "name": "python",
   "nbconvert_exporter": "python",
   "pygments_lexer": "ipython3",
   "version": "3.9.6"
  }
 },
 "nbformat": 4,
 "nbformat_minor": 5
}
