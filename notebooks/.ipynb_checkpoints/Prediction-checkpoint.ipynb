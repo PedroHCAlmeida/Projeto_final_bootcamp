{
 "cells": [
  {
   "cell_type": "code",
   "execution_count": 20,
   "id": "1a520ee7-2bf6-4364-9b7a-795deafccbac",
   "metadata": {},
   "outputs": [],
   "source": [
    "import numpy as np\n",
    "import pandas as pd\n",
    "\n",
    "import matplotlib.pyplot as plt\n",
    "import seaborn as sns\n",
    "\n",
    "from sklearn.pipeline import Pipeline\n",
    "from sklearn.preprocessing import LabelEncoder\n",
    "from sklearn.linear_model import LogisticRegression\n",
    "from sklearn.tree import DecisionTreeClassifier\n",
    "from sklearn.ensemble import RandomForestClassifier, GradientBoostingClassifier, AdaBoostClassifier, StackingClassifier\n",
    "from sklearn.naive_bayes import GaussianNB\n",
    "from sklearn.linear_model import RidgeClassifier\n",
    "from sklearn.gaussian_process import GaussianProcessClassifier\n",
    "\n",
    "import warnings\n",
    "import os\n",
    "from tqdm import tqdm_notebook as tqdm "
   ]
  },
  {
   "cell_type": "code",
   "execution_count": 2,
   "id": "eb41dbcb-f661-4118-82ad-61cba737d510",
   "metadata": {},
   "outputs": [],
   "source": [
    "from sklearn.model_selection import ParameterGrid"
   ]
  },
  {
   "cell_type": "code",
   "execution_count": 3,
   "id": "18a41238-16e1-458a-af93-896c4b4bc2ff",
   "metadata": {},
   "outputs": [],
   "source": [
    "warnings.filterwarnings('ignore')"
   ]
  },
  {
   "cell_type": "code",
   "execution_count": 4,
   "id": "b697249f-de73-480f-bd4f-cf29edf5b5cb",
   "metadata": {},
   "outputs": [],
   "source": [
    "os.chdir(\"../functions\")\n",
    "from preprocessing import target_encoder\n",
    "from feature import Drop_features_files\n",
    "from model import Model\n",
    "os.chdir(\"../notebooks\")"
   ]
  },
  {
   "cell_type": "code",
   "execution_count": 5,
   "id": "14bb0673-7364-4a96-97e5-0863330ffa52",
   "metadata": {},
   "outputs": [],
   "source": [
    "sns.set_style('darkgrid')"
   ]
  },
  {
   "cell_type": "code",
   "execution_count": 18,
   "id": "3e527f91-35c4-46d2-982e-7104484ee6d5",
   "metadata": {},
   "outputs": [],
   "source": [
    "data = pd.read_csv('../data/preprocessed_data/Kaggle_Sirio_Libanes_ICU_Prediction.csv')"
   ]
  },
  {
   "cell_type": "code",
   "execution_count": 7,
   "id": "1f4c3e36-214b-4add-8498-455d42060e7c",
   "metadata": {},
   "outputs": [],
   "source": [
    "#te = target_encoder()\n",
    "#te.fit(data,None)\n",
    "#data = te.transform(data)\n",
    "#data = data.drop(['WINDOW', 'PATIENT_VISIT_IDENTIFIER'],axis=1)"
   ]
  },
  {
   "cell_type": "code",
   "execution_count": 27,
   "id": "653e97d9-6cbe-4e06-8423-51b824d70721",
   "metadata": {},
   "outputs": [
    {
     "data": {
      "text/plain": [
       "0      5\n",
       "1      0\n",
       "2      3\n",
       "3      0\n",
       "4      0\n",
       "      ..\n",
       "289    3\n",
       "290    9\n",
       "291    4\n",
       "292    3\n",
       "293    4\n",
       "Name: AGE_PERCENTIL, Length: 294, dtype: int64"
      ]
     },
     "execution_count": 27,
     "metadata": {},
     "output_type": "execute_result"
    }
   ],
   "source": [
    "le = LabelEncoder()\n",
    "data.AGE_PERCENTIL = le.fit_transform(data.AGE_PERCENTIL)\n",
    "data = data.drop(['WINDOW', 'PATIENT_VISIT_IDENTIFIER'],axis=1)\n",
    "data.AGE_PERCENTIL"
   ]
  },
  {
   "cell_type": "code",
   "execution_count": 25,
   "id": "475e7081-3621-406d-8ca7-a64e9f74b6d7",
   "metadata": {},
   "outputs": [],
   "source": [
    "chi2_5 = 'chi2_alpha_0.05.txt'\n",
    "chi2_2_5 = 'chi2_alpha_0.025.txt'\n",
    "high_corr_95 = 'high_corr_thd_0.95.txt'\n",
    "high_corr_90 = 'high_corr_thd_0.9.txt'\n",
    "eq_mean_5 = 'equal_mean_alpha_0.05.txt'\n",
    "eq_mean_2_5 = 'equal_mean_alpha_0.025.txt'"
   ]
  },
  {
   "cell_type": "markdown",
   "id": "f9c9433c-38d5-4f06-af05-ce471c49a7ee",
   "metadata": {},
   "source": [
    "## DummyClassifier"
   ]
  },
  {
   "cell_type": "markdown",
   "id": "ff431213-dd09-4041-b0a6-947b8bb293aa",
   "metadata": {},
   "source": [
    "## LogisticRegression"
   ]
  },
  {
   "cell_type": "code",
   "execution_count": 243,
   "id": "632dbd4d-5b37-4346-9414-9e3e97dd9e1b",
   "metadata": {},
   "outputs": [
    {
     "data": {
      "application/vnd.jupyter.widget-view+json": {
       "model_id": "4773f6a9fd5a4dc29d111ffb669c2c24",
       "version_major": 2,
       "version_minor": 0
      },
      "text/plain": [
       "  0%|          | 0/50 [00:00<?, ?it/s]"
      ]
     },
     "metadata": {},
     "output_type": "display_data"
    },
    {
     "name": "stdout",
     "output_type": "stream",
     "text": [
      "10 repetições de Validação Cruzada com 5 divisões no dataset\n",
      "----------------------------------------------------------------------------------\n",
      "CLASSIFICADOR                   : LogisticRegression(max_iter=10000)\n",
      "MÉTODOS DE SELEÇÃO DE VARIÁVEIS : None\n",
      "\n",
      "------------------------------------------|---------------------------------------\n",
      "Métricas no dataset de teste:             | Métricas no dataset de treino: \n",
      "------------------------------------------|---------------------------------------\n",
      "ROC AUC MÉDIA         : 0.743             |ROC AUC MÉDIA         : 0.860\n",
      "ROC AUC DESVIO PADRÃO : 0.056             |ROC AUC DESVIO PADRÃO : 0.010\n",
      "ROC AUC ITERVALO      : 0.743 ± 0.015     |ROC AUC ITERVALO      : 0.860 ± 0.003\n",
      "DE CONFIÂNCIA DE 95%                      |DE CONFIÂNCIA DE 95%\n",
      "  \n",
      "DEMAIS MÉTRICAS                           |DEMAIS MÉTRICAS\n",
      "------------------------------------------|---------------------------------------\n",
      "ACCURACY  MÉDIA       : 0.702             |ACCURACY  MÉDIA       : 0.790\n",
      "PRECISÃO  MÉDIA       : 0.680             |ACCURACY  MÉDIA       : 0.781\n",
      "RECALL MÉDIO          : 0.647             |RECALL MÉDIO          : 0.748\n",
      "F1-SCORE  MÉDIO       : 0.651             |F1-SCORE  MÉDIO       : 0.759\n",
      "\n",
      "TEMPO MÉDIO DE TREINAMENTO:0.081\n"
     ]
    }
   ],
   "source": [
    "lr = Model(LogisticRegression(max_iter=10000), data)\n",
    "lr.cross_val()"
   ]
  },
  {
   "cell_type": "code",
   "execution_count": 244,
   "id": "df3b0f8a-2446-4ca7-9e52-219fad10e260",
   "metadata": {},
   "outputs": [
    {
     "data": {
      "application/vnd.jupyter.widget-view+json": {
       "model_id": "9f8465fc4bb94b2da397870444dd8569",
       "version_major": 2,
       "version_minor": 0
      },
      "text/plain": [
       "  0%|          | 0/14 [00:00<?, ?it/s]"
      ]
     },
     "metadata": {},
     "output_type": "display_data"
    },
    {
     "data": {
      "application/vnd.jupyter.widget-view+json": {
       "model_id": "1f2045b2a5794be4b020d2e6892494f1",
       "version_major": 2,
       "version_minor": 0
      },
      "text/plain": [
       "  0%|          | 0/50 [00:00<?, ?it/s]"
      ]
     },
     "metadata": {},
     "output_type": "display_data"
    },
    {
     "data": {
      "application/vnd.jupyter.widget-view+json": {
       "model_id": "b9603b2b4657427ea7c174c443202aff",
       "version_major": 2,
       "version_minor": 0
      },
      "text/plain": [
       "  0%|          | 0/50 [00:00<?, ?it/s]"
      ]
     },
     "metadata": {},
     "output_type": "display_data"
    },
    {
     "data": {
      "application/vnd.jupyter.widget-view+json": {
       "model_id": "917de8c622c9450daa92643fe7684c98",
       "version_major": 2,
       "version_minor": 0
      },
      "text/plain": [
       "  0%|          | 0/50 [00:00<?, ?it/s]"
      ]
     },
     "metadata": {},
     "output_type": "display_data"
    },
    {
     "data": {
      "application/vnd.jupyter.widget-view+json": {
       "model_id": "dd0aa95ae91e4a3ba963f39646c5f922",
       "version_major": 2,
       "version_minor": 0
      },
      "text/plain": [
       "  0%|          | 0/50 [00:00<?, ?it/s]"
      ]
     },
     "metadata": {},
     "output_type": "display_data"
    },
    {
     "data": {
      "application/vnd.jupyter.widget-view+json": {
       "model_id": "78aa656b6a4946f68f7d6f51f6075349",
       "version_major": 2,
       "version_minor": 0
      },
      "text/plain": [
       "  0%|          | 0/50 [00:00<?, ?it/s]"
      ]
     },
     "metadata": {},
     "output_type": "display_data"
    },
    {
     "data": {
      "application/vnd.jupyter.widget-view+json": {
       "model_id": "feaf9f1347d14612945c3572d77b7c36",
       "version_major": 2,
       "version_minor": 0
      },
      "text/plain": [
       "  0%|          | 0/50 [00:00<?, ?it/s]"
      ]
     },
     "metadata": {},
     "output_type": "display_data"
    },
    {
     "data": {
      "application/vnd.jupyter.widget-view+json": {
       "model_id": "6e43ad626b4c406a9e61aa8348865883",
       "version_major": 2,
       "version_minor": 0
      },
      "text/plain": [
       "  0%|          | 0/50 [00:00<?, ?it/s]"
      ]
     },
     "metadata": {},
     "output_type": "display_data"
    },
    {
     "data": {
      "application/vnd.jupyter.widget-view+json": {
       "model_id": "70be4af37c104ba79f48ff8ff438b636",
       "version_major": 2,
       "version_minor": 0
      },
      "text/plain": [
       "  0%|          | 0/50 [00:00<?, ?it/s]"
      ]
     },
     "metadata": {},
     "output_type": "display_data"
    },
    {
     "data": {
      "application/vnd.jupyter.widget-view+json": {
       "model_id": "129585651971492d9fa62ee308234fee",
       "version_major": 2,
       "version_minor": 0
      },
      "text/plain": [
       "  0%|          | 0/50 [00:00<?, ?it/s]"
      ]
     },
     "metadata": {},
     "output_type": "display_data"
    },
    {
     "data": {
      "application/vnd.jupyter.widget-view+json": {
       "model_id": "a9aac8f090884922b14167fd0d48cfb6",
       "version_major": 2,
       "version_minor": 0
      },
      "text/plain": [
       "  0%|          | 0/50 [00:00<?, ?it/s]"
      ]
     },
     "metadata": {},
     "output_type": "display_data"
    },
    {
     "data": {
      "application/vnd.jupyter.widget-view+json": {
       "model_id": "75251c0b20024092a1ab7c1d488ece77",
       "version_major": 2,
       "version_minor": 0
      },
      "text/plain": [
       "  0%|          | 0/50 [00:00<?, ?it/s]"
      ]
     },
     "metadata": {},
     "output_type": "display_data"
    },
    {
     "data": {
      "application/vnd.jupyter.widget-view+json": {
       "model_id": "486e95f4a943420b9a518dbf76fe92f5",
       "version_major": 2,
       "version_minor": 0
      },
      "text/plain": [
       "  0%|          | 0/50 [00:00<?, ?it/s]"
      ]
     },
     "metadata": {},
     "output_type": "display_data"
    },
    {
     "data": {
      "application/vnd.jupyter.widget-view+json": {
       "model_id": "4f149daab6b34d139b8efef038869e05",
       "version_major": 2,
       "version_minor": 0
      },
      "text/plain": [
       "  0%|          | 0/50 [00:00<?, ?it/s]"
      ]
     },
     "metadata": {},
     "output_type": "display_data"
    },
    {
     "data": {
      "application/vnd.jupyter.widget-view+json": {
       "model_id": "2fbe3525a15b4aef9580231b04420228",
       "version_major": 2,
       "version_minor": 0
      },
      "text/plain": [
       "  0%|          | 0/50 [00:00<?, ?it/s]"
      ]
     },
     "metadata": {},
     "output_type": "display_data"
    },
    {
     "data": {
      "application/vnd.jupyter.widget-view+json": {
       "model_id": "0e189fb78f644b238f50d6c8bbec7aa6",
       "version_major": 2,
       "version_minor": 0
      },
      "text/plain": [
       "  0%|          | 0/50 [00:00<?, ?it/s]"
      ]
     },
     "metadata": {},
     "output_type": "display_data"
    },
    {
     "ename": "KeyboardInterrupt",
     "evalue": "",
     "output_type": "error",
     "traceback": [
      "\u001b[1;31m---------------------------------------------------------------------------\u001b[0m",
      "\u001b[1;31mKeyboardInterrupt\u001b[0m                         Traceback (most recent call last)",
      "\u001b[1;32m<ipython-input-244-e96224dc69b6>\u001b[0m in \u001b[0;36m<module>\u001b[1;34m\u001b[0m\n\u001b[0;32m      1\u001b[0m \u001b[0mgrid\u001b[0m\u001b[1;33m=\u001b[0m\u001b[1;33m{\u001b[0m\u001b[1;34m\"C\"\u001b[0m\u001b[1;33m:\u001b[0m\u001b[0mnp\u001b[0m\u001b[1;33m.\u001b[0m\u001b[0mlogspace\u001b[0m\u001b[1;33m(\u001b[0m\u001b[1;33m-\u001b[0m\u001b[1;36m3\u001b[0m\u001b[1;33m,\u001b[0m\u001b[1;36m3\u001b[0m\u001b[1;33m,\u001b[0m\u001b[1;36m7\u001b[0m\u001b[1;33m)\u001b[0m\u001b[1;33m,\u001b[0m \u001b[1;34m\"penalty\"\u001b[0m\u001b[1;33m:\u001b[0m\u001b[1;33m[\u001b[0m\u001b[1;34m\"l1\"\u001b[0m\u001b[1;33m,\u001b[0m\u001b[1;34m\"l2\"\u001b[0m\u001b[1;33m]\u001b[0m\u001b[1;33m}\u001b[0m\u001b[1;33m\u001b[0m\u001b[1;33m\u001b[0m\u001b[0m\n\u001b[1;32m----> 2\u001b[1;33m \u001b[0mlr\u001b[0m\u001b[1;33m.\u001b[0m\u001b[0msearch\u001b[0m\u001b[1;33m(\u001b[0m\u001b[0mgrid\u001b[0m\u001b[1;33m)\u001b[0m\u001b[1;33m\u001b[0m\u001b[1;33m\u001b[0m\u001b[0m\n\u001b[0m",
      "\u001b[1;32m<ipython-input-242-7f4726de28c5>\u001b[0m in \u001b[0;36msearch\u001b[1;34m(self, params, score, type_search, n_iter, n_splits, n_repeats, report_final)\u001b[0m\n\u001b[0;32m     57\u001b[0m             \u001b[0mnew_pipe\u001b[0m\u001b[1;33m.\u001b[0m\u001b[0mappend\u001b[0m\u001b[1;33m(\u001b[0m\u001b[0mtuple\u001b[0m\u001b[1;33m(\u001b[0m\u001b[1;33m[\u001b[0m\u001b[1;34m'clf'\u001b[0m\u001b[1;33m,\u001b[0m \u001b[0mnew_model\u001b[0m\u001b[1;33m(\u001b[0m\u001b[1;33m**\u001b[0m\u001b[0mself\u001b[0m\u001b[1;33m.\u001b[0m\u001b[0mbest_params\u001b[0m\u001b[1;33m)\u001b[0m\u001b[1;33m]\u001b[0m\u001b[1;33m)\u001b[0m\u001b[1;33m)\u001b[0m\u001b[1;33m\u001b[0m\u001b[1;33m\u001b[0m\u001b[0m\n\u001b[0;32m     58\u001b[0m             \u001b[0mself\u001b[0m\u001b[1;33m.\u001b[0m\u001b[0mpipe\u001b[0m \u001b[1;33m=\u001b[0m \u001b[0mPipeline\u001b[0m\u001b[1;33m(\u001b[0m\u001b[0mnew_pipe\u001b[0m\u001b[1;33m)\u001b[0m\u001b[1;33m\u001b[0m\u001b[1;33m\u001b[0m\u001b[0m\n\u001b[1;32m---> 59\u001b[1;33m             \u001b[0mself\u001b[0m\u001b[1;33m.\u001b[0m\u001b[0mcross_val\u001b[0m\u001b[1;33m(\u001b[0m\u001b[0mn_splits\u001b[0m\u001b[1;33m=\u001b[0m\u001b[0mn_splits\u001b[0m\u001b[1;33m,\u001b[0m \u001b[0mn_repeats\u001b[0m\u001b[1;33m=\u001b[0m\u001b[0mn_repeats\u001b[0m\u001b[1;33m)\u001b[0m\u001b[1;33m\u001b[0m\u001b[1;33m\u001b[0m\u001b[0m\n\u001b[0m\u001b[0;32m     60\u001b[0m         \u001b[1;32mreturn\u001b[0m \u001b[0mself\u001b[0m\u001b[1;33m.\u001b[0m\u001b[0mbest_params\u001b[0m\u001b[1;33m\u001b[0m\u001b[1;33m\u001b[0m\u001b[0m\n\u001b[0;32m     61\u001b[0m \u001b[1;33m\u001b[0m\u001b[0m\n",
      "\u001b[1;32m<ipython-input-242-7f4726de28c5>\u001b[0m in \u001b[0;36mcross_val\u001b[1;34m(self, train_results, report, n_splits, n_repeats, scoring, fprs_tprs, tqdm_reset)\u001b[0m\n\u001b[0;32m     77\u001b[0m         \u001b[1;32mfor\u001b[0m \u001b[0m_\u001b[0m\u001b[1;33m,\u001b[0m \u001b[1;33m(\u001b[0m\u001b[0mtrain\u001b[0m\u001b[1;33m,\u001b[0m \u001b[0mtest\u001b[0m\u001b[1;33m)\u001b[0m \u001b[1;32min\u001b[0m \u001b[0mzip\u001b[0m\u001b[1;33m(\u001b[0m\u001b[0mrange\u001b[0m\u001b[1;33m(\u001b[0m\u001b[0mself\u001b[0m\u001b[1;33m.\u001b[0m\u001b[0mlen\u001b[0m\u001b[1;33m)\u001b[0m\u001b[1;33m,\u001b[0m\u001b[0mcv\u001b[0m\u001b[1;33m.\u001b[0m\u001b[0msplit\u001b[0m\u001b[1;33m(\u001b[0m\u001b[0mself\u001b[0m\u001b[1;33m.\u001b[0m\u001b[0mx\u001b[0m\u001b[1;33m,\u001b[0m \u001b[0mself\u001b[0m\u001b[1;33m.\u001b[0m\u001b[0my\u001b[0m\u001b[1;33m)\u001b[0m\u001b[1;33m)\u001b[0m\u001b[1;33m:\u001b[0m\u001b[1;33m\u001b[0m\u001b[1;33m\u001b[0m\u001b[0m\n\u001b[0;32m     78\u001b[0m             \u001b[0mstart\u001b[0m \u001b[1;33m=\u001b[0m \u001b[0mtime\u001b[0m\u001b[1;33m.\u001b[0m\u001b[0mtime\u001b[0m\u001b[1;33m(\u001b[0m\u001b[1;33m)\u001b[0m\u001b[1;33m\u001b[0m\u001b[1;33m\u001b[0m\u001b[0m\n\u001b[1;32m---> 79\u001b[1;33m             \u001b[0mself\u001b[0m\u001b[1;33m.\u001b[0m\u001b[0mpipe\u001b[0m\u001b[1;33m.\u001b[0m\u001b[0mfit\u001b[0m\u001b[1;33m(\u001b[0m\u001b[0mself\u001b[0m\u001b[1;33m.\u001b[0m\u001b[0mx\u001b[0m\u001b[1;33m.\u001b[0m\u001b[0miloc\u001b[0m\u001b[1;33m[\u001b[0m\u001b[0mtrain\u001b[0m\u001b[1;33m,\u001b[0m\u001b[1;33m:\u001b[0m\u001b[1;33m]\u001b[0m\u001b[1;33m,\u001b[0m \u001b[0mself\u001b[0m\u001b[1;33m.\u001b[0m\u001b[0my\u001b[0m\u001b[1;33m.\u001b[0m\u001b[0miloc\u001b[0m\u001b[1;33m[\u001b[0m\u001b[0mtrain\u001b[0m\u001b[1;33m]\u001b[0m\u001b[1;33m)\u001b[0m\u001b[1;33m\u001b[0m\u001b[1;33m\u001b[0m\u001b[0m\n\u001b[0m\u001b[0;32m     80\u001b[0m             \u001b[0mend\u001b[0m \u001b[1;33m=\u001b[0m \u001b[0mtime\u001b[0m\u001b[1;33m.\u001b[0m\u001b[0mtime\u001b[0m\u001b[1;33m(\u001b[0m\u001b[1;33m)\u001b[0m\u001b[1;33m\u001b[0m\u001b[1;33m\u001b[0m\u001b[0m\n\u001b[0;32m     81\u001b[0m             \u001b[0mtime_list\u001b[0m\u001b[1;33m.\u001b[0m\u001b[0mappend\u001b[0m\u001b[1;33m(\u001b[0m\u001b[0mend\u001b[0m\u001b[1;33m-\u001b[0m\u001b[0mstart\u001b[0m\u001b[1;33m)\u001b[0m\u001b[1;33m\u001b[0m\u001b[1;33m\u001b[0m\u001b[0m\n",
      "\u001b[1;32m~\\anaconda3_02\\lib\\site-packages\\sklearn\\pipeline.py\u001b[0m in \u001b[0;36mfit\u001b[1;34m(self, X, y, **fit_params)\u001b[0m\n\u001b[0;32m    344\u001b[0m             \u001b[1;32mif\u001b[0m \u001b[0mself\u001b[0m\u001b[1;33m.\u001b[0m\u001b[0m_final_estimator\u001b[0m \u001b[1;33m!=\u001b[0m \u001b[1;34m'passthrough'\u001b[0m\u001b[1;33m:\u001b[0m\u001b[1;33m\u001b[0m\u001b[1;33m\u001b[0m\u001b[0m\n\u001b[0;32m    345\u001b[0m                 \u001b[0mfit_params_last_step\u001b[0m \u001b[1;33m=\u001b[0m \u001b[0mfit_params_steps\u001b[0m\u001b[1;33m[\u001b[0m\u001b[0mself\u001b[0m\u001b[1;33m.\u001b[0m\u001b[0msteps\u001b[0m\u001b[1;33m[\u001b[0m\u001b[1;33m-\u001b[0m\u001b[1;36m1\u001b[0m\u001b[1;33m]\u001b[0m\u001b[1;33m[\u001b[0m\u001b[1;36m0\u001b[0m\u001b[1;33m]\u001b[0m\u001b[1;33m]\u001b[0m\u001b[1;33m\u001b[0m\u001b[1;33m\u001b[0m\u001b[0m\n\u001b[1;32m--> 346\u001b[1;33m                 \u001b[0mself\u001b[0m\u001b[1;33m.\u001b[0m\u001b[0m_final_estimator\u001b[0m\u001b[1;33m.\u001b[0m\u001b[0mfit\u001b[0m\u001b[1;33m(\u001b[0m\u001b[0mXt\u001b[0m\u001b[1;33m,\u001b[0m \u001b[0my\u001b[0m\u001b[1;33m,\u001b[0m \u001b[1;33m**\u001b[0m\u001b[0mfit_params_last_step\u001b[0m\u001b[1;33m)\u001b[0m\u001b[1;33m\u001b[0m\u001b[1;33m\u001b[0m\u001b[0m\n\u001b[0m\u001b[0;32m    347\u001b[0m \u001b[1;33m\u001b[0m\u001b[0m\n\u001b[0;32m    348\u001b[0m         \u001b[1;32mreturn\u001b[0m \u001b[0mself\u001b[0m\u001b[1;33m\u001b[0m\u001b[1;33m\u001b[0m\u001b[0m\n",
      "\u001b[1;32m~\\anaconda3_02\\lib\\site-packages\\sklearn\\linear_model\\_logistic.py\u001b[0m in \u001b[0;36mfit\u001b[1;34m(self, X, y, sample_weight)\u001b[0m\n\u001b[0;32m   1414\u001b[0m                       \u001b[0mpenalty\u001b[0m\u001b[1;33m=\u001b[0m\u001b[0mpenalty\u001b[0m\u001b[1;33m,\u001b[0m \u001b[0mmax_squared_sum\u001b[0m\u001b[1;33m=\u001b[0m\u001b[0mmax_squared_sum\u001b[0m\u001b[1;33m,\u001b[0m\u001b[1;33m\u001b[0m\u001b[1;33m\u001b[0m\u001b[0m\n\u001b[0;32m   1415\u001b[0m                       sample_weight=sample_weight)\n\u001b[1;32m-> 1416\u001b[1;33m             for class_, warm_start_coef_ in zip(classes_, warm_start_coef))\n\u001b[0m\u001b[0;32m   1417\u001b[0m \u001b[1;33m\u001b[0m\u001b[0m\n\u001b[0;32m   1418\u001b[0m         \u001b[0mfold_coefs_\u001b[0m\u001b[1;33m,\u001b[0m \u001b[0m_\u001b[0m\u001b[1;33m,\u001b[0m \u001b[0mn_iter_\u001b[0m \u001b[1;33m=\u001b[0m \u001b[0mzip\u001b[0m\u001b[1;33m(\u001b[0m\u001b[1;33m*\u001b[0m\u001b[0mfold_coefs_\u001b[0m\u001b[1;33m)\u001b[0m\u001b[1;33m\u001b[0m\u001b[1;33m\u001b[0m\u001b[0m\n",
      "\u001b[1;32m~\\anaconda3_02\\lib\\site-packages\\joblib\\parallel.py\u001b[0m in \u001b[0;36m__call__\u001b[1;34m(self, iterable)\u001b[0m\n\u001b[0;32m   1039\u001b[0m             \u001b[1;31m# remaining jobs.\u001b[0m\u001b[1;33m\u001b[0m\u001b[1;33m\u001b[0m\u001b[1;33m\u001b[0m\u001b[0m\n\u001b[0;32m   1040\u001b[0m             \u001b[0mself\u001b[0m\u001b[1;33m.\u001b[0m\u001b[0m_iterating\u001b[0m \u001b[1;33m=\u001b[0m \u001b[1;32mFalse\u001b[0m\u001b[1;33m\u001b[0m\u001b[1;33m\u001b[0m\u001b[0m\n\u001b[1;32m-> 1041\u001b[1;33m             \u001b[1;32mif\u001b[0m \u001b[0mself\u001b[0m\u001b[1;33m.\u001b[0m\u001b[0mdispatch_one_batch\u001b[0m\u001b[1;33m(\u001b[0m\u001b[0miterator\u001b[0m\u001b[1;33m)\u001b[0m\u001b[1;33m:\u001b[0m\u001b[1;33m\u001b[0m\u001b[1;33m\u001b[0m\u001b[0m\n\u001b[0m\u001b[0;32m   1042\u001b[0m                 \u001b[0mself\u001b[0m\u001b[1;33m.\u001b[0m\u001b[0m_iterating\u001b[0m \u001b[1;33m=\u001b[0m \u001b[0mself\u001b[0m\u001b[1;33m.\u001b[0m\u001b[0m_original_iterator\u001b[0m \u001b[1;32mis\u001b[0m \u001b[1;32mnot\u001b[0m \u001b[1;32mNone\u001b[0m\u001b[1;33m\u001b[0m\u001b[1;33m\u001b[0m\u001b[0m\n\u001b[0;32m   1043\u001b[0m \u001b[1;33m\u001b[0m\u001b[0m\n",
      "\u001b[1;32m~\\anaconda3_02\\lib\\site-packages\\joblib\\parallel.py\u001b[0m in \u001b[0;36mdispatch_one_batch\u001b[1;34m(self, iterator)\u001b[0m\n\u001b[0;32m    857\u001b[0m                 \u001b[1;32mreturn\u001b[0m \u001b[1;32mFalse\u001b[0m\u001b[1;33m\u001b[0m\u001b[1;33m\u001b[0m\u001b[0m\n\u001b[0;32m    858\u001b[0m             \u001b[1;32melse\u001b[0m\u001b[1;33m:\u001b[0m\u001b[1;33m\u001b[0m\u001b[1;33m\u001b[0m\u001b[0m\n\u001b[1;32m--> 859\u001b[1;33m                 \u001b[0mself\u001b[0m\u001b[1;33m.\u001b[0m\u001b[0m_dispatch\u001b[0m\u001b[1;33m(\u001b[0m\u001b[0mtasks\u001b[0m\u001b[1;33m)\u001b[0m\u001b[1;33m\u001b[0m\u001b[1;33m\u001b[0m\u001b[0m\n\u001b[0m\u001b[0;32m    860\u001b[0m                 \u001b[1;32mreturn\u001b[0m \u001b[1;32mTrue\u001b[0m\u001b[1;33m\u001b[0m\u001b[1;33m\u001b[0m\u001b[0m\n\u001b[0;32m    861\u001b[0m \u001b[1;33m\u001b[0m\u001b[0m\n",
      "\u001b[1;32m~\\anaconda3_02\\lib\\site-packages\\joblib\\parallel.py\u001b[0m in \u001b[0;36m_dispatch\u001b[1;34m(self, batch)\u001b[0m\n\u001b[0;32m    775\u001b[0m         \u001b[1;32mwith\u001b[0m \u001b[0mself\u001b[0m\u001b[1;33m.\u001b[0m\u001b[0m_lock\u001b[0m\u001b[1;33m:\u001b[0m\u001b[1;33m\u001b[0m\u001b[1;33m\u001b[0m\u001b[0m\n\u001b[0;32m    776\u001b[0m             \u001b[0mjob_idx\u001b[0m \u001b[1;33m=\u001b[0m \u001b[0mlen\u001b[0m\u001b[1;33m(\u001b[0m\u001b[0mself\u001b[0m\u001b[1;33m.\u001b[0m\u001b[0m_jobs\u001b[0m\u001b[1;33m)\u001b[0m\u001b[1;33m\u001b[0m\u001b[1;33m\u001b[0m\u001b[0m\n\u001b[1;32m--> 777\u001b[1;33m             \u001b[0mjob\u001b[0m \u001b[1;33m=\u001b[0m \u001b[0mself\u001b[0m\u001b[1;33m.\u001b[0m\u001b[0m_backend\u001b[0m\u001b[1;33m.\u001b[0m\u001b[0mapply_async\u001b[0m\u001b[1;33m(\u001b[0m\u001b[0mbatch\u001b[0m\u001b[1;33m,\u001b[0m \u001b[0mcallback\u001b[0m\u001b[1;33m=\u001b[0m\u001b[0mcb\u001b[0m\u001b[1;33m)\u001b[0m\u001b[1;33m\u001b[0m\u001b[1;33m\u001b[0m\u001b[0m\n\u001b[0m\u001b[0;32m    778\u001b[0m             \u001b[1;31m# A job can complete so quickly than its callback is\u001b[0m\u001b[1;33m\u001b[0m\u001b[1;33m\u001b[0m\u001b[1;33m\u001b[0m\u001b[0m\n\u001b[0;32m    779\u001b[0m             \u001b[1;31m# called before we get here, causing self._jobs to\u001b[0m\u001b[1;33m\u001b[0m\u001b[1;33m\u001b[0m\u001b[1;33m\u001b[0m\u001b[0m\n",
      "\u001b[1;32m~\\anaconda3_02\\lib\\site-packages\\joblib\\_parallel_backends.py\u001b[0m in \u001b[0;36mapply_async\u001b[1;34m(self, func, callback)\u001b[0m\n\u001b[0;32m    206\u001b[0m     \u001b[1;32mdef\u001b[0m \u001b[0mapply_async\u001b[0m\u001b[1;33m(\u001b[0m\u001b[0mself\u001b[0m\u001b[1;33m,\u001b[0m \u001b[0mfunc\u001b[0m\u001b[1;33m,\u001b[0m \u001b[0mcallback\u001b[0m\u001b[1;33m=\u001b[0m\u001b[1;32mNone\u001b[0m\u001b[1;33m)\u001b[0m\u001b[1;33m:\u001b[0m\u001b[1;33m\u001b[0m\u001b[1;33m\u001b[0m\u001b[0m\n\u001b[0;32m    207\u001b[0m         \u001b[1;34m\"\"\"Schedule a func to be run\"\"\"\u001b[0m\u001b[1;33m\u001b[0m\u001b[1;33m\u001b[0m\u001b[0m\n\u001b[1;32m--> 208\u001b[1;33m         \u001b[0mresult\u001b[0m \u001b[1;33m=\u001b[0m \u001b[0mImmediateResult\u001b[0m\u001b[1;33m(\u001b[0m\u001b[0mfunc\u001b[0m\u001b[1;33m)\u001b[0m\u001b[1;33m\u001b[0m\u001b[1;33m\u001b[0m\u001b[0m\n\u001b[0m\u001b[0;32m    209\u001b[0m         \u001b[1;32mif\u001b[0m \u001b[0mcallback\u001b[0m\u001b[1;33m:\u001b[0m\u001b[1;33m\u001b[0m\u001b[1;33m\u001b[0m\u001b[0m\n\u001b[0;32m    210\u001b[0m             \u001b[0mcallback\u001b[0m\u001b[1;33m(\u001b[0m\u001b[0mresult\u001b[0m\u001b[1;33m)\u001b[0m\u001b[1;33m\u001b[0m\u001b[1;33m\u001b[0m\u001b[0m\n",
      "\u001b[1;32m~\\anaconda3_02\\lib\\site-packages\\joblib\\_parallel_backends.py\u001b[0m in \u001b[0;36m__init__\u001b[1;34m(self, batch)\u001b[0m\n\u001b[0;32m    570\u001b[0m         \u001b[1;31m# Don't delay the application, to avoid keeping the input\u001b[0m\u001b[1;33m\u001b[0m\u001b[1;33m\u001b[0m\u001b[1;33m\u001b[0m\u001b[0m\n\u001b[0;32m    571\u001b[0m         \u001b[1;31m# arguments in memory\u001b[0m\u001b[1;33m\u001b[0m\u001b[1;33m\u001b[0m\u001b[1;33m\u001b[0m\u001b[0m\n\u001b[1;32m--> 572\u001b[1;33m         \u001b[0mself\u001b[0m\u001b[1;33m.\u001b[0m\u001b[0mresults\u001b[0m \u001b[1;33m=\u001b[0m \u001b[0mbatch\u001b[0m\u001b[1;33m(\u001b[0m\u001b[1;33m)\u001b[0m\u001b[1;33m\u001b[0m\u001b[1;33m\u001b[0m\u001b[0m\n\u001b[0m\u001b[0;32m    573\u001b[0m \u001b[1;33m\u001b[0m\u001b[0m\n\u001b[0;32m    574\u001b[0m     \u001b[1;32mdef\u001b[0m \u001b[0mget\u001b[0m\u001b[1;33m(\u001b[0m\u001b[0mself\u001b[0m\u001b[1;33m)\u001b[0m\u001b[1;33m:\u001b[0m\u001b[1;33m\u001b[0m\u001b[1;33m\u001b[0m\u001b[0m\n",
      "\u001b[1;32m~\\anaconda3_02\\lib\\site-packages\\joblib\\parallel.py\u001b[0m in \u001b[0;36m__call__\u001b[1;34m(self)\u001b[0m\n\u001b[0;32m    261\u001b[0m         \u001b[1;32mwith\u001b[0m \u001b[0mparallel_backend\u001b[0m\u001b[1;33m(\u001b[0m\u001b[0mself\u001b[0m\u001b[1;33m.\u001b[0m\u001b[0m_backend\u001b[0m\u001b[1;33m,\u001b[0m \u001b[0mn_jobs\u001b[0m\u001b[1;33m=\u001b[0m\u001b[0mself\u001b[0m\u001b[1;33m.\u001b[0m\u001b[0m_n_jobs\u001b[0m\u001b[1;33m)\u001b[0m\u001b[1;33m:\u001b[0m\u001b[1;33m\u001b[0m\u001b[1;33m\u001b[0m\u001b[0m\n\u001b[0;32m    262\u001b[0m             return [func(*args, **kwargs)\n\u001b[1;32m--> 263\u001b[1;33m                     for func, args, kwargs in self.items]\n\u001b[0m\u001b[0;32m    264\u001b[0m \u001b[1;33m\u001b[0m\u001b[0m\n\u001b[0;32m    265\u001b[0m     \u001b[1;32mdef\u001b[0m \u001b[0m__reduce__\u001b[0m\u001b[1;33m(\u001b[0m\u001b[0mself\u001b[0m\u001b[1;33m)\u001b[0m\u001b[1;33m:\u001b[0m\u001b[1;33m\u001b[0m\u001b[1;33m\u001b[0m\u001b[0m\n",
      "\u001b[1;32m~\\anaconda3_02\\lib\\site-packages\\joblib\\parallel.py\u001b[0m in \u001b[0;36m<listcomp>\u001b[1;34m(.0)\u001b[0m\n\u001b[0;32m    261\u001b[0m         \u001b[1;32mwith\u001b[0m \u001b[0mparallel_backend\u001b[0m\u001b[1;33m(\u001b[0m\u001b[0mself\u001b[0m\u001b[1;33m.\u001b[0m\u001b[0m_backend\u001b[0m\u001b[1;33m,\u001b[0m \u001b[0mn_jobs\u001b[0m\u001b[1;33m=\u001b[0m\u001b[0mself\u001b[0m\u001b[1;33m.\u001b[0m\u001b[0m_n_jobs\u001b[0m\u001b[1;33m)\u001b[0m\u001b[1;33m:\u001b[0m\u001b[1;33m\u001b[0m\u001b[1;33m\u001b[0m\u001b[0m\n\u001b[0;32m    262\u001b[0m             return [func(*args, **kwargs)\n\u001b[1;32m--> 263\u001b[1;33m                     for func, args, kwargs in self.items]\n\u001b[0m\u001b[0;32m    264\u001b[0m \u001b[1;33m\u001b[0m\u001b[0m\n\u001b[0;32m    265\u001b[0m     \u001b[1;32mdef\u001b[0m \u001b[0m__reduce__\u001b[0m\u001b[1;33m(\u001b[0m\u001b[0mself\u001b[0m\u001b[1;33m)\u001b[0m\u001b[1;33m:\u001b[0m\u001b[1;33m\u001b[0m\u001b[1;33m\u001b[0m\u001b[0m\n",
      "\u001b[1;32m~\\anaconda3_02\\lib\\site-packages\\sklearn\\utils\\fixes.py\u001b[0m in \u001b[0;36m__call__\u001b[1;34m(self, *args, **kwargs)\u001b[0m\n\u001b[0;32m    220\u001b[0m     \u001b[1;32mdef\u001b[0m \u001b[0m__call__\u001b[0m\u001b[1;33m(\u001b[0m\u001b[0mself\u001b[0m\u001b[1;33m,\u001b[0m \u001b[1;33m*\u001b[0m\u001b[0margs\u001b[0m\u001b[1;33m,\u001b[0m \u001b[1;33m**\u001b[0m\u001b[0mkwargs\u001b[0m\u001b[1;33m)\u001b[0m\u001b[1;33m:\u001b[0m\u001b[1;33m\u001b[0m\u001b[1;33m\u001b[0m\u001b[0m\n\u001b[0;32m    221\u001b[0m         \u001b[1;32mwith\u001b[0m \u001b[0mconfig_context\u001b[0m\u001b[1;33m(\u001b[0m\u001b[1;33m**\u001b[0m\u001b[0mself\u001b[0m\u001b[1;33m.\u001b[0m\u001b[0mconfig\u001b[0m\u001b[1;33m)\u001b[0m\u001b[1;33m:\u001b[0m\u001b[1;33m\u001b[0m\u001b[1;33m\u001b[0m\u001b[0m\n\u001b[1;32m--> 222\u001b[1;33m             \u001b[1;32mreturn\u001b[0m \u001b[0mself\u001b[0m\u001b[1;33m.\u001b[0m\u001b[0mfunction\u001b[0m\u001b[1;33m(\u001b[0m\u001b[1;33m*\u001b[0m\u001b[0margs\u001b[0m\u001b[1;33m,\u001b[0m \u001b[1;33m**\u001b[0m\u001b[0mkwargs\u001b[0m\u001b[1;33m)\u001b[0m\u001b[1;33m\u001b[0m\u001b[1;33m\u001b[0m\u001b[0m\n\u001b[0m",
      "\u001b[1;32m~\\anaconda3_02\\lib\\site-packages\\sklearn\\linear_model\\_logistic.py\u001b[0m in \u001b[0;36m_logistic_regression_path\u001b[1;34m(X, y, pos_class, Cs, fit_intercept, max_iter, tol, verbose, solver, coef, class_weight, dual, penalty, intercept_scaling, multi_class, random_state, check_input, max_squared_sum, sample_weight, l1_ratio)\u001b[0m\n\u001b[0;32m    759\u001b[0m                 \u001b[0mfunc\u001b[0m\u001b[1;33m,\u001b[0m \u001b[0mw0\u001b[0m\u001b[1;33m,\u001b[0m \u001b[0mmethod\u001b[0m\u001b[1;33m=\u001b[0m\u001b[1;34m\"L-BFGS-B\"\u001b[0m\u001b[1;33m,\u001b[0m \u001b[0mjac\u001b[0m\u001b[1;33m=\u001b[0m\u001b[1;32mTrue\u001b[0m\u001b[1;33m,\u001b[0m\u001b[1;33m\u001b[0m\u001b[1;33m\u001b[0m\u001b[0m\n\u001b[0;32m    760\u001b[0m                 \u001b[0margs\u001b[0m\u001b[1;33m=\u001b[0m\u001b[1;33m(\u001b[0m\u001b[0mX\u001b[0m\u001b[1;33m,\u001b[0m \u001b[0mtarget\u001b[0m\u001b[1;33m,\u001b[0m \u001b[1;36m1.\u001b[0m \u001b[1;33m/\u001b[0m \u001b[0mC\u001b[0m\u001b[1;33m,\u001b[0m \u001b[0msample_weight\u001b[0m\u001b[1;33m)\u001b[0m\u001b[1;33m,\u001b[0m\u001b[1;33m\u001b[0m\u001b[1;33m\u001b[0m\u001b[0m\n\u001b[1;32m--> 761\u001b[1;33m                 \u001b[0moptions\u001b[0m\u001b[1;33m=\u001b[0m\u001b[1;33m{\u001b[0m\u001b[1;34m\"iprint\"\u001b[0m\u001b[1;33m:\u001b[0m \u001b[0miprint\u001b[0m\u001b[1;33m,\u001b[0m \u001b[1;34m\"gtol\"\u001b[0m\u001b[1;33m:\u001b[0m \u001b[0mtol\u001b[0m\u001b[1;33m,\u001b[0m \u001b[1;34m\"maxiter\"\u001b[0m\u001b[1;33m:\u001b[0m \u001b[0mmax_iter\u001b[0m\u001b[1;33m}\u001b[0m\u001b[1;33m\u001b[0m\u001b[1;33m\u001b[0m\u001b[0m\n\u001b[0m\u001b[0;32m    762\u001b[0m             )\n\u001b[0;32m    763\u001b[0m             n_iter_i = _check_optimize_result(\n",
      "\u001b[1;32m~\\anaconda3_02\\lib\\site-packages\\scipy\\optimize\\_minimize.py\u001b[0m in \u001b[0;36mminimize\u001b[1;34m(fun, x0, args, method, jac, hess, hessp, bounds, constraints, tol, callback, options)\u001b[0m\n\u001b[0;32m    599\u001b[0m     \u001b[1;32melif\u001b[0m \u001b[0mmeth\u001b[0m \u001b[1;33m==\u001b[0m \u001b[1;34m'l-bfgs-b'\u001b[0m\u001b[1;33m:\u001b[0m\u001b[1;33m\u001b[0m\u001b[1;33m\u001b[0m\u001b[0m\n\u001b[0;32m    600\u001b[0m         return _minimize_lbfgsb(fun, x0, args, jac, bounds,\n\u001b[1;32m--> 601\u001b[1;33m                                 callback=callback, **options)\n\u001b[0m\u001b[0;32m    602\u001b[0m     \u001b[1;32melif\u001b[0m \u001b[0mmeth\u001b[0m \u001b[1;33m==\u001b[0m \u001b[1;34m'tnc'\u001b[0m\u001b[1;33m:\u001b[0m\u001b[1;33m\u001b[0m\u001b[1;33m\u001b[0m\u001b[0m\n\u001b[0;32m    603\u001b[0m         return _minimize_tnc(fun, x0, args, jac, bounds, callback=callback,\n",
      "\u001b[1;32m~\\anaconda3_02\\lib\\site-packages\\scipy\\optimize\\lbfgsb.py\u001b[0m in \u001b[0;36m_minimize_lbfgsb\u001b[1;34m(fun, x0, args, jac, bounds, disp, maxcor, ftol, gtol, eps, maxfun, maxiter, iprint, callback, maxls, **unknown_options)\u001b[0m\n\u001b[0;32m    333\u001b[0m             \u001b[1;31m# until the completion of the current minimization iteration.\u001b[0m\u001b[1;33m\u001b[0m\u001b[1;33m\u001b[0m\u001b[1;33m\u001b[0m\u001b[0m\n\u001b[0;32m    334\u001b[0m             \u001b[1;31m# Overwrite f and g:\u001b[0m\u001b[1;33m\u001b[0m\u001b[1;33m\u001b[0m\u001b[1;33m\u001b[0m\u001b[0m\n\u001b[1;32m--> 335\u001b[1;33m             \u001b[0mf\u001b[0m\u001b[1;33m,\u001b[0m \u001b[0mg\u001b[0m \u001b[1;33m=\u001b[0m \u001b[0mfunc_and_grad\u001b[0m\u001b[1;33m(\u001b[0m\u001b[0mx\u001b[0m\u001b[1;33m)\u001b[0m\u001b[1;33m\u001b[0m\u001b[1;33m\u001b[0m\u001b[0m\n\u001b[0m\u001b[0;32m    336\u001b[0m         \u001b[1;32melif\u001b[0m \u001b[0mtask_str\u001b[0m\u001b[1;33m.\u001b[0m\u001b[0mstartswith\u001b[0m\u001b[1;33m(\u001b[0m\u001b[1;34mb'NEW_X'\u001b[0m\u001b[1;33m)\u001b[0m\u001b[1;33m:\u001b[0m\u001b[1;33m\u001b[0m\u001b[1;33m\u001b[0m\u001b[0m\n\u001b[0;32m    337\u001b[0m             \u001b[1;31m# new iteration\u001b[0m\u001b[1;33m\u001b[0m\u001b[1;33m\u001b[0m\u001b[1;33m\u001b[0m\u001b[0m\n",
      "\u001b[1;32m~\\anaconda3_02\\lib\\site-packages\\scipy\\optimize\\lbfgsb.py\u001b[0m in \u001b[0;36mfunc_and_grad\u001b[1;34m(x)\u001b[0m\n\u001b[0;32m    283\u001b[0m     \u001b[1;32melse\u001b[0m\u001b[1;33m:\u001b[0m\u001b[1;33m\u001b[0m\u001b[1;33m\u001b[0m\u001b[0m\n\u001b[0;32m    284\u001b[0m         \u001b[1;32mdef\u001b[0m \u001b[0mfunc_and_grad\u001b[0m\u001b[1;33m(\u001b[0m\u001b[0mx\u001b[0m\u001b[1;33m)\u001b[0m\u001b[1;33m:\u001b[0m\u001b[1;33m\u001b[0m\u001b[1;33m\u001b[0m\u001b[0m\n\u001b[1;32m--> 285\u001b[1;33m             \u001b[0mf\u001b[0m \u001b[1;33m=\u001b[0m \u001b[0mfun\u001b[0m\u001b[1;33m(\u001b[0m\u001b[0mx\u001b[0m\u001b[1;33m,\u001b[0m \u001b[1;33m*\u001b[0m\u001b[0margs\u001b[0m\u001b[1;33m)\u001b[0m\u001b[1;33m\u001b[0m\u001b[1;33m\u001b[0m\u001b[0m\n\u001b[0m\u001b[0;32m    286\u001b[0m             \u001b[0mg\u001b[0m \u001b[1;33m=\u001b[0m \u001b[0mjac\u001b[0m\u001b[1;33m(\u001b[0m\u001b[0mx\u001b[0m\u001b[1;33m,\u001b[0m \u001b[1;33m*\u001b[0m\u001b[0margs\u001b[0m\u001b[1;33m)\u001b[0m\u001b[1;33m\u001b[0m\u001b[1;33m\u001b[0m\u001b[0m\n\u001b[0;32m    287\u001b[0m             \u001b[1;32mreturn\u001b[0m \u001b[0mf\u001b[0m\u001b[1;33m,\u001b[0m \u001b[0mg\u001b[0m\u001b[1;33m\u001b[0m\u001b[1;33m\u001b[0m\u001b[0m\n",
      "\u001b[1;32m~\\anaconda3_02\\lib\\site-packages\\scipy\\optimize\\optimize.py\u001b[0m in \u001b[0;36mfunction_wrapper\u001b[1;34m(*wrapper_args)\u001b[0m\n\u001b[0;32m    298\u001b[0m     \u001b[1;32mdef\u001b[0m \u001b[0mfunction_wrapper\u001b[0m\u001b[1;33m(\u001b[0m\u001b[1;33m*\u001b[0m\u001b[0mwrapper_args\u001b[0m\u001b[1;33m)\u001b[0m\u001b[1;33m:\u001b[0m\u001b[1;33m\u001b[0m\u001b[1;33m\u001b[0m\u001b[0m\n\u001b[0;32m    299\u001b[0m         \u001b[0mncalls\u001b[0m\u001b[1;33m[\u001b[0m\u001b[1;36m0\u001b[0m\u001b[1;33m]\u001b[0m \u001b[1;33m+=\u001b[0m \u001b[1;36m1\u001b[0m\u001b[1;33m\u001b[0m\u001b[1;33m\u001b[0m\u001b[0m\n\u001b[1;32m--> 300\u001b[1;33m         \u001b[1;32mreturn\u001b[0m \u001b[0mfunction\u001b[0m\u001b[1;33m(\u001b[0m\u001b[1;33m*\u001b[0m\u001b[1;33m(\u001b[0m\u001b[0mwrapper_args\u001b[0m \u001b[1;33m+\u001b[0m \u001b[0margs\u001b[0m\u001b[1;33m)\u001b[0m\u001b[1;33m)\u001b[0m\u001b[1;33m\u001b[0m\u001b[1;33m\u001b[0m\u001b[0m\n\u001b[0m\u001b[0;32m    301\u001b[0m \u001b[1;33m\u001b[0m\u001b[0m\n\u001b[0;32m    302\u001b[0m     \u001b[1;32mreturn\u001b[0m \u001b[0mncalls\u001b[0m\u001b[1;33m,\u001b[0m \u001b[0mfunction_wrapper\u001b[0m\u001b[1;33m\u001b[0m\u001b[1;33m\u001b[0m\u001b[0m\n",
      "\u001b[1;32m~\\anaconda3_02\\lib\\site-packages\\scipy\\optimize\\optimize.py\u001b[0m in \u001b[0;36m__call__\u001b[1;34m(self, x, *args)\u001b[0m\n\u001b[0;32m     61\u001b[0m     \u001b[1;32mdef\u001b[0m \u001b[0m__call__\u001b[0m\u001b[1;33m(\u001b[0m\u001b[0mself\u001b[0m\u001b[1;33m,\u001b[0m \u001b[0mx\u001b[0m\u001b[1;33m,\u001b[0m \u001b[1;33m*\u001b[0m\u001b[0margs\u001b[0m\u001b[1;33m)\u001b[0m\u001b[1;33m:\u001b[0m\u001b[1;33m\u001b[0m\u001b[1;33m\u001b[0m\u001b[0m\n\u001b[0;32m     62\u001b[0m         \u001b[0mself\u001b[0m\u001b[1;33m.\u001b[0m\u001b[0mx\u001b[0m \u001b[1;33m=\u001b[0m \u001b[0mnumpy\u001b[0m\u001b[1;33m.\u001b[0m\u001b[0masarray\u001b[0m\u001b[1;33m(\u001b[0m\u001b[0mx\u001b[0m\u001b[1;33m)\u001b[0m\u001b[1;33m.\u001b[0m\u001b[0mcopy\u001b[0m\u001b[1;33m(\u001b[0m\u001b[1;33m)\u001b[0m\u001b[1;33m\u001b[0m\u001b[1;33m\u001b[0m\u001b[0m\n\u001b[1;32m---> 63\u001b[1;33m         \u001b[0mfg\u001b[0m \u001b[1;33m=\u001b[0m \u001b[0mself\u001b[0m\u001b[1;33m.\u001b[0m\u001b[0mfun\u001b[0m\u001b[1;33m(\u001b[0m\u001b[0mx\u001b[0m\u001b[1;33m,\u001b[0m \u001b[1;33m*\u001b[0m\u001b[0margs\u001b[0m\u001b[1;33m)\u001b[0m\u001b[1;33m\u001b[0m\u001b[1;33m\u001b[0m\u001b[0m\n\u001b[0m\u001b[0;32m     64\u001b[0m         \u001b[0mself\u001b[0m\u001b[1;33m.\u001b[0m\u001b[0mjac\u001b[0m \u001b[1;33m=\u001b[0m \u001b[0mfg\u001b[0m\u001b[1;33m[\u001b[0m\u001b[1;36m1\u001b[0m\u001b[1;33m]\u001b[0m\u001b[1;33m\u001b[0m\u001b[1;33m\u001b[0m\u001b[0m\n\u001b[0;32m     65\u001b[0m         \u001b[1;32mreturn\u001b[0m \u001b[0mfg\u001b[0m\u001b[1;33m[\u001b[0m\u001b[1;36m0\u001b[0m\u001b[1;33m]\u001b[0m\u001b[1;33m\u001b[0m\u001b[1;33m\u001b[0m\u001b[0m\n",
      "\u001b[1;32m~\\anaconda3_02\\lib\\site-packages\\sklearn\\linear_model\\_logistic.py\u001b[0m in \u001b[0;36m_logistic_loss_and_grad\u001b[1;34m(w, X, y, alpha, sample_weight)\u001b[0m\n\u001b[0;32m    121\u001b[0m \u001b[1;33m\u001b[0m\u001b[0m\n\u001b[0;32m    122\u001b[0m     \u001b[1;31m# Logistic loss is the negative of the log of the logistic function.\u001b[0m\u001b[1;33m\u001b[0m\u001b[1;33m\u001b[0m\u001b[1;33m\u001b[0m\u001b[0m\n\u001b[1;32m--> 123\u001b[1;33m     \u001b[0mout\u001b[0m \u001b[1;33m=\u001b[0m \u001b[1;33m-\u001b[0m\u001b[0mnp\u001b[0m\u001b[1;33m.\u001b[0m\u001b[0msum\u001b[0m\u001b[1;33m(\u001b[0m\u001b[0msample_weight\u001b[0m \u001b[1;33m*\u001b[0m \u001b[0mlog_logistic\u001b[0m\u001b[1;33m(\u001b[0m\u001b[0myz\u001b[0m\u001b[1;33m)\u001b[0m\u001b[1;33m)\u001b[0m \u001b[1;33m+\u001b[0m \u001b[1;36m.5\u001b[0m \u001b[1;33m*\u001b[0m \u001b[0malpha\u001b[0m \u001b[1;33m*\u001b[0m \u001b[0mnp\u001b[0m\u001b[1;33m.\u001b[0m\u001b[0mdot\u001b[0m\u001b[1;33m(\u001b[0m\u001b[0mw\u001b[0m\u001b[1;33m,\u001b[0m \u001b[0mw\u001b[0m\u001b[1;33m)\u001b[0m\u001b[1;33m\u001b[0m\u001b[1;33m\u001b[0m\u001b[0m\n\u001b[0m\u001b[0;32m    124\u001b[0m \u001b[1;33m\u001b[0m\u001b[0m\n\u001b[0;32m    125\u001b[0m     \u001b[0mz\u001b[0m \u001b[1;33m=\u001b[0m \u001b[0mexpit\u001b[0m\u001b[1;33m(\u001b[0m\u001b[0myz\u001b[0m\u001b[1;33m)\u001b[0m\u001b[1;33m\u001b[0m\u001b[1;33m\u001b[0m\u001b[0m\n",
      "\u001b[1;32m<__array_function__ internals>\u001b[0m in \u001b[0;36mdot\u001b[1;34m(*args, **kwargs)\u001b[0m\n",
      "\u001b[1;31mKeyboardInterrupt\u001b[0m: "
     ]
    }
   ],
   "source": [
    "grid={\"C\":np.logspace(-3,3,7), \"penalty\":[\"l1\",\"l2\"]}\n",
    "lr.search(grid)"
   ]
  },
  {
   "cell_type": "code",
   "execution_count": 12,
   "id": "e1d5f4c1-47e6-4fdb-9fbe-c84676f5b523",
   "metadata": {},
   "outputs": [
    {
     "data": {
      "image/png": "[encoded data removed]",
      "text/plain": [
       "<Figure size 1440x720 with 1 Axes>"
      ]
     },
     "metadata": {},
     "output_type": "display_data"
    }
   ],
   "source": [
    "lr.plot_roc_curve()\n",
    "plt.show()"
   ]
  },
  {
   "cell_type": "code",
   "execution_count": 175,
   "id": "38028b30-3ab5-4d43-bb2d-d242d33002fb",
   "metadata": {},
   "outputs": [],
   "source": [
    "from tqdm import tqdm_notebook as tqdm"
   ]
  },
  {
   "cell_type": "code",
   "execution_count": 242,
   "id": "7d6f34e3-0227-404c-8364-5b6d227c4885",
   "metadata": {},
   "outputs": [],
   "source": [
    "import pandas as pd\n",
    "import numpy as np\n",
    "from scipy.stats import norm\n",
    "import time\n",
    "from tqdm import tqdm_notebook as tqdm \n",
    "\n",
    "import matplotlib.pyplot as plt\n",
    "import seaborn as sns\n",
    "from plot import labs\n",
    "\n",
    "from sklearn.model_selection import RepeatedStratifiedKFold, GridSearchCV, train_test_split, ParameterGrid, ParameterSampler\n",
    "from sklearn import metrics\n",
    "from sklearn.pipeline import Pipeline\n",
    "\n",
    "class Model:\n",
    "    \n",
    "    def __init__(self, model, dados:pd.DataFrame, pipeline_args:list=None):\n",
    "        \n",
    "        np.random.seed(64541)\n",
    "        dados = dados.sample(frac=1).reset_index(drop=True)\n",
    "        self.x = dados.drop(columns='ICU')\n",
    "        self.y = dados['ICU']\n",
    "        self.model = model\n",
    "        self.pipeline_args = pipeline_args\n",
    "        \n",
    "        if pipeline_args is None:\n",
    "            pipeline_args = [('feature_selection', None)]\n",
    "        pipeline_args.append(tuple(['clf', self.model]))\n",
    "        self.pipe = Pipeline(pipeline_args)\n",
    "        \n",
    "    def search(self, params, score='roc_auc', type_search='random', n_iter=100, n_splits=5, n_repeats=10, report_final:bool=True):\n",
    "        \n",
    "        if type_search == 'all':\n",
    "            pg = ParameterGrid(params)\n",
    "        \n",
    "        if type_search == 'random':\n",
    "            pg = ParameterSampler(params, n_iter=n_iter, random_state=64541)\n",
    "        \n",
    "        score_grid = []\n",
    "        tqdm_bar = tqdm(range(pg.__len__()), position=1, leave=False)\n",
    "        for _, grid in zip(range(pg.__len__()),pg.__iter__()):\n",
    "            new_model = self.model.__class__\n",
    "            new_pipe = self.pipe[:-1].steps\n",
    "            new_pipe.append(tuple(['clf', new_model(**grid)]))\n",
    "            self.pipe = Pipeline(new_pipe)\n",
    "            try:\n",
    "                self.cross_val(scoring=[score], fprs_tprs=False, train_results=False, report=False, n_splits=n_splits, n_repeats=n_repeats, tqdm_reset=True)\n",
    "                score_grid.append(tuple([grid, self.means[score]]))\n",
    "            except ValueError:\n",
    "                continue\n",
    "            tqdm_bar.update()\n",
    "            \n",
    "        self.best_params = max(score_grid, key = lambda t: t[1])[0]\n",
    "        if report_final:\n",
    "            new_model = self.model.__class__\n",
    "            new_pipe = self.pipe[:-1].steps\n",
    "            new_pipe.append(tuple(['clf', new_model(**self.best_params)]))\n",
    "            self.pipe = Pipeline(new_pipe)\n",
    "            self.cross_val(n_splits=n_splits, n_repeats=n_repeats)\n",
    "        return self.best_params\n",
    "        \n",
    "    def cross_val(self, train_results:bool=True , report:bool=True, n_splits:int=5, n_repeats:int=10, scoring=['f1', 'roc_auc', 'precision', 'recall', 'accuracy'], \n",
    "                  fprs_tprs=True, tqdm=True):\n",
    "\n",
    "        self.len = n_splits * n_repeats\n",
    "        self.n_splits = n_splits\n",
    "        self.n_repeats = n_repeats\n",
    "        np.random.seed(64541)\n",
    "        cv = RepeatedStratifiedKFold(n_splits=n_splits, n_repeats=n_repeats)\n",
    "        time_list = []\n",
    "        self.scores = {metric:[] for metric in scoring}\n",
    "        self.scores_train = {metric:[] for metric in ['f1', 'roc_auc', 'precision', 'recall', 'accuracy']}\n",
    "        tprs = []\n",
    "        self.fpr_mean = np.linspace(0, 1, 100)\n",
    "        \n",
    "        for _, (train, test) in zip(tqdm(range(self.len),cv.split(self.x, self.y)):\n",
    "            start = time.time()\n",
    "            self.pipe.fit(self.x.iloc[train,:], self.y.iloc[train])\n",
    "            end = time.time()\n",
    "            time_list.append(end-start)\n",
    "            pred_proba = self.pipe.predict_proba(self.x.iloc[test,:])\n",
    "            pred = self.pipe.predict(self.x.iloc[test,:])\n",
    "            \n",
    "            for metric in scoring:\n",
    "                try:\n",
    "                    _= getattr(metrics, f'{metric}_score')(self.y.iloc[test], pred_proba[:,1])  \n",
    "                    self.scores[metric].append(_)  \n",
    "                except ValueError:\n",
    "                    try:\n",
    "                        _ = getattr(metrics, f'{metric}_score')(self.y.iloc[test], pred, average='macro') \n",
    "                        self.scores[metric].append(_)\n",
    "                    except TypeError:\n",
    "                        _ = getattr(metrics, f'{metric}_score')(self.y.iloc[test], pred) \n",
    "                        self.scores[metric].append(_)\n",
    "            \n",
    "            if fprs_tprs:\n",
    "                fpr, tpr, _ = metrics.roc_curve(self.y.iloc[test], pred_proba[:,1])\n",
    "                interp_tpr = np.interp(self.fpr_mean, fpr, tpr)\n",
    "                interp_tpr[0] = 0.0\n",
    "                tprs.append(interp_tpr)\n",
    "                \n",
    "            if train_results:\n",
    "                pred_proba = self.pipe.predict_proba(self.x.iloc[train,:])\n",
    "                pred = self.pipe.predict(self.x.iloc[train,:])\n",
    "                for metric in scoring:\n",
    "                    try:\n",
    "                        _ = getattr(metrics, f'{metric}_score')(self.y.iloc[train], pred_proba[:,1])  \n",
    "                        self.scores_train[metric].append(_)  \n",
    "                    except ValueError:\n",
    "                        try:\n",
    "                            _ = getattr(metrics, f'{metric}_score')(self.y.iloc[train], pred, average='macro') \n",
    "                            self.scores_train[metric].append(_)\n",
    "                        except TypeError:\n",
    "                            _ = getattr(metrics, f'{metric}_score')(self.y.iloc[train], pred) \n",
    "                            self.scores_train[metric].append(_)\n",
    "        \n",
    "        self.means = dict(map(lambda kv: (kv[0], np.mean(kv[1],axis=0)), self.scores.items()))\n",
    "        self.stds = dict(map(lambda kv: (kv[0], np.std(kv[1],ddof=1)), self.scores.items()))\n",
    "        self.means_train = dict(map(lambda kv: (kv[0], np.mean(kv[1],axis=0)), self.scores_train.items()))\n",
    "        self.stds_train = dict(map(lambda kv: (kv[0], np.std(kv[1],ddof=1)), self.scores_train.items())) \n",
    "        self.time_mean = np.mean(time_list,axis=0)\n",
    "        self.tprs_mean = np.mean(tprs, axis=0)\n",
    "        tprs_std = np.std(tprs, axis=0, ddof=1)\n",
    "        self.time_mean = np.mean(time_list,axis=0)\n",
    "        \n",
    "        if report:\n",
    "            self.report()\n",
    "        \n",
    "    def report(self):\n",
    "        More_less = u\"\\u00B1\"\n",
    "        print(f'{self.n_repeats} repetições de Validação Cruzada com {self.n_splits} divisões no dataset')\n",
    "        print(f'----------------------------------------------------------------------------------')\n",
    "        print(f'CLASSIFICADOR                   : {self.pipe[\"clf\"]}')\n",
    "        print(f'MÉTODOS DE SELEÇÃO DE VARIÁVEIS : {self.pipe[\"feature_selection\"]}\\n')\n",
    "        print(f'------------------------------------------|---------------------------------------')\n",
    "        print(f'Métricas no dataset de teste:             | Métricas no dataset de treino: ')\n",
    "        print(f'------------------------------------------|---------------------------------------')\n",
    "        print(f'ROC AUC MÉDIA         : %0.3f             |ROC AUC MÉDIA         : %0.3f' % (np.round(self.means['roc_auc'],3), np.round(self.means_train['roc_auc'],3)))\n",
    "        print(f'ROC AUC DESVIO PADRÃO : %0.3f             |ROC AUC DESVIO PADRÃO : %0.3f'% (np.round(self.stds['roc_auc'],3), np.round(self.stds_train['roc_auc'],3)))\n",
    "        print(r'ROC AUC ITERVALO      : %0.3f %s %0.3f     |ROC AUC ITERVALO      : %0.3f %s %0.3f' %\\\n",
    "              (np.round(self.means['roc_auc'],3), More_less, np.round(norm.ppf(0.975) * self.stds['roc_auc'] / np.sqrt(self.len),3), \n",
    "              np.round(self.means_train['roc_auc'],3), More_less, np.round(norm.ppf(0.975) * self.stds_train['roc_auc'] / np.sqrt(self.len),3)))\n",
    "        print(f'DE CONFIÂNCIA DE 95%                      |DE CONFIÂNCIA DE 95%\\n  ')\n",
    "        print(f'DEMAIS MÉTRICAS                           |DEMAIS MÉTRICAS')\n",
    "        print(f'------------------------------------------|---------------------------------------')\n",
    "        print(f'ACCURACY  MÉDIA       : %0.3f             |ACCURACY  MÉDIA       : %0.3f' % (np.round(self.means['accuracy'],3), np.round(self.means_train['accuracy'],3)))\n",
    "        print(f'PRECISÃO  MÉDIA       : %0.3f             |ACCURACY  MÉDIA       : %0.3f' % (np.round(self.means['precision'],3), np.round(self.means_train['precision'],3)))\n",
    "        print(f'RECALL MÉDIO          : %0.3f             |RECALL MÉDIO          : %0.3f'% (np.round(self.means['recall'],3), np.round(self.means_train['recall'],3)))\n",
    "        print(f'F1-SCORE  MÉDIO       : %0.3f             |F1-SCORE  MÉDIO       : %0.3f'% (np.round(self.means['f1'],3), np.round(self.means_train['f1'],3)))\n",
    "        print(f'\\nTEMPO MÉDIO DE TREINAMENTO:{np.round(self.time_mean,3)}')   \n",
    "    \n",
    "    def plot_roc_curve(self, ax=None, **kwargs_lineplot):\n",
    "        \n",
    "        if ax==None:\n",
    "            fig,ax=plt.subplots(figsize=(20,10))\n",
    "            \n",
    "        name = self.model\n",
    "        sns.lineplot(self.fpr_mean, self.tprs_mean, ax=ax, label= r'ROC CURVE (AUC MEAN = %0.3f $\\pm$ %0.2f)' % \\\n",
    "                     (np.round(self.means['roc_auc'],3), np.round(norm.ppf(0.975) * self.stds['roc_auc'] / np.sqrt(self.n_repeats * self.n_splits,3))) + f'{name}', \n",
    "                     estimator=None, **kwargs_lineplot)\n",
    "        \n",
    "        plt.sca(ax)\n",
    "        tprs_upper = np.minimum(self.tprs_mean + norm.ppf(0.975) * self.stds_train['roc_auc'] / np.sqrt(self.len), 1)\n",
    "        tprs_lower = np.maximum(self.tprs_mean - norm.ppf(0.975) * self.stds_train['roc_auc'] / np.sqrt(self.len), 0)\n",
    "        plt.fill_between(self.fpr_mean, tprs_lower, tprs_upper, color=ax.lines[-1].get_color(), alpha=.05)\n",
    "        plt.plot([0, 1], [0, 1], color='navy', lw=2, linestyle='--')\n",
    "        labs(title = 'ROC CURVE', xlabel='False Positive Rate', ylabel='True Positive Rate', ax=ax, \\\n",
    "             subtitle='ROC CURVE COMPUTADA PELAS VALORES DE VERDADEIROS POSITIVOS E FALSOS POSITIVOS OBTIDOS PELA VALIDAÇÃO CRUZADA')\n",
    "        plt.legend(loc='lower right', fontsize=12)\n",
    "        \n",
    "        return ax"
   ]
  },
  {
   "cell_type": "code",
   "execution_count": 181,
   "id": "f8f39135-05c3-4324-839f-f42265f0ff4f",
   "metadata": {},
   "outputs": [
    {
     "data": {
      "application/vnd.jupyter.widget-view+json": {
       "model_id": "7438f5774a954e1ca96903a3f59cc891",
       "version_major": 2,
       "version_minor": 0
      },
      "text/plain": [
       "  0%|          | 0/5 [00:00<?, ?it/s]"
      ]
     },
     "metadata": {},
     "output_type": "display_data"
    },
    {
     "data": {
      "application/vnd.jupyter.widget-view+json": {
       "model_id": "",
       "version_major": 2,
       "version_minor": 0
      },
      "text/plain": [
       "  0%|          | 0/100 [00:00<?, ?it/s]"
      ]
     },
     "metadata": {},
     "output_type": "display_data"
    },
    {
     "data": {
      "application/vnd.jupyter.widget-view+json": {
       "model_id": "",
       "version_major": 2,
       "version_minor": 0
      },
      "text/plain": [
       "  0%|          | 0/100 [00:00<?, ?it/s]"
      ]
     },
     "metadata": {},
     "output_type": "display_data"
    },
    {
     "data": {
      "application/vnd.jupyter.widget-view+json": {
       "model_id": "",
       "version_major": 2,
       "version_minor": 0
      },
      "text/plain": [
       "  0%|          | 0/100 [00:00<?, ?it/s]"
      ]
     },
     "metadata": {},
     "output_type": "display_data"
    },
    {
     "data": {
      "application/vnd.jupyter.widget-view+json": {
       "model_id": "",
       "version_major": 2,
       "version_minor": 0
      },
      "text/plain": [
       "  0%|          | 0/100 [00:00<?, ?it/s]"
      ]
     },
     "metadata": {},
     "output_type": "display_data"
    },
    {
     "data": {
      "application/vnd.jupyter.widget-view+json": {
       "model_id": "",
       "version_major": 2,
       "version_minor": 0
      },
      "text/plain": [
       "  0%|          | 0/100 [00:00<?, ?it/s]"
      ]
     },
     "metadata": {},
     "output_type": "display_data"
    }
   ],
   "source": [
    "for _ in tqdm(range(5), position = 0):\n",
    "    for _ in tqdm(range(100), position = 0.2, leave = False):\n",
    "        time.sleep(0.01)"
   ]
  },
  {
   "cell_type": "code",
   "execution_count": 248,
   "id": "f250e231-317f-452b-93d2-7bb88e38af73",
   "metadata": {},
   "outputs": [
    {
     "data": {
      "application/vnd.jupyter.widget-view+json": {
       "model_id": "eb61a5ec9ae34e77ae40aa64e5b5a65c",
       "version_major": 2,
       "version_minor": 0
      },
      "text/plain": [
       "  0%|          | 0/50 [00:00<?, ?it/s]"
      ]
     },
     "metadata": {},
     "output_type": "display_data"
    }
   ],
   "source": [
    "bar1 = tqdm_n(range(50), leave=False)"
   ]
  },
  {
   "cell_type": "code",
   "execution_count": 198,
   "id": "260a026b-7e6b-49d4-bb0e-576322ed83f6",
   "metadata": {},
   "outputs": [],
   "source": [
    "bar1.reset()"
   ]
  },
  {
   "cell_type": "code",
   "execution_count": 254,
   "id": "81911487-0cdd-47a1-ae6e-198920ff4417",
   "metadata": {},
   "outputs": [
    {
     "data": {
      "application/vnd.jupyter.widget-view+json": {
       "model_id": "06bd3c9327b546c7b770fa140ce28406",
       "version_major": 2,
       "version_minor": 0
      },
      "text/plain": [
       "  0%|          | 0/50 [00:00<?, ?it/s]"
      ]
     },
     "metadata": {},
     "output_type": "display_data"
    },
    {
     "data": {
      "application/vnd.jupyter.widget-view+json": {
       "model_id": "dfd58ba42a2e4e779eb661e757382a2b",
       "version_major": 2,
       "version_minor": 0
      },
      "text/plain": [
       "  0%|          | 0/50 [00:00<?, ?it/s]"
      ]
     },
     "metadata": {},
     "output_type": "display_data"
    }
   ],
   "source": [
    "bar1 = tqdm_n(range(50))\n",
    "bar2 = tqdm_n(range(50))\n",
    "for i in range(len(bar1)):\n",
    "    for j in range(len(bar2)):\n",
    "        # do something, e.g. sleep\n",
    "        time.sleep(0.000001)\n",
    "        if j != len(bar2):\n",
    "            bar2.update(1)\n",
    "    bar2.reset()\n",
    "    bar1.update()\n",
    "bar2.update(50)"
   ]
  },
  {
   "cell_type": "code",
   "execution_count": 256,
   "id": "19b6dc1b-6a9c-4fc3-9ee5-156fbefba80a",
   "metadata": {},
   "outputs": [
    {
     "data": {
      "text/plain": [
       "True"
      ]
     },
     "execution_count": 256,
     "metadata": {},
     "output_type": "execute_result"
    }
   ],
   "source": [
    "bar1.update()"
   ]
  },
  {
   "cell_type": "code",
   "execution_count": 191,
   "id": "32e0d1ed-f129-4be1-812f-66274adba848",
   "metadata": {},
   "outputs": [
    {
     "data": {
      "text/plain": [
       "int"
      ]
     },
     "execution_count": 191,
     "metadata": {},
     "output_type": "execute_result"
    }
   ],
   "source": [
    "type(j)"
   ]
  },
  {
   "cell_type": "code",
   "execution_count": null,
   "id": "6d35c86f-b007-4e00-90b9-d54da85348ea",
   "metadata": {},
   "outputs": [],
   "source": [
    "lr2 = Model(LogisticRegression(max_iter=10000), data, [('feature_selection', \n",
    "                                                       Drop_features_files(files=[high_corr_95]))])\n",
    "lr2.cross_val()"
   ]
  },
  {
   "cell_type": "code",
   "execution_count": null,
   "id": "6a401069-de50-41f5-9354-b168399b356a",
   "metadata": {},
   "outputs": [],
   "source": [
    "lr3 = Model(LogisticRegression(max_iter=10000), data, [('feature_selection', \n",
    "                                                       Drop_features_files(files=[chi2_5 ,high_corr_95]))])\n",
    "lr3.cross_val()"
   ]
  },
  {
   "cell_type": "code",
   "execution_count": null,
   "id": "61583fdf-97e0-43bd-b7b8-72ce5ac64561",
   "metadata": {},
   "outputs": [],
   "source": [
    "lr4 = Model(LogisticRegression(max_iter=10000), data, [('feature_selection',\n",
    "                                                       Drop_features_files(files=[chi2_2_5, eq_mean_5, high_corr_95]))])\n",
    "lr4.cross_val()"
   ]
  },
  {
   "cell_type": "code",
   "execution_count": null,
   "id": "6dded6e7-6c32-44d9-8826-9b831257227a",
   "metadata": {},
   "outputs": [],
   "source": [
    "lr4.model.best_score_"
   ]
  },
  {
   "cell_type": "markdown",
   "id": "f46e1064-3eb2-41d6-bc82-4141db1709b3",
   "metadata": {},
   "source": [
    "# DecisionTreeClassifier"
   ]
  },
  {
   "cell_type": "markdown",
   "id": "eab1216b-ef32-4b7c-b6d7-87d2c747e2a1",
   "metadata": {},
   "source": [
    "# RandomForestClassifier"
   ]
  },
  {
   "cell_type": "code",
   "execution_count": null,
   "id": "7daa325a-d574-485d-82e3-c7d4b7fe80f6",
   "metadata": {},
   "outputs": [],
   "source": [
    "rf1 = Model(RandomForestClassifier(), data)\n",
    "rf1.cross_val()"
   ]
  },
  {
   "cell_type": "code",
   "execution_count": null,
   "id": "04c4bc00-545d-42b8-bb8e-556f84bb4814",
   "metadata": {},
   "outputs": [],
   "source": [
    "rf2 = Model(RandomForestClassifier(), data,[('feature_selection',\n",
    "                                                       Drop_features_files(files=[chi2_2_5, eq_mean_5, high_corr_95]))])\n",
    "rf2.cross_val()"
   ]
  },
  {
   "cell_type": "code",
   "execution_count": null,
   "id": "42ed3dfa-d7df-45e3-8cea-3cca87751495",
   "metadata": {},
   "outputs": [],
   "source": [
    "rf3 = Model(RandomForestClassifier(), data,[('feature_selection',\n",
    "                                                       Drop_features_files(files=[chi2_2_5, eq_mean_5, high_corr_95]))])\n",
    "rf3.cross_val()"
   ]
  },
  {
   "cell_type": "code",
   "execution_count": 11,
   "id": "701cace9-ddf2-4fe4-9a99-b68e4172cff5",
   "metadata": {},
   "outputs": [
    {
     "name": "stdout",
     "output_type": "stream",
     "text": [
      "Validação Cruzada com 10 repetições e 5 divisões do dataset\n",
      "----------------------------------------------------------------------------------\n",
      "CLASSIFICADOR                   : RandomForestClassifier()\n",
      "Métodos de seleção de variávies : Drop_features_files(files=['chi2_alpha_0.025.txt', 'equal_mean_alpha_0.025.txt',\n",
      "                           'high_corr_thd_0.9.txt'])\n",
      "\n",
      "------------------------------------------|---------------------------------------\n",
      "Métricas no dataset de teste:             | Métricas no dataset de treino: \n",
      "------------------------------------------|---------------------------------------\n",
      "ROC AUC MÉDIA         : 0.783             |ROC AUC MÉDIA         : 1.000\n",
      "ROC AUC DESVIO PADRÃO : 0.050             |ROC AUC DESVIO PADRÃO : 0.000\n",
      "ROC AUC ITERVALO      : 0.783 ± 0.01      |ROC AUC ITERVALO      : 1.000 ± 0.00\n",
      "DE CONFIÂNCIA DE 95%                      |DE CONFIÂNCIA DE 95%\n",
      "  \n",
      "DEMAIS MÉTRICAS                           |DEMAIS MÉTRICAS\n",
      "------------------------------------------|---------------------------------------\n",
      "ACCURACY  MÉDIA       : 0.721             |ACCURACY  MÉDIA       : 1.000\n",
      "PRECISÃO  MÉDIA       : 0.699             |ACCURACY  MÉDIA       : 1.000\n",
      "RECALL MÉDIO          : 0.676             |RECALL MÉDIO          : 1.000\n",
      "F1-SCORE  MÉDIO       : 0.680             |F1-SCORE  MÉDIO       : 1.000\n",
      "\n",
      "Tempo Médio de treinamento:0.1500391483306885\n"
     ]
    }
   ],
   "source": [
    "rf4 = Model(RandomForestClassifier(), data,[('feature_selection',\n",
    "                                                       Drop_features_files(files=[chi2_2_5, eq_mean_2_5, high_corr_90]))])\n",
    "rf4.cross_val()"
   ]
  },
  {
   "cell_type": "code",
   "execution_count": 12,
   "id": "396151d5-02de-4860-b325-e59ca751b377",
   "metadata": {},
   "outputs": [],
   "source": [
    "# Number of trees in random forest\n",
    "n_estimators = list(range(100,1000,200))\n",
    "# Number of features to consider at every split\n",
    "max_features = ['auto', 'sqrt']\n",
    "# Maximum number of levels in tree\n",
    "max_depth = list(range(3,10,2))\n",
    "max_depth.append(None)\n",
    "# Minimum number of samples required to split a node\n",
    "min_samples_split = [2, 5, 10]\n",
    "# Minimum number of samples required at each leaf node\n",
    "min_samples_leaf = [1, 2, 4]\n",
    "# Method of selecting samples for training each tree\n",
    "bootstrap = [True, False]\n",
    "# Create the random grid\n",
    "random_grid = {'n_estimators': n_estimators,\n",
    "               'max_features': max_features,\n",
    "               'max_depth': max_depth,\n",
    "               'min_samples_split': min_samples_split,\n",
    "               'min_samples_leaf': min_samples_leaf,\n",
    "               'bootstrap': bootstrap}"
   ]
  },
  {
   "cell_type": "code",
   "execution_count": 13,
   "id": "394534de-5d05-4983-9ee3-b556a61e9ca9",
   "metadata": {},
   "outputs": [
    {
     "data": {
      "application/vnd.jupyter.widget-view+json": {
       "model_id": "75faf3c020c7400dbd6727a34bcce09f",
       "version_major": 2,
       "version_minor": 0
      },
      "text/plain": [
       "  0%|          | 0/100 [00:00<?, ?it/s]"
      ]
     },
     "metadata": {},
     "output_type": "display_data"
    },
    {
     "name": "stdout",
     "output_type": "stream",
     "text": [
      "Validação Cruzada com 10 repetições e 5 divisões do dataset\n",
      "----------------------------------------------------------------------------------\n",
      "CLASSIFICADOR                   : RandomForestClassifier(max_depth=5, min_samples_leaf=4, n_estimators=900)\n",
      "Métodos de seleção de variávies : Drop_features_files(files=['chi2_alpha_0.025.txt', 'equal_mean_alpha_0.025.txt',\n",
      "                           'high_corr_thd_0.9.txt'])\n",
      "\n",
      "------------------------------------------|---------------------------------------\n",
      "Métricas no dataset de teste:             | Métricas no dataset de treino: \n",
      "------------------------------------------|---------------------------------------\n",
      "ROC AUC MÉDIA         : 0.795             |ROC AUC MÉDIA         : 0.956\n",
      "ROC AUC DESVIO PADRÃO : 0.050             |ROC AUC DESVIO PADRÃO : 0.005\n",
      "ROC AUC ITERVALO      : 0.795 ± 0.01      |ROC AUC ITERVALO      : 0.956 ± 0.00\n",
      "DE CONFIÂNCIA DE 95%                      |DE CONFIÂNCIA DE 95%\n",
      "  \n",
      "DEMAIS MÉTRICAS                           |DEMAIS MÉTRICAS\n",
      "------------------------------------------|---------------------------------------\n",
      "ACCURACY  MÉDIA       : 0.729             |ACCURACY  MÉDIA       : 0.885\n",
      "PRECISÃO  MÉDIA       : 0.710             |ACCURACY  MÉDIA       : 0.899\n",
      "RECALL MÉDIO          : 0.679             |RECALL MÉDIO          : 0.852\n",
      "F1-SCORE  MÉDIO       : 0.684             |F1-SCORE  MÉDIO       : 0.868\n",
      "\n",
      "Tempo Médio de treinamento:1.5415815210342407\n"
     ]
    },
    {
     "data": {
      "text/plain": [
       "{'n_estimators': 900,\n",
       " 'min_samples_split': 2,\n",
       " 'min_samples_leaf': 4,\n",
       " 'max_features': 'auto',\n",
       " 'max_depth': 5,\n",
       " 'bootstrap': True}"
      ]
     },
     "execution_count": 13,
     "metadata": {},
     "output_type": "execute_result"
    }
   ],
   "source": [
    "rf4.search(random_grid)"
   ]
  },
  {
   "cell_type": "code",
   "execution_count": 32,
   "id": "d62a4a60-81df-4355-9ef6-1b6a33ce30d3",
   "metadata": {},
   "outputs": [
    {
     "data": {
      "image/png": "[encoded data removed]",
      "text/plain": [
       "<Figure size 1440x720 with 1 Axes>"
      ]
     },
     "metadata": {},
     "output_type": "display_data"
    }
   ],
   "source": [
    "rf4.plot_roc_curve()\n",
    "plt.show()"
   ]
  },
  {
   "cell_type": "code",
   "execution_count": 36,
   "id": "b585a6c0-6f73-42cd-bd29-348eb0995a39",
   "metadata": {},
   "outputs": [
    {
     "name": "stdout",
     "output_type": "stream",
     "text": [
      "Validação Cruzada com 10 repetições e 5 divisões do dataset\n",
      "----------------------------------------------------------------------------------\n",
      "CLASSIFICADOR                   : RandomForestClassifier(max_depth=5, min_samples_leaf=4, n_estimators=900)\n",
      "Métodos de seleção de variávies : Drop_features_files(files=['chi2_alpha_0.025.txt', 'equal_mean_alpha_0.025.txt',\n",
      "                           'high_corr_thd_0.9.txt'])\n",
      "\n",
      "------------------------------------------|---------------------------------------\n",
      "Métricas no dataset de teste:             | Métricas no dataset de treino: \n",
      "------------------------------------------|---------------------------------------\n",
      "ROC AUC MÉDIA         : 0.795             |ROC AUC MÉDIA         : 0.956\n",
      "ROC AUC DESVIO PADRÃO : 0.049             |ROC AUC DESVIO PADRÃO : 0.005\n",
      "ROC AUC ITERVALO      : 0.795 ± 0.01      |ROC AUC ITERVALO      : 0.956 ± 0.00\n",
      "DE CONFIÂNCIA DE 95%                      |DE CONFIÂNCIA DE 95%\n",
      "  \n",
      "DEMAIS MÉTRICAS                           |DEMAIS MÉTRICAS\n",
      "------------------------------------------|---------------------------------------\n",
      "ACCURACY  MÉDIA       : 0.731             |ACCURACY  MÉDIA       : 0.888\n",
      "PRECISÃO  MÉDIA       : 0.713             |ACCURACY  MÉDIA       : 0.901\n",
      "RECALL MÉDIO          : 0.681             |RECALL MÉDIO          : 0.855\n",
      "F1-SCORE  MÉDIO       : 0.687             |F1-SCORE  MÉDIO       : 0.871\n",
      "\n",
      "Tempo Médio de treinamento:1.2829632663726807\n"
     ]
    }
   ],
   "source": [
    "rf5 = Model(RandomForestClassifier(**rf4.best_params), data,[('feature_selection',\n",
    "                                                       Drop_features_files(files=[chi2_2_5, eq_mean_2_5, high_corr_90]))])\n",
    "rf5.cross_val()"
   ]
  },
  {
   "cell_type": "code",
   "execution_count": 52,
   "id": "574d45f3-e74c-4bb9-a96c-7da113791e33",
   "metadata": {},
   "outputs": [],
   "source": [
    "params_NB = {'var_smoothing': np.logspace(0,-9, num=100)}"
   ]
  },
  {
   "cell_type": "code",
   "execution_count": 37,
   "id": "fdad7d5b-d052-4f13-be32-d61f872a74ef",
   "metadata": {},
   "outputs": [
    {
     "name": "stdout",
     "output_type": "stream",
     "text": [
      "Validação Cruzada com 10 repetições e 5 divisões do dataset\n",
      "----------------------------------------------------------------------------------\n",
      "CLASSIFICADOR                   : GaussianNB()\n",
      "Métodos de seleção de variávies : Drop_features_files(files=['chi2_alpha_0.025.txt', 'equal_mean_alpha_0.025.txt',\n",
      "                           'high_corr_thd_0.9.txt'])\n",
      "\n",
      "------------------------------------------|---------------------------------------\n",
      "Métricas no dataset de teste:             | Métricas no dataset de treino: \n",
      "------------------------------------------|---------------------------------------\n",
      "ROC AUC MÉDIA         : 0.779             |ROC AUC MÉDIA         : 0.800\n",
      "ROC AUC DESVIO PADRÃO : 0.059             |ROC AUC DESVIO PADRÃO : 0.013\n",
      "ROC AUC ITERVALO      : 0.779 ± 0.02      |ROC AUC ITERVALO      : 0.800 ± 0.00\n",
      "DE CONFIÂNCIA DE 95%                      |DE CONFIÂNCIA DE 95%\n",
      "  \n",
      "DEMAIS MÉTRICAS                           |DEMAIS MÉTRICAS\n",
      "------------------------------------------|---------------------------------------\n",
      "ACCURACY  MÉDIA       : 0.723             |ACCURACY  MÉDIA       : 0.739\n",
      "PRECISÃO  MÉDIA       : 0.709             |ACCURACY  MÉDIA       : 0.735\n",
      "RECALL MÉDIO          : 0.659             |RECALL MÉDIO          : 0.678\n",
      "F1-SCORE  MÉDIO       : 0.662             |F1-SCORE  MÉDIO       : 0.683\n",
      "\n",
      "Tempo Médio de treinamento:0.0055230712890625\n"
     ]
    }
   ],
   "source": [
    "g_nb = Model(GaussianNB(), data,[('feature_selection',Drop_features_files(files=[chi2_2_5, eq_mean_2_5, high_corr_90]))])\n",
    "g_nb.cross_val()"
   ]
  },
  {
   "cell_type": "code",
   "execution_count": 53,
   "id": "35829791-61f3-4955-9329-0237b808edf3",
   "metadata": {},
   "outputs": [
    {
     "data": {
      "application/vnd.jupyter.widget-view+json": {
       "model_id": "41f28f7b78924bf2b5eb310b37ce77ee",
       "version_major": 2,
       "version_minor": 0
      },
      "text/plain": [
       "  0%|          | 0/100 [00:00<?, ?it/s]"
      ]
     },
     "metadata": {},
     "output_type": "display_data"
    },
    {
     "name": "stdout",
     "output_type": "stream",
     "text": [
      "Validação Cruzada com 10 repetições e 5 divisões do dataset\n",
      "----------------------------------------------------------------------------------\n",
      "CLASSIFICADOR                   : GaussianNB(var_smoothing=0.0004328761281083057)\n",
      "Métodos de seleção de variávies : Drop_features_files(files=['chi2_alpha_0.025.txt', 'equal_mean_alpha_0.025.txt',\n",
      "                           'high_corr_thd_0.9.txt'])\n",
      "\n",
      "------------------------------------------|---------------------------------------\n",
      "Métricas no dataset de teste:             | Métricas no dataset de treino: \n",
      "------------------------------------------|---------------------------------------\n",
      "ROC AUC MÉDIA         : 0.792             |ROC AUC MÉDIA         : 0.815\n",
      "ROC AUC DESVIO PADRÃO : 0.058             |ROC AUC DESVIO PADRÃO : 0.013\n",
      "ROC AUC ITERVALO      : 0.792 ± 0.02      |ROC AUC ITERVALO      : 0.815 ± 0.00\n",
      "DE CONFIÂNCIA DE 95%                      |DE CONFIÂNCIA DE 95%\n",
      "  \n",
      "DEMAIS MÉTRICAS                           |DEMAIS MÉTRICAS\n",
      "------------------------------------------|---------------------------------------\n",
      "ACCURACY  MÉDIA       : 0.731             |ACCURACY  MÉDIA       : 0.756\n",
      "PRECISÃO  MÉDIA       : 0.729             |ACCURACY  MÉDIA       : 0.758\n",
      "RECALL MÉDIO          : 0.663             |RECALL MÉDIO          : 0.690\n",
      "F1-SCORE  MÉDIO       : 0.669             |F1-SCORE  MÉDIO       : 0.701\n",
      "\n",
      "Tempo Médio de treinamento:0.2018586826324463\n"
     ]
    },
    {
     "data": {
      "text/plain": [
       "{'var_smoothing': 0.0004328761281083057}"
      ]
     },
     "execution_count": 53,
     "metadata": {},
     "output_type": "execute_result"
    }
   ],
   "source": [
    "g_nb.search(params_NB)"
   ]
  },
  {
   "cell_type": "code",
   "execution_count": 55,
   "id": "db2c07a0-3ef9-430e-9787-d4750018f02f",
   "metadata": {},
   "outputs": [
    {
     "data": {
      "application/vnd.jupyter.widget-view+json": {
       "model_id": "abb68ccfce534cfbb55f9f06db37b338",
       "version_major": 2,
       "version_minor": 0
      },
      "text/plain": [
       "  0%|          | 0/50 [00:00<?, ?it/s]"
      ]
     },
     "metadata": {},
     "output_type": "display_data"
    },
    {
     "name": "stdout",
     "output_type": "stream",
     "text": [
      "10 repetições de Validação Cruzada com 5 divisões no dataset\n",
      "----------------------------------------------------------------------------------\n",
      "CLASSIFICADOR                   : StackingClassifier(estimators=[('rf',\n",
      "                                RandomForestClassifier(max_depth=5,\n",
      "                                                       min_samples_leaf=4,\n",
      "                                                       n_estimators=900)),\n",
      "                               ('log', LogisticRegression()),\n",
      "                               ('gaussian',\n",
      "                                GaussianNB(var_smoothing=0.0004328761281083057))])\n",
      "Métodos de seleção de variávies : Drop_features_files(files=['chi2_alpha_0.025.txt', 'equal_mean_alpha_0.025.txt',\n",
      "                           'high_corr_thd_0.9.txt'])\n",
      "\n",
      "------------------------------------------|---------------------------------------\n",
      "Métricas no dataset de teste:             | Métricas no dataset de treino: \n",
      "------------------------------------------|---------------------------------------\n",
      "ROC AUC MÉDIA         : 0.796             |ROC AUC MÉDIA         : 0.905\n",
      "ROC AUC DESVIO PADRÃO : 0.066             |ROC AUC DESVIO PADRÃO : 0.011\n",
      "ROC AUC ITERVALO      : 0.796 ± 0.02      |ROC AUC ITERVALO      : 0.905 ± 0.00\n",
      "DE CONFIÂNCIA DE 95%                      |DE CONFIÂNCIA DE 95%\n",
      "  \n",
      "DEMAIS MÉTRICAS                           |DEMAIS MÉTRICAS\n",
      "------------------------------------------|---------------------------------------\n",
      "ACCURACY  MÉDIA       : 0.731             |ACCURACY  MÉDIA       : 0.800\n",
      "PRECISÃO  MÉDIA       : 0.719             |ACCURACY  MÉDIA       : 0.805\n",
      "RECALL MÉDIO          : 0.674             |RECALL MÉDIO          : 0.750\n",
      "F1-SCORE  MÉDIO       : 0.681             |F1-SCORE  MÉDIO       : 0.764\n",
      "\n",
      "Tempo Médio de treinamento:7.8235080480575565\n"
     ]
    }
   ],
   "source": [
    "stack = Model(StackingClassifier([('rf',RandomForestClassifier(**rf4.best_params)), ('log',LogisticRegression()), \n",
    "                                  ('gaussian', GaussianNB(**g_nb.best_params))]), data, \n",
    "              [('feature_selection',Drop_features_files(files=[chi2_2_5, eq_mean_2_5, high_corr_90]))])\n",
    "stack.cross_val()"
   ]
  },
  {
   "cell_type": "code",
   "execution_count": 50,
   "id": "f04c63fd-110a-45f8-8068-448c4769a38f",
   "metadata": {},
   "outputs": [
    {
     "data": {
      "application/vnd.jupyter.widget-view+json": {
       "model_id": "7cb63ed826d74096b09b794a40697bb1",
       "version_major": 2,
       "version_minor": 0
      },
      "text/plain": [
       "  0%|          | 0/50 [00:00<?, ?it/s]"
      ]
     },
     "metadata": {},
     "output_type": "display_data"
    },
    {
     "name": "stdout",
     "output_type": "stream",
     "text": [
      "10 repetições de Validação Cruzada com 5 divisões no dataset\n",
      "----------------------------------------------------------------------------------\n",
      "CLASSIFICADOR                   : StackingClassifier(estimators=[('rf', RandomForestClassifier()),\n",
      "                               ('log', LogisticRegression()),\n",
      "                               ('gaussian', GaussianNB())])\n",
      "Métodos de seleção de variávies : Drop_features_files(files=['chi2_alpha_0.025.txt', 'equal_mean_alpha_0.025.txt',\n",
      "                           'high_corr_thd_0.9.txt'])\n",
      "\n",
      "------------------------------------------|---------------------------------------\n",
      "Métricas no dataset de teste:             | Métricas no dataset de treino: \n",
      "------------------------------------------|---------------------------------------\n",
      "ROC AUC MÉDIA         : 0.792             |ROC AUC MÉDIA         : 0.979\n",
      "ROC AUC DESVIO PADRÃO : 0.064             |ROC AUC DESVIO PADRÃO : 0.015\n",
      "ROC AUC ITERVALO      : 0.792 ± 0.02      |ROC AUC ITERVALO      : 0.979 ± 0.00\n",
      "DE CONFIÂNCIA DE 95%                      |DE CONFIÂNCIA DE 95%\n",
      "  \n",
      "DEMAIS MÉTRICAS                           |DEMAIS MÉTRICAS\n",
      "------------------------------------------|---------------------------------------\n",
      "ACCURACY  MÉDIA       : 0.727             |ACCURACY  MÉDIA       : 0.893\n",
      "PRECISÃO  MÉDIA       : 0.709             |ACCURACY  MÉDIA       : 0.905\n",
      "RECALL MÉDIO          : 0.673             |RECALL MÉDIO          : 0.862\n",
      "F1-SCORE  MÉDIO       : 0.679             |F1-SCORE  MÉDIO       : 0.876\n",
      "\n",
      "Tempo Médio de treinamento:1.1561945819854735\n"
     ]
    }
   ],
   "source": [
    "stack = Model(StackingClassifier([('rf',RandomForestClassifier()), ('log',LogisticRegression()), ('gaussian', GaussianNB())]), data, \n",
    "              [('feature_selection',Drop_features_files(files=[chi2_2_5, eq_mean_2_5, high_corr_90]))])\n",
    "stack.cross_val()"
   ]
  },
  {
   "cell_type": "code",
   "execution_count": null,
   "id": "18b171d6-fb3d-493c-a801-282a53cf66e0",
   "metadata": {},
   "outputs": [],
   "source": []
  }
 ],
 "metadata": {
  "kernelspec": {
   "display_name": "Python 3",
   "language": "python",
   "name": "python3"
  },
  "language_info": {
   "codemirror_mode": {
    "name": "ipython",
    "version": 3
   },
   "file_extension": ".py",
   "mimetype": "text/x-python",
   "name": "python",
   "nbconvert_exporter": "python",
   "pygments_lexer": "ipython3",
   "version": "3.7.6"
  }
 },
 "nbformat": 4,
 "nbformat_minor": 5
}
