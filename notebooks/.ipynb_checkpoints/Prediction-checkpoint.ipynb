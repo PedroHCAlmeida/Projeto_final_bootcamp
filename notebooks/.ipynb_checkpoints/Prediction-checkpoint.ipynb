{
 "cells": [
  {
   "cell_type": "code",
   "execution_count": 2,
   "id": "1a520ee7-2bf6-4364-9b7a-795deafccbac",
   "metadata": {},
   "outputs": [],
   "source": [
    "import numpy as np\n",
    "import pandas as pd\n",
    "import matplotlib.pyplot as plt\n",
    "import seaborn as sns\n",
    "from sklearn.preprocessing import LabelEncoder, StandardScaler\n",
    "from sklearn.linear_model import LogisticRegression\n",
    "from sklearn.tree import DecisionTreeClassifier\n",
    "from sklearn.ensemble import RandomForestClassifier, GradientBoostingClassifier, AdaBoostClassifier, StackingClassifier\n",
    "from sklearn.naive_bayes import GaussianNB\n",
    "from sklearn.feature_selection import RFE, SelectKBest\n",
    "import warnings\n",
    "import os"
   ]
  },
  {
   "cell_type": "code",
   "execution_count": 3,
   "id": "18a41238-16e1-458a-af93-896c4b4bc2ff",
   "metadata": {},
   "outputs": [],
   "source": [
    "warnings.filterwarnings('ignore')"
   ]
  },
  {
   "cell_type": "code",
   "execution_count": 4,
   "id": "b697249f-de73-480f-bd4f-cf29edf5b5cb",
   "metadata": {},
   "outputs": [
    {
     "ename": "SyntaxError",
     "evalue": "invalid syntax (model.py, line 38)",
     "output_type": "error",
     "traceback": [
      "Traceback \u001b[1;36m(most recent call last)\u001b[0m:\n",
      "  File \u001b[0;32m\"C:\\Users\\pedro\\anaconda3_02\\lib\\site-packages\\IPython\\core\\interactiveshell.py\"\u001b[0m, line \u001b[0;32m3437\u001b[0m, in \u001b[0;35mrun_code\u001b[0m\n    exec(code_obj, self.user_global_ns, self.user_ns)\n",
      "\u001b[1;36m  File \u001b[1;32m\"<ipython-input-4-6b8f8fcf1497>\"\u001b[1;36m, line \u001b[1;32m4\u001b[1;36m, in \u001b[1;35m<module>\u001b[1;36m\u001b[0m\n\u001b[1;33m    from model import Model\u001b[0m\n",
      "\u001b[1;36m  File \u001b[1;32m\"C:\\Users\\pedro\\Documents\\Alura\\Projeto_final_bootcamp\\functions\\model.py\"\u001b[1;36m, line \u001b[1;32m38\u001b[0m\n\u001b[1;33m    n_splits:int = 5,\u001b[0m\n\u001b[1;37m           ^\u001b[0m\n\u001b[1;31mSyntaxError\u001b[0m\u001b[1;31m:\u001b[0m invalid syntax\n"
     ]
    }
   ],
   "source": [
    "os.chdir(\"../functions\")\n",
    "from preprocessing import target_encoder\n",
    "from feature import Drop_features_files\n",
    "from model import Model\n",
    "from plot import labs\n",
    "os.chdir(\"../notebooks\")"
   ]
  },
  {
   "cell_type": "code",
   "execution_count": null,
   "id": "14bb0673-7364-4a96-97e5-0863330ffa52",
   "metadata": {},
   "outputs": [],
   "source": [
    "sns.set_style('darkgrid')"
   ]
  },
  {
   "cell_type": "code",
   "execution_count": null,
   "id": "3e527f91-35c4-46d2-982e-7104484ee6d5",
   "metadata": {},
   "outputs": [],
   "source": [
    "data = pd.read_csv('../data/preprocessed_data/Kaggle_Sirio_Libanes_ICU_Prediction.csv')"
   ]
  },
  {
   "cell_type": "code",
   "execution_count": null,
   "id": "1f4c3e36-214b-4add-8498-455d42060e7c",
   "metadata": {},
   "outputs": [],
   "source": [
    "#te = target_encoder()\n",
    "#te.fit(data,None)\n",
    "#data = te.transform(data)\n",
    "#data = data.drop(['WINDOW', 'PATIENT_VISIT_IDENTIFIER'],axis=1)"
   ]
  },
  {
   "cell_type": "code",
   "execution_count": null,
   "id": "653e97d9-6cbe-4e06-8423-51b824d70721",
   "metadata": {},
   "outputs": [],
   "source": [
    "le = LabelEncoder()\n",
    "data.AGE_PERCENTIL = le.fit_transform(data.AGE_PERCENTIL)\n",
    "data = data.drop(['WINDOW', 'PATIENT_VISIT_IDENTIFIER'],axis=1)"
   ]
  },
  {
   "cell_type": "code",
   "execution_count": null,
   "id": "475e7081-3621-406d-8ca7-a64e9f74b6d7",
   "metadata": {},
   "outputs": [],
   "source": [
    "chi2_5 = 'chi2_alpha_0.05.txt'\n",
    "chi2_2_5 = 'chi2_alpha_0.025.txt'\n",
    "high_corr_95 = 'high_corr_thd_0.95.txt'\n",
    "high_corr_90 = 'high_corr_thd_0.9.txt'\n",
    "eq_mean_5 = 'equal_mean_alpha_0.05.txt'\n",
    "eq_mean_2_5 = 'equal_mean_alpha_0.025.txt'"
   ]
  },
  {
   "cell_type": "markdown",
   "id": "f9c9433c-38d5-4f06-af05-ce471c49a7ee",
   "metadata": {},
   "source": [
    "## DummyClassifier"
   ]
  },
  {
   "cell_type": "markdown",
   "id": "ff431213-dd09-4041-b0a6-947b8bb293aa",
   "metadata": {},
   "source": [
    "## LogisticRegression"
   ]
  },
  {
   "cell_type": "code",
   "execution_count": null,
   "id": "04ebaeb5-9f10-408f-80c3-163c22fe73ff",
   "metadata": {},
   "outputs": [],
   "source": [
    "lr = LogisticRegression()"
   ]
  },
  {
   "cell_type": "code",
   "execution_count": null,
   "id": "29fb40d5-b588-4471-8649-7f96b214e7ea",
   "metadata": {},
   "outputs": [],
   "source": [
    "lr = Model(LogisticRegression(max_iter=1000), data)\n",
    "lr.cross_val()"
   ]
  },
  {
   "cell_type": "code",
   "execution_count": null,
   "id": "1f37f718-03e0-4fcc-9397-5a12af289223",
   "metadata": {},
   "outputs": [],
   "source": [
    "lr.hist_metrics(kde=True)"
   ]
  },
  {
   "cell_type": "code",
   "execution_count": null,
   "id": "df3b0f8a-2446-4ca7-9e52-219fad10e260",
   "metadata": {},
   "outputs": [],
   "source": [
    "grid={\"C\":np.logspace(-3,3,7), \"penalty\":[\"l1\",\"l2\"], 'max_iter':[1000,10000,100000]}\n",
    "lr.search(grid)"
   ]
  },
  {
   "cell_type": "code",
   "execution_count": null,
   "id": "e1d5f4c1-47e6-4fdb-9fbe-c84676f5b523",
   "metadata": {},
   "outputs": [],
   "source": [
    "lr.plot_roc_curve()\n",
    "plt.show()"
   ]
  },
  {
   "cell_type": "code",
   "execution_count": null,
   "id": "5ba262bf-3d6f-4609-8e64-afc1bf51c95d",
   "metadata": {},
   "outputs": [],
   "source": [
    "lr2 = Model(LogisticRegression(max_iter=10000), data, [('feature_selection', \n",
    "                                                       Drop_features_files(files=[high_corr_95]))])\n",
    "lr2.cross_val()"
   ]
  },
  {
   "cell_type": "code",
   "execution_count": null,
   "id": "6d35c86f-b007-4e00-90b9-d54da85348ea",
   "metadata": {},
   "outputs": [],
   "source": [
    "lr2 = Model(LogisticRegression(max_iter=10000), data, [('feature_selection', \n",
    "                                                       Drop_features_files(files=[high_corr_95])), ('scaler', StandardScaler())])\n",
    "lr2.cross_val()"
   ]
  },
  {
   "cell_type": "code",
   "execution_count": null,
   "id": "6a401069-de50-41f5-9354-b168399b356a",
   "metadata": {},
   "outputs": [],
   "source": [
    "lr3 = Model(LogisticRegression(max_iter=10000), data, [('feature_selection', \n",
    "                                                       Drop_features_files(files=[chi2_5 ,high_corr_95]))])\n",
    "lr3.cross_val()"
   ]
  },
  {
   "cell_type": "code",
   "execution_count": null,
   "id": "61583fdf-97e0-43bd-b7b8-72ce5ac64561",
   "metadata": {},
   "outputs": [],
   "source": [
    "lr4 = Model(LogisticRegression(max_iter=10000), data, [('feature_selection',\n",
    "                                                       Drop_features_files(files=[chi2_2_5, eq_mean_5, high_corr_95]))])\n",
    "lr4.cross_val()"
   ]
  },
  {
   "cell_type": "code",
   "execution_count": null,
   "id": "67402c06-1cc4-4e43-a3cc-17d37df7dbcf",
   "metadata": {},
   "outputs": [],
   "source": [
    "lr4.hist_metrics(kde=True)"
   ]
  },
  {
   "cell_type": "code",
   "execution_count": null,
   "id": "6dded6e7-6c32-44d9-8826-9b831257227a",
   "metadata": {},
   "outputs": [],
   "source": [
    "lr4.search(grid)"
   ]
  },
  {
   "cell_type": "code",
   "execution_count": null,
   "id": "164ea2cd-ed53-4ef1-ada1-f44a692b20cc",
   "metadata": {},
   "outputs": [],
   "source": [
    "lr4.hist_metrics(kde=True)"
   ]
  },
  {
   "cell_type": "markdown",
   "id": "f46e1064-3eb2-41d6-bc82-4141db1709b3",
   "metadata": {},
   "source": [
    "# DecisionTreeClassifier"
   ]
  },
  {
   "cell_type": "markdown",
   "id": "eab1216b-ef32-4b7c-b6d7-87d2c747e2a1",
   "metadata": {},
   "source": [
    "# RandomForestClassifier"
   ]
  },
  {
   "cell_type": "code",
   "execution_count": null,
   "id": "7daa325a-d574-485d-82e3-c7d4b7fe80f6",
   "metadata": {},
   "outputs": [],
   "source": [
    "rf1 = Model(RandomForestClassifier(), data)\n",
    "rf1.cross_val()"
   ]
  },
  {
   "cell_type": "code",
   "execution_count": null,
   "id": "04c4bc00-545d-42b8-bb8e-556f84bb4814",
   "metadata": {},
   "outputs": [],
   "source": [
    "rf2 = Model(RandomForestClassifier(), data,[('feature_selection',\n",
    "                                                       Drop_features_files(files=[chi2_2_5, eq_mean_5, high_corr_95]))])\n",
    "rf2.cross_val()"
   ]
  },
  {
   "cell_type": "code",
   "execution_count": null,
   "id": "42ed3dfa-d7df-45e3-8cea-3cca87751495",
   "metadata": {},
   "outputs": [],
   "source": [
    "rf3 = Model(RandomForestClassifier(), data,[('feature_selection',\n",
    "                                                       Drop_features_files(files=[chi2_2_5, eq_mean_5, high_corr_95]))])\n",
    "rf3.cross_val()"
   ]
  },
  {
   "cell_type": "code",
   "execution_count": null,
   "id": "701cace9-ddf2-4fe4-9a99-b68e4172cff5",
   "metadata": {},
   "outputs": [],
   "source": [
    "rf4 = Model(RandomForestClassifier(), data,[('feature_selection',\n",
    "                                                       Drop_features_files(files=[chi2_2_5, eq_mean_2_5, high_corr_90]))])\n",
    "rf4.cross_val()"
   ]
  },
  {
   "cell_type": "code",
   "execution_count": null,
   "id": "396151d5-02de-4860-b325-e59ca751b377",
   "metadata": {},
   "outputs": [],
   "source": [
    "# Number of trees in random forest\n",
    "n_estimators = list(range(200,2000,200))\n",
    "# Maximum number of levels in tree\n",
    "max_depth = [None, 2, 4, 6, 8, 10]\n",
    "# Minimum number of samples required at each leaf node\n",
    "min_samples_leaf = [2, 4, 6, 8, 10, 12]\n",
    "\n",
    "# Create the random grid\n",
    "random_grid = {'n_estimators': n_estimators,\n",
    "               'max_depth': max_depth,\n",
    "               'min_samples_leaf': min_samples_leaf,\n",
    "              'n_jobs' : [-1]}"
   ]
  },
  {
   "cell_type": "code",
   "execution_count": null,
   "id": "b1f0cdad-3e30-4e33-b011-898633af7c42",
   "metadata": {},
   "outputs": [],
   "source": [
    "rf4 = Model(RandomForestClassifier(), data,[('feature_selection',\n",
    "                                                       Drop_features_files(files=[chi2_2_5, eq_mean_2_5, high_corr_90]))])\n",
    "rf4.cross_val()"
   ]
  },
  {
   "cell_type": "code",
   "execution_count": null,
   "id": "394534de-5d05-4983-9ee3-b556a61e9ca9",
   "metadata": {},
   "outputs": [],
   "source": [
    "rf4.search(random_grid)"
   ]
  },
  {
   "cell_type": "code",
   "execution_count": null,
   "id": "d5c0e728-319f-4c78-a755-de5b4307f924",
   "metadata": {},
   "outputs": [],
   "source": [
    "rf4.search(random_grid, score='f1')"
   ]
  },
  {
   "cell_type": "code",
   "execution_count": null,
   "id": "d62a4a60-81df-4355-9ef6-1b6a33ce30d3",
   "metadata": {},
   "outputs": [],
   "source": [
    "rf4.plot_roc_curve()\n",
    "plt.show()"
   ]
  },
  {
   "cell_type": "code",
   "execution_count": null,
   "id": "b585a6c0-6f73-42cd-bd29-348eb0995a39",
   "metadata": {},
   "outputs": [],
   "source": [
    "rf5 = Model(RandomForestClassifier(**rf4.best_params), data,[('feature_selection',\n",
    "                                                       Drop_features_files(files=[chi2_2_5, eq_mean_2_5, high_corr_90]))])\n",
    "rf5.cross_val()"
   ]
  },
  {
   "cell_type": "code",
   "execution_count": null,
   "id": "574d45f3-e74c-4bb9-a96c-7da113791e33",
   "metadata": {},
   "outputs": [],
   "source": [
    "params_NB = {'var_smoothing': np.logspace(0,-9, num=100)}"
   ]
  },
  {
   "cell_type": "code",
   "execution_count": null,
   "id": "fdad7d5b-d052-4f13-be32-d61f872a74ef",
   "metadata": {},
   "outputs": [],
   "source": [
    "g_nb = Model(GaussianNB(), data,[('feature_selection',Drop_features_files(files=[chi2_2_5, eq_mean_2_5, high_corr_90]))])\n",
    "g_nb.cross_val()"
   ]
  },
  {
   "cell_type": "code",
   "execution_count": null,
   "id": "35829791-61f3-4955-9329-0237b808edf3",
   "metadata": {},
   "outputs": [],
   "source": [
    "g_nb.search(params_NB)"
   ]
  },
  {
   "cell_type": "code",
   "execution_count": null,
   "id": "db2c07a0-3ef9-430e-9787-d4750018f02f",
   "metadata": {},
   "outputs": [],
   "source": [
    "stack = Model(StackingClassifier([('rf',RandomForestClassifier(**rf4.best_params)), ('log',LogisticRegression()), \n",
    "                                  ('gaussian', GaussianNB(**g_nb.best_params))]), data, \n",
    "              [('feature_selection',Drop_features_files(files=[chi2_2_5, eq_mean_2_5, high_corr_90]))])\n",
    "stack.cross_val()"
   ]
  },
  {
   "cell_type": "code",
   "execution_count": null,
   "id": "f04c63fd-110a-45f8-8068-448c4769a38f",
   "metadata": {},
   "outputs": [],
   "source": [
    "stack = Model(StackingClassifier([('rf',RandomForestClassifier()), ('log',LogisticRegression()), ('gaussian', GaussianNB())]), data, \n",
    "              [('feature_selection',Drop_features_files(files=[chi2_2_5, eq_mean_2_5, high_corr_90]))])\n",
    "stack.cross_val()"
   ]
  },
  {
   "cell_type": "code",
   "execution_count": null,
   "id": "18b171d6-fb3d-493c-a801-282a53cf66e0",
   "metadata": {},
   "outputs": [],
   "source": []
  }
 ],
 "metadata": {
  "kernelspec": {
   "display_name": "Python 3",
   "language": "python",
   "name": "python3"
  },
  "language_info": {
   "codemirror_mode": {
    "name": "ipython",
    "version": 3
   },
   "file_extension": ".py",
   "mimetype": "text/x-python",
   "name": "python",
   "nbconvert_exporter": "python",
   "pygments_lexer": "ipython3",
   "version": "3.7.6"
  }
 },
 "nbformat": 4,
 "nbformat_minor": 5
}
