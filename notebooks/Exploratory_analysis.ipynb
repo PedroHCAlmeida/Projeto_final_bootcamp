{
 "cells": [
  {
   "cell_type": "code",
   "execution_count": null,
   "id": "7bd8432e-bbae-4760-a4a0-36474c62f6e4",
   "metadata": {},
   "outputs": [],
   "source": []
  },
  {
   "cell_type": "code",
   "execution_count": 4,
   "id": "b150e4fa-0d05-4d0d-8164-5d5b3c1ef94e",
   "metadata": {},
   "outputs": [],
   "source": [
    "import pandas as pd\n",
    "import numpy as np\n",
    "import scipy.stats as stats\n",
    "\n",
    "import matplotlib.pyplot as plt\n",
    "import seaborn as sns\n",
    "\n",
    "from sklearn.preprocessing import LabelEncoder\n",
    "from sklearn.feature_selection import VarianceThreshold, f_classif\n",
    "\n",
    "import warnings"
   ]
  },
  {
   "cell_type": "code",
   "execution_count": 2,
   "id": "b5dc9457-6b0b-4f4a-b47c-2f8894e69f73",
   "metadata": {},
   "outputs": [],
   "source": [
    "warnings.filterwarnings('ignore')"
   ]
  },
  {
   "cell_type": "code",
   "execution_count": 3,
   "id": "e2b9a4b6-2312-41a8-ad6e-3279a2b2b00f",
   "metadata": {},
   "outputs": [],
   "source": [
    "import os\n",
    "os.chdir(\"../functions\")\n",
    "from feature import features_equal_mean, features_high_corr, features_chi2, binary_features, features_equal_var_mean\n",
    "from plot import plot_proportion_target, labs , plot_ecdf, labs\n",
    "os.chdir(\"../notebooks\")"
   ]
  },
  {
   "cell_type": "code",
   "execution_count": 4,
   "id": "cee7fe4b-f0dc-43ee-9d68-7512b7a4fd8f",
   "metadata": {},
   "outputs": [
    {
     "name": "stdout",
     "output_type": "stream",
     "text": [
      "Help on function plot_proportion_target in module plot:\n",
      "\n",
      "plot_proportion_target(data, target, col, ax, kwargs_labs={})\n",
      "\n"
     ]
    }
   ],
   "source": [
    "help(plot_proportion_target)"
   ]
  },
  {
   "cell_type": "code",
   "execution_count": 5,
   "id": "7f293d8a-6131-4805-bca9-5e47779701b4",
   "metadata": {},
   "outputs": [
    {
     "name": "stdout",
     "output_type": "stream",
     "text": [
      "Help on function binary_features in module feature:\n",
      "\n",
      "binary_features(data)\n",
      "\n"
     ]
    }
   ],
   "source": [
    "help(binary_features)"
   ]
  },
  {
   "cell_type": "code",
   "execution_count": 9,
   "id": "ca427da2-69dd-4bc3-98de-4cf63b920a4e",
   "metadata": {},
   "outputs": [],
   "source": [
    "data = pd.read_csv('../data/preprocessed_data/Kaggle_Sirio_Libanes_ICU_Prediction.csv')"
   ]
  },
  {
   "cell_type": "code",
   "execution_count": 14,
   "id": "9e2c33da-7d17-4d72-80b5-fa328a3fdf51",
   "metadata": {},
   "outputs": [],
   "source": [
    "data_cont = data.select_dtypes('float64').drop(binary_features(data),axis=1, errors='ignore')"
   ]
  },
  {
   "cell_type": "code",
   "execution_count": 11,
   "id": "6ddac9c8-e958-4d97-a0ac-69c820ea1fe7",
   "metadata": {},
   "outputs": [
    {
     "data": {
      "text/html": [
       "<div>\n",
       "<style scoped>\n",
       "    .dataframe tbody tr th:only-of-type {\n",
       "        vertical-align: middle;\n",
       "    }\n",
       "\n",
       "    .dataframe tbody tr th {\n",
       "        vertical-align: top;\n",
       "    }\n",
       "\n",
       "    .dataframe thead th {\n",
       "        text-align: right;\n",
       "    }\n",
       "</style>\n",
       "<table border=\"1\" class=\"dataframe\">\n",
       "  <thead>\n",
       "    <tr style=\"text-align: right;\">\n",
       "      <th></th>\n",
       "      <th>PATIENT_VISIT_IDENTIFIER</th>\n",
       "      <th>AGE_ABOVE65</th>\n",
       "      <th>AGE_PERCENTIL</th>\n",
       "      <th>GENDER</th>\n",
       "      <th>DISEASE GROUPING 1</th>\n",
       "      <th>DISEASE GROUPING 2</th>\n",
       "      <th>DISEASE GROUPING 3</th>\n",
       "      <th>DISEASE GROUPING 4</th>\n",
       "      <th>DISEASE GROUPING 5</th>\n",
       "      <th>DISEASE GROUPING 6</th>\n",
       "      <th>...</th>\n",
       "      <th>TEMPERATURE_DIFF</th>\n",
       "      <th>OXYGEN_SATURATION_DIFF</th>\n",
       "      <th>BLOODPRESSURE_DIASTOLIC_DIFF_REL</th>\n",
       "      <th>BLOODPRESSURE_SISTOLIC_DIFF_REL</th>\n",
       "      <th>HEART_RATE_DIFF_REL</th>\n",
       "      <th>RESPIRATORY_RATE_DIFF_REL</th>\n",
       "      <th>TEMPERATURE_DIFF_REL</th>\n",
       "      <th>OXYGEN_SATURATION_DIFF_REL</th>\n",
       "      <th>WINDOW</th>\n",
       "      <th>ICU</th>\n",
       "    </tr>\n",
       "  </thead>\n",
       "  <tbody>\n",
       "    <tr>\n",
       "      <th>0</th>\n",
       "      <td>0</td>\n",
       "      <td>1</td>\n",
       "      <td>60th</td>\n",
       "      <td>0</td>\n",
       "      <td>0.0</td>\n",
       "      <td>0.0</td>\n",
       "      <td>0.0</td>\n",
       "      <td>0.0</td>\n",
       "      <td>1.0</td>\n",
       "      <td>1.0</td>\n",
       "      <td>...</td>\n",
       "      <td>-1.000000</td>\n",
       "      <td>-1.000000</td>\n",
       "      <td>-1.000000</td>\n",
       "      <td>-1.000000</td>\n",
       "      <td>-1.000000</td>\n",
       "      <td>-1.000000</td>\n",
       "      <td>-1.000000</td>\n",
       "      <td>-1.000000</td>\n",
       "      <td>0-2</td>\n",
       "      <td>1</td>\n",
       "    </tr>\n",
       "    <tr>\n",
       "      <th>1</th>\n",
       "      <td>2</td>\n",
       "      <td>0</td>\n",
       "      <td>10th</td>\n",
       "      <td>0</td>\n",
       "      <td>0.0</td>\n",
       "      <td>0.0</td>\n",
       "      <td>0.0</td>\n",
       "      <td>0.0</td>\n",
       "      <td>0.0</td>\n",
       "      <td>0.0</td>\n",
       "      <td>...</td>\n",
       "      <td>-1.000000</td>\n",
       "      <td>-0.959596</td>\n",
       "      <td>-0.515528</td>\n",
       "      <td>-0.351328</td>\n",
       "      <td>-0.747001</td>\n",
       "      <td>-0.756272</td>\n",
       "      <td>-1.000000</td>\n",
       "      <td>-0.961262</td>\n",
       "      <td>0-2</td>\n",
       "      <td>1</td>\n",
       "    </tr>\n",
       "    <tr>\n",
       "      <th>2</th>\n",
       "      <td>3</td>\n",
       "      <td>0</td>\n",
       "      <td>40th</td>\n",
       "      <td>1</td>\n",
       "      <td>0.0</td>\n",
       "      <td>0.0</td>\n",
       "      <td>0.0</td>\n",
       "      <td>0.0</td>\n",
       "      <td>0.0</td>\n",
       "      <td>0.0</td>\n",
       "      <td>...</td>\n",
       "      <td>-1.000000</td>\n",
       "      <td>-1.000000</td>\n",
       "      <td>-1.000000</td>\n",
       "      <td>-1.000000</td>\n",
       "      <td>-1.000000</td>\n",
       "      <td>-1.000000</td>\n",
       "      <td>-1.000000</td>\n",
       "      <td>-1.000000</td>\n",
       "      <td>0-2</td>\n",
       "      <td>0</td>\n",
       "    </tr>\n",
       "    <tr>\n",
       "      <th>3</th>\n",
       "      <td>4</td>\n",
       "      <td>0</td>\n",
       "      <td>10th</td>\n",
       "      <td>0</td>\n",
       "      <td>0.0</td>\n",
       "      <td>0.0</td>\n",
       "      <td>0.0</td>\n",
       "      <td>0.0</td>\n",
       "      <td>0.0</td>\n",
       "      <td>0.0</td>\n",
       "      <td>...</td>\n",
       "      <td>-0.952381</td>\n",
       "      <td>-0.979798</td>\n",
       "      <td>-1.000000</td>\n",
       "      <td>-0.883669</td>\n",
       "      <td>-0.956805</td>\n",
       "      <td>-0.870968</td>\n",
       "      <td>-0.953536</td>\n",
       "      <td>-0.980333</td>\n",
       "      <td>0-2</td>\n",
       "      <td>0</td>\n",
       "    </tr>\n",
       "    <tr>\n",
       "      <th>4</th>\n",
       "      <td>5</td>\n",
       "      <td>0</td>\n",
       "      <td>10th</td>\n",
       "      <td>0</td>\n",
       "      <td>0.0</td>\n",
       "      <td>0.0</td>\n",
       "      <td>0.0</td>\n",
       "      <td>0.0</td>\n",
       "      <td>0.0</td>\n",
       "      <td>0.0</td>\n",
       "      <td>...</td>\n",
       "      <td>-0.976190</td>\n",
       "      <td>-0.979798</td>\n",
       "      <td>-0.860870</td>\n",
       "      <td>-0.714460</td>\n",
       "      <td>-0.986481</td>\n",
       "      <td>-1.000000</td>\n",
       "      <td>-0.975891</td>\n",
       "      <td>-0.980129</td>\n",
       "      <td>0-2</td>\n",
       "      <td>0</td>\n",
       "    </tr>\n",
       "    <tr>\n",
       "      <th>...</th>\n",
       "      <td>...</td>\n",
       "      <td>...</td>\n",
       "      <td>...</td>\n",
       "      <td>...</td>\n",
       "      <td>...</td>\n",
       "      <td>...</td>\n",
       "      <td>...</td>\n",
       "      <td>...</td>\n",
       "      <td>...</td>\n",
       "      <td>...</td>\n",
       "      <td>...</td>\n",
       "      <td>...</td>\n",
       "      <td>...</td>\n",
       "      <td>...</td>\n",
       "      <td>...</td>\n",
       "      <td>...</td>\n",
       "      <td>...</td>\n",
       "      <td>...</td>\n",
       "      <td>...</td>\n",
       "      <td>...</td>\n",
       "      <td>...</td>\n",
       "    </tr>\n",
       "    <tr>\n",
       "      <th>289</th>\n",
       "      <td>380</td>\n",
       "      <td>0</td>\n",
       "      <td>40th</td>\n",
       "      <td>1</td>\n",
       "      <td>0.0</td>\n",
       "      <td>0.0</td>\n",
       "      <td>0.0</td>\n",
       "      <td>0.0</td>\n",
       "      <td>0.0</td>\n",
       "      <td>0.0</td>\n",
       "      <td>...</td>\n",
       "      <td>-1.000000</td>\n",
       "      <td>-1.000000</td>\n",
       "      <td>-1.000000</td>\n",
       "      <td>-1.000000</td>\n",
       "      <td>-1.000000</td>\n",
       "      <td>-1.000000</td>\n",
       "      <td>-1.000000</td>\n",
       "      <td>-1.000000</td>\n",
       "      <td>0-2</td>\n",
       "      <td>1</td>\n",
       "    </tr>\n",
       "    <tr>\n",
       "      <th>290</th>\n",
       "      <td>381</td>\n",
       "      <td>1</td>\n",
       "      <td>Above 90th</td>\n",
       "      <td>0</td>\n",
       "      <td>0.0</td>\n",
       "      <td>0.0</td>\n",
       "      <td>0.0</td>\n",
       "      <td>0.0</td>\n",
       "      <td>0.0</td>\n",
       "      <td>0.0</td>\n",
       "      <td>...</td>\n",
       "      <td>-0.619048</td>\n",
       "      <td>-1.000000</td>\n",
       "      <td>-1.000000</td>\n",
       "      <td>-1.000000</td>\n",
       "      <td>-1.000000</td>\n",
       "      <td>-1.000000</td>\n",
       "      <td>-0.612627</td>\n",
       "      <td>-1.000000</td>\n",
       "      <td>0-2</td>\n",
       "      <td>0</td>\n",
       "    </tr>\n",
       "    <tr>\n",
       "      <th>291</th>\n",
       "      <td>382</td>\n",
       "      <td>0</td>\n",
       "      <td>50th</td>\n",
       "      <td>0</td>\n",
       "      <td>0.0</td>\n",
       "      <td>0.0</td>\n",
       "      <td>0.0</td>\n",
       "      <td>0.0</td>\n",
       "      <td>0.0</td>\n",
       "      <td>0.0</td>\n",
       "      <td>...</td>\n",
       "      <td>-1.000000</td>\n",
       "      <td>-1.000000</td>\n",
       "      <td>-1.000000</td>\n",
       "      <td>-1.000000</td>\n",
       "      <td>-1.000000</td>\n",
       "      <td>-1.000000</td>\n",
       "      <td>-1.000000</td>\n",
       "      <td>-1.000000</td>\n",
       "      <td>0-2</td>\n",
       "      <td>1</td>\n",
       "    </tr>\n",
       "    <tr>\n",
       "      <th>292</th>\n",
       "      <td>383</td>\n",
       "      <td>0</td>\n",
       "      <td>40th</td>\n",
       "      <td>1</td>\n",
       "      <td>0.0</td>\n",
       "      <td>0.0</td>\n",
       "      <td>0.0</td>\n",
       "      <td>0.0</td>\n",
       "      <td>0.0</td>\n",
       "      <td>0.0</td>\n",
       "      <td>...</td>\n",
       "      <td>-1.000000</td>\n",
       "      <td>-1.000000</td>\n",
       "      <td>-1.000000</td>\n",
       "      <td>-1.000000</td>\n",
       "      <td>-1.000000</td>\n",
       "      <td>-1.000000</td>\n",
       "      <td>-1.000000</td>\n",
       "      <td>-1.000000</td>\n",
       "      <td>0-2</td>\n",
       "      <td>0</td>\n",
       "    </tr>\n",
       "    <tr>\n",
       "      <th>293</th>\n",
       "      <td>384</td>\n",
       "      <td>0</td>\n",
       "      <td>50th</td>\n",
       "      <td>1</td>\n",
       "      <td>0.0</td>\n",
       "      <td>0.0</td>\n",
       "      <td>0.0</td>\n",
       "      <td>0.0</td>\n",
       "      <td>0.0</td>\n",
       "      <td>0.0</td>\n",
       "      <td>...</td>\n",
       "      <td>-1.000000</td>\n",
       "      <td>-1.000000</td>\n",
       "      <td>-1.000000</td>\n",
       "      <td>-1.000000</td>\n",
       "      <td>-1.000000</td>\n",
       "      <td>-1.000000</td>\n",
       "      <td>-1.000000</td>\n",
       "      <td>-1.000000</td>\n",
       "      <td>0-2</td>\n",
       "      <td>0</td>\n",
       "    </tr>\n",
       "  </tbody>\n",
       "</table>\n",
       "<p>294 rows × 231 columns</p>\n",
       "</div>"
      ],
      "text/plain": [
       "     PATIENT_VISIT_IDENTIFIER  AGE_ABOVE65 AGE_PERCENTIL  GENDER  \\\n",
       "0                           0            1          60th       0   \n",
       "1                           2            0          10th       0   \n",
       "2                           3            0          40th       1   \n",
       "3                           4            0          10th       0   \n",
       "4                           5            0          10th       0   \n",
       "..                        ...          ...           ...     ...   \n",
       "289                       380            0          40th       1   \n",
       "290                       381            1    Above 90th       0   \n",
       "291                       382            0          50th       0   \n",
       "292                       383            0          40th       1   \n",
       "293                       384            0          50th       1   \n",
       "\n",
       "     DISEASE GROUPING 1  DISEASE GROUPING 2  DISEASE GROUPING 3  \\\n",
       "0                   0.0                 0.0                 0.0   \n",
       "1                   0.0                 0.0                 0.0   \n",
       "2                   0.0                 0.0                 0.0   \n",
       "3                   0.0                 0.0                 0.0   \n",
       "4                   0.0                 0.0                 0.0   \n",
       "..                  ...                 ...                 ...   \n",
       "289                 0.0                 0.0                 0.0   \n",
       "290                 0.0                 0.0                 0.0   \n",
       "291                 0.0                 0.0                 0.0   \n",
       "292                 0.0                 0.0                 0.0   \n",
       "293                 0.0                 0.0                 0.0   \n",
       "\n",
       "     DISEASE GROUPING 4  DISEASE GROUPING 5  DISEASE GROUPING 6  ...  \\\n",
       "0                   0.0                 1.0                 1.0  ...   \n",
       "1                   0.0                 0.0                 0.0  ...   \n",
       "2                   0.0                 0.0                 0.0  ...   \n",
       "3                   0.0                 0.0                 0.0  ...   \n",
       "4                   0.0                 0.0                 0.0  ...   \n",
       "..                  ...                 ...                 ...  ...   \n",
       "289                 0.0                 0.0                 0.0  ...   \n",
       "290                 0.0                 0.0                 0.0  ...   \n",
       "291                 0.0                 0.0                 0.0  ...   \n",
       "292                 0.0                 0.0                 0.0  ...   \n",
       "293                 0.0                 0.0                 0.0  ...   \n",
       "\n",
       "     TEMPERATURE_DIFF  OXYGEN_SATURATION_DIFF  \\\n",
       "0           -1.000000               -1.000000   \n",
       "1           -1.000000               -0.959596   \n",
       "2           -1.000000               -1.000000   \n",
       "3           -0.952381               -0.979798   \n",
       "4           -0.976190               -0.979798   \n",
       "..                ...                     ...   \n",
       "289         -1.000000               -1.000000   \n",
       "290         -0.619048               -1.000000   \n",
       "291         -1.000000               -1.000000   \n",
       "292         -1.000000               -1.000000   \n",
       "293         -1.000000               -1.000000   \n",
       "\n",
       "     BLOODPRESSURE_DIASTOLIC_DIFF_REL  BLOODPRESSURE_SISTOLIC_DIFF_REL  \\\n",
       "0                           -1.000000                        -1.000000   \n",
       "1                           -0.515528                        -0.351328   \n",
       "2                           -1.000000                        -1.000000   \n",
       "3                           -1.000000                        -0.883669   \n",
       "4                           -0.860870                        -0.714460   \n",
       "..                                ...                              ...   \n",
       "289                         -1.000000                        -1.000000   \n",
       "290                         -1.000000                        -1.000000   \n",
       "291                         -1.000000                        -1.000000   \n",
       "292                         -1.000000                        -1.000000   \n",
       "293                         -1.000000                        -1.000000   \n",
       "\n",
       "     HEART_RATE_DIFF_REL  RESPIRATORY_RATE_DIFF_REL  TEMPERATURE_DIFF_REL  \\\n",
       "0              -1.000000                  -1.000000             -1.000000   \n",
       "1              -0.747001                  -0.756272             -1.000000   \n",
       "2              -1.000000                  -1.000000             -1.000000   \n",
       "3              -0.956805                  -0.870968             -0.953536   \n",
       "4              -0.986481                  -1.000000             -0.975891   \n",
       "..                   ...                        ...                   ...   \n",
       "289            -1.000000                  -1.000000             -1.000000   \n",
       "290            -1.000000                  -1.000000             -0.612627   \n",
       "291            -1.000000                  -1.000000             -1.000000   \n",
       "292            -1.000000                  -1.000000             -1.000000   \n",
       "293            -1.000000                  -1.000000             -1.000000   \n",
       "\n",
       "     OXYGEN_SATURATION_DIFF_REL  WINDOW  ICU  \n",
       "0                     -1.000000     0-2    1  \n",
       "1                     -0.961262     0-2    1  \n",
       "2                     -1.000000     0-2    0  \n",
       "3                     -0.980333     0-2    0  \n",
       "4                     -0.980129     0-2    0  \n",
       "..                          ...     ...  ...  \n",
       "289                   -1.000000     0-2    1  \n",
       "290                   -1.000000     0-2    0  \n",
       "291                   -1.000000     0-2    1  \n",
       "292                   -1.000000     0-2    0  \n",
       "293                   -1.000000     0-2    0  \n",
       "\n",
       "[294 rows x 231 columns]"
      ]
     },
     "execution_count": 11,
     "metadata": {},
     "output_type": "execute_result"
    }
   ],
   "source": [
    "data"
   ]
  },
  {
   "cell_type": "markdown",
   "id": "250f3574-8c38-486b-afa7-349d8b856e9b",
   "metadata": {},
   "source": [
    "## Análise variáveis categóricas"
   ]
  },
  {
   "cell_type": "code",
   "execution_count": 45,
   "id": "3e40ff98-2d40-436d-92cb-ce5d7a0c59a5",
   "metadata": {},
   "outputs": [
    {
     "data": {
      "text/plain": [
       "array(['60th', '10th', '40th', '70th', '20th', '50th', '80th', '30th',\n",
       "       '90th', 'Above 90th'], dtype=object)"
      ]
     },
     "execution_count": 45,
     "metadata": {},
     "output_type": "execute_result"
    }
   ],
   "source": [
    "data['AGE_PERCENTIL'].unique()"
   ]
  },
  {
   "cell_type": "code",
   "execution_count": 50,
   "id": "5ada3eaa-0d20-4647-b1f6-4ef63e2ba777",
   "metadata": {
    "tags": []
   },
   "outputs": [
    {
     "data": {
      "image/png": "[encoded data removed]",
      "text/plain": [
       "<Figure size 2880x3600 with 10 Axes>"
      ]
     },
     "metadata": {},
     "output_type": "display_data"
    }
   ],
   "source": [
    "sns.set_style('darkgrid')\n",
    "fig, ax = plt.subplots(5,2,figsize=(40,50)) \n",
    "sns.set_palette(['blue','red'])\n",
    "i=0\n",
    "j=0\n",
    "for percentil in data['AGE_PERCENTIL'].unique():\n",
    "    tab = data.query('AGE_PERCENTIL == @percentil').groupby('AGE_PERCENTIL')['ICU'].value_counts(normalize=True)\\\n",
    "    .reset_index(name='Prop').sort_values('AGE_PERCENTIL').reset_index(drop=True)\n",
    "    sns.barplot('AGE_PERCENTIL','Prop', data=tab, ax=ax[i,j], hue='ICU')\n",
    "    plt.sca(ax[i,j])\n",
    "    plt.title(percentil, fontsize=25)\n",
    "    if j == 1:\n",
    "        j = 0\n",
    "        i += 1\n",
    "    else:\n",
    "        j+=1\n",
    "plt.show()"
   ]
  },
  {
   "cell_type": "markdown",
   "id": "141d5072-d3c5-4d28-96c5-c3b45e7ffa7d",
   "metadata": {},
   "source": [
    "## Análise das features binárias"
   ]
  },
  {
   "cell_type": "code",
   "execution_count": null,
   "id": "dd8afcdf-1d14-410d-92ee-90c83300bb03",
   "metadata": {},
   "outputs": [],
   "source": [
    "sns.set_style('darkgrid')\n",
    "fig, ax = plt.subplots(6,2,figsize=(30,50)) \n",
    "sns.set_palette(['blue','red'])\n",
    "i=0\n",
    "j=0\n",
    "for feature in binary_features(data.drop('ICU',axis=1)):\n",
    "    plot_proportion_target(data, 'ICU', feature, ax[i,j], kwargs_labs={'title':f'{feature}'})\n",
    "    if j == 1:\n",
    "        j = 0\n",
    "        i += 1\n",
    "    else:\n",
    "        j+=1\n",
    "\n",
    "plt.delaxes(ax=ax[5,1])\n",
    "plt.show()"
   ]
  },
  {
   "cell_type": "code",
   "execution_count": null,
   "id": "965e0718-6db6-4e88-9c80-4dee7d4f8e03",
   "metadata": {},
   "outputs": [],
   "source": [
    "features_chi2(data, alpha=0.05)"
   ]
  },
  {
   "cell_type": "code",
   "execution_count": null,
   "id": "e4bd08a5-6973-454b-ba3f-56036a18d92b",
   "metadata": {},
   "outputs": [],
   "source": [
    "features_chi2(data, alpha=0.025)"
   ]
  },
  {
   "cell_type": "markdown",
   "id": "178a74da-f9cc-44da-a99f-abe327201065",
   "metadata": {},
   "source": [
    "## Análise de correção entre as variáveis"
   ]
  },
  {
   "cell_type": "code",
   "execution_count": null,
   "id": "da31ccdf-6dbc-4ccb-83d2-1c233d4df077",
   "metadata": {},
   "outputs": [],
   "source": [
    "coor = data.select_dtypes('float64').corr()\n",
    "# Gerando a mascara para omitir a diagonal superior \n",
    "mask = np.triu(np.ones_like(coor, dtype=bool))\n",
    "\n",
    "#Gerando a palheta de cores\n",
    "cmap = sns.diverging_palette(240, 10, as_cmap=True)\n",
    "\n",
    "#Criando o gráfico de calor\n",
    "with sns.axes_style(\"white\"):\n",
    "    fig, ax = plt.subplots(figsize = (50,20))\n",
    "    ax = sns.heatmap(coor, mask=mask, square=True, cmap=cmap, linewidths=.5)\n",
    "    \n",
    "#Mostrando o gráfico\n",
    "plt.show()"
   ]
  },
  {
   "cell_type": "code",
   "execution_count": null,
   "id": "e23e5fd0-e187-4882-a8fd-3545310a2fba",
   "metadata": {},
   "outputs": [],
   "source": [
    "feat_high_corr = features_high_corr(data)"
   ]
  },
  {
   "cell_type": "code",
   "execution_count": null,
   "id": "d646c0ab-ca6d-49a4-9a37-5212bc8e18e6",
   "metadata": {},
   "outputs": [],
   "source": [
    "print(feat_high_corr)"
   ]
  },
  {
   "cell_type": "code",
   "execution_count": null,
   "id": "9c8fabdf-18e5-492c-9c75-a4ed914be023",
   "metadata": {},
   "outputs": [],
   "source": [
    "data = data.drop(feat_high_corr, axis=1)"
   ]
  },
  {
   "cell_type": "code",
   "execution_count": null,
   "id": "1066b9ad-8654-4773-b63a-48d2ead802de",
   "metadata": {},
   "outputs": [],
   "source": [
    "data['RESPIRATORY_RATE_MEAN']"
   ]
  },
  {
   "cell_type": "markdown",
   "id": "b5f669db-826b-470c-85a8-19627562a5e8",
   "metadata": {},
   "source": [
    "## Análise da Variância das features"
   ]
  },
  {
   "cell_type": "code",
   "execution_count": null,
   "id": "67bf0922-da6b-4f20-b149-22b445025dea",
   "metadata": {},
   "outputs": [],
   "source": [
    "var = data.drop(binary_features(data), axis=1).drop('PATIENT_VISIT_IDENTIFIER', axis=1).var()\n",
    "var = var.sort_values()\n",
    "var.head()"
   ]
  },
  {
   "cell_type": "code",
   "execution_count": null,
   "id": "3a70dd5a-95a2-439c-957b-289ff6f23a4b",
   "metadata": {},
   "outputs": [],
   "source": [
    "sns.set_style('darkgrid')\n",
    "fig, ax = plt.subplots(figsize=(20,10))\n",
    "var.plot(kind='bar')\n",
    "labs(ax, title='Variância das features', subtitle='VARIÂNCIA CALCULADA PARA CADA FEATURE', xlabel='Features', ylabel='Variância')\n",
    "plt.show()"
   ]
  },
  {
   "cell_type": "code",
   "execution_count": null,
   "id": "1b613396-b0cb-4075-8982-cc58819a3863",
   "metadata": {},
   "outputs": [],
   "source": [
    "with open('../features_drop_txt/var_equal_0.txt', 'w') as f:\n",
    "    for feature in var[var==0].index:\n",
    "        f.write(feature+'\\n')"
   ]
  },
  {
   "cell_type": "code",
   "execution_count": null,
   "id": "5da8500d-522a-46d5-af5e-69c7471fc3dc",
   "metadata": {},
   "outputs": [],
   "source": [
    "data.drop(var[var==0].index,axis=1,inplace=True)"
   ]
  },
  {
   "cell_type": "code",
   "execution_count": null,
   "id": "edff2e16-6771-4af6-af17-6413eee57d59",
   "metadata": {},
   "outputs": [],
   "source": [
    "sns.set_style('darkgrid')\n",
    "fig, ax = plt.subplots(46,2, figsize=(20,150))\n",
    "\n",
    "j=0\n",
    "\n",
    "for column in data.select_dtypes('float64'):\n",
    "    if len(data[column].unique()) == 2:\n",
    "        pass\n",
    "    else:\n",
    "        xlim = [np.minimum(data.query('ICU == 0')[column].min(), data.query('ICU == 1')[column].min())-0.01, \n",
    "                np.maximum(data.query('ICU == 0')[column].max(), data.query('ICU == 1')[column].max())+0.01]\n",
    "        plot_ecdf(data, column, 0, 'blue', ax[j,0],xlim=xlim)\n",
    "        plot_ecdf(data, column, 1, 'red', ax[j,1],xlim=xlim)\n",
    "        j+=1\n",
    "fig.suptitle(y=0.89,t='ECDFs DAS FEATURES CONTÍNUAS', fontsize=25)\n",
    "plt.show()"
   ]
  },
  {
   "cell_type": "code",
   "execution_count": null,
   "id": "f9c3ebce-77a3-4660-89b2-6be5478914e5",
   "metadata": {},
   "outputs": [],
   "source": [
    "eq_mean = features_equal_mean(data, write=False)\n",
    "eq_mean"
   ]
  },
  {
   "cell_type": "code",
   "execution_count": null,
   "id": "ca052342-f8ef-48db-af9e-5151864c901c",
   "metadata": {},
   "outputs": [],
   "source": [
    "data.drop(eq_mean, axis=1).columns"
   ]
  },
  {
   "cell_type": "code",
   "execution_count": null,
   "id": "5efaf7f8-cfc9-4a49-a1f0-75d8900a5996",
   "metadata": {},
   "outputs": [],
   "source": [
    "data.drop(eq_mean, axis=1).columns"
   ]
  },
  {
   "cell_type": "code",
   "execution_count": null,
   "id": "476d5023-a6b4-437e-a8ee-ae8ff7b15a83",
   "metadata": {},
   "outputs": [],
   "source": [
    "data['RESPIRATORY_RATE_MEAN']"
   ]
  },
  {
   "cell_type": "code",
   "execution_count": null,
   "id": "0abfe315-1990-4a77-8f54-7e21faef4563",
   "metadata": {},
   "outputs": [],
   "source": [
    "eq_mean = features_equal_mean(data, alpha=0.1)\n",
    "eq_mean"
   ]
  },
  {
   "cell_type": "code",
   "execution_count": null,
   "id": "ed748fbd-7a7a-4886-9cca-4a6a0b6c2052",
   "metadata": {},
   "outputs": [],
   "source": [
    "data.drop(eq_mean, axis=1).columns"
   ]
  },
  {
   "cell_type": "code",
   "execution_count": null,
   "id": "9310cce2-aa94-418e-b37a-db2f74373f03",
   "metadata": {},
   "outputs": [],
   "source": [
    "from statsmodels.stats.weightstats import CompareMeans, DescrStatsW"
   ]
  },
  {
   "cell_type": "code",
   "execution_count": null,
   "id": "e499fbda-84c4-4f9b-90a3-54be306f50e1",
   "metadata": {},
   "outputs": [],
   "source": [
    "group_1_test = DescrStatsW(data.query('ICU == 0')['RESPIRATORY_RATE_MEAN'])\n",
    "                \n",
    "#Criando os teste do grupo 2\n",
    "group_2_test = DescrStatsW(data.query('ICU == 1')['RESPIRATORY_RATE_MEAN'])\n",
    "\n",
    "#Criando o teste de comparação das médias\n",
    "test = CompareMeans(group_1_test, group_2_test)\n",
    "                \n",
    "#Obtendo o p_valor da Hipótese nula igual as médias serem iguais\n",
    "p_value = test.ztest_ind()[1]"
   ]
  },
  {
   "cell_type": "code",
   "execution_count": null,
   "id": "677e0c7e-6e44-428e-a04a-2565ffc49ffe",
   "metadata": {},
   "outputs": [],
   "source": [
    "test.ztest_ind()"
   ]
  },
  {
   "cell_type": "code",
   "execution_count": null,
   "id": "f6adc3f0-13ca-4d04-9ccb-7850cd7202d6",
   "metadata": {},
   "outputs": [],
   "source": [
    "p_value"
   ]
  },
  {
   "cell_type": "code",
   "execution_count": null,
   "id": "cdefb568-3638-4a84-98c4-e68799eac5b4",
   "metadata": {},
   "outputs": [],
   "source": [
    "from scipy.stats import levene"
   ]
  },
  {
   "cell_type": "code",
   "execution_count": null,
   "id": "738e9d88-10e6-4cb8-8cf9-c1457ca551a0",
   "metadata": {},
   "outputs": [],
   "source": [
    "levene(data.query('ICU == 0')['RESPIRATORY_RATE_MEAN'], data.query('ICU == 1')['RESPIRATORY_RATE_MEAN'])"
   ]
  },
  {
   "cell_type": "code",
   "execution_count": null,
   "id": "01571954-b6b6-47cb-acda-3dfe2d6808a5",
   "metadata": {},
   "outputs": [],
   "source": [
    "levene(data.query('ICU == 0')['PC02_ARTERIAL_MEDIAN'], data.query('ICU == 1')['PC02_ARTERIAL_MEDIAN'])"
   ]
  },
  {
   "cell_type": "code",
   "execution_count": null,
   "id": "598593a6-2795-4db6-8ba2-cbda1bb2fa7b",
   "metadata": {},
   "outputs": [],
   "source": [
    "from statsmodels.stats.oneway import equivalence_oneway"
   ]
  },
  {
   "cell_type": "code",
   "execution_count": null,
   "id": "685d747a-0896-48f5-a422-3672a6ceb054",
   "metadata": {},
   "outputs": [],
   "source": [
    "equivalence_oneway([data.query('ICU == 0')['RESPIRATORY_RATE_MEAN'], data.query('ICU == 1')['RESPIRATORY_RATE_MEAN']],0, use_var='equal')"
   ]
  }
 ],
 "metadata": {
  "kernelspec": {
   "display_name": "Python 3",
   "language": "python",
   "name": "python3"
  },
  "language_info": {
   "codemirror_mode": {
    "name": "ipython",
    "version": 3
   },
   "file_extension": ".py",
   "mimetype": "text/x-python",
   "name": "python",
   "nbconvert_exporter": "python",
   "pygments_lexer": "ipython3",
   "version": "3.7.6"
  }
 },
 "nbformat": 4,
 "nbformat_minor": 5
}
