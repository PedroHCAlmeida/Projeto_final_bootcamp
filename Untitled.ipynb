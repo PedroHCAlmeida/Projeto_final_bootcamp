{
 "cells": [
  {
   "cell_type": "code",
   "execution_count": 1,
   "id": "62f1e80e-9ffc-4de6-acb5-4680da0fccc8",
   "metadata": {},
   "outputs": [],
   "source": [
    "!pip freeze > requirements.txt #comando utilizado para gerar o arquivo requirements.txt"
   ]
  },
  {
   "cell_type": "code",
   "execution_count": null,
   "id": "03f5d095-c710-4c80-b29e-4cdfb9c68687",
   "metadata": {},
   "outputs": [],
   "source": []
  }
 ],
 "metadata": {
  "kernelspec": {
   "display_name": "Python (pycaretenv)",
   "language": "python",
   "name": "pycaretenv"
  },
  "language_info": {
   "codemirror_mode": {
    "name": "ipython",
    "version": 3
   },
   "file_extension": ".py",
   "mimetype": "text/x-python",
   "name": "python",
   "nbconvert_exporter": "python",
   "pygments_lexer": "ipython3",
   "version": "3.6.13"
  }
 },
 "nbformat": 4,
 "nbformat_minor": 5
}
